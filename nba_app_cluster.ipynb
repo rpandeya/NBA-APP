{
 "cells": [
  {
   "cell_type": "code",
   "execution_count": 61,
   "metadata": {},
   "outputs": [],
   "source": [
    "from sklearn.linear_model import LinearRegression, LogisticRegression\n",
    "from sklearn.preprocessing import StandardScaler, MinMaxScaler\n",
    "from sklearn.pipeline import Pipeline\n",
    "from sklearn.model_selection import train_test_split, cross_val_score, GridSearchCV, StratifiedKFold\n",
    "import matplotlib.pyplot as plt\n",
    "import statsmodels.api as sm\n",
    "import numpy as np\n",
    "from sklearn.metrics import confusion_matrix, roc_curve, precision_recall_curve, auc, plot_roc_curve, accuracy_score, recall_score, precision_score, silhouette_samples, silhouette_score\n",
    "import requests\n",
    "import warnings\n",
    "import plotly.express as px\n",
    "import plotly.graph_objects as go\n",
    "import itertools\n",
    "from sklearn.decomposition import PCA\n",
    "from yellowbrick.cluster import KElbowVisualizer, SilhouetteVisualizer\n",
    "from sklearn.cluster import AgglomerativeClustering, KMeans, dbscan\n",
    "from sklearn.mixture import GaussianMixture\n",
    "import os\n",
    "import pandas as pd\n"
   ]
  },
  {
   "cell_type": "markdown",
   "metadata": {},
   "source": [
    "## Clustering"
   ]
  },
  {
   "cell_type": "code",
   "execution_count": 62,
   "metadata": {},
   "outputs": [],
   "source": [
    "all_defence_clust = pd.read_csv('all_defence.csv')\n",
    "\n",
    "\n",
    "\n",
    "\n",
    "all_defence_clust = all_defence_clust[(all_defence_clust['GP']>20)& (all_defence_clust['MIN']>15)&(all_defence_clust['Season']=='2021-22')]\n",
    "\n",
    "\n"
   ]
  },
  {
   "cell_type": "code",
   "execution_count": 63,
   "metadata": {},
   "outputs": [
    {
     "data": {
      "text/plain": [
       "Index(['PLAYER_NAME', 'Season', 'DEF Handoff PPP', 'DEF Handoff FREQ', 'GP',\n",
       "       'DEF Isolation PPP', 'DEF Isolation FREQ', 'DEF OffScreen PPP',\n",
       "       'DEF OffScreen FREQ', 'DEF Postup PPP', 'DEF Postup FREQ',\n",
       "       'DEF PRBallHandler PPP', 'DEF PRBallHandler FREQ', 'DEF PRRollman PPP',\n",
       "       'DEF PRRollman FREQ', 'DEF Spotup PPP', 'DEF Spotup FREQ',\n",
       "       'FREQ 3 Pointers', 'PLUSMINUS 3 Pointers', 'FREQ Less Than 6Ft',\n",
       "       'PLUSMINUS Less Than 6Ft', 'FREQ Less Than 10Ft',\n",
       "       'PLUSMINUS Less Than 10Ft', 'MIN', 'DEFLECTIONS',\n",
       "       'PCT_LOOSE_BALLS_RECOVERED_DEF', 'REB_CONTEST_PCT', 'AVG_REB_DIST',\n",
       "       'DIST_MILES_DEF', 'AVG_SPEED_DEF', 'DEFLECTIONS Per36'],\n",
       "      dtype='object')"
      ]
     },
     "execution_count": 63,
     "metadata": {},
     "output_type": "execute_result"
    }
   ],
   "source": [
    "all_defence_clust.columns"
   ]
  },
  {
   "cell_type": "code",
   "execution_count": 64,
   "metadata": {},
   "outputs": [],
   "source": [
    "defence_percentiles = all_defence_clust.copy()\n",
    "\n",
    "\n",
    "\n",
    "\n",
    "for i in all_defence_clust.columns[2:]:\n",
    "   defence_percentiles[i + ' Rank'] = defence_percentiles[i].rank(pct=True)\n",
    "\n",
    "defence_percentiles = defence_percentiles.drop(all_defence_clust.columns[2:], axis=1)\n",
    "defence_percentiles.to_csv('def_percentiles.csv', index=False)"
   ]
  },
  {
   "cell_type": "code",
   "execution_count": 65,
   "metadata": {},
   "outputs": [
    {
     "data": {
      "text/html": [
       "<div>\n",
       "<style scoped>\n",
       "    .dataframe tbody tr th:only-of-type {\n",
       "        vertical-align: middle;\n",
       "    }\n",
       "\n",
       "    .dataframe tbody tr th {\n",
       "        vertical-align: top;\n",
       "    }\n",
       "\n",
       "    .dataframe thead th {\n",
       "        text-align: right;\n",
       "    }\n",
       "</style>\n",
       "<table border=\"1\" class=\"dataframe\">\n",
       "  <thead>\n",
       "    <tr style=\"text-align: right;\">\n",
       "      <th></th>\n",
       "      <th>PLAYER_NAME</th>\n",
       "      <th>Season</th>\n",
       "      <th>DEF Handoff PPP Rank</th>\n",
       "      <th>DEF Handoff FREQ Rank</th>\n",
       "      <th>GP Rank</th>\n",
       "      <th>DEF Isolation PPP Rank</th>\n",
       "      <th>DEF Isolation FREQ Rank</th>\n",
       "      <th>DEF OffScreen PPP Rank</th>\n",
       "      <th>DEF OffScreen FREQ Rank</th>\n",
       "      <th>DEF Postup PPP Rank</th>\n",
       "      <th>...</th>\n",
       "      <th>FREQ Less Than 10Ft Rank</th>\n",
       "      <th>PLUSMINUS Less Than 10Ft Rank</th>\n",
       "      <th>MIN Rank</th>\n",
       "      <th>DEFLECTIONS Rank</th>\n",
       "      <th>PCT_LOOSE_BALLS_RECOVERED_DEF Rank</th>\n",
       "      <th>REB_CONTEST_PCT Rank</th>\n",
       "      <th>AVG_REB_DIST Rank</th>\n",
       "      <th>DIST_MILES_DEF Rank</th>\n",
       "      <th>AVG_SPEED_DEF Rank</th>\n",
       "      <th>DEFLECTIONS Per36 Rank</th>\n",
       "    </tr>\n",
       "  </thead>\n",
       "  <tbody>\n",
       "    <tr>\n",
       "      <th>1021</th>\n",
       "      <td>Robert Williams III</td>\n",
       "      <td>2021-22</td>\n",
       "      <td>0.158774</td>\n",
       "      <td>0.189415</td>\n",
       "      <td>0.504178</td>\n",
       "      <td>0.477716</td>\n",
       "      <td>0.938719</td>\n",
       "      <td>0.286908</td>\n",
       "      <td>0.260446</td>\n",
       "      <td>0.175487</td>\n",
       "      <td>...</td>\n",
       "      <td>0.071031</td>\n",
       "      <td>0.015320</td>\n",
       "      <td>0.711699</td>\n",
       "      <td>0.586351</td>\n",
       "      <td>0.452646</td>\n",
       "      <td>0.974930</td>\n",
       "      <td>0.218663</td>\n",
       "      <td>0.660167</td>\n",
       "      <td>0.356546</td>\n",
       "      <td>0.417827</td>\n",
       "    </tr>\n",
       "    <tr>\n",
       "      <th>1024</th>\n",
       "      <td>Josh Jackson</td>\n",
       "      <td>2021-22</td>\n",
       "      <td>0.161560</td>\n",
       "      <td>0.523677</td>\n",
       "      <td>0.194986</td>\n",
       "      <td>0.746518</td>\n",
       "      <td>0.454039</td>\n",
       "      <td>0.976323</td>\n",
       "      <td>0.926184</td>\n",
       "      <td>0.040390</td>\n",
       "      <td>...</td>\n",
       "      <td>0.610028</td>\n",
       "      <td>0.410864</td>\n",
       "      <td>0.077994</td>\n",
       "      <td>0.147632</td>\n",
       "      <td>0.800836</td>\n",
       "      <td>0.548747</td>\n",
       "      <td>0.363510</td>\n",
       "      <td>0.058496</td>\n",
       "      <td>0.501393</td>\n",
       "      <td>0.428969</td>\n",
       "    </tr>\n",
       "    <tr>\n",
       "      <th>1027</th>\n",
       "      <td>Ish Smith</td>\n",
       "      <td>2021-22</td>\n",
       "      <td>0.164345</td>\n",
       "      <td>0.940111</td>\n",
       "      <td>0.172702</td>\n",
       "      <td>0.175487</td>\n",
       "      <td>0.335655</td>\n",
       "      <td>0.096100</td>\n",
       "      <td>0.096100</td>\n",
       "      <td>1.000000</td>\n",
       "      <td>...</td>\n",
       "      <td>0.455432</td>\n",
       "      <td>0.817549</td>\n",
       "      <td>0.135097</td>\n",
       "      <td>0.316156</td>\n",
       "      <td>0.912256</td>\n",
       "      <td>0.194986</td>\n",
       "      <td>0.771588</td>\n",
       "      <td>0.101671</td>\n",
       "      <td>0.540390</td>\n",
       "      <td>0.655989</td>\n",
       "    </tr>\n",
       "    <tr>\n",
       "      <th>1028</th>\n",
       "      <td>Ish Smith</td>\n",
       "      <td>2021-22</td>\n",
       "      <td>0.465181</td>\n",
       "      <td>0.381616</td>\n",
       "      <td>0.098886</td>\n",
       "      <td>0.518106</td>\n",
       "      <td>0.236769</td>\n",
       "      <td>0.096100</td>\n",
       "      <td>0.096100</td>\n",
       "      <td>0.395543</td>\n",
       "      <td>...</td>\n",
       "      <td>0.455432</td>\n",
       "      <td>0.817549</td>\n",
       "      <td>0.135097</td>\n",
       "      <td>0.316156</td>\n",
       "      <td>0.912256</td>\n",
       "      <td>0.194986</td>\n",
       "      <td>0.771588</td>\n",
       "      <td>0.101671</td>\n",
       "      <td>0.540390</td>\n",
       "      <td>0.655989</td>\n",
       "    </tr>\n",
       "    <tr>\n",
       "      <th>1029</th>\n",
       "      <td>Naz Reid</td>\n",
       "      <td>2021-22</td>\n",
       "      <td>0.295265</td>\n",
       "      <td>0.194986</td>\n",
       "      <td>0.926184</td>\n",
       "      <td>0.817549</td>\n",
       "      <td>0.817549</td>\n",
       "      <td>0.096100</td>\n",
       "      <td>0.096100</td>\n",
       "      <td>0.763231</td>\n",
       "      <td>...</td>\n",
       "      <td>0.969359</td>\n",
       "      <td>0.075209</td>\n",
       "      <td>0.029248</td>\n",
       "      <td>0.222841</td>\n",
       "      <td>0.383008</td>\n",
       "      <td>0.942897</td>\n",
       "      <td>0.118384</td>\n",
       "      <td>0.069638</td>\n",
       "      <td>0.637883</td>\n",
       "      <td>0.632312</td>\n",
       "    </tr>\n",
       "    <tr>\n",
       "      <th>...</th>\n",
       "      <td>...</td>\n",
       "      <td>...</td>\n",
       "      <td>...</td>\n",
       "      <td>...</td>\n",
       "      <td>...</td>\n",
       "      <td>...</td>\n",
       "      <td>...</td>\n",
       "      <td>...</td>\n",
       "      <td>...</td>\n",
       "      <td>...</td>\n",
       "      <td>...</td>\n",
       "      <td>...</td>\n",
       "      <td>...</td>\n",
       "      <td>...</td>\n",
       "      <td>...</td>\n",
       "      <td>...</td>\n",
       "      <td>...</td>\n",
       "      <td>...</td>\n",
       "      <td>...</td>\n",
       "      <td>...</td>\n",
       "      <td>...</td>\n",
       "    </tr>\n",
       "    <tr>\n",
       "      <th>1777</th>\n",
       "      <td>Kevon Looney</td>\n",
       "      <td>2021-22</td>\n",
       "      <td>0.079387</td>\n",
       "      <td>0.079387</td>\n",
       "      <td>0.994429</td>\n",
       "      <td>0.651811</td>\n",
       "      <td>0.788301</td>\n",
       "      <td>0.402507</td>\n",
       "      <td>0.233983</td>\n",
       "      <td>0.774373</td>\n",
       "      <td>...</td>\n",
       "      <td>0.554318</td>\n",
       "      <td>0.233983</td>\n",
       "      <td>0.324513</td>\n",
       "      <td>0.335655</td>\n",
       "      <td>0.305014</td>\n",
       "      <td>0.922006</td>\n",
       "      <td>0.135097</td>\n",
       "      <td>0.320334</td>\n",
       "      <td>0.568245</td>\n",
       "      <td>0.447075</td>\n",
       "    </tr>\n",
       "    <tr>\n",
       "      <th>1778</th>\n",
       "      <td>Alperen Sengun</td>\n",
       "      <td>2021-22</td>\n",
       "      <td>0.079387</td>\n",
       "      <td>0.079387</td>\n",
       "      <td>0.798050</td>\n",
       "      <td>0.622563</td>\n",
       "      <td>0.919220</td>\n",
       "      <td>0.445682</td>\n",
       "      <td>0.233983</td>\n",
       "      <td>0.665738</td>\n",
       "      <td>...</td>\n",
       "      <td>0.988858</td>\n",
       "      <td>0.660167</td>\n",
       "      <td>0.302228</td>\n",
       "      <td>0.671309</td>\n",
       "      <td>0.104457</td>\n",
       "      <td>0.933148</td>\n",
       "      <td>0.135097</td>\n",
       "      <td>0.270195</td>\n",
       "      <td>0.518106</td>\n",
       "      <td>0.846797</td>\n",
       "    </tr>\n",
       "    <tr>\n",
       "      <th>1779</th>\n",
       "      <td>Isaiah Stewart</td>\n",
       "      <td>2021-22</td>\n",
       "      <td>0.079387</td>\n",
       "      <td>0.079387</td>\n",
       "      <td>0.770195</td>\n",
       "      <td>0.449861</td>\n",
       "      <td>0.972145</td>\n",
       "      <td>0.920613</td>\n",
       "      <td>0.228412</td>\n",
       "      <td>0.320334</td>\n",
       "      <td>...</td>\n",
       "      <td>0.610028</td>\n",
       "      <td>0.026462</td>\n",
       "      <td>0.530641</td>\n",
       "      <td>0.058496</td>\n",
       "      <td>0.196379</td>\n",
       "      <td>0.855153</td>\n",
       "      <td>0.033426</td>\n",
       "      <td>0.509749</td>\n",
       "      <td>0.474930</td>\n",
       "      <td>0.022284</td>\n",
       "    </tr>\n",
       "    <tr>\n",
       "      <th>1793</th>\n",
       "      <td>D.J. Augustin</td>\n",
       "      <td>2021-22</td>\n",
       "      <td>0.079387</td>\n",
       "      <td>0.079387</td>\n",
       "      <td>0.144847</td>\n",
       "      <td>0.015320</td>\n",
       "      <td>0.015320</td>\n",
       "      <td>0.445682</td>\n",
       "      <td>0.909471</td>\n",
       "      <td>0.040390</td>\n",
       "      <td>...</td>\n",
       "      <td>0.860724</td>\n",
       "      <td>0.998607</td>\n",
       "      <td>0.048747</td>\n",
       "      <td>0.018106</td>\n",
       "      <td>0.513928</td>\n",
       "      <td>0.004178</td>\n",
       "      <td>0.998607</td>\n",
       "      <td>0.011142</td>\n",
       "      <td>0.229805</td>\n",
       "      <td>0.054318</td>\n",
       "    </tr>\n",
       "    <tr>\n",
       "      <th>1794</th>\n",
       "      <td>D.J. Augustin</td>\n",
       "      <td>2021-22</td>\n",
       "      <td>0.079387</td>\n",
       "      <td>0.079387</td>\n",
       "      <td>0.008357</td>\n",
       "      <td>0.015320</td>\n",
       "      <td>0.015320</td>\n",
       "      <td>0.096100</td>\n",
       "      <td>0.096100</td>\n",
       "      <td>0.040390</td>\n",
       "      <td>...</td>\n",
       "      <td>0.860724</td>\n",
       "      <td>0.998607</td>\n",
       "      <td>0.048747</td>\n",
       "      <td>0.018106</td>\n",
       "      <td>0.513928</td>\n",
       "      <td>0.004178</td>\n",
       "      <td>0.998607</td>\n",
       "      <td>0.011142</td>\n",
       "      <td>0.229805</td>\n",
       "      <td>0.054318</td>\n",
       "    </tr>\n",
       "  </tbody>\n",
       "</table>\n",
       "<p>359 rows × 31 columns</p>\n",
       "</div>"
      ],
      "text/plain": [
       "              PLAYER_NAME   Season  DEF Handoff PPP Rank  \\\n",
       "1021  Robert Williams III  2021-22              0.158774   \n",
       "1024         Josh Jackson  2021-22              0.161560   \n",
       "1027            Ish Smith  2021-22              0.164345   \n",
       "1028            Ish Smith  2021-22              0.465181   \n",
       "1029             Naz Reid  2021-22              0.295265   \n",
       "...                   ...      ...                   ...   \n",
       "1777         Kevon Looney  2021-22              0.079387   \n",
       "1778       Alperen Sengun  2021-22              0.079387   \n",
       "1779       Isaiah Stewart  2021-22              0.079387   \n",
       "1793        D.J. Augustin  2021-22              0.079387   \n",
       "1794        D.J. Augustin  2021-22              0.079387   \n",
       "\n",
       "      DEF Handoff FREQ Rank   GP Rank  DEF Isolation PPP Rank  \\\n",
       "1021               0.189415  0.504178                0.477716   \n",
       "1024               0.523677  0.194986                0.746518   \n",
       "1027               0.940111  0.172702                0.175487   \n",
       "1028               0.381616  0.098886                0.518106   \n",
       "1029               0.194986  0.926184                0.817549   \n",
       "...                     ...       ...                     ...   \n",
       "1777               0.079387  0.994429                0.651811   \n",
       "1778               0.079387  0.798050                0.622563   \n",
       "1779               0.079387  0.770195                0.449861   \n",
       "1793               0.079387  0.144847                0.015320   \n",
       "1794               0.079387  0.008357                0.015320   \n",
       "\n",
       "      DEF Isolation FREQ Rank  DEF OffScreen PPP Rank  \\\n",
       "1021                 0.938719                0.286908   \n",
       "1024                 0.454039                0.976323   \n",
       "1027                 0.335655                0.096100   \n",
       "1028                 0.236769                0.096100   \n",
       "1029                 0.817549                0.096100   \n",
       "...                       ...                     ...   \n",
       "1777                 0.788301                0.402507   \n",
       "1778                 0.919220                0.445682   \n",
       "1779                 0.972145                0.920613   \n",
       "1793                 0.015320                0.445682   \n",
       "1794                 0.015320                0.096100   \n",
       "\n",
       "      DEF OffScreen FREQ Rank  DEF Postup PPP Rank  ...  \\\n",
       "1021                 0.260446             0.175487  ...   \n",
       "1024                 0.926184             0.040390  ...   \n",
       "1027                 0.096100             1.000000  ...   \n",
       "1028                 0.096100             0.395543  ...   \n",
       "1029                 0.096100             0.763231  ...   \n",
       "...                       ...                  ...  ...   \n",
       "1777                 0.233983             0.774373  ...   \n",
       "1778                 0.233983             0.665738  ...   \n",
       "1779                 0.228412             0.320334  ...   \n",
       "1793                 0.909471             0.040390  ...   \n",
       "1794                 0.096100             0.040390  ...   \n",
       "\n",
       "      FREQ Less Than 10Ft Rank  PLUSMINUS Less Than 10Ft Rank  MIN Rank  \\\n",
       "1021                  0.071031                       0.015320  0.711699   \n",
       "1024                  0.610028                       0.410864  0.077994   \n",
       "1027                  0.455432                       0.817549  0.135097   \n",
       "1028                  0.455432                       0.817549  0.135097   \n",
       "1029                  0.969359                       0.075209  0.029248   \n",
       "...                        ...                            ...       ...   \n",
       "1777                  0.554318                       0.233983  0.324513   \n",
       "1778                  0.988858                       0.660167  0.302228   \n",
       "1779                  0.610028                       0.026462  0.530641   \n",
       "1793                  0.860724                       0.998607  0.048747   \n",
       "1794                  0.860724                       0.998607  0.048747   \n",
       "\n",
       "      DEFLECTIONS Rank  PCT_LOOSE_BALLS_RECOVERED_DEF Rank  \\\n",
       "1021          0.586351                            0.452646   \n",
       "1024          0.147632                            0.800836   \n",
       "1027          0.316156                            0.912256   \n",
       "1028          0.316156                            0.912256   \n",
       "1029          0.222841                            0.383008   \n",
       "...                ...                                 ...   \n",
       "1777          0.335655                            0.305014   \n",
       "1778          0.671309                            0.104457   \n",
       "1779          0.058496                            0.196379   \n",
       "1793          0.018106                            0.513928   \n",
       "1794          0.018106                            0.513928   \n",
       "\n",
       "      REB_CONTEST_PCT Rank  AVG_REB_DIST Rank  DIST_MILES_DEF Rank  \\\n",
       "1021              0.974930           0.218663             0.660167   \n",
       "1024              0.548747           0.363510             0.058496   \n",
       "1027              0.194986           0.771588             0.101671   \n",
       "1028              0.194986           0.771588             0.101671   \n",
       "1029              0.942897           0.118384             0.069638   \n",
       "...                    ...                ...                  ...   \n",
       "1777              0.922006           0.135097             0.320334   \n",
       "1778              0.933148           0.135097             0.270195   \n",
       "1779              0.855153           0.033426             0.509749   \n",
       "1793              0.004178           0.998607             0.011142   \n",
       "1794              0.004178           0.998607             0.011142   \n",
       "\n",
       "      AVG_SPEED_DEF Rank  DEFLECTIONS Per36 Rank  \n",
       "1021            0.356546                0.417827  \n",
       "1024            0.501393                0.428969  \n",
       "1027            0.540390                0.655989  \n",
       "1028            0.540390                0.655989  \n",
       "1029            0.637883                0.632312  \n",
       "...                  ...                     ...  \n",
       "1777            0.568245                0.447075  \n",
       "1778            0.518106                0.846797  \n",
       "1779            0.474930                0.022284  \n",
       "1793            0.229805                0.054318  \n",
       "1794            0.229805                0.054318  \n",
       "\n",
       "[359 rows x 31 columns]"
      ]
     },
     "execution_count": 65,
     "metadata": {},
     "output_type": "execute_result"
    }
   ],
   "source": [
    "defence_percentiles"
   ]
  },
  {
   "cell_type": "code",
   "execution_count": 66,
   "metadata": {},
   "outputs": [],
   "source": [
    "def_train = all_defence_clust.drop(['PLAYER_NAME', 'Season', 'MIN', 'GP', 'DEFLECTIONS'], axis='columns')"
   ]
  },
  {
   "cell_type": "code",
   "execution_count": 67,
   "metadata": {},
   "outputs": [
    {
     "data": {
      "text/plain": [
       "Index(['DEF Handoff PPP', 'DEF Handoff FREQ', 'DEF Isolation PPP',\n",
       "       'DEF Isolation FREQ', 'DEF OffScreen PPP', 'DEF OffScreen FREQ',\n",
       "       'DEF Postup PPP', 'DEF Postup FREQ', 'DEF PRBallHandler PPP',\n",
       "       'DEF PRBallHandler FREQ', 'DEF PRRollman PPP', 'DEF PRRollman FREQ',\n",
       "       'DEF Spotup PPP', 'DEF Spotup FREQ', 'FREQ 3 Pointers',\n",
       "       'PLUSMINUS 3 Pointers', 'FREQ Less Than 6Ft', 'PLUSMINUS Less Than 6Ft',\n",
       "       'FREQ Less Than 10Ft', 'PLUSMINUS Less Than 10Ft',\n",
       "       'PCT_LOOSE_BALLS_RECOVERED_DEF', 'REB_CONTEST_PCT', 'AVG_REB_DIST',\n",
       "       'DIST_MILES_DEF', 'AVG_SPEED_DEF', 'DEFLECTIONS Per36'],\n",
       "      dtype='object')"
      ]
     },
     "execution_count": 67,
     "metadata": {},
     "output_type": "execute_result"
    }
   ],
   "source": [
    "def_train.columns"
   ]
  },
  {
   "cell_type": "code",
   "execution_count": 68,
   "metadata": {},
   "outputs": [],
   "source": [
    "pd.DataFrame(def_train.mean()).transpose().to_csv('Defence League Average.csv', index=False)"
   ]
  },
  {
   "cell_type": "code",
   "execution_count": 69,
   "metadata": {},
   "outputs": [],
   "source": [
    "norm_train = pd.DataFrame(StandardScaler().fit_transform(def_train),columns = def_train.columns)"
   ]
  },
  {
   "cell_type": "markdown",
   "metadata": {},
   "source": [
    "## Try K-Means"
   ]
  },
  {
   "cell_type": "code",
   "execution_count": 70,
   "metadata": {},
   "outputs": [
    {
     "name": "stderr",
     "output_type": "stream",
     "text": [
      "c:\\Users\\rpand\\anaconda3\\envs\\nba_app_env\\lib\\site-packages\\sklearn\\cluster\\_kmeans.py:1332: UserWarning:\n",
      "\n",
      "KMeans is known to have a memory leak on Windows with MKL, when there are less chunks than available threads. You can avoid it by setting the environment variable OMP_NUM_THREADS=2.\n",
      "\n",
      "c:\\Users\\rpand\\anaconda3\\envs\\nba_app_env\\lib\\site-packages\\sklearn\\cluster\\_kmeans.py:1332: UserWarning:\n",
      "\n",
      "KMeans is known to have a memory leak on Windows with MKL, when there are less chunks than available threads. You can avoid it by setting the environment variable OMP_NUM_THREADS=2.\n",
      "\n",
      "c:\\Users\\rpand\\anaconda3\\envs\\nba_app_env\\lib\\site-packages\\sklearn\\cluster\\_kmeans.py:1332: UserWarning:\n",
      "\n",
      "KMeans is known to have a memory leak on Windows with MKL, when there are less chunks than available threads. You can avoid it by setting the environment variable OMP_NUM_THREADS=2.\n",
      "\n",
      "c:\\Users\\rpand\\anaconda3\\envs\\nba_app_env\\lib\\site-packages\\sklearn\\cluster\\_kmeans.py:1332: UserWarning:\n",
      "\n",
      "KMeans is known to have a memory leak on Windows with MKL, when there are less chunks than available threads. You can avoid it by setting the environment variable OMP_NUM_THREADS=2.\n",
      "\n",
      "c:\\Users\\rpand\\anaconda3\\envs\\nba_app_env\\lib\\site-packages\\sklearn\\cluster\\_kmeans.py:1332: UserWarning:\n",
      "\n",
      "KMeans is known to have a memory leak on Windows with MKL, when there are less chunks than available threads. You can avoid it by setting the environment variable OMP_NUM_THREADS=2.\n",
      "\n",
      "c:\\Users\\rpand\\anaconda3\\envs\\nba_app_env\\lib\\site-packages\\sklearn\\cluster\\_kmeans.py:1332: UserWarning:\n",
      "\n",
      "KMeans is known to have a memory leak on Windows with MKL, when there are less chunks than available threads. You can avoid it by setting the environment variable OMP_NUM_THREADS=2.\n",
      "\n",
      "c:\\Users\\rpand\\anaconda3\\envs\\nba_app_env\\lib\\site-packages\\sklearn\\cluster\\_kmeans.py:1332: UserWarning:\n",
      "\n",
      "KMeans is known to have a memory leak on Windows with MKL, when there are less chunks than available threads. You can avoid it by setting the environment variable OMP_NUM_THREADS=2.\n",
      "\n"
     ]
    },
    {
     "data": {
      "image/png": "[encoded data removed]",
      "text/plain": [
       "<Figure size 432x288 with 1 Axes>"
      ]
     },
     "metadata": {
      "needs_background": "light"
     },
     "output_type": "display_data"
    },
    {
     "data": {
      "text/plain": [
       "<AxesSubplot:title={'center':'Silhouette Score Elbow for KMeans Clustering'}, xlabel='k', ylabel='silhouette score'>"
      ]
     },
     "execution_count": 70,
     "metadata": {},
     "output_type": "execute_result"
    }
   ],
   "source": [
    "kmean = KMeans(random_state=1)\n",
    "visualizer = KElbowVisualizer(kmean, \n",
    "                              k=(3,10),   \n",
    "                              locate_elbow=True, # Locate the elbow? Default is true.\n",
    "                              timings=False, # Plot the timings to train?\n",
    "                              metric = 'silhouette'\n",
    "                             )   \n",
    "\n",
    "visualizer.fit(norm_train)        \n",
    "visualizer.show()   "
   ]
  },
  {
   "cell_type": "markdown",
   "metadata": {},
   "source": [
    "## Try GMM"
   ]
  },
  {
   "cell_type": "code",
   "execution_count": 71,
   "metadata": {},
   "outputs": [],
   "source": [
    "def gauss_tune(data,min_clust, max_clust, seed=29):\n",
    "    \n",
    "    cluster_amounts = np.arange(min_clust, max_clust+1)\n",
    "    bics = []\n",
    "    clust_num = np.arange(1,len(cluster_amounts)-1)\n",
    "    \n",
    "    for i in cluster_amounts:\n",
    "        gmm = GaussianMixture(i, random_state=seed)\n",
    "        gmm.fit(data)\n",
    "        bic = gmm.bic(data)\n",
    "        bics.append(bic)\n",
    "    plt.plot(cluster_amounts, bics, 'k-o')\n",
    "    plt.xticks(np.arange(3,21))\n",
    "    plt.show()\n",
    "    \n",
    "    \n"
   ]
  },
  {
   "cell_type": "code",
   "execution_count": 72,
   "metadata": {},
   "outputs": [
    {
     "name": "stderr",
     "output_type": "stream",
     "text": [
      "c:\\Users\\rpand\\anaconda3\\envs\\nba_app_env\\lib\\site-packages\\sklearn\\cluster\\_kmeans.py:1332: UserWarning:\n",
      "\n",
      "KMeans is known to have a memory leak on Windows with MKL, when there are less chunks than available threads. You can avoid it by setting the environment variable OMP_NUM_THREADS=2.\n",
      "\n",
      "c:\\Users\\rpand\\anaconda3\\envs\\nba_app_env\\lib\\site-packages\\sklearn\\cluster\\_kmeans.py:1332: UserWarning:\n",
      "\n",
      "KMeans is known to have a memory leak on Windows with MKL, when there are less chunks than available threads. You can avoid it by setting the environment variable OMP_NUM_THREADS=2.\n",
      "\n",
      "c:\\Users\\rpand\\anaconda3\\envs\\nba_app_env\\lib\\site-packages\\sklearn\\cluster\\_kmeans.py:1332: UserWarning:\n",
      "\n",
      "KMeans is known to have a memory leak on Windows with MKL, when there are less chunks than available threads. You can avoid it by setting the environment variable OMP_NUM_THREADS=2.\n",
      "\n",
      "c:\\Users\\rpand\\anaconda3\\envs\\nba_app_env\\lib\\site-packages\\sklearn\\cluster\\_kmeans.py:1332: UserWarning:\n",
      "\n",
      "KMeans is known to have a memory leak on Windows with MKL, when there are less chunks than available threads. You can avoid it by setting the environment variable OMP_NUM_THREADS=2.\n",
      "\n",
      "c:\\Users\\rpand\\anaconda3\\envs\\nba_app_env\\lib\\site-packages\\sklearn\\cluster\\_kmeans.py:1332: UserWarning:\n",
      "\n",
      "KMeans is known to have a memory leak on Windows with MKL, when there are less chunks than available threads. You can avoid it by setting the environment variable OMP_NUM_THREADS=2.\n",
      "\n",
      "c:\\Users\\rpand\\anaconda3\\envs\\nba_app_env\\lib\\site-packages\\sklearn\\cluster\\_kmeans.py:1332: UserWarning:\n",
      "\n",
      "KMeans is known to have a memory leak on Windows with MKL, when there are less chunks than available threads. You can avoid it by setting the environment variable OMP_NUM_THREADS=2.\n",
      "\n",
      "c:\\Users\\rpand\\anaconda3\\envs\\nba_app_env\\lib\\site-packages\\sklearn\\cluster\\_kmeans.py:1332: UserWarning:\n",
      "\n",
      "KMeans is known to have a memory leak on Windows with MKL, when there are less chunks than available threads. You can avoid it by setting the environment variable OMP_NUM_THREADS=2.\n",
      "\n",
      "c:\\Users\\rpand\\anaconda3\\envs\\nba_app_env\\lib\\site-packages\\sklearn\\cluster\\_kmeans.py:1332: UserWarning:\n",
      "\n",
      "KMeans is known to have a memory leak on Windows with MKL, when there are less chunks than available threads. You can avoid it by setting the environment variable OMP_NUM_THREADS=2.\n",
      "\n",
      "c:\\Users\\rpand\\anaconda3\\envs\\nba_app_env\\lib\\site-packages\\sklearn\\cluster\\_kmeans.py:1332: UserWarning:\n",
      "\n",
      "KMeans is known to have a memory leak on Windows with MKL, when there are less chunks than available threads. You can avoid it by setting the environment variable OMP_NUM_THREADS=2.\n",
      "\n",
      "c:\\Users\\rpand\\anaconda3\\envs\\nba_app_env\\lib\\site-packages\\sklearn\\cluster\\_kmeans.py:1332: UserWarning:\n",
      "\n",
      "KMeans is known to have a memory leak on Windows with MKL, when there are less chunks than available threads. You can avoid it by setting the environment variable OMP_NUM_THREADS=2.\n",
      "\n",
      "c:\\Users\\rpand\\anaconda3\\envs\\nba_app_env\\lib\\site-packages\\sklearn\\cluster\\_kmeans.py:1332: UserWarning:\n",
      "\n",
      "KMeans is known to have a memory leak on Windows with MKL, when there are less chunks than available threads. You can avoid it by setting the environment variable OMP_NUM_THREADS=2.\n",
      "\n",
      "c:\\Users\\rpand\\anaconda3\\envs\\nba_app_env\\lib\\site-packages\\sklearn\\cluster\\_kmeans.py:1332: UserWarning:\n",
      "\n",
      "KMeans is known to have a memory leak on Windows with MKL, when there are less chunks than available threads. You can avoid it by setting the environment variable OMP_NUM_THREADS=2.\n",
      "\n",
      "c:\\Users\\rpand\\anaconda3\\envs\\nba_app_env\\lib\\site-packages\\sklearn\\cluster\\_kmeans.py:1332: UserWarning:\n",
      "\n",
      "KMeans is known to have a memory leak on Windows with MKL, when there are less chunks than available threads. You can avoid it by setting the environment variable OMP_NUM_THREADS=2.\n",
      "\n"
     ]
    },
    {
     "data": {
      "image/png": "[encoded data removed]",
      "text/plain": [
       "<Figure size 432x288 with 1 Axes>"
      ]
     },
     "metadata": {
      "needs_background": "light"
     },
     "output_type": "display_data"
    }
   ],
   "source": [
    "\n",
    "gauss_tune(norm_train, 3,15)"
   ]
  },
  {
   "cell_type": "code",
   "execution_count": 73,
   "metadata": {},
   "outputs": [
    {
     "name": "stderr",
     "output_type": "stream",
     "text": [
      "c:\\Users\\rpand\\anaconda3\\envs\\nba_app_env\\lib\\site-packages\\sklearn\\cluster\\_kmeans.py:1332: UserWarning:\n",
      "\n",
      "KMeans is known to have a memory leak on Windows with MKL, when there are less chunks than available threads. You can avoid it by setting the environment variable OMP_NUM_THREADS=2.\n",
      "\n"
     ]
    }
   ],
   "source": [
    "cluster_results = def_train.copy()\n",
    "gmm = GaussianMixture(5, random_state=29)\n",
    "kmeans5 = KMeans(5, random_state=2022)\n",
    "clusters = gmm.fit_predict(norm_train)\n",
    "cluster_results['Clusters'] = clusters"
   ]
  },
  {
   "cell_type": "code",
   "execution_count": 74,
   "metadata": {},
   "outputs": [],
   "source": [
    "\n",
    "cluster_groups = cluster_results.groupby(clusters).mean()\n",
    "cluster_groups.to_html('Cluster Data.html')"
   ]
  },
  {
   "cell_type": "code",
   "execution_count": 75,
   "metadata": {},
   "outputs": [
    {
     "data": {
      "text/html": [
       "<div>\n",
       "<style scoped>\n",
       "    .dataframe tbody tr th:only-of-type {\n",
       "        vertical-align: middle;\n",
       "    }\n",
       "\n",
       "    .dataframe tbody tr th {\n",
       "        vertical-align: top;\n",
       "    }\n",
       "\n",
       "    .dataframe thead th {\n",
       "        text-align: right;\n",
       "    }\n",
       "</style>\n",
       "<table border=\"1\" class=\"dataframe\">\n",
       "  <thead>\n",
       "    <tr style=\"text-align: right;\">\n",
       "      <th></th>\n",
       "      <th>DEF Handoff PPP</th>\n",
       "      <th>DEF Handoff FREQ</th>\n",
       "      <th>DEF Isolation PPP</th>\n",
       "      <th>DEF Isolation FREQ</th>\n",
       "      <th>DEF OffScreen PPP</th>\n",
       "      <th>DEF OffScreen FREQ</th>\n",
       "      <th>DEF Postup PPP</th>\n",
       "      <th>DEF Postup FREQ</th>\n",
       "      <th>DEF PRBallHandler PPP</th>\n",
       "      <th>DEF PRBallHandler FREQ</th>\n",
       "      <th>...</th>\n",
       "      <th>PLUSMINUS Less Than 6Ft</th>\n",
       "      <th>FREQ Less Than 10Ft</th>\n",
       "      <th>PLUSMINUS Less Than 10Ft</th>\n",
       "      <th>PCT_LOOSE_BALLS_RECOVERED_DEF</th>\n",
       "      <th>REB_CONTEST_PCT</th>\n",
       "      <th>AVG_REB_DIST</th>\n",
       "      <th>DIST_MILES_DEF</th>\n",
       "      <th>AVG_SPEED_DEF</th>\n",
       "      <th>DEFLECTIONS Per36</th>\n",
       "      <th>Clusters</th>\n",
       "    </tr>\n",
       "  </thead>\n",
       "  <tbody>\n",
       "    <tr>\n",
       "      <th>0</th>\n",
       "      <td>0.908192</td>\n",
       "      <td>0.085840</td>\n",
       "      <td>0.902840</td>\n",
       "      <td>0.074006</td>\n",
       "      <td>0.930936</td>\n",
       "      <td>0.065692</td>\n",
       "      <td>0.940083</td>\n",
       "      <td>0.049705</td>\n",
       "      <td>0.873737</td>\n",
       "      <td>0.304981</td>\n",
       "      <td>...</td>\n",
       "      <td>0.007026</td>\n",
       "      <td>0.442590</td>\n",
       "      <td>0.007891</td>\n",
       "      <td>0.528885</td>\n",
       "      <td>0.228141</td>\n",
       "      <td>8.321154</td>\n",
       "      <td>0.948333</td>\n",
       "      <td>3.856090</td>\n",
       "      <td>2.207427</td>\n",
       "      <td>0.0</td>\n",
       "    </tr>\n",
       "    <tr>\n",
       "      <th>1</th>\n",
       "      <td>0.231441</td>\n",
       "      <td>0.004941</td>\n",
       "      <td>0.958706</td>\n",
       "      <td>0.104176</td>\n",
       "      <td>0.492647</td>\n",
       "      <td>0.007941</td>\n",
       "      <td>0.960294</td>\n",
       "      <td>0.064441</td>\n",
       "      <td>0.592824</td>\n",
       "      <td>0.018912</td>\n",
       "      <td>...</td>\n",
       "      <td>-0.050412</td>\n",
       "      <td>0.516029</td>\n",
       "      <td>-0.040029</td>\n",
       "      <td>0.413059</td>\n",
       "      <td>0.445147</td>\n",
       "      <td>4.976471</td>\n",
       "      <td>0.810588</td>\n",
       "      <td>3.827647</td>\n",
       "      <td>2.008165</td>\n",
       "      <td>1.0</td>\n",
       "    </tr>\n",
       "    <tr>\n",
       "      <th>2</th>\n",
       "      <td>0.823816</td>\n",
       "      <td>0.078342</td>\n",
       "      <td>0.819592</td>\n",
       "      <td>0.068224</td>\n",
       "      <td>0.741579</td>\n",
       "      <td>0.055632</td>\n",
       "      <td>0.703447</td>\n",
       "      <td>0.043921</td>\n",
       "      <td>0.893329</td>\n",
       "      <td>0.297921</td>\n",
       "      <td>...</td>\n",
       "      <td>0.010053</td>\n",
       "      <td>0.459934</td>\n",
       "      <td>0.012105</td>\n",
       "      <td>0.528697</td>\n",
       "      <td>0.233658</td>\n",
       "      <td>8.426316</td>\n",
       "      <td>0.775526</td>\n",
       "      <td>3.873816</td>\n",
       "      <td>2.315977</td>\n",
       "      <td>2.0</td>\n",
       "    </tr>\n",
       "    <tr>\n",
       "      <th>3</th>\n",
       "      <td>0.049393</td>\n",
       "      <td>0.001250</td>\n",
       "      <td>0.947929</td>\n",
       "      <td>0.075964</td>\n",
       "      <td>0.024714</td>\n",
       "      <td>0.000500</td>\n",
       "      <td>0.883321</td>\n",
       "      <td>0.055536</td>\n",
       "      <td>0.000000</td>\n",
       "      <td>0.000714</td>\n",
       "      <td>...</td>\n",
       "      <td>-0.036107</td>\n",
       "      <td>0.486250</td>\n",
       "      <td>-0.027429</td>\n",
       "      <td>0.384893</td>\n",
       "      <td>0.461786</td>\n",
       "      <td>4.810714</td>\n",
       "      <td>0.652143</td>\n",
       "      <td>3.831786</td>\n",
       "      <td>1.780798</td>\n",
       "      <td>3.0</td>\n",
       "    </tr>\n",
       "    <tr>\n",
       "      <th>4</th>\n",
       "      <td>0.939969</td>\n",
       "      <td>0.046154</td>\n",
       "      <td>0.894200</td>\n",
       "      <td>0.114615</td>\n",
       "      <td>0.886200</td>\n",
       "      <td>0.040369</td>\n",
       "      <td>0.956262</td>\n",
       "      <td>0.058446</td>\n",
       "      <td>0.874154</td>\n",
       "      <td>0.124985</td>\n",
       "      <td>...</td>\n",
       "      <td>-0.042323</td>\n",
       "      <td>0.470708</td>\n",
       "      <td>-0.036215</td>\n",
       "      <td>0.495692</td>\n",
       "      <td>0.350846</td>\n",
       "      <td>5.772308</td>\n",
       "      <td>0.856308</td>\n",
       "      <td>3.831846</td>\n",
       "      <td>1.844435</td>\n",
       "      <td>4.0</td>\n",
       "    </tr>\n",
       "  </tbody>\n",
       "</table>\n",
       "<p>5 rows × 27 columns</p>\n",
       "</div>"
      ],
      "text/plain": [
       "   DEF Handoff PPP  DEF Handoff FREQ  DEF Isolation PPP  DEF Isolation FREQ  \\\n",
       "0         0.908192          0.085840           0.902840            0.074006   \n",
       "1         0.231441          0.004941           0.958706            0.104176   \n",
       "2         0.823816          0.078342           0.819592            0.068224   \n",
       "3         0.049393          0.001250           0.947929            0.075964   \n",
       "4         0.939969          0.046154           0.894200            0.114615   \n",
       "\n",
       "   DEF OffScreen PPP  DEF OffScreen FREQ  DEF Postup PPP  DEF Postup FREQ  \\\n",
       "0           0.930936            0.065692        0.940083         0.049705   \n",
       "1           0.492647            0.007941        0.960294         0.064441   \n",
       "2           0.741579            0.055632        0.703447         0.043921   \n",
       "3           0.024714            0.000500        0.883321         0.055536   \n",
       "4           0.886200            0.040369        0.956262         0.058446   \n",
       "\n",
       "   DEF PRBallHandler PPP  DEF PRBallHandler FREQ  ...  \\\n",
       "0               0.873737                0.304981  ...   \n",
       "1               0.592824                0.018912  ...   \n",
       "2               0.893329                0.297921  ...   \n",
       "3               0.000000                0.000714  ...   \n",
       "4               0.874154                0.124985  ...   \n",
       "\n",
       "   PLUSMINUS Less Than 6Ft  FREQ Less Than 10Ft  PLUSMINUS Less Than 10Ft  \\\n",
       "0                 0.007026             0.442590                  0.007891   \n",
       "1                -0.050412             0.516029                 -0.040029   \n",
       "2                 0.010053             0.459934                  0.012105   \n",
       "3                -0.036107             0.486250                 -0.027429   \n",
       "4                -0.042323             0.470708                 -0.036215   \n",
       "\n",
       "   PCT_LOOSE_BALLS_RECOVERED_DEF  REB_CONTEST_PCT  AVG_REB_DIST  \\\n",
       "0                       0.528885         0.228141      8.321154   \n",
       "1                       0.413059         0.445147      4.976471   \n",
       "2                       0.528697         0.233658      8.426316   \n",
       "3                       0.384893         0.461786      4.810714   \n",
       "4                       0.495692         0.350846      5.772308   \n",
       "\n",
       "   DIST_MILES_DEF  AVG_SPEED_DEF  DEFLECTIONS Per36  Clusters  \n",
       "0        0.948333       3.856090           2.207427       0.0  \n",
       "1        0.810588       3.827647           2.008165       1.0  \n",
       "2        0.775526       3.873816           2.315977       2.0  \n",
       "3        0.652143       3.831786           1.780798       3.0  \n",
       "4        0.856308       3.831846           1.844435       4.0  \n",
       "\n",
       "[5 rows x 27 columns]"
      ]
     },
     "execution_count": 75,
     "metadata": {},
     "output_type": "execute_result"
    }
   ],
   "source": [
    "cluster_groups"
   ]
  },
  {
   "cell_type": "code",
   "execution_count": 76,
   "metadata": {},
   "outputs": [],
   "source": [
    "def_ranks = pd.DataFrame()\n",
    "for i in cluster_groups.columns:\n",
    "    def_ranks[i + ' rank'] = cluster_groups[i].rank()\n",
    "\n",
    "def_ranks.to_csv('def_ranks.csv', index=False)"
   ]
  },
  {
   "cell_type": "code",
   "execution_count": 77,
   "metadata": {},
   "outputs": [
    {
     "data": {
      "text/plain": [
       "0    156\n",
       "2     76\n",
       "4     65\n",
       "1     34\n",
       "3     28\n",
       "Name: Cluster, dtype: int64"
      ]
     },
     "execution_count": 77,
     "metadata": {},
     "output_type": "execute_result"
    }
   ],
   "source": [
    "player_groups  = all_defence_clust[['PLAYER_NAME', 'Season']].copy()\n",
    "player_groups['Cluster'] = clusters\n",
    "player_groups_2021 = player_groups[player_groups['Season']=='2021-22']\n",
    "player_groups.Cluster.value_counts()"
   ]
  },
  {
   "cell_type": "code",
   "execution_count": 78,
   "metadata": {},
   "outputs": [],
   "source": [
    "all_defence_clust['Cluster'] = clusters"
   ]
  },
  {
   "cell_type": "code",
   "execution_count": 79,
   "metadata": {},
   "outputs": [
    {
     "data": {
      "text/html": [
       "<div>\n",
       "<style scoped>\n",
       "    .dataframe tbody tr th:only-of-type {\n",
       "        vertical-align: middle;\n",
       "    }\n",
       "\n",
       "    .dataframe tbody tr th {\n",
       "        vertical-align: top;\n",
       "    }\n",
       "\n",
       "    .dataframe thead th {\n",
       "        text-align: right;\n",
       "    }\n",
       "</style>\n",
       "<table border=\"1\" class=\"dataframe\">\n",
       "  <thead>\n",
       "    <tr style=\"text-align: right;\">\n",
       "      <th></th>\n",
       "      <th>PLAYER_NAME</th>\n",
       "      <th>Season</th>\n",
       "      <th>Cluster</th>\n",
       "    </tr>\n",
       "  </thead>\n",
       "  <tbody>\n",
       "    <tr>\n",
       "      <th>1029</th>\n",
       "      <td>Naz Reid</td>\n",
       "      <td>2021-22</td>\n",
       "      <td>1</td>\n",
       "    </tr>\n",
       "  </tbody>\n",
       "</table>\n",
       "</div>"
      ],
      "text/plain": [
       "     PLAYER_NAME   Season  Cluster\n",
       "1029    Naz Reid  2021-22        1"
      ]
     },
     "execution_count": 79,
     "metadata": {},
     "output_type": "execute_result"
    }
   ],
   "source": [
    "player_groups[player_groups['PLAYER_NAME']=='Naz Reid']"
   ]
  },
  {
   "cell_type": "code",
   "execution_count": 80,
   "metadata": {},
   "outputs": [
    {
     "data": {
      "text/html": [
       "<div>\n",
       "<style scoped>\n",
       "    .dataframe tbody tr th:only-of-type {\n",
       "        vertical-align: middle;\n",
       "    }\n",
       "\n",
       "    .dataframe tbody tr th {\n",
       "        vertical-align: top;\n",
       "    }\n",
       "\n",
       "    .dataframe thead th {\n",
       "        text-align: right;\n",
       "    }\n",
       "</style>\n",
       "<table border=\"1\" class=\"dataframe\">\n",
       "  <thead>\n",
       "    <tr style=\"text-align: right;\">\n",
       "      <th></th>\n",
       "      <th>PLAYER_NAME</th>\n",
       "      <th>Season</th>\n",
       "      <th>Cluster</th>\n",
       "    </tr>\n",
       "  </thead>\n",
       "  <tbody>\n",
       "    <tr>\n",
       "      <th>1032</th>\n",
       "      <td>Daniel Gafford</td>\n",
       "      <td>2021-22</td>\n",
       "      <td>3</td>\n",
       "    </tr>\n",
       "    <tr>\n",
       "      <th>1037</th>\n",
       "      <td>Onyeka Okongwu</td>\n",
       "      <td>2021-22</td>\n",
       "      <td>3</td>\n",
       "    </tr>\n",
       "    <tr>\n",
       "      <th>1141</th>\n",
       "      <td>Jalen Smith</td>\n",
       "      <td>2021-22</td>\n",
       "      <td>3</td>\n",
       "    </tr>\n",
       "    <tr>\n",
       "      <th>1682</th>\n",
       "      <td>Olivier Sarr</td>\n",
       "      <td>2021-22</td>\n",
       "      <td>3</td>\n",
       "    </tr>\n",
       "    <tr>\n",
       "      <th>1693</th>\n",
       "      <td>Derrick Favors</td>\n",
       "      <td>2021-22</td>\n",
       "      <td>3</td>\n",
       "    </tr>\n",
       "    <tr>\n",
       "      <th>1699</th>\n",
       "      <td>Robin Lopez</td>\n",
       "      <td>2021-22</td>\n",
       "      <td>3</td>\n",
       "    </tr>\n",
       "    <tr>\n",
       "      <th>1706</th>\n",
       "      <td>Alex Len</td>\n",
       "      <td>2021-22</td>\n",
       "      <td>3</td>\n",
       "    </tr>\n",
       "    <tr>\n",
       "      <th>1712</th>\n",
       "      <td>Dewayne Dedmon</td>\n",
       "      <td>2021-22</td>\n",
       "      <td>3</td>\n",
       "    </tr>\n",
       "    <tr>\n",
       "      <th>1717</th>\n",
       "      <td>Thomas Bryant</td>\n",
       "      <td>2021-22</td>\n",
       "      <td>3</td>\n",
       "    </tr>\n",
       "    <tr>\n",
       "      <th>1722</th>\n",
       "      <td>Tristan Thompson</td>\n",
       "      <td>2021-22</td>\n",
       "      <td>3</td>\n",
       "    </tr>\n",
       "    <tr>\n",
       "      <th>1723</th>\n",
       "      <td>Tristan Thompson</td>\n",
       "      <td>2021-22</td>\n",
       "      <td>3</td>\n",
       "    </tr>\n",
       "    <tr>\n",
       "      <th>1731</th>\n",
       "      <td>Zach Collins</td>\n",
       "      <td>2021-22</td>\n",
       "      <td>3</td>\n",
       "    </tr>\n",
       "    <tr>\n",
       "      <th>1733</th>\n",
       "      <td>Serge Ibaka</td>\n",
       "      <td>2021-22</td>\n",
       "      <td>3</td>\n",
       "    </tr>\n",
       "    <tr>\n",
       "      <th>1735</th>\n",
       "      <td>JaVale McGee</td>\n",
       "      <td>2021-22</td>\n",
       "      <td>3</td>\n",
       "    </tr>\n",
       "    <tr>\n",
       "      <th>1738</th>\n",
       "      <td>Andre Drummond</td>\n",
       "      <td>2021-22</td>\n",
       "      <td>3</td>\n",
       "    </tr>\n",
       "    <tr>\n",
       "      <th>1739</th>\n",
       "      <td>Andre Drummond</td>\n",
       "      <td>2021-22</td>\n",
       "      <td>3</td>\n",
       "    </tr>\n",
       "    <tr>\n",
       "      <th>1740</th>\n",
       "      <td>Montrezl Harrell</td>\n",
       "      <td>2021-22</td>\n",
       "      <td>3</td>\n",
       "    </tr>\n",
       "    <tr>\n",
       "      <th>1741</th>\n",
       "      <td>Montrezl Harrell</td>\n",
       "      <td>2021-22</td>\n",
       "      <td>3</td>\n",
       "    </tr>\n",
       "    <tr>\n",
       "      <th>1744</th>\n",
       "      <td>Taj Gibson</td>\n",
       "      <td>2021-22</td>\n",
       "      <td>3</td>\n",
       "    </tr>\n",
       "    <tr>\n",
       "      <th>1751</th>\n",
       "      <td>Drew Eubanks</td>\n",
       "      <td>2021-22</td>\n",
       "      <td>3</td>\n",
       "    </tr>\n",
       "    <tr>\n",
       "      <th>1753</th>\n",
       "      <td>Willy Hernangomez</td>\n",
       "      <td>2021-22</td>\n",
       "      <td>3</td>\n",
       "    </tr>\n",
       "    <tr>\n",
       "      <th>1754</th>\n",
       "      <td>Jusuf Nurkic</td>\n",
       "      <td>2021-22</td>\n",
       "      <td>3</td>\n",
       "    </tr>\n",
       "    <tr>\n",
       "      <th>1758</th>\n",
       "      <td>Hassan Whiteside</td>\n",
       "      <td>2021-22</td>\n",
       "      <td>3</td>\n",
       "    </tr>\n",
       "    <tr>\n",
       "      <th>1760</th>\n",
       "      <td>Khem Birch</td>\n",
       "      <td>2021-22</td>\n",
       "      <td>3</td>\n",
       "    </tr>\n",
       "    <tr>\n",
       "      <th>1762</th>\n",
       "      <td>Dwight Howard</td>\n",
       "      <td>2021-22</td>\n",
       "      <td>3</td>\n",
       "    </tr>\n",
       "    <tr>\n",
       "      <th>1768</th>\n",
       "      <td>Deandre Ayton</td>\n",
       "      <td>2021-22</td>\n",
       "      <td>3</td>\n",
       "    </tr>\n",
       "    <tr>\n",
       "      <th>1769</th>\n",
       "      <td>LaMarcus Aldridge</td>\n",
       "      <td>2021-22</td>\n",
       "      <td>3</td>\n",
       "    </tr>\n",
       "    <tr>\n",
       "      <th>1770</th>\n",
       "      <td>Nikola Jokic</td>\n",
       "      <td>2021-22</td>\n",
       "      <td>3</td>\n",
       "    </tr>\n",
       "  </tbody>\n",
       "</table>\n",
       "</div>"
      ],
      "text/plain": [
       "            PLAYER_NAME   Season  Cluster\n",
       "1032     Daniel Gafford  2021-22        3\n",
       "1037     Onyeka Okongwu  2021-22        3\n",
       "1141        Jalen Smith  2021-22        3\n",
       "1682       Olivier Sarr  2021-22        3\n",
       "1693     Derrick Favors  2021-22        3\n",
       "1699        Robin Lopez  2021-22        3\n",
       "1706           Alex Len  2021-22        3\n",
       "1712     Dewayne Dedmon  2021-22        3\n",
       "1717      Thomas Bryant  2021-22        3\n",
       "1722   Tristan Thompson  2021-22        3\n",
       "1723   Tristan Thompson  2021-22        3\n",
       "1731       Zach Collins  2021-22        3\n",
       "1733        Serge Ibaka  2021-22        3\n",
       "1735       JaVale McGee  2021-22        3\n",
       "1738     Andre Drummond  2021-22        3\n",
       "1739     Andre Drummond  2021-22        3\n",
       "1740   Montrezl Harrell  2021-22        3\n",
       "1741   Montrezl Harrell  2021-22        3\n",
       "1744         Taj Gibson  2021-22        3\n",
       "1751       Drew Eubanks  2021-22        3\n",
       "1753  Willy Hernangomez  2021-22        3\n",
       "1754       Jusuf Nurkic  2021-22        3\n",
       "1758   Hassan Whiteside  2021-22        3\n",
       "1760         Khem Birch  2021-22        3\n",
       "1762      Dwight Howard  2021-22        3\n",
       "1768      Deandre Ayton  2021-22        3\n",
       "1769  LaMarcus Aldridge  2021-22        3\n",
       "1770       Nikola Jokic  2021-22        3"
      ]
     },
     "execution_count": 80,
     "metadata": {},
     "output_type": "execute_result"
    }
   ],
   "source": [
    "player_groups[player_groups['Cluster']==3]"
   ]
  },
  {
   "cell_type": "markdown",
   "metadata": {},
   "source": [
    "## Analyze the Large Cluster 0"
   ]
  },
  {
   "cell_type": "code",
   "execution_count": 81,
   "metadata": {},
   "outputs": [],
   "source": [
    "full_results = all_defence_clust.copy()\n",
    "full_results['Cluster'] = clusters"
   ]
  },
  {
   "cell_type": "code",
   "execution_count": 82,
   "metadata": {},
   "outputs": [
    {
     "data": {
      "text/plain": [
       "0    156\n",
       "2     76\n",
       "4     65\n",
       "1     34\n",
       "3     28\n",
       "Name: Cluster, dtype: int64"
      ]
     },
     "execution_count": 82,
     "metadata": {},
     "output_type": "execute_result"
    }
   ],
   "source": [
    "full_results.Cluster.value_counts()"
   ]
  },
  {
   "cell_type": "code",
   "execution_count": 83,
   "metadata": {},
   "outputs": [],
   "source": [
    "clust_0 =  cluster_results[cluster_results['Clusters']==0].copy().drop('Clusters', axis='columns')\n",
    "player_0 = player_groups[player_groups['Cluster']==0].copy()"
   ]
  },
  {
   "cell_type": "code",
   "execution_count": 84,
   "metadata": {},
   "outputs": [],
   "source": [
    "pc2 = PCA(2)\n",
    "clust0_pc = pd.DataFrame(pc2.fit_transform(clust_0), columns = ['Component 1', 'Component 2'])\n"
   ]
  },
  {
   "cell_type": "code",
   "execution_count": 85,
   "metadata": {},
   "outputs": [
    {
     "name": "stdout",
     "output_type": "stream",
     "text": [
      "Variance Explained by these two components is: 0.8627347460298093\n"
     ]
    },
    {
     "data": {
      "text/html": [
       "<div>\n",
       "<style scoped>\n",
       "    .dataframe tbody tr th:only-of-type {\n",
       "        vertical-align: middle;\n",
       "    }\n",
       "\n",
       "    .dataframe tbody tr th {\n",
       "        vertical-align: top;\n",
       "    }\n",
       "\n",
       "    .dataframe thead th {\n",
       "        text-align: right;\n",
       "    }\n",
       "</style>\n",
       "<table border=\"1\" class=\"dataframe\">\n",
       "  <thead>\n",
       "    <tr style=\"text-align: right;\">\n",
       "      <th></th>\n",
       "      <th>Component 1</th>\n",
       "      <th>Component 2</th>\n",
       "    </tr>\n",
       "  </thead>\n",
       "  <tbody>\n",
       "    <tr>\n",
       "      <th>AVG_REB_DIST</th>\n",
       "      <td>-0.998018</td>\n",
       "      <td>0.005509</td>\n",
       "    </tr>\n",
       "    <tr>\n",
       "      <th>DEF PRBallHandler FREQ</th>\n",
       "      <td>-0.020605</td>\n",
       "      <td>0.028112</td>\n",
       "    </tr>\n",
       "    <tr>\n",
       "      <th>PCT_LOOSE_BALLS_RECOVERED_DEF</th>\n",
       "      <td>-0.010973</td>\n",
       "      <td>0.034416</td>\n",
       "    </tr>\n",
       "    <tr>\n",
       "      <th>PLUSMINUS Less Than 6Ft</th>\n",
       "      <td>-0.007949</td>\n",
       "      <td>-0.000542</td>\n",
       "    </tr>\n",
       "    <tr>\n",
       "      <th>PLUSMINUS Less Than 10Ft</th>\n",
       "      <td>-0.005377</td>\n",
       "      <td>-0.000604</td>\n",
       "    </tr>\n",
       "    <tr>\n",
       "      <th>FREQ 3 Pointers</th>\n",
       "      <td>-0.004166</td>\n",
       "      <td>-0.002764</td>\n",
       "    </tr>\n",
       "    <tr>\n",
       "      <th>DEF Handoff PPP</th>\n",
       "      <td>-0.001791</td>\n",
       "      <td>-0.017722</td>\n",
       "    </tr>\n",
       "    <tr>\n",
       "      <th>DEF Handoff FREQ</th>\n",
       "      <td>-0.001122</td>\n",
       "      <td>-0.001950</td>\n",
       "    </tr>\n",
       "    <tr>\n",
       "      <th>DEF PRRollman FREQ</th>\n",
       "      <td>-0.000791</td>\n",
       "      <td>-0.000995</td>\n",
       "    </tr>\n",
       "    <tr>\n",
       "      <th>DEF Postup FREQ</th>\n",
       "      <td>0.001092</td>\n",
       "      <td>0.000746</td>\n",
       "    </tr>\n",
       "    <tr>\n",
       "      <th>DEF OffScreen FREQ</th>\n",
       "      <td>0.001160</td>\n",
       "      <td>0.000355</td>\n",
       "    </tr>\n",
       "    <tr>\n",
       "      <th>DEF PRBallHandler PPP</th>\n",
       "      <td>0.001198</td>\n",
       "      <td>-0.013271</td>\n",
       "    </tr>\n",
       "    <tr>\n",
       "      <th>PLUSMINUS 3 Pointers</th>\n",
       "      <td>0.002952</td>\n",
       "      <td>-0.005713</td>\n",
       "    </tr>\n",
       "    <tr>\n",
       "      <th>DEFLECTIONS Per36</th>\n",
       "      <td>0.004683</td>\n",
       "      <td>0.992870</td>\n",
       "    </tr>\n",
       "    <tr>\n",
       "      <th>DEF Isolation FREQ</th>\n",
       "      <td>0.004779</td>\n",
       "      <td>-0.005006</td>\n",
       "    </tr>\n",
       "    <tr>\n",
       "      <th>DEF OffScreen PPP</th>\n",
       "      <td>0.005573</td>\n",
       "      <td>-0.036072</td>\n",
       "    </tr>\n",
       "    <tr>\n",
       "      <th>DEF Postup PPP</th>\n",
       "      <td>0.006131</td>\n",
       "      <td>0.004553</td>\n",
       "    </tr>\n",
       "    <tr>\n",
       "      <th>FREQ Less Than 10Ft</th>\n",
       "      <td>0.007513</td>\n",
       "      <td>0.004006</td>\n",
       "    </tr>\n",
       "    <tr>\n",
       "      <th>DEF Spotup FREQ</th>\n",
       "      <td>0.008465</td>\n",
       "      <td>-0.011560</td>\n",
       "    </tr>\n",
       "    <tr>\n",
       "      <th>FREQ Less Than 6Ft</th>\n",
       "      <td>0.009722</td>\n",
       "      <td>0.005962</td>\n",
       "    </tr>\n",
       "    <tr>\n",
       "      <th>DEF Spotup PPP</th>\n",
       "      <td>0.010614</td>\n",
       "      <td>-0.022065</td>\n",
       "    </tr>\n",
       "    <tr>\n",
       "      <th>AVG_SPEED_DEF</th>\n",
       "      <td>0.013685</td>\n",
       "      <td>0.071020</td>\n",
       "    </tr>\n",
       "    <tr>\n",
       "      <th>DEF Isolation PPP</th>\n",
       "      <td>0.014463</td>\n",
       "      <td>-0.025062</td>\n",
       "    </tr>\n",
       "    <tr>\n",
       "      <th>DIST_MILES_DEF</th>\n",
       "      <td>0.014580</td>\n",
       "      <td>-0.037984</td>\n",
       "    </tr>\n",
       "    <tr>\n",
       "      <th>REB_CONTEST_PCT</th>\n",
       "      <td>0.031035</td>\n",
       "      <td>0.014623</td>\n",
       "    </tr>\n",
       "    <tr>\n",
       "      <th>DEF PRRollman PPP</th>\n",
       "      <td>0.035587</td>\n",
       "      <td>0.048166</td>\n",
       "    </tr>\n",
       "  </tbody>\n",
       "</table>\n",
       "</div>"
      ],
      "text/plain": [
       "                               Component 1  Component 2\n",
       "AVG_REB_DIST                     -0.998018     0.005509\n",
       "DEF PRBallHandler FREQ           -0.020605     0.028112\n",
       "PCT_LOOSE_BALLS_RECOVERED_DEF    -0.010973     0.034416\n",
       "PLUSMINUS Less Than 6Ft          -0.007949    -0.000542\n",
       "PLUSMINUS Less Than 10Ft         -0.005377    -0.000604\n",
       "FREQ 3 Pointers                  -0.004166    -0.002764\n",
       "DEF Handoff PPP                  -0.001791    -0.017722\n",
       "DEF Handoff FREQ                 -0.001122    -0.001950\n",
       "DEF PRRollman FREQ               -0.000791    -0.000995\n",
       "DEF Postup FREQ                   0.001092     0.000746\n",
       "DEF OffScreen FREQ                0.001160     0.000355\n",
       "DEF PRBallHandler PPP             0.001198    -0.013271\n",
       "PLUSMINUS 3 Pointers              0.002952    -0.005713\n",
       "DEFLECTIONS Per36                 0.004683     0.992870\n",
       "DEF Isolation FREQ                0.004779    -0.005006\n",
       "DEF OffScreen PPP                 0.005573    -0.036072\n",
       "DEF Postup PPP                    0.006131     0.004553\n",
       "FREQ Less Than 10Ft               0.007513     0.004006\n",
       "DEF Spotup FREQ                   0.008465    -0.011560\n",
       "FREQ Less Than 6Ft                0.009722     0.005962\n",
       "DEF Spotup PPP                    0.010614    -0.022065\n",
       "AVG_SPEED_DEF                     0.013685     0.071020\n",
       "DEF Isolation PPP                 0.014463    -0.025062\n",
       "DIST_MILES_DEF                    0.014580    -0.037984\n",
       "REB_CONTEST_PCT                   0.031035     0.014623\n",
       "DEF PRRollman PPP                 0.035587     0.048166"
      ]
     },
     "execution_count": 85,
     "metadata": {},
     "output_type": "execute_result"
    }
   ],
   "source": [
    "\n",
    "\n",
    "print(f'Variance Explained by these two components is: {pc2.explained_variance_ratio_.sum()}')\n",
    "np.transpose(pd.DataFrame(pc2.components_, columns= clust_0.columns, index = ['Component 1', 'Component 2'])).sort_values('Component 1')"
   ]
  },
  {
   "cell_type": "code",
   "execution_count": 86,
   "metadata": {},
   "outputs": [
    {
     "data": {
      "text/html": [
       "<div>\n",
       "<style scoped>\n",
       "    .dataframe tbody tr th:only-of-type {\n",
       "        vertical-align: middle;\n",
       "    }\n",
       "\n",
       "    .dataframe tbody tr th {\n",
       "        vertical-align: top;\n",
       "    }\n",
       "\n",
       "    .dataframe thead th {\n",
       "        text-align: right;\n",
       "    }\n",
       "</style>\n",
       "<table border=\"1\" class=\"dataframe\">\n",
       "  <thead>\n",
       "    <tr style=\"text-align: right;\">\n",
       "      <th></th>\n",
       "      <th>Component 1</th>\n",
       "      <th>Component 2</th>\n",
       "    </tr>\n",
       "  </thead>\n",
       "  <tbody>\n",
       "    <tr>\n",
       "      <th>DIST_MILES_DEF</th>\n",
       "      <td>0.014580</td>\n",
       "      <td>-0.037984</td>\n",
       "    </tr>\n",
       "    <tr>\n",
       "      <th>DEF OffScreen PPP</th>\n",
       "      <td>0.005573</td>\n",
       "      <td>-0.036072</td>\n",
       "    </tr>\n",
       "    <tr>\n",
       "      <th>DEF Isolation PPP</th>\n",
       "      <td>0.014463</td>\n",
       "      <td>-0.025062</td>\n",
       "    </tr>\n",
       "    <tr>\n",
       "      <th>DEF Spotup PPP</th>\n",
       "      <td>0.010614</td>\n",
       "      <td>-0.022065</td>\n",
       "    </tr>\n",
       "    <tr>\n",
       "      <th>DEF Handoff PPP</th>\n",
       "      <td>-0.001791</td>\n",
       "      <td>-0.017722</td>\n",
       "    </tr>\n",
       "    <tr>\n",
       "      <th>DEF PRBallHandler PPP</th>\n",
       "      <td>0.001198</td>\n",
       "      <td>-0.013271</td>\n",
       "    </tr>\n",
       "    <tr>\n",
       "      <th>DEF Spotup FREQ</th>\n",
       "      <td>0.008465</td>\n",
       "      <td>-0.011560</td>\n",
       "    </tr>\n",
       "    <tr>\n",
       "      <th>PLUSMINUS 3 Pointers</th>\n",
       "      <td>0.002952</td>\n",
       "      <td>-0.005713</td>\n",
       "    </tr>\n",
       "    <tr>\n",
       "      <th>DEF Isolation FREQ</th>\n",
       "      <td>0.004779</td>\n",
       "      <td>-0.005006</td>\n",
       "    </tr>\n",
       "    <tr>\n",
       "      <th>FREQ 3 Pointers</th>\n",
       "      <td>-0.004166</td>\n",
       "      <td>-0.002764</td>\n",
       "    </tr>\n",
       "    <tr>\n",
       "      <th>DEF Handoff FREQ</th>\n",
       "      <td>-0.001122</td>\n",
       "      <td>-0.001950</td>\n",
       "    </tr>\n",
       "    <tr>\n",
       "      <th>DEF PRRollman FREQ</th>\n",
       "      <td>-0.000791</td>\n",
       "      <td>-0.000995</td>\n",
       "    </tr>\n",
       "    <tr>\n",
       "      <th>PLUSMINUS Less Than 10Ft</th>\n",
       "      <td>-0.005377</td>\n",
       "      <td>-0.000604</td>\n",
       "    </tr>\n",
       "    <tr>\n",
       "      <th>PLUSMINUS Less Than 6Ft</th>\n",
       "      <td>-0.007949</td>\n",
       "      <td>-0.000542</td>\n",
       "    </tr>\n",
       "    <tr>\n",
       "      <th>DEF OffScreen FREQ</th>\n",
       "      <td>0.001160</td>\n",
       "      <td>0.000355</td>\n",
       "    </tr>\n",
       "    <tr>\n",
       "      <th>DEF Postup FREQ</th>\n",
       "      <td>0.001092</td>\n",
       "      <td>0.000746</td>\n",
       "    </tr>\n",
       "    <tr>\n",
       "      <th>FREQ Less Than 10Ft</th>\n",
       "      <td>0.007513</td>\n",
       "      <td>0.004006</td>\n",
       "    </tr>\n",
       "    <tr>\n",
       "      <th>DEF Postup PPP</th>\n",
       "      <td>0.006131</td>\n",
       "      <td>0.004553</td>\n",
       "    </tr>\n",
       "    <tr>\n",
       "      <th>AVG_REB_DIST</th>\n",
       "      <td>-0.998018</td>\n",
       "      <td>0.005509</td>\n",
       "    </tr>\n",
       "    <tr>\n",
       "      <th>FREQ Less Than 6Ft</th>\n",
       "      <td>0.009722</td>\n",
       "      <td>0.005962</td>\n",
       "    </tr>\n",
       "    <tr>\n",
       "      <th>REB_CONTEST_PCT</th>\n",
       "      <td>0.031035</td>\n",
       "      <td>0.014623</td>\n",
       "    </tr>\n",
       "    <tr>\n",
       "      <th>DEF PRBallHandler FREQ</th>\n",
       "      <td>-0.020605</td>\n",
       "      <td>0.028112</td>\n",
       "    </tr>\n",
       "    <tr>\n",
       "      <th>PCT_LOOSE_BALLS_RECOVERED_DEF</th>\n",
       "      <td>-0.010973</td>\n",
       "      <td>0.034416</td>\n",
       "    </tr>\n",
       "    <tr>\n",
       "      <th>DEF PRRollman PPP</th>\n",
       "      <td>0.035587</td>\n",
       "      <td>0.048166</td>\n",
       "    </tr>\n",
       "    <tr>\n",
       "      <th>AVG_SPEED_DEF</th>\n",
       "      <td>0.013685</td>\n",
       "      <td>0.071020</td>\n",
       "    </tr>\n",
       "    <tr>\n",
       "      <th>DEFLECTIONS Per36</th>\n",
       "      <td>0.004683</td>\n",
       "      <td>0.992870</td>\n",
       "    </tr>\n",
       "  </tbody>\n",
       "</table>\n",
       "</div>"
      ],
      "text/plain": [
       "                               Component 1  Component 2\n",
       "DIST_MILES_DEF                    0.014580    -0.037984\n",
       "DEF OffScreen PPP                 0.005573    -0.036072\n",
       "DEF Isolation PPP                 0.014463    -0.025062\n",
       "DEF Spotup PPP                    0.010614    -0.022065\n",
       "DEF Handoff PPP                  -0.001791    -0.017722\n",
       "DEF PRBallHandler PPP             0.001198    -0.013271\n",
       "DEF Spotup FREQ                   0.008465    -0.011560\n",
       "PLUSMINUS 3 Pointers              0.002952    -0.005713\n",
       "DEF Isolation FREQ                0.004779    -0.005006\n",
       "FREQ 3 Pointers                  -0.004166    -0.002764\n",
       "DEF Handoff FREQ                 -0.001122    -0.001950\n",
       "DEF PRRollman FREQ               -0.000791    -0.000995\n",
       "PLUSMINUS Less Than 10Ft         -0.005377    -0.000604\n",
       "PLUSMINUS Less Than 6Ft          -0.007949    -0.000542\n",
       "DEF OffScreen FREQ                0.001160     0.000355\n",
       "DEF Postup FREQ                   0.001092     0.000746\n",
       "FREQ Less Than 10Ft               0.007513     0.004006\n",
       "DEF Postup PPP                    0.006131     0.004553\n",
       "AVG_REB_DIST                     -0.998018     0.005509\n",
       "FREQ Less Than 6Ft                0.009722     0.005962\n",
       "REB_CONTEST_PCT                   0.031035     0.014623\n",
       "DEF PRBallHandler FREQ           -0.020605     0.028112\n",
       "PCT_LOOSE_BALLS_RECOVERED_DEF    -0.010973     0.034416\n",
       "DEF PRRollman PPP                 0.035587     0.048166\n",
       "AVG_SPEED_DEF                     0.013685     0.071020\n",
       "DEFLECTIONS Per36                 0.004683     0.992870"
      ]
     },
     "execution_count": 86,
     "metadata": {},
     "output_type": "execute_result"
    }
   ],
   "source": [
    "np.transpose(pd.DataFrame(pc2.components_, columns= clust_0.columns, index = ['Component 1', 'Component 2'])).sort_values('Component 2')"
   ]
  },
  {
   "cell_type": "code",
   "execution_count": 87,
   "metadata": {},
   "outputs": [
    {
     "data": {
      "application/vnd.plotly.v1+json": {
       "config": {
        "plotlyServerURL": "https://plot.ly"
       },
       "data": [
        {
         "customdata": [
          "Justin Holiday",
          "Aaron Holiday",
          "Tyrese Haliburton",
          "Gabe Vincent",
          "James Harden",
          "Josh Green",
          "Caris LeVert",
          "Tony Snell",
          "Max Strus",
          "Seth Curry",
          "Taurean Prince",
          "Gordon Hayward",
          "Tre Jones",
          "Buddy Hield",
          "Alex Caruso",
          "Stephen Curry",
          "Derrick White",
          "Jordan Nwora",
          "Caleb Martin",
          "Nickeil Alexander-Walker",
          "Wayne Ellington",
          "CJ McCollum",
          "Bones Hyland",
          "Kemba Walker",
          "John Konchar",
          "Kelly Oubre Jr.",
          "Tyler Herro",
          "Lance Stephenson",
          "Cody Martin",
          "Eric Gordon",
          "Shake Milton",
          "Jerami Grant",
          "Oshae Brissett",
          "George Hill",
          "Kyle Lowry",
          "Maurice Harkless",
          "OG Anunoby",
          "Facundo Campazzo",
          "Garrett Temple",
          "Wesley Matthews",
          "Delon Wright",
          "Furkan Korkmaz",
          "Josh Christopher",
          "Nicolas Batum",
          "Killian Hayes",
          "Tre Mann",
          "Gary Payton II",
          "CJ Elleby",
          "Josh Hart",
          "Amir Coffey",
          "R.J. Hampton",
          "LaMelo Ball",
          "Dennis Schroder",
          "Fred VanVleet",
          "Doug McDermott",
          "Cam Reddish",
          "Anfernee Simons",
          "Duncan Robinson",
          "Jae Crowder",
          "Tyus Jones",
          "Jae'Sean Tate",
          "Ziaire Williams",
          "Patrick Beverley",
          "Norman Powell",
          "Cameron Johnson",
          "Malcolm Brogdon",
          "Eric Bledsoe",
          "Kevin Durant",
          "Marcus Morris Sr.",
          "Kevin Porter Jr.",
          "Immanuel Quickley",
          "Joshua Primo",
          "Ja Morant",
          "Will Barton",
          "Malik Monk",
          "Saddiq Bey",
          "P.J. Tucker",
          "Jarred Vanderbilt",
          "Dillon Brooks",
          "Harrison Barnes",
          "Jalen Suggs",
          "Malik Beasley",
          "D'Angelo Russell",
          "Bradley Beal",
          "Danny Green",
          "Mike Conley",
          "Anthony Edwards",
          "Darius Garland",
          "Tim Hardaway Jr.",
          "Jalen Green",
          "Jalen Brunson",
          "Isaac Okoro",
          "Bogdan Bogdanovic",
          "Cory Joseph",
          "Dorian Finney-Smith",
          "De'Andre Hunter",
          "Austin Rivers",
          "Troy Brown Jr.",
          "Terry Rozier",
          "Luguentz Dort",
          "Reggie Jackson",
          "Coby White",
          "Alec Burks",
          "Miles Bridges",
          "Evan Fournier",
          "Bruce Brown",
          "Talen Horton-Tucker",
          "Raul Neto",
          "Pat Connaughton",
          "Gary Trent Jr.",
          "Avery Bradley",
          "Bojan Bogdanovic",
          "Monte Morris",
          "Austin Reaves",
          "Patty Mills",
          "Franz Wagner",
          "Reggie Bullock",
          "Ayo Dosunmu",
          "Chris Paul",
          "De'Anthony Melton",
          "Jayson Tatum",
          "Dejounte Murray",
          "Zach LaVine",
          "Devonte' Graham",
          "Cole Anthony",
          "Desmond Bane",
          "Matisse Thybulle",
          "Corey Kispert",
          "DeMar DeRozan",
          "Jimmy Butler",
          "RJ Barrett",
          "Devin Booker",
          "De'Aaron Fox",
          "Andrew Wiggins",
          "Herbert Jones",
          "Aaron Gordon",
          "Javonte Green",
          "Jrue Holiday",
          "Kentavious Caldwell-Pope",
          "Kevin Huerter",
          "Grayson Allen",
          "Davion Mitchell",
          "Jaylen Brown",
          "Keldon Johnson",
          "Marcus Smart",
          "Terance Mann",
          "Tyrese Maxey",
          "Khris Middleton",
          "Gary Harris",
          "Mikal Bridges",
          "Russell Westbrook",
          "Trae Young",
          "Donovan Mitchell",
          "Jordan Poole",
          "Jordan Clarkson",
          "Royce O'Neale"
         ],
         "hoverinfo": "skip",
         "hovertemplate": "Player: %{customdata}<br><extra></extra>",
         "marker": {
          "color": "black"
         },
         "mode": "markers",
         "name": "Cluster 0",
         "type": "scatter",
         "x": [
          -1.1765475466722826,
          -2.3925057581942983,
          -1.1429542563497643,
          -2.3068695604882263,
          1.2151542153988195,
          -0.5667709502845363,
          0.24259977721214807,
          0.10986950753050624,
          0.23790288300420642,
          -2.1876225206820585,
          -0.28913195049719936,
          0.4128410467041141,
          -0.7693837141210842,
          0.23970565574220196,
          -0.4699795761135083,
          0.626170009923659,
          -0.8848043676347661,
          1.2121199022317337,
          0.8181505188337664,
          1.427768751576785,
          -0.7445422091303796,
          -2.0780580715603443,
          0.628593414429387,
          -1.6892797109026558,
          1.335587809530808,
          1.0337801981892691,
          0.2255652064957065,
          0.8753155702218879,
          0.13023402715915636,
          -2.616936639060286,
          -0.6191838251797759,
          -0.059503916986578385,
          2.4393161425731247,
          -0.49435435094011687,
          0.29970229201643495,
          1.2289102864287054,
          0.9178768237657201,
          -2.974660798608799,
          -1.098967001193318,
          -1.590372922483166,
          0.6061299996606141,
          -1.6892682137091781,
          0.8443568256513061,
          2.025714192338953,
          -0.3669662232811542,
          0.008291161474850506,
          2.3353461969827713,
          1.4476749505193531,
          1.6402769580793244,
          -0.398116365728966,
          -0.366311431176193,
          0.2534302151871679,
          -2.0905481973904156,
          -1.7577696020038542,
          0.826978203156712,
          -1.6561259556765602,
          -0.661982310364245,
          -0.7921185730807897,
          2.1256586082080227,
          -0.8984146380981043,
          1.5312062381969416,
          -1.203754311106866,
          -0.5850576666767408,
          -1.281617147571633,
          0.5115741002399029,
          -0.002682283315758547,
          -1.0874729798346876,
          1.0330412901031523,
          0.5978514042956009,
          1.0243766860571029,
          -0.27933093280380633,
          0.22222160998414509,
          0.1176899743876971,
          2.220356157826136,
          1.2266812750712919,
          0.8028024609247116,
          1.7281914711423725,
          3.3408290077638236,
          -0.6504262645051252,
          1.3175062618410365,
          1.1152869294956214,
          -1.1790013930275154,
          -0.975047550459492,
          0.4082472710815547,
          0.04645895128579566,
          -1.8932321119791413,
          0.4113283511401612,
          -2.757559724117717,
          0.3221866613624187,
          0.9319673271901082,
          -0.8035975899120888,
          -2.0817843475238704,
          0.7305861172733857,
          -0.4800263921085124,
          1.1287409708304676,
          1.30568021174066,
          -1.7832973282932105,
          1.4006739734568499,
          0.030177984042408814,
          -0.09457126501513573,
          -1.0832227694856054,
          0.3986325459724869,
          0.814358203294684,
          1.9278877531894885,
          -2.366499084431596,
          2.0131011121261366,
          0.33026929373710634,
          -1.878306902438536,
          1.1394011610541825,
          -0.7767121555237044,
          -1.475081201873892,
          0.5139794212215749,
          -1.6886645191105654,
          0.22771144606103458,
          -2.5912663114580488,
          -0.36938193419555526,
          0.01230053696727581,
          -0.5733712810302543,
          -0.7206918246646702,
          1.233703731703346,
          1.5982780581698304,
          2.1450528839883103,
          1.9357432813557143,
          -3.074255234506096,
          1.516467243901897,
          1.2179472876069337,
          -1.3623976129558752,
          -0.4737027697128178,
          0.13536048129516934,
          1.5409536914838873,
          1.0102530835644612,
          0.31610021314799275,
          -1.2709928032358353,
          1.6105860228172777,
          -0.6605464296759026,
          1.7139412568453036,
          2.122156003431512,
          0.4062030053291341,
          -0.3635470471435434,
          -0.6813335771725828,
          -0.3710595427471748,
          -2.281205093420459,
          1.4194824293130472,
          2.622263021600051,
          -0.5897226699136108,
          2.2260299718736185,
          -1.871937574021518,
          1.2341860528423845,
          -2.200343089174743,
          0.03337033819107132,
          1.5255245084580922,
          -2.596714042549579,
          -1.3642011411336707,
          -1.0949513042426864,
          0.3238091205573278,
          1.2068811636015777
         ],
         "y": [
          0.13278231256220155,
          0.8172081066477639,
          0.6393601503556743,
          0.5960524459894577,
          -0.18510675804398008,
          0.7329887545656899,
          -0.36110166433310753,
          -0.3311884346550164,
          -0.8703850691928023,
          -0.2877971921698191,
          0.38839825588473853,
          -0.7194217507925563,
          0.43450150990821973,
          -0.18900607835829045,
          2.140060948919739,
          0.045874785089360624,
          -0.2503340219664337,
          -0.6534214408584712,
          0.7251995595809109,
          0.46914104202702145,
          -0.0844295449011052,
          -0.609525079163963,
          0.03277426059651953,
          -0.5651144048438952,
          0.5321290979552713,
          1.158970791545106,
          -0.8735071303326786,
          0.0003158211682557997,
          0.957843323159418,
          -1.090010644259483,
          -0.8397663991000243,
          -0.3506693024647198,
          -0.5116578084395071,
          -0.5305865890904609,
          0.09190517787354675,
          1.106130536075273,
          0.6517309876760331,
          1.7069858933060393,
          0.8078484891314548,
          0.5214736966706273,
          1.4809146735757897,
          -0.3067327314302161,
          1.4119063733950317,
          0.8563231113152844,
          1.428890789874199,
          -0.3444304946091031,
          3.03520973958433,
          -0.34184973296991694,
          -0.25682540800208037,
          -0.4754884872930144,
          -0.18408468861747507,
          0.8836672641584813,
          -0.02185726145207345,
          1.5186273004899546,
          -1.6980340191190377,
          1.7921596140082579,
          -1.2469343017583185,
          -1.1170114535928803,
          0.6460828351259413,
          -0.0460789209692993,
          -0.1719165991726064,
          -0.5937280294036036,
          1.2341407522886252,
          -0.246066917552288,
          -0.4756531674589088,
          -0.779234868638257,
          0.4271264919961309,
          -0.7053338704084668,
          -1.2815576839946672,
          0.19459994191213095,
          -0.4437457309225131,
          -0.5320191255034303,
          -0.030360711722586198,
          -0.7346521453932233,
          -0.7300168138623093,
          -0.5715083483608886,
          -0.40714305932653405,
          1.6477381184427886,
          0.7819594108451791,
          -1.215484831438653,
          1.0406715066163537,
          -1.0281003190726525,
          -0.09435571625659668,
          -0.3071751927354555,
          1.1125220336130028,
          0.34187247975452817,
          0.3622602148921117,
          -0.2573027635663717,
          -0.6242882121944464,
          -0.7295931935607733,
          -1.0541532593910348,
          -0.505940842317261,
          0.17473469429911667,
          -0.31694205923588187,
          0.0013407580246090865,
          -0.6131692362670684,
          0.17155108537720393,
          -0.7634942481748098,
          -0.108416894281296,
          -0.2744412937414808,
          -0.9102181283110288,
          -1.0665623663475816,
          -0.07719971637886908,
          -0.7364893557306648,
          -0.09888791556887505,
          1.1671037569422675,
          0.40496296494011624,
          0.21309183695213543,
          -0.45392439776791693,
          1.2598152560170939,
          0.2906778863434407,
          -1.3854426284823775,
          -0.8195886288541047,
          -0.42758447572565605,
          -0.9532447351416613,
          -0.020025540741440896,
          -0.5601892601893143,
          -0.3864064100239831,
          0.6678269392484252,
          2.2540907834169834,
          -0.7104180764891355,
          1.9078336507753835,
          -1.1495130793620858,
          -0.13967310202940833,
          -0.7798216513561625,
          -0.05059486386949949,
          3.141475821336017,
          -1.2508705775998257,
          -0.6727568093674926,
          0.5533794849501462,
          -1.2501023349937148,
          -0.3928050804614434,
          0.3793403611669204,
          -0.6030800137775568,
          1.543659241615579,
          -1.1984306887127723,
          1.0373206566428685,
          0.7545866964600543,
          0.1176005199133257,
          -0.07597992754969621,
          -0.3009596291963336,
          -0.26903063726428295,
          -0.33445174933052607,
          -0.7366422923073104,
          0.9873337446602822,
          -0.5127073696427016,
          -0.7790661649189994,
          0.23899385854455454,
          0.012251992621927912,
          -0.07160288575667678,
          -0.31489337533047745,
          -0.47617276038095496,
          0.2998369376906543,
          -0.8301828557558989,
          -0.533676980898647,
          -0.19780911416672262
         ]
        }
       ],
       "layout": {
        "template": {
         "data": {
          "bar": [
           {
            "error_x": {
             "color": "#2a3f5f"
            },
            "error_y": {
             "color": "#2a3f5f"
            },
            "marker": {
             "line": {
              "color": "#E5ECF6",
              "width": 0.5
             },
             "pattern": {
              "fillmode": "overlay",
              "size": 10,
              "solidity": 0.2
             }
            },
            "type": "bar"
           }
          ],
          "barpolar": [
           {
            "marker": {
             "line": {
              "color": "#E5ECF6",
              "width": 0.5
             },
             "pattern": {
              "fillmode": "overlay",
              "size": 10,
              "solidity": 0.2
             }
            },
            "type": "barpolar"
           }
          ],
          "carpet": [
           {
            "aaxis": {
             "endlinecolor": "#2a3f5f",
             "gridcolor": "white",
             "linecolor": "white",
             "minorgridcolor": "white",
             "startlinecolor": "#2a3f5f"
            },
            "baxis": {
             "endlinecolor": "#2a3f5f",
             "gridcolor": "white",
             "linecolor": "white",
             "minorgridcolor": "white",
             "startlinecolor": "#2a3f5f"
            },
            "type": "carpet"
           }
          ],
          "choropleth": [
           {
            "colorbar": {
             "outlinewidth": 0,
             "ticks": ""
            },
            "type": "choropleth"
           }
          ],
          "contour": [
           {
            "colorbar": {
             "outlinewidth": 0,
             "ticks": ""
            },
            "colorscale": [
             [
              0,
              "#0d0887"
             ],
             [
              0.1111111111111111,
              "#46039f"
             ],
             [
              0.2222222222222222,
              "#7201a8"
             ],
             [
              0.3333333333333333,
              "#9c179e"
             ],
             [
              0.4444444444444444,
              "#bd3786"
             ],
             [
              0.5555555555555556,
              "#d8576b"
             ],
             [
              0.6666666666666666,
              "#ed7953"
             ],
             [
              0.7777777777777778,
              "#fb9f3a"
             ],
             [
              0.8888888888888888,
              "#fdca26"
             ],
             [
              1,
              "#f0f921"
             ]
            ],
            "type": "contour"
           }
          ],
          "contourcarpet": [
           {
            "colorbar": {
             "outlinewidth": 0,
             "ticks": ""
            },
            "type": "contourcarpet"
           }
          ],
          "heatmap": [
           {
            "colorbar": {
             "outlinewidth": 0,
             "ticks": ""
            },
            "colorscale": [
             [
              0,
              "#0d0887"
             ],
             [
              0.1111111111111111,
              "#46039f"
             ],
             [
              0.2222222222222222,
              "#7201a8"
             ],
             [
              0.3333333333333333,
              "#9c179e"
             ],
             [
              0.4444444444444444,
              "#bd3786"
             ],
             [
              0.5555555555555556,
              "#d8576b"
             ],
             [
              0.6666666666666666,
              "#ed7953"
             ],
             [
              0.7777777777777778,
              "#fb9f3a"
             ],
             [
              0.8888888888888888,
              "#fdca26"
             ],
             [
              1,
              "#f0f921"
             ]
            ],
            "type": "heatmap"
           }
          ],
          "heatmapgl": [
           {
            "colorbar": {
             "outlinewidth": 0,
             "ticks": ""
            },
            "colorscale": [
             [
              0,
              "#0d0887"
             ],
             [
              0.1111111111111111,
              "#46039f"
             ],
             [
              0.2222222222222222,
              "#7201a8"
             ],
             [
              0.3333333333333333,
              "#9c179e"
             ],
             [
              0.4444444444444444,
              "#bd3786"
             ],
             [
              0.5555555555555556,
              "#d8576b"
             ],
             [
              0.6666666666666666,
              "#ed7953"
             ],
             [
              0.7777777777777778,
              "#fb9f3a"
             ],
             [
              0.8888888888888888,
              "#fdca26"
             ],
             [
              1,
              "#f0f921"
             ]
            ],
            "type": "heatmapgl"
           }
          ],
          "histogram": [
           {
            "marker": {
             "pattern": {
              "fillmode": "overlay",
              "size": 10,
              "solidity": 0.2
             }
            },
            "type": "histogram"
           }
          ],
          "histogram2d": [
           {
            "colorbar": {
             "outlinewidth": 0,
             "ticks": ""
            },
            "colorscale": [
             [
              0,
              "#0d0887"
             ],
             [
              0.1111111111111111,
              "#46039f"
             ],
             [
              0.2222222222222222,
              "#7201a8"
             ],
             [
              0.3333333333333333,
              "#9c179e"
             ],
             [
              0.4444444444444444,
              "#bd3786"
             ],
             [
              0.5555555555555556,
              "#d8576b"
             ],
             [
              0.6666666666666666,
              "#ed7953"
             ],
             [
              0.7777777777777778,
              "#fb9f3a"
             ],
             [
              0.8888888888888888,
              "#fdca26"
             ],
             [
              1,
              "#f0f921"
             ]
            ],
            "type": "histogram2d"
           }
          ],
          "histogram2dcontour": [
           {
            "colorbar": {
             "outlinewidth": 0,
             "ticks": ""
            },
            "colorscale": [
             [
              0,
              "#0d0887"
             ],
             [
              0.1111111111111111,
              "#46039f"
             ],
             [
              0.2222222222222222,
              "#7201a8"
             ],
             [
              0.3333333333333333,
              "#9c179e"
             ],
             [
              0.4444444444444444,
              "#bd3786"
             ],
             [
              0.5555555555555556,
              "#d8576b"
             ],
             [
              0.6666666666666666,
              "#ed7953"
             ],
             [
              0.7777777777777778,
              "#fb9f3a"
             ],
             [
              0.8888888888888888,
              "#fdca26"
             ],
             [
              1,
              "#f0f921"
             ]
            ],
            "type": "histogram2dcontour"
           }
          ],
          "mesh3d": [
           {
            "colorbar": {
             "outlinewidth": 0,
             "ticks": ""
            },
            "type": "mesh3d"
           }
          ],
          "parcoords": [
           {
            "line": {
             "colorbar": {
              "outlinewidth": 0,
              "ticks": ""
             }
            },
            "type": "parcoords"
           }
          ],
          "pie": [
           {
            "automargin": true,
            "type": "pie"
           }
          ],
          "scatter": [
           {
            "fillpattern": {
             "fillmode": "overlay",
             "size": 10,
             "solidity": 0.2
            },
            "type": "scatter"
           }
          ],
          "scatter3d": [
           {
            "line": {
             "colorbar": {
              "outlinewidth": 0,
              "ticks": ""
             }
            },
            "marker": {
             "colorbar": {
              "outlinewidth": 0,
              "ticks": ""
             }
            },
            "type": "scatter3d"
           }
          ],
          "scattercarpet": [
           {
            "marker": {
             "colorbar": {
              "outlinewidth": 0,
              "ticks": ""
             }
            },
            "type": "scattercarpet"
           }
          ],
          "scattergeo": [
           {
            "marker": {
             "colorbar": {
              "outlinewidth": 0,
              "ticks": ""
             }
            },
            "type": "scattergeo"
           }
          ],
          "scattergl": [
           {
            "marker": {
             "colorbar": {
              "outlinewidth": 0,
              "ticks": ""
             }
            },
            "type": "scattergl"
           }
          ],
          "scattermapbox": [
           {
            "marker": {
             "colorbar": {
              "outlinewidth": 0,
              "ticks": ""
             }
            },
            "type": "scattermapbox"
           }
          ],
          "scatterpolar": [
           {
            "marker": {
             "colorbar": {
              "outlinewidth": 0,
              "ticks": ""
             }
            },
            "type": "scatterpolar"
           }
          ],
          "scatterpolargl": [
           {
            "marker": {
             "colorbar": {
              "outlinewidth": 0,
              "ticks": ""
             }
            },
            "type": "scatterpolargl"
           }
          ],
          "scatterternary": [
           {
            "marker": {
             "colorbar": {
              "outlinewidth": 0,
              "ticks": ""
             }
            },
            "type": "scatterternary"
           }
          ],
          "surface": [
           {
            "colorbar": {
             "outlinewidth": 0,
             "ticks": ""
            },
            "colorscale": [
             [
              0,
              "#0d0887"
             ],
             [
              0.1111111111111111,
              "#46039f"
             ],
             [
              0.2222222222222222,
              "#7201a8"
             ],
             [
              0.3333333333333333,
              "#9c179e"
             ],
             [
              0.4444444444444444,
              "#bd3786"
             ],
             [
              0.5555555555555556,
              "#d8576b"
             ],
             [
              0.6666666666666666,
              "#ed7953"
             ],
             [
              0.7777777777777778,
              "#fb9f3a"
             ],
             [
              0.8888888888888888,
              "#fdca26"
             ],
             [
              1,
              "#f0f921"
             ]
            ],
            "type": "surface"
           }
          ],
          "table": [
           {
            "cells": {
             "fill": {
              "color": "#EBF0F8"
             },
             "line": {
              "color": "white"
             }
            },
            "header": {
             "fill": {
              "color": "#C8D4E3"
             },
             "line": {
              "color": "white"
             }
            },
            "type": "table"
           }
          ]
         },
         "layout": {
          "annotationdefaults": {
           "arrowcolor": "#2a3f5f",
           "arrowhead": 0,
           "arrowwidth": 1
          },
          "autotypenumbers": "strict",
          "coloraxis": {
           "colorbar": {
            "outlinewidth": 0,
            "ticks": ""
           }
          },
          "colorscale": {
           "diverging": [
            [
             0,
             "#8e0152"
            ],
            [
             0.1,
             "#c51b7d"
            ],
            [
             0.2,
             "#de77ae"
            ],
            [
             0.3,
             "#f1b6da"
            ],
            [
             0.4,
             "#fde0ef"
            ],
            [
             0.5,
             "#f7f7f7"
            ],
            [
             0.6,
             "#e6f5d0"
            ],
            [
             0.7,
             "#b8e186"
            ],
            [
             0.8,
             "#7fbc41"
            ],
            [
             0.9,
             "#4d9221"
            ],
            [
             1,
             "#276419"
            ]
           ],
           "sequential": [
            [
             0,
             "#0d0887"
            ],
            [
             0.1111111111111111,
             "#46039f"
            ],
            [
             0.2222222222222222,
             "#7201a8"
            ],
            [
             0.3333333333333333,
             "#9c179e"
            ],
            [
             0.4444444444444444,
             "#bd3786"
            ],
            [
             0.5555555555555556,
             "#d8576b"
            ],
            [
             0.6666666666666666,
             "#ed7953"
            ],
            [
             0.7777777777777778,
             "#fb9f3a"
            ],
            [
             0.8888888888888888,
             "#fdca26"
            ],
            [
             1,
             "#f0f921"
            ]
           ],
           "sequentialminus": [
            [
             0,
             "#0d0887"
            ],
            [
             0.1111111111111111,
             "#46039f"
            ],
            [
             0.2222222222222222,
             "#7201a8"
            ],
            [
             0.3333333333333333,
             "#9c179e"
            ],
            [
             0.4444444444444444,
             "#bd3786"
            ],
            [
             0.5555555555555556,
             "#d8576b"
            ],
            [
             0.6666666666666666,
             "#ed7953"
            ],
            [
             0.7777777777777778,
             "#fb9f3a"
            ],
            [
             0.8888888888888888,
             "#fdca26"
            ],
            [
             1,
             "#f0f921"
            ]
           ]
          },
          "colorway": [
           "#636efa",
           "#EF553B",
           "#00cc96",
           "#ab63fa",
           "#FFA15A",
           "#19d3f3",
           "#FF6692",
           "#B6E880",
           "#FF97FF",
           "#FECB52"
          ],
          "font": {
           "color": "#2a3f5f"
          },
          "geo": {
           "bgcolor": "white",
           "lakecolor": "white",
           "landcolor": "#E5ECF6",
           "showlakes": true,
           "showland": true,
           "subunitcolor": "white"
          },
          "hoverlabel": {
           "align": "left"
          },
          "hovermode": "closest",
          "mapbox": {
           "style": "light"
          },
          "paper_bgcolor": "white",
          "plot_bgcolor": "#E5ECF6",
          "polar": {
           "angularaxis": {
            "gridcolor": "white",
            "linecolor": "white",
            "ticks": ""
           },
           "bgcolor": "#E5ECF6",
           "radialaxis": {
            "gridcolor": "white",
            "linecolor": "white",
            "ticks": ""
           }
          },
          "scene": {
           "xaxis": {
            "backgroundcolor": "#E5ECF6",
            "gridcolor": "white",
            "gridwidth": 2,
            "linecolor": "white",
            "showbackground": true,
            "ticks": "",
            "zerolinecolor": "white"
           },
           "yaxis": {
            "backgroundcolor": "#E5ECF6",
            "gridcolor": "white",
            "gridwidth": 2,
            "linecolor": "white",
            "showbackground": true,
            "ticks": "",
            "zerolinecolor": "white"
           },
           "zaxis": {
            "backgroundcolor": "#E5ECF6",
            "gridcolor": "white",
            "gridwidth": 2,
            "linecolor": "white",
            "showbackground": true,
            "ticks": "",
            "zerolinecolor": "white"
           }
          },
          "shapedefaults": {
           "line": {
            "color": "#2a3f5f"
           }
          },
          "ternary": {
           "aaxis": {
            "gridcolor": "white",
            "linecolor": "white",
            "ticks": ""
           },
           "baxis": {
            "gridcolor": "white",
            "linecolor": "white",
            "ticks": ""
           },
           "bgcolor": "#E5ECF6",
           "caxis": {
            "gridcolor": "white",
            "linecolor": "white",
            "ticks": ""
           }
          },
          "title": {
           "x": 0.05
          },
          "xaxis": {
           "automargin": true,
           "gridcolor": "white",
           "linecolor": "white",
           "ticks": "",
           "title": {
            "standoff": 15
           },
           "zerolinecolor": "white",
           "zerolinewidth": 2
          },
          "yaxis": {
           "automargin": true,
           "gridcolor": "white",
           "linecolor": "white",
           "ticks": "",
           "title": {
            "standoff": 15
           },
           "zerolinecolor": "white",
           "zerolinewidth": 2
          }
         }
        }
       }
      }
     },
     "metadata": {},
     "output_type": "display_data"
    }
   ],
   "source": [
    "fig = go.Figure()\n",
    "fig.add_scatter(x = clust0_pc['Component 1'], y = clust0_pc['Component 2'], name = 'Cluster 0', mode = 'markers', marker = dict(color = 'black' ), hoverinfo = 'skip', customdata=player_0.PLAYER_NAME, hovertemplate = 'Player: %{customdata}<br><extra></extra>' )\n"
   ]
  },
  {
   "cell_type": "code",
   "execution_count": 88,
   "metadata": {},
   "outputs": [],
   "source": [
    "def sub_cluster(df, component, cutoff):\n",
    "    df['SubGroup'] = [0]*len(df)\n",
    "\n",
    "    df.loc[df[component]>cutoff, 'Subgroup'] = 0\n",
    "\n",
    "    df.loc[df[component]<cutoff, 'Subgroup'] = 1\n",
    "    \n",
    "\n",
    "\n",
    "\n",
    "\n",
    "\n",
    "    "
   ]
  },
  {
   "cell_type": "code",
   "execution_count": 89,
   "metadata": {},
   "outputs": [
    {
     "data": {
      "text/html": [
       "<div>\n",
       "<style scoped>\n",
       "    .dataframe tbody tr th:only-of-type {\n",
       "        vertical-align: middle;\n",
       "    }\n",
       "\n",
       "    .dataframe tbody tr th {\n",
       "        vertical-align: top;\n",
       "    }\n",
       "\n",
       "    .dataframe thead th {\n",
       "        text-align: right;\n",
       "    }\n",
       "</style>\n",
       "<table border=\"1\" class=\"dataframe\">\n",
       "  <thead>\n",
       "    <tr style=\"text-align: right;\">\n",
       "      <th></th>\n",
       "      <th>Component 1</th>\n",
       "      <th>Component 2</th>\n",
       "    </tr>\n",
       "  </thead>\n",
       "  <tbody>\n",
       "    <tr>\n",
       "      <th>4</th>\n",
       "      <td>1.215154</td>\n",
       "      <td>-0.185107</td>\n",
       "    </tr>\n",
       "    <tr>\n",
       "      <th>6</th>\n",
       "      <td>0.242600</td>\n",
       "      <td>-0.361102</td>\n",
       "    </tr>\n",
       "    <tr>\n",
       "      <th>7</th>\n",
       "      <td>0.109870</td>\n",
       "      <td>-0.331188</td>\n",
       "    </tr>\n",
       "    <tr>\n",
       "      <th>8</th>\n",
       "      <td>0.237903</td>\n",
       "      <td>-0.870385</td>\n",
       "    </tr>\n",
       "    <tr>\n",
       "      <th>9</th>\n",
       "      <td>-2.187623</td>\n",
       "      <td>-0.287797</td>\n",
       "    </tr>\n",
       "    <tr>\n",
       "      <th>...</th>\n",
       "      <td>...</td>\n",
       "      <td>...</td>\n",
       "    </tr>\n",
       "    <tr>\n",
       "      <th>150</th>\n",
       "      <td>1.525525</td>\n",
       "      <td>-0.314893</td>\n",
       "    </tr>\n",
       "    <tr>\n",
       "      <th>151</th>\n",
       "      <td>-2.596714</td>\n",
       "      <td>-0.476173</td>\n",
       "    </tr>\n",
       "    <tr>\n",
       "      <th>153</th>\n",
       "      <td>-1.094951</td>\n",
       "      <td>-0.830183</td>\n",
       "    </tr>\n",
       "    <tr>\n",
       "      <th>154</th>\n",
       "      <td>0.323809</td>\n",
       "      <td>-0.533677</td>\n",
       "    </tr>\n",
       "    <tr>\n",
       "      <th>155</th>\n",
       "      <td>1.206881</td>\n",
       "      <td>-0.197809</td>\n",
       "    </tr>\n",
       "  </tbody>\n",
       "</table>\n",
       "<p>94 rows × 2 columns</p>\n",
       "</div>"
      ],
      "text/plain": [
       "     Component 1  Component 2\n",
       "4       1.215154    -0.185107\n",
       "6       0.242600    -0.361102\n",
       "7       0.109870    -0.331188\n",
       "8       0.237903    -0.870385\n",
       "9      -2.187623    -0.287797\n",
       "..           ...          ...\n",
       "150     1.525525    -0.314893\n",
       "151    -2.596714    -0.476173\n",
       "153    -1.094951    -0.830183\n",
       "154     0.323809    -0.533677\n",
       "155     1.206881    -0.197809\n",
       "\n",
       "[94 rows x 2 columns]"
      ]
     },
     "execution_count": 89,
     "metadata": {},
     "output_type": "execute_result"
    }
   ],
   "source": [
    "clust0_pc[clust0_pc['Component 2']<0]"
   ]
  },
  {
   "cell_type": "code",
   "execution_count": 90,
   "metadata": {},
   "outputs": [],
   "source": [
    "sub_cluster(clust0_pc, 'Component 2', 0)"
   ]
  },
  {
   "cell_type": "code",
   "execution_count": 91,
   "metadata": {},
   "outputs": [],
   "source": [
    "sub_clust0 = clust0_pc.Subgroup.values"
   ]
  },
  {
   "cell_type": "code",
   "execution_count": 92,
   "metadata": {},
   "outputs": [
    {
     "data": {
      "text/plain": [
       "array([0., 0., 0., 0., 1., 0., 1., 1., 1., 1., 0., 1., 0., 1., 0., 0., 1.,\n",
       "       1., 0., 0., 1., 1., 0., 1., 0., 0., 1., 0., 0., 1., 1., 1., 1., 1.,\n",
       "       0., 0., 0., 0., 0., 0., 0., 1., 0., 0., 0., 1., 0., 1., 1., 1., 1.,\n",
       "       0., 1., 0., 1., 0., 1., 1., 0., 1., 1., 1., 0., 1., 1., 1., 0., 1.,\n",
       "       1., 0., 1., 1., 1., 1., 1., 1., 1., 0., 0., 1., 0., 1., 1., 1., 0.,\n",
       "       0., 0., 1., 1., 1., 1., 1., 0., 1., 0., 1., 0., 1., 1., 1., 1., 1.,\n",
       "       1., 1., 1., 0., 0., 0., 1., 0., 0., 1., 1., 1., 1., 1., 1., 1., 0.,\n",
       "       0., 1., 0., 1., 1., 1., 1., 0., 1., 1., 0., 1., 1., 0., 1., 0., 1.,\n",
       "       0., 0., 0., 1., 1., 1., 1., 1., 0., 1., 1., 0., 0., 1., 1., 1., 0.,\n",
       "       1., 1., 1.])"
      ]
     },
     "execution_count": 92,
     "metadata": {},
     "output_type": "execute_result"
    }
   ],
   "source": [
    "sub_clust0"
   ]
  },
  {
   "cell_type": "code",
   "execution_count": 93,
   "metadata": {},
   "outputs": [],
   "source": [
    "player_0['Subgroup'] = sub_clust0\n",
    "clust_0['Subgroup'] = sub_clust0"
   ]
  },
  {
   "cell_type": "code",
   "execution_count": 94,
   "metadata": {},
   "outputs": [
    {
     "data": {
      "text/html": [
       "<div>\n",
       "<style scoped>\n",
       "    .dataframe tbody tr th:only-of-type {\n",
       "        vertical-align: middle;\n",
       "    }\n",
       "\n",
       "    .dataframe tbody tr th {\n",
       "        vertical-align: top;\n",
       "    }\n",
       "\n",
       "    .dataframe thead th {\n",
       "        text-align: right;\n",
       "    }\n",
       "</style>\n",
       "<table border=\"1\" class=\"dataframe\">\n",
       "  <thead>\n",
       "    <tr style=\"text-align: right;\">\n",
       "      <th></th>\n",
       "      <th>PLAYER_NAME</th>\n",
       "      <th>Season</th>\n",
       "      <th>Cluster</th>\n",
       "      <th>Subgroup</th>\n",
       "    </tr>\n",
       "  </thead>\n",
       "  <tbody>\n",
       "    <tr>\n",
       "      <th>1340</th>\n",
       "      <td>Gary Trent Jr.</td>\n",
       "      <td>2021-22</td>\n",
       "      <td>0</td>\n",
       "      <td>0.0</td>\n",
       "    </tr>\n",
       "  </tbody>\n",
       "</table>\n",
       "</div>"
      ],
      "text/plain": [
       "         PLAYER_NAME   Season  Cluster  Subgroup\n",
       "1340  Gary Trent Jr.  2021-22        0       0.0"
      ]
     },
     "execution_count": 94,
     "metadata": {},
     "output_type": "execute_result"
    }
   ],
   "source": [
    "player_0[player_0['PLAYER_NAME']=='Gary Trent Jr.']"
   ]
  },
  {
   "cell_type": "code",
   "execution_count": 95,
   "metadata": {},
   "outputs": [
    {
     "data": {
      "text/plain": [
       "94"
      ]
     },
     "execution_count": 95,
     "metadata": {},
     "output_type": "execute_result"
    }
   ],
   "source": [
    "sum(player_0['Subgroup']==1)"
   ]
  },
  {
   "cell_type": "markdown",
   "metadata": {},
   "source": [
    "## Analyze Cluster 4"
   ]
  },
  {
   "cell_type": "code",
   "execution_count": 96,
   "metadata": {},
   "outputs": [],
   "source": [
    "def pca_clust(data, players):\n",
    "    pc2 = PCA(2)\n",
    "    cluster_pca = pd.DataFrame(pc2.fit_transform(data), columns = ['Component 1', 'Component 2'])\n",
    "    \n",
    "    print(f'Variance Explained by these two components is: {pc2.explained_variance_ratio_.sum()}')\n",
    "    comps = np.transpose(pd.DataFrame(pc2.components_, columns= data.columns, index = ['Component 1', 'Component 2']))\n",
    "    fig = go.Figure()\n",
    "    fig.add_scatter(x = cluster_pca['Component 1'], y = cluster_pca['Component 2'], name = 'Cluster 0', mode = 'markers', marker = dict(color = 'black' ), hoverinfo = 'skip', customdata=players.PLAYER_NAME, hovertemplate = 'Player: %{customdata}<br><extra></extra>' )\n",
    "    fig.show()\n",
    "    return(comps, cluster_pca)"
   ]
  },
  {
   "cell_type": "code",
   "execution_count": 97,
   "metadata": {},
   "outputs": [],
   "source": [
    "clust_4 =  cluster_results[cluster_results['Clusters']==4].copy().drop('Clusters', axis='columns')\n",
    "player_4 = player_groups[player_groups['Cluster']==4].copy()"
   ]
  },
  {
   "cell_type": "code",
   "execution_count": 98,
   "metadata": {},
   "outputs": [
    {
     "name": "stdout",
     "output_type": "stream",
     "text": [
      "Variance Explained by these two components is: 0.6876697074732836\n"
     ]
    },
    {
     "data": {
      "application/vnd.plotly.v1+json": {
       "config": {
        "plotlyServerURL": "https://plot.ly"
       },
       "data": [
        {
         "customdata": [
          "Robert Williams III",
          "Zeke Nnaji",
          "Nic Claxton",
          "Bam Adebayo",
          "Moritz Wagner",
          "Giannis Antetokounmpo",
          "Maxi Kleber",
          "Robert Covington",
          "Romeo Langford",
          "Anthony Davis",
          "Otto Porter Jr.",
          "JaMychal Green",
          "Marvin Bagley III",
          "P.J. Washington",
          "Obi Toppin",
          "Josh Giddey",
          "Alekesej Pokusevski",
          "Rudy Gobert",
          "Brandon Clarke",
          "Rui Hachimura",
          "Jalen Smith",
          "Mo Bamba",
          "John Collins",
          "Draymond Green",
          "Bobby Portis",
          "Carmelo Anthony",
          "Jaxson Hayes",
          "Chris Boucher",
          "Rudy Gay",
          "Keita Bates-Diop",
          "Dean Wade",
          "Danilo Gallinari",
          "Al Horford",
          "Evan Mobley",
          "Wendell Carter Jr.",
          "Jaden McDaniels",
          "Derrick Jones Jr.",
          "Kevin Love",
          "Jaren Jackson Jr.",
          "James Johnson",
          "Chimezie Metu",
          "Chuma Okeke",
          "Kyle Anderson",
          "Jonathan Kuminga",
          "Nassir Little",
          "Scottie Barnes",
          "Luke Kennard",
          "Kessler Edwards",
          "LeBron James",
          "Kenyon Martin Jr.",
          "Christian Wood",
          "Georges Niang",
          "Lamar Stevens",
          "Julius Randle",
          "Jeff Green",
          "Lauri Markkanen",
          "Luka Doncic",
          "Darius Bazley",
          "Pascal Siakam",
          "Tobias Harris",
          "Kyle Kuzma",
          "Grant Williams",
          "Cade Cunningham",
          "Deni Avdija",
          "Terry Taylor"
         ],
         "hoverinfo": "skip",
         "hovertemplate": "Player: %{customdata}<br><extra></extra>",
         "marker": {
          "color": "black"
         },
         "mode": "markers",
         "name": "Cluster 0",
         "type": "scatter",
         "x": [
          -0.2742088516713645,
          -0.6888096227626498,
          -1.1319301256595529,
          0.0907537037986403,
          0.0090091179391814,
          -0.7833456416336134,
          -0.08375719902035582,
          0.6409354511810027,
          1.4965365629344354,
          -0.6852771371900692,
          0.42719148987767724,
          -0.5217716178424271,
          -1.135613294763403,
          -0.19536523507373182,
          -0.21628758588305058,
          0.19186022191463845,
          -0.322875870124631,
          -1.8630188441592022,
          -0.6206029559463467,
          0.5907522843205444,
          -1.47818106519561,
          -1.5898546193593754,
          -1.4113471976632583,
          0.13913974469049573,
          -0.8423866147794453,
          0.39752276071153714,
          0.23274061611141195,
          -1.2203878095754848,
          -0.03821468319272192,
          0.32551071294579437,
          0.4756023405764034,
          0.6096161622493831,
          0.4253314070110451,
          -0.4980101417858231,
          -0.9766743744933807,
          1.5269603289170404,
          0.31013546645772744,
          -1.3319159530459947,
          0.7942936743736799,
          0.7002608851718479,
          -0.5850863672541573,
          1.4366425566307617,
          0.6498338412029984,
          0.23386862243760811,
          0.8592448730631692,
          0.6676132644981194,
          2.012417163402884,
          0.20899799022929702,
          0.2594230112679256,
          0.9819577845929222,
          -1.001594551773743,
          1.82155784803435,
          0.08180658943602478,
          -0.8705855929356684,
          1.0808238379317479,
          0.2366000107571821,
          -0.006635599179956471,
          -0.46176278588175185,
          0.2895773892461645,
          0.26037029337756334,
          -0.6876464957028596,
          0.4676290134852763,
          1.2265421151090246,
          -1.1161746902060241,
          0.4802633878701357
         ],
         "y": [
          0.011634602977146004,
          -0.07804882196295244,
          0.34324885120924664,
          0.8594357776983135,
          0.11907230792555304,
          0.21547930046480399,
          -0.7290261956351464,
          2.168892422832411,
          -0.6630820556644138,
          0.7817313272720365,
          0.6718138975134053,
          0.8415114917726502,
          -0.8197560478918872,
          1.0449446650564829,
          -0.24738087410959822,
          -0.3204211199427126,
          0.32945555796683806,
          -0.18618296812629717,
          0.4214201923179615,
          -0.48323421680075906,
          -1.133983539064118,
          -0.24398330213135389,
          -0.4405672800584714,
          1.1819351719183406,
          0.38550716751991937,
          -0.2974838066498787,
          0.15491656244863147,
          0.37216454059268494,
          0.45924761961331606,
          0.2194847440031687,
          0.28752876617458434,
          -0.6401015093971477,
          -0.7370196410857415,
          -0.11551249719911257,
          -0.410704988443332,
          0.23211313222430371,
          0.7753420454151352,
          -0.6896227503649746,
          0.35518793252186603,
          0.03372630651904863,
          1.1080965363279476,
          1.0404562718462522,
          1.508585098108338,
          -0.2889395554197956,
          -0.8485175980116507,
          0.44068611007347247,
          -1.0230149473104502,
          -0.24291429260246772,
          0.0631834390380579,
          -0.88140139176602,
          -0.2946096605235893,
          -1.004674844846452,
          -0.043392771696745526,
          -0.5521840963394488,
          -1.148161583787845,
          -0.09546147526258715,
          0.2599111487372685,
          -0.27751561359882304,
          -0.040036738662977314,
          -0.6029769379718554,
          -0.8522718470739468,
          -0.38266765210650694,
          0.5264796660154489,
          0.23389014434016195,
          -0.6322301769357436
         ]
        }
       ],
       "layout": {
        "template": {
         "data": {
          "bar": [
           {
            "error_x": {
             "color": "#2a3f5f"
            },
            "error_y": {
             "color": "#2a3f5f"
            },
            "marker": {
             "line": {
              "color": "#E5ECF6",
              "width": 0.5
             },
             "pattern": {
              "fillmode": "overlay",
              "size": 10,
              "solidity": 0.2
             }
            },
            "type": "bar"
           }
          ],
          "barpolar": [
           {
            "marker": {
             "line": {
              "color": "#E5ECF6",
              "width": 0.5
             },
             "pattern": {
              "fillmode": "overlay",
              "size": 10,
              "solidity": 0.2
             }
            },
            "type": "barpolar"
           }
          ],
          "carpet": [
           {
            "aaxis": {
             "endlinecolor": "#2a3f5f",
             "gridcolor": "white",
             "linecolor": "white",
             "minorgridcolor": "white",
             "startlinecolor": "#2a3f5f"
            },
            "baxis": {
             "endlinecolor": "#2a3f5f",
             "gridcolor": "white",
             "linecolor": "white",
             "minorgridcolor": "white",
             "startlinecolor": "#2a3f5f"
            },
            "type": "carpet"
           }
          ],
          "choropleth": [
           {
            "colorbar": {
             "outlinewidth": 0,
             "ticks": ""
            },
            "type": "choropleth"
           }
          ],
          "contour": [
           {
            "colorbar": {
             "outlinewidth": 0,
             "ticks": ""
            },
            "colorscale": [
             [
              0,
              "#0d0887"
             ],
             [
              0.1111111111111111,
              "#46039f"
             ],
             [
              0.2222222222222222,
              "#7201a8"
             ],
             [
              0.3333333333333333,
              "#9c179e"
             ],
             [
              0.4444444444444444,
              "#bd3786"
             ],
             [
              0.5555555555555556,
              "#d8576b"
             ],
             [
              0.6666666666666666,
              "#ed7953"
             ],
             [
              0.7777777777777778,
              "#fb9f3a"
             ],
             [
              0.8888888888888888,
              "#fdca26"
             ],
             [
              1,
              "#f0f921"
             ]
            ],
            "type": "contour"
           }
          ],
          "contourcarpet": [
           {
            "colorbar": {
             "outlinewidth": 0,
             "ticks": ""
            },
            "type": "contourcarpet"
           }
          ],
          "heatmap": [
           {
            "colorbar": {
             "outlinewidth": 0,
             "ticks": ""
            },
            "colorscale": [
             [
              0,
              "#0d0887"
             ],
             [
              0.1111111111111111,
              "#46039f"
             ],
             [
              0.2222222222222222,
              "#7201a8"
             ],
             [
              0.3333333333333333,
              "#9c179e"
             ],
             [
              0.4444444444444444,
              "#bd3786"
             ],
             [
              0.5555555555555556,
              "#d8576b"
             ],
             [
              0.6666666666666666,
              "#ed7953"
             ],
             [
              0.7777777777777778,
              "#fb9f3a"
             ],
             [
              0.8888888888888888,
              "#fdca26"
             ],
             [
              1,
              "#f0f921"
             ]
            ],
            "type": "heatmap"
           }
          ],
          "heatmapgl": [
           {
            "colorbar": {
             "outlinewidth": 0,
             "ticks": ""
            },
            "colorscale": [
             [
              0,
              "#0d0887"
             ],
             [
              0.1111111111111111,
              "#46039f"
             ],
             [
              0.2222222222222222,
              "#7201a8"
             ],
             [
              0.3333333333333333,
              "#9c179e"
             ],
             [
              0.4444444444444444,
              "#bd3786"
             ],
             [
              0.5555555555555556,
              "#d8576b"
             ],
             [
              0.6666666666666666,
              "#ed7953"
             ],
             [
              0.7777777777777778,
              "#fb9f3a"
             ],
             [
              0.8888888888888888,
              "#fdca26"
             ],
             [
              1,
              "#f0f921"
             ]
            ],
            "type": "heatmapgl"
           }
          ],
          "histogram": [
           {
            "marker": {
             "pattern": {
              "fillmode": "overlay",
              "size": 10,
              "solidity": 0.2
             }
            },
            "type": "histogram"
           }
          ],
          "histogram2d": [
           {
            "colorbar": {
             "outlinewidth": 0,
             "ticks": ""
            },
            "colorscale": [
             [
              0,
              "#0d0887"
             ],
             [
              0.1111111111111111,
              "#46039f"
             ],
             [
              0.2222222222222222,
              "#7201a8"
             ],
             [
              0.3333333333333333,
              "#9c179e"
             ],
             [
              0.4444444444444444,
              "#bd3786"
             ],
             [
              0.5555555555555556,
              "#d8576b"
             ],
             [
              0.6666666666666666,
              "#ed7953"
             ],
             [
              0.7777777777777778,
              "#fb9f3a"
             ],
             [
              0.8888888888888888,
              "#fdca26"
             ],
             [
              1,
              "#f0f921"
             ]
            ],
            "type": "histogram2d"
           }
          ],
          "histogram2dcontour": [
           {
            "colorbar": {
             "outlinewidth": 0,
             "ticks": ""
            },
            "colorscale": [
             [
              0,
              "#0d0887"
             ],
             [
              0.1111111111111111,
              "#46039f"
             ],
             [
              0.2222222222222222,
              "#7201a8"
             ],
             [
              0.3333333333333333,
              "#9c179e"
             ],
             [
              0.4444444444444444,
              "#bd3786"
             ],
             [
              0.5555555555555556,
              "#d8576b"
             ],
             [
              0.6666666666666666,
              "#ed7953"
             ],
             [
              0.7777777777777778,
              "#fb9f3a"
             ],
             [
              0.8888888888888888,
              "#fdca26"
             ],
             [
              1,
              "#f0f921"
             ]
            ],
            "type": "histogram2dcontour"
           }
          ],
          "mesh3d": [
           {
            "colorbar": {
             "outlinewidth": 0,
             "ticks": ""
            },
            "type": "mesh3d"
           }
          ],
          "parcoords": [
           {
            "line": {
             "colorbar": {
              "outlinewidth": 0,
              "ticks": ""
             }
            },
            "type": "parcoords"
           }
          ],
          "pie": [
           {
            "automargin": true,
            "type": "pie"
           }
          ],
          "scatter": [
           {
            "fillpattern": {
             "fillmode": "overlay",
             "size": 10,
             "solidity": 0.2
            },
            "type": "scatter"
           }
          ],
          "scatter3d": [
           {
            "line": {
             "colorbar": {
              "outlinewidth": 0,
              "ticks": ""
             }
            },
            "marker": {
             "colorbar": {
              "outlinewidth": 0,
              "ticks": ""
             }
            },
            "type": "scatter3d"
           }
          ],
          "scattercarpet": [
           {
            "marker": {
             "colorbar": {
              "outlinewidth": 0,
              "ticks": ""
             }
            },
            "type": "scattercarpet"
           }
          ],
          "scattergeo": [
           {
            "marker": {
             "colorbar": {
              "outlinewidth": 0,
              "ticks": ""
             }
            },
            "type": "scattergeo"
           }
          ],
          "scattergl": [
           {
            "marker": {
             "colorbar": {
              "outlinewidth": 0,
              "ticks": ""
             }
            },
            "type": "scattergl"
           }
          ],
          "scattermapbox": [
           {
            "marker": {
             "colorbar": {
              "outlinewidth": 0,
              "ticks": ""
             }
            },
            "type": "scattermapbox"
           }
          ],
          "scatterpolar": [
           {
            "marker": {
             "colorbar": {
              "outlinewidth": 0,
              "ticks": ""
             }
            },
            "type": "scatterpolar"
           }
          ],
          "scatterpolargl": [
           {
            "marker": {
             "colorbar": {
              "outlinewidth": 0,
              "ticks": ""
             }
            },
            "type": "scatterpolargl"
           }
          ],
          "scatterternary": [
           {
            "marker": {
             "colorbar": {
              "outlinewidth": 0,
              "ticks": ""
             }
            },
            "type": "scatterternary"
           }
          ],
          "surface": [
           {
            "colorbar": {
             "outlinewidth": 0,
             "ticks": ""
            },
            "colorscale": [
             [
              0,
              "#0d0887"
             ],
             [
              0.1111111111111111,
              "#46039f"
             ],
             [
              0.2222222222222222,
              "#7201a8"
             ],
             [
              0.3333333333333333,
              "#9c179e"
             ],
             [
              0.4444444444444444,
              "#bd3786"
             ],
             [
              0.5555555555555556,
              "#d8576b"
             ],
             [
              0.6666666666666666,
              "#ed7953"
             ],
             [
              0.7777777777777778,
              "#fb9f3a"
             ],
             [
              0.8888888888888888,
              "#fdca26"
             ],
             [
              1,
              "#f0f921"
             ]
            ],
            "type": "surface"
           }
          ],
          "table": [
           {
            "cells": {
             "fill": {
              "color": "#EBF0F8"
             },
             "line": {
              "color": "white"
             }
            },
            "header": {
             "fill": {
              "color": "#C8D4E3"
             },
             "line": {
              "color": "white"
             }
            },
            "type": "table"
           }
          ]
         },
         "layout": {
          "annotationdefaults": {
           "arrowcolor": "#2a3f5f",
           "arrowhead": 0,
           "arrowwidth": 1
          },
          "autotypenumbers": "strict",
          "coloraxis": {
           "colorbar": {
            "outlinewidth": 0,
            "ticks": ""
           }
          },
          "colorscale": {
           "diverging": [
            [
             0,
             "#8e0152"
            ],
            [
             0.1,
             "#c51b7d"
            ],
            [
             0.2,
             "#de77ae"
            ],
            [
             0.3,
             "#f1b6da"
            ],
            [
             0.4,
             "#fde0ef"
            ],
            [
             0.5,
             "#f7f7f7"
            ],
            [
             0.6,
             "#e6f5d0"
            ],
            [
             0.7,
             "#b8e186"
            ],
            [
             0.8,
             "#7fbc41"
            ],
            [
             0.9,
             "#4d9221"
            ],
            [
             1,
             "#276419"
            ]
           ],
           "sequential": [
            [
             0,
             "#0d0887"
            ],
            [
             0.1111111111111111,
             "#46039f"
            ],
            [
             0.2222222222222222,
             "#7201a8"
            ],
            [
             0.3333333333333333,
             "#9c179e"
            ],
            [
             0.4444444444444444,
             "#bd3786"
            ],
            [
             0.5555555555555556,
             "#d8576b"
            ],
            [
             0.6666666666666666,
             "#ed7953"
            ],
            [
             0.7777777777777778,
             "#fb9f3a"
            ],
            [
             0.8888888888888888,
             "#fdca26"
            ],
            [
             1,
             "#f0f921"
            ]
           ],
           "sequentialminus": [
            [
             0,
             "#0d0887"
            ],
            [
             0.1111111111111111,
             "#46039f"
            ],
            [
             0.2222222222222222,
             "#7201a8"
            ],
            [
             0.3333333333333333,
             "#9c179e"
            ],
            [
             0.4444444444444444,
             "#bd3786"
            ],
            [
             0.5555555555555556,
             "#d8576b"
            ],
            [
             0.6666666666666666,
             "#ed7953"
            ],
            [
             0.7777777777777778,
             "#fb9f3a"
            ],
            [
             0.8888888888888888,
             "#fdca26"
            ],
            [
             1,
             "#f0f921"
            ]
           ]
          },
          "colorway": [
           "#636efa",
           "#EF553B",
           "#00cc96",
           "#ab63fa",
           "#FFA15A",
           "#19d3f3",
           "#FF6692",
           "#B6E880",
           "#FF97FF",
           "#FECB52"
          ],
          "font": {
           "color": "#2a3f5f"
          },
          "geo": {
           "bgcolor": "white",
           "lakecolor": "white",
           "landcolor": "#E5ECF6",
           "showlakes": true,
           "showland": true,
           "subunitcolor": "white"
          },
          "hoverlabel": {
           "align": "left"
          },
          "hovermode": "closest",
          "mapbox": {
           "style": "light"
          },
          "paper_bgcolor": "white",
          "plot_bgcolor": "#E5ECF6",
          "polar": {
           "angularaxis": {
            "gridcolor": "white",
            "linecolor": "white",
            "ticks": ""
           },
           "bgcolor": "#E5ECF6",
           "radialaxis": {
            "gridcolor": "white",
            "linecolor": "white",
            "ticks": ""
           }
          },
          "scene": {
           "xaxis": {
            "backgroundcolor": "#E5ECF6",
            "gridcolor": "white",
            "gridwidth": 2,
            "linecolor": "white",
            "showbackground": true,
            "ticks": "",
            "zerolinecolor": "white"
           },
           "yaxis": {
            "backgroundcolor": "#E5ECF6",
            "gridcolor": "white",
            "gridwidth": 2,
            "linecolor": "white",
            "showbackground": true,
            "ticks": "",
            "zerolinecolor": "white"
           },
           "zaxis": {
            "backgroundcolor": "#E5ECF6",
            "gridcolor": "white",
            "gridwidth": 2,
            "linecolor": "white",
            "showbackground": true,
            "ticks": "",
            "zerolinecolor": "white"
           }
          },
          "shapedefaults": {
           "line": {
            "color": "#2a3f5f"
           }
          },
          "ternary": {
           "aaxis": {
            "gridcolor": "white",
            "linecolor": "white",
            "ticks": ""
           },
           "baxis": {
            "gridcolor": "white",
            "linecolor": "white",
            "ticks": ""
           },
           "bgcolor": "#E5ECF6",
           "caxis": {
            "gridcolor": "white",
            "linecolor": "white",
            "ticks": ""
           }
          },
          "title": {
           "x": 0.05
          },
          "xaxis": {
           "automargin": true,
           "gridcolor": "white",
           "linecolor": "white",
           "ticks": "",
           "title": {
            "standoff": 15
           },
           "zerolinecolor": "white",
           "zerolinewidth": 2
          },
          "yaxis": {
           "automargin": true,
           "gridcolor": "white",
           "linecolor": "white",
           "ticks": "",
           "title": {
            "standoff": 15
           },
           "zerolinecolor": "white",
           "zerolinewidth": 2
          }
         }
        }
       }
      }
     },
     "metadata": {},
     "output_type": "display_data"
    },
    {
     "data": {
      "text/html": [
       "<div>\n",
       "<style scoped>\n",
       "    .dataframe tbody tr th:only-of-type {\n",
       "        vertical-align: middle;\n",
       "    }\n",
       "\n",
       "    .dataframe tbody tr th {\n",
       "        vertical-align: top;\n",
       "    }\n",
       "\n",
       "    .dataframe thead th {\n",
       "        text-align: right;\n",
       "    }\n",
       "</style>\n",
       "<table border=\"1\" class=\"dataframe\">\n",
       "  <thead>\n",
       "    <tr style=\"text-align: right;\">\n",
       "      <th></th>\n",
       "      <th>Component 1</th>\n",
       "      <th>Component 2</th>\n",
       "    </tr>\n",
       "  </thead>\n",
       "  <tbody>\n",
       "    <tr>\n",
       "      <th>AVG_REB_DIST</th>\n",
       "      <td>0.980411</td>\n",
       "      <td>-0.121028</td>\n",
       "    </tr>\n",
       "    <tr>\n",
       "      <th>DEF OffScreen PPP</th>\n",
       "      <td>0.096085</td>\n",
       "      <td>-0.060506</td>\n",
       "    </tr>\n",
       "    <tr>\n",
       "      <th>DEF Handoff PPP</th>\n",
       "      <td>-0.032713</td>\n",
       "      <td>-0.055563</td>\n",
       "    </tr>\n",
       "    <tr>\n",
       "      <th>AVG_SPEED_DEF</th>\n",
       "      <td>0.011503</td>\n",
       "      <td>-0.019693</td>\n",
       "    </tr>\n",
       "    <tr>\n",
       "      <th>DEF Isolation FREQ</th>\n",
       "      <td>0.003006</td>\n",
       "      <td>-0.010233</td>\n",
       "    </tr>\n",
       "    <tr>\n",
       "      <th>PLUSMINUS Less Than 6Ft</th>\n",
       "      <td>0.007732</td>\n",
       "      <td>-0.004811</td>\n",
       "    </tr>\n",
       "    <tr>\n",
       "      <th>PLUSMINUS Less Than 10Ft</th>\n",
       "      <td>0.006617</td>\n",
       "      <td>-0.002486</td>\n",
       "    </tr>\n",
       "    <tr>\n",
       "      <th>DEF Handoff FREQ</th>\n",
       "      <td>0.009758</td>\n",
       "      <td>-0.002395</td>\n",
       "    </tr>\n",
       "    <tr>\n",
       "      <th>DEF OffScreen FREQ</th>\n",
       "      <td>0.012666</td>\n",
       "      <td>-0.001444</td>\n",
       "    </tr>\n",
       "    <tr>\n",
       "      <th>DEF Postup FREQ</th>\n",
       "      <td>0.001546</td>\n",
       "      <td>-0.000542</td>\n",
       "    </tr>\n",
       "    <tr>\n",
       "      <th>DEF PRRollman FREQ</th>\n",
       "      <td>-0.005031</td>\n",
       "      <td>-0.000098</td>\n",
       "    </tr>\n",
       "    <tr>\n",
       "      <th>FREQ 3 Pointers</th>\n",
       "      <td>0.008561</td>\n",
       "      <td>0.000341</td>\n",
       "    </tr>\n",
       "    <tr>\n",
       "      <th>DIST_MILES_DEF</th>\n",
       "      <td>-0.018360</td>\n",
       "      <td>0.002716</td>\n",
       "    </tr>\n",
       "    <tr>\n",
       "      <th>PLUSMINUS 3 Pointers</th>\n",
       "      <td>0.003343</td>\n",
       "      <td>0.005515</td>\n",
       "    </tr>\n",
       "    <tr>\n",
       "      <th>FREQ Less Than 10Ft</th>\n",
       "      <td>0.004445</td>\n",
       "      <td>0.006559</td>\n",
       "    </tr>\n",
       "    <tr>\n",
       "      <th>DEF PRBallHandler FREQ</th>\n",
       "      <td>0.047525</td>\n",
       "      <td>0.007181</td>\n",
       "    </tr>\n",
       "    <tr>\n",
       "      <th>FREQ Less Than 6Ft</th>\n",
       "      <td>0.001402</td>\n",
       "      <td>0.010120</td>\n",
       "    </tr>\n",
       "    <tr>\n",
       "      <th>REB_CONTEST_PCT</th>\n",
       "      <td>-0.036363</td>\n",
       "      <td>0.010155</td>\n",
       "    </tr>\n",
       "    <tr>\n",
       "      <th>DEF Spotup FREQ</th>\n",
       "      <td>0.031408</td>\n",
       "      <td>0.011552</td>\n",
       "    </tr>\n",
       "    <tr>\n",
       "      <th>DEF Spotup PPP</th>\n",
       "      <td>0.004329</td>\n",
       "      <td>0.013307</td>\n",
       "    </tr>\n",
       "    <tr>\n",
       "      <th>DEF Postup PPP</th>\n",
       "      <td>0.045092</td>\n",
       "      <td>0.022382</td>\n",
       "    </tr>\n",
       "    <tr>\n",
       "      <th>PCT_LOOSE_BALLS_RECOVERED_DEF</th>\n",
       "      <td>0.029916</td>\n",
       "      <td>0.023356</td>\n",
       "    </tr>\n",
       "    <tr>\n",
       "      <th>DEF Isolation PPP</th>\n",
       "      <td>-0.040607</td>\n",
       "      <td>0.053679</td>\n",
       "    </tr>\n",
       "    <tr>\n",
       "      <th>DEF PRRollman PPP</th>\n",
       "      <td>-0.042458</td>\n",
       "      <td>0.071938</td>\n",
       "    </tr>\n",
       "    <tr>\n",
       "      <th>DEF PRBallHandler PPP</th>\n",
       "      <td>-0.001207</td>\n",
       "      <td>0.076467</td>\n",
       "    </tr>\n",
       "    <tr>\n",
       "      <th>DEFLECTIONS Per36</th>\n",
       "      <td>0.128655</td>\n",
       "      <td>0.981058</td>\n",
       "    </tr>\n",
       "  </tbody>\n",
       "</table>\n",
       "</div>"
      ],
      "text/plain": [
       "                               Component 1  Component 2\n",
       "AVG_REB_DIST                      0.980411    -0.121028\n",
       "DEF OffScreen PPP                 0.096085    -0.060506\n",
       "DEF Handoff PPP                  -0.032713    -0.055563\n",
       "AVG_SPEED_DEF                     0.011503    -0.019693\n",
       "DEF Isolation FREQ                0.003006    -0.010233\n",
       "PLUSMINUS Less Than 6Ft           0.007732    -0.004811\n",
       "PLUSMINUS Less Than 10Ft          0.006617    -0.002486\n",
       "DEF Handoff FREQ                  0.009758    -0.002395\n",
       "DEF OffScreen FREQ                0.012666    -0.001444\n",
       "DEF Postup FREQ                   0.001546    -0.000542\n",
       "DEF PRRollman FREQ               -0.005031    -0.000098\n",
       "FREQ 3 Pointers                   0.008561     0.000341\n",
       "DIST_MILES_DEF                   -0.018360     0.002716\n",
       "PLUSMINUS 3 Pointers              0.003343     0.005515\n",
       "FREQ Less Than 10Ft               0.004445     0.006559\n",
       "DEF PRBallHandler FREQ            0.047525     0.007181\n",
       "FREQ Less Than 6Ft                0.001402     0.010120\n",
       "REB_CONTEST_PCT                  -0.036363     0.010155\n",
       "DEF Spotup FREQ                   0.031408     0.011552\n",
       "DEF Spotup PPP                    0.004329     0.013307\n",
       "DEF Postup PPP                    0.045092     0.022382\n",
       "PCT_LOOSE_BALLS_RECOVERED_DEF     0.029916     0.023356\n",
       "DEF Isolation PPP                -0.040607     0.053679\n",
       "DEF PRRollman PPP                -0.042458     0.071938\n",
       "DEF PRBallHandler PPP            -0.001207     0.076467\n",
       "DEFLECTIONS Per36                 0.128655     0.981058"
      ]
     },
     "execution_count": 98,
     "metadata": {},
     "output_type": "execute_result"
    }
   ],
   "source": [
    "comps, cluster_4_pca = pca_clust(clust_4, player_4)\n",
    "comps.sort_values('Component 2')"
   ]
  },
  {
   "cell_type": "code",
   "execution_count": 99,
   "metadata": {},
   "outputs": [],
   "source": [
    "sub_cluster(cluster_4_pca, 'Component 1', -0.15)"
   ]
  },
  {
   "cell_type": "code",
   "execution_count": 100,
   "metadata": {},
   "outputs": [],
   "source": [
    "sub_clust4 = cluster_4_pca.Subgroup.values\n",
    "player_4['Subgroup'] = sub_clust4\n",
    "clust_4['Subgroup'] = sub_clust4"
   ]
  },
  {
   "cell_type": "code",
   "execution_count": 101,
   "metadata": {},
   "outputs": [
    {
     "data": {
      "text/plain": [
       "1021     True\n",
       "1024    False\n",
       "1027    False\n",
       "1028    False\n",
       "1029    False\n",
       "        ...  \n",
       "1777    False\n",
       "1778    False\n",
       "1779    False\n",
       "1793    False\n",
       "1794    False\n",
       "Name: PLAYER_NAME, Length: 359, dtype: bool"
      ]
     },
     "execution_count": 101,
     "metadata": {},
     "output_type": "execute_result"
    }
   ],
   "source": [
    "all_defence_clust.PLAYER_NAME.isin(player_4.PLAYER_NAME)"
   ]
  },
  {
   "cell_type": "markdown",
   "metadata": {},
   "source": [
    "### Reassign cluster values"
   ]
  },
  {
   "cell_type": "code",
   "execution_count": 102,
   "metadata": {},
   "outputs": [],
   "source": [
    "def new_clust(df, player_data, new_cluster, sub_cluster=0):\n",
    "    \n",
    "    player_list = player_data[player_data['Subgroup']== sub_cluster]['PLAYER_NAME'].values\n",
    "\n",
    "    df.loc[df.PLAYER_NAME.isin(player_list), 'Cluster'] = new_cluster\n",
    "    \n",
    "    df_new = df.copy()\n",
    "    return df\n",
    "    "
   ]
  },
  {
   "cell_type": "code",
   "execution_count": 103,
   "metadata": {},
   "outputs": [],
   "source": [
    "all_defence_clust = new_clust(all_defence_clust, player_0, 5)"
   ]
  },
  {
   "cell_type": "code",
   "execution_count": 104,
   "metadata": {},
   "outputs": [],
   "source": [
    "all_defence_clust = new_clust(all_defence_clust, player_4, 6)"
   ]
  },
  {
   "cell_type": "code",
   "execution_count": 105,
   "metadata": {},
   "outputs": [
    {
     "data": {
      "text/plain": [
       "0    94\n",
       "2    72\n",
       "5    65\n",
       "1    62\n",
       "6    40\n",
       "4    26\n",
       "Name: Cluster, dtype: int64"
      ]
     },
     "execution_count": 105,
     "metadata": {},
     "output_type": "execute_result"
    }
   ],
   "source": [
    "all_defence_clust['Cluster'] = all_defence_clust['Cluster'].replace(3,1)\n",
    "all_defence_clust.Cluster.value_counts()"
   ]
  },
  {
   "cell_type": "code",
   "execution_count": 106,
   "metadata": {},
   "outputs": [
    {
     "data": {
      "text/html": [
       "<div>\n",
       "<style scoped>\n",
       "    .dataframe tbody tr th:only-of-type {\n",
       "        vertical-align: middle;\n",
       "    }\n",
       "\n",
       "    .dataframe tbody tr th {\n",
       "        vertical-align: top;\n",
       "    }\n",
       "\n",
       "    .dataframe thead th {\n",
       "        text-align: right;\n",
       "    }\n",
       "</style>\n",
       "<table border=\"1\" class=\"dataframe\">\n",
       "  <thead>\n",
       "    <tr style=\"text-align: right;\">\n",
       "      <th></th>\n",
       "      <th>PLAYER_NAME</th>\n",
       "      <th>Season</th>\n",
       "      <th>DEF Handoff PPP</th>\n",
       "      <th>DEF Handoff FREQ</th>\n",
       "      <th>GP</th>\n",
       "      <th>DEF Isolation PPP</th>\n",
       "      <th>DEF Isolation FREQ</th>\n",
       "      <th>DEF OffScreen PPP</th>\n",
       "      <th>DEF OffScreen FREQ</th>\n",
       "      <th>DEF Postup PPP</th>\n",
       "      <th>...</th>\n",
       "      <th>PLUSMINUS Less Than 10Ft</th>\n",
       "      <th>MIN</th>\n",
       "      <th>DEFLECTIONS</th>\n",
       "      <th>PCT_LOOSE_BALLS_RECOVERED_DEF</th>\n",
       "      <th>REB_CONTEST_PCT</th>\n",
       "      <th>AVG_REB_DIST</th>\n",
       "      <th>DIST_MILES_DEF</th>\n",
       "      <th>AVG_SPEED_DEF</th>\n",
       "      <th>DEFLECTIONS Per36</th>\n",
       "      <th>Cluster</th>\n",
       "    </tr>\n",
       "  </thead>\n",
       "  <tbody>\n",
       "    <tr>\n",
       "      <th>1738</th>\n",
       "      <td>Andre Drummond</td>\n",
       "      <td>2021-22</td>\n",
       "      <td>0.0</td>\n",
       "      <td>0.0</td>\n",
       "      <td>49</td>\n",
       "      <td>1.038</td>\n",
       "      <td>0.052</td>\n",
       "      <td>0.0</td>\n",
       "      <td>0.0</td>\n",
       "      <td>1.25</td>\n",
       "      <td>...</td>\n",
       "      <td>-0.022</td>\n",
       "      <td>19.7</td>\n",
       "      <td>2.14</td>\n",
       "      <td>0.375</td>\n",
       "      <td>0.501</td>\n",
       "      <td>3.9</td>\n",
       "      <td>0.65</td>\n",
       "      <td>3.84</td>\n",
       "      <td>3.91066</td>\n",
       "      <td>1</td>\n",
       "    </tr>\n",
       "    <tr>\n",
       "      <th>1739</th>\n",
       "      <td>Andre Drummond</td>\n",
       "      <td>2021-22</td>\n",
       "      <td>0.0</td>\n",
       "      <td>0.0</td>\n",
       "      <td>24</td>\n",
       "      <td>1.250</td>\n",
       "      <td>0.114</td>\n",
       "      <td>0.0</td>\n",
       "      <td>0.0</td>\n",
       "      <td>1.00</td>\n",
       "      <td>...</td>\n",
       "      <td>-0.022</td>\n",
       "      <td>19.7</td>\n",
       "      <td>2.14</td>\n",
       "      <td>0.375</td>\n",
       "      <td>0.501</td>\n",
       "      <td>3.9</td>\n",
       "      <td>0.65</td>\n",
       "      <td>3.84</td>\n",
       "      <td>3.91066</td>\n",
       "      <td>1</td>\n",
       "    </tr>\n",
       "  </tbody>\n",
       "</table>\n",
       "<p>2 rows × 32 columns</p>\n",
       "</div>"
      ],
      "text/plain": [
       "         PLAYER_NAME   Season  DEF Handoff PPP  DEF Handoff FREQ  GP  \\\n",
       "1738  Andre Drummond  2021-22              0.0               0.0  49   \n",
       "1739  Andre Drummond  2021-22              0.0               0.0  24   \n",
       "\n",
       "      DEF Isolation PPP  DEF Isolation FREQ  DEF OffScreen PPP  \\\n",
       "1738              1.038               0.052                0.0   \n",
       "1739              1.250               0.114                0.0   \n",
       "\n",
       "      DEF OffScreen FREQ  DEF Postup PPP  ...  PLUSMINUS Less Than 10Ft   MIN  \\\n",
       "1738                 0.0            1.25  ...                    -0.022  19.7   \n",
       "1739                 0.0            1.00  ...                    -0.022  19.7   \n",
       "\n",
       "      DEFLECTIONS  PCT_LOOSE_BALLS_RECOVERED_DEF  REB_CONTEST_PCT  \\\n",
       "1738         2.14                          0.375            0.501   \n",
       "1739         2.14                          0.375            0.501   \n",
       "\n",
       "      AVG_REB_DIST  DIST_MILES_DEF  AVG_SPEED_DEF  DEFLECTIONS Per36  Cluster  \n",
       "1738           3.9            0.65           3.84            3.91066        1  \n",
       "1739           3.9            0.65           3.84            3.91066        1  \n",
       "\n",
       "[2 rows x 32 columns]"
      ]
     },
     "execution_count": 106,
     "metadata": {},
     "output_type": "execute_result"
    }
   ],
   "source": [
    "all_defence_clust[all_defence_clust['PLAYER_NAME']=='Andre Drummond']"
   ]
  },
  {
   "cell_type": "markdown",
   "metadata": {},
   "source": [
    "## Export Data"
   ]
  },
  {
   "cell_type": "code",
   "execution_count": 108,
   "metadata": {},
   "outputs": [],
   "source": [
    "defence_cluster = all_defence_clust.drop(['PLAYER_NAME', 'Season', 'MIN', 'GP', 'DEFLECTIONS'], axis='columns')\n",
    "defence_cluster_groups = defence_cluster.groupby('Cluster').mean()\n",
    "defence_cluster_groups['Cluster'] = (0,1,2,4,5,6)\n",
    "defence_cluster_groups.to_csv('Defence Cluster Data.csv', index = False)"
   ]
  },
  {
   "cell_type": "code",
   "execution_count": 109,
   "metadata": {},
   "outputs": [
    {
     "data": {
      "text/html": [
       "<div>\n",
       "<style scoped>\n",
       "    .dataframe tbody tr th:only-of-type {\n",
       "        vertical-align: middle;\n",
       "    }\n",
       "\n",
       "    .dataframe tbody tr th {\n",
       "        vertical-align: top;\n",
       "    }\n",
       "\n",
       "    .dataframe thead th {\n",
       "        text-align: right;\n",
       "    }\n",
       "</style>\n",
       "<table border=\"1\" class=\"dataframe\">\n",
       "  <thead>\n",
       "    <tr style=\"text-align: right;\">\n",
       "      <th></th>\n",
       "      <th>DEF Handoff PPP</th>\n",
       "      <th>DEF Handoff FREQ</th>\n",
       "      <th>DEF Isolation PPP</th>\n",
       "      <th>DEF Isolation FREQ</th>\n",
       "      <th>DEF OffScreen PPP</th>\n",
       "      <th>DEF OffScreen FREQ</th>\n",
       "      <th>DEF Postup PPP</th>\n",
       "      <th>DEF Postup FREQ</th>\n",
       "      <th>DEF PRBallHandler PPP</th>\n",
       "      <th>DEF PRBallHandler FREQ</th>\n",
       "      <th>...</th>\n",
       "      <th>PLUSMINUS Less Than 6Ft</th>\n",
       "      <th>FREQ Less Than 10Ft</th>\n",
       "      <th>PLUSMINUS Less Than 10Ft</th>\n",
       "      <th>PCT_LOOSE_BALLS_RECOVERED_DEF</th>\n",
       "      <th>REB_CONTEST_PCT</th>\n",
       "      <th>AVG_REB_DIST</th>\n",
       "      <th>DIST_MILES_DEF</th>\n",
       "      <th>AVG_SPEED_DEF</th>\n",
       "      <th>DEFLECTIONS Per36</th>\n",
       "      <th>Cluster</th>\n",
       "    </tr>\n",
       "    <tr>\n",
       "      <th>Cluster</th>\n",
       "      <th></th>\n",
       "      <th></th>\n",
       "      <th></th>\n",
       "      <th></th>\n",
       "      <th></th>\n",
       "      <th></th>\n",
       "      <th></th>\n",
       "      <th></th>\n",
       "      <th></th>\n",
       "      <th></th>\n",
       "      <th></th>\n",
       "      <th></th>\n",
       "      <th></th>\n",
       "      <th></th>\n",
       "      <th></th>\n",
       "      <th></th>\n",
       "      <th></th>\n",
       "      <th></th>\n",
       "      <th></th>\n",
       "      <th></th>\n",
       "      <th></th>\n",
       "    </tr>\n",
       "  </thead>\n",
       "  <tbody>\n",
       "    <tr>\n",
       "      <th>0</th>\n",
       "      <td>0.925000</td>\n",
       "      <td>0.087223</td>\n",
       "      <td>0.903862</td>\n",
       "      <td>0.076394</td>\n",
       "      <td>0.959787</td>\n",
       "      <td>0.065936</td>\n",
       "      <td>0.924149</td>\n",
       "      <td>0.048734</td>\n",
       "      <td>0.875138</td>\n",
       "      <td>0.292043</td>\n",
       "      <td>...</td>\n",
       "      <td>0.002830</td>\n",
       "      <td>0.442574</td>\n",
       "      <td>0.004266</td>\n",
       "      <td>0.510489</td>\n",
       "      <td>0.221787</td>\n",
       "      <td>8.309574</td>\n",
       "      <td>0.978511</td>\n",
       "      <td>3.830638</td>\n",
       "      <td>1.651185</td>\n",
       "      <td>0</td>\n",
       "    </tr>\n",
       "    <tr>\n",
       "      <th>1</th>\n",
       "      <td>0.149226</td>\n",
       "      <td>0.003274</td>\n",
       "      <td>0.953839</td>\n",
       "      <td>0.091435</td>\n",
       "      <td>0.281323</td>\n",
       "      <td>0.004581</td>\n",
       "      <td>0.925532</td>\n",
       "      <td>0.060419</td>\n",
       "      <td>0.325097</td>\n",
       "      <td>0.010694</td>\n",
       "      <td>...</td>\n",
       "      <td>-0.043952</td>\n",
       "      <td>0.502581</td>\n",
       "      <td>-0.034339</td>\n",
       "      <td>0.400339</td>\n",
       "      <td>0.452661</td>\n",
       "      <td>4.901613</td>\n",
       "      <td>0.739032</td>\n",
       "      <td>3.829516</td>\n",
       "      <td>1.905483</td>\n",
       "      <td>1</td>\n",
       "    </tr>\n",
       "    <tr>\n",
       "      <th>2</th>\n",
       "      <td>0.827514</td>\n",
       "      <td>0.078542</td>\n",
       "      <td>0.832347</td>\n",
       "      <td>0.068333</td>\n",
       "      <td>0.752583</td>\n",
       "      <td>0.056306</td>\n",
       "      <td>0.701083</td>\n",
       "      <td>0.043000</td>\n",
       "      <td>0.897889</td>\n",
       "      <td>0.297639</td>\n",
       "      <td>...</td>\n",
       "      <td>0.009833</td>\n",
       "      <td>0.459694</td>\n",
       "      <td>0.012097</td>\n",
       "      <td>0.523639</td>\n",
       "      <td>0.235931</td>\n",
       "      <td>8.397222</td>\n",
       "      <td>0.768194</td>\n",
       "      <td>3.874722</td>\n",
       "      <td>2.274556</td>\n",
       "      <td>2</td>\n",
       "    </tr>\n",
       "    <tr>\n",
       "      <th>4</th>\n",
       "      <td>0.943654</td>\n",
       "      <td>0.037731</td>\n",
       "      <td>0.923962</td>\n",
       "      <td>0.111731</td>\n",
       "      <td>0.729846</td>\n",
       "      <td>0.027923</td>\n",
       "      <td>0.917846</td>\n",
       "      <td>0.057692</td>\n",
       "      <td>0.875231</td>\n",
       "      <td>0.078577</td>\n",
       "      <td>...</td>\n",
       "      <td>-0.053423</td>\n",
       "      <td>0.467885</td>\n",
       "      <td>-0.043769</td>\n",
       "      <td>0.475923</td>\n",
       "      <td>0.383038</td>\n",
       "      <td>4.930769</td>\n",
       "      <td>0.879231</td>\n",
       "      <td>3.843462</td>\n",
       "      <td>1.719314</td>\n",
       "      <td>4</td>\n",
       "    </tr>\n",
       "    <tr>\n",
       "      <th>5</th>\n",
       "      <td>0.874585</td>\n",
       "      <td>0.083569</td>\n",
       "      <td>0.883908</td>\n",
       "      <td>0.070062</td>\n",
       "      <td>0.862908</td>\n",
       "      <td>0.064077</td>\n",
       "      <td>0.944108</td>\n",
       "      <td>0.050892</td>\n",
       "      <td>0.871323</td>\n",
       "      <td>0.325215</td>\n",
       "      <td>...</td>\n",
       "      <td>0.014123</td>\n",
       "      <td>0.443369</td>\n",
       "      <td>0.014185</td>\n",
       "      <td>0.559431</td>\n",
       "      <td>0.234369</td>\n",
       "      <td>8.410769</td>\n",
       "      <td>0.903077</td>\n",
       "      <td>3.896308</td>\n",
       "      <td>3.034862</td>\n",
       "      <td>5</td>\n",
       "    </tr>\n",
       "    <tr>\n",
       "      <th>6</th>\n",
       "      <td>0.936800</td>\n",
       "      <td>0.051950</td>\n",
       "      <td>0.872150</td>\n",
       "      <td>0.115500</td>\n",
       "      <td>0.992950</td>\n",
       "      <td>0.048925</td>\n",
       "      <td>0.992325</td>\n",
       "      <td>0.060150</td>\n",
       "      <td>0.867825</td>\n",
       "      <td>0.156975</td>\n",
       "      <td>...</td>\n",
       "      <td>-0.034850</td>\n",
       "      <td>0.472775</td>\n",
       "      <td>-0.031475</td>\n",
       "      <td>0.512050</td>\n",
       "      <td>0.328125</td>\n",
       "      <td>6.327500</td>\n",
       "      <td>0.842250</td>\n",
       "      <td>3.819500</td>\n",
       "      <td>1.982840</td>\n",
       "      <td>6</td>\n",
       "    </tr>\n",
       "  </tbody>\n",
       "</table>\n",
       "<p>6 rows × 27 columns</p>\n",
       "</div>"
      ],
      "text/plain": [
       "         DEF Handoff PPP  DEF Handoff FREQ  DEF Isolation PPP  \\\n",
       "Cluster                                                         \n",
       "0               0.925000          0.087223           0.903862   \n",
       "1               0.149226          0.003274           0.953839   \n",
       "2               0.827514          0.078542           0.832347   \n",
       "4               0.943654          0.037731           0.923962   \n",
       "5               0.874585          0.083569           0.883908   \n",
       "6               0.936800          0.051950           0.872150   \n",
       "\n",
       "         DEF Isolation FREQ  DEF OffScreen PPP  DEF OffScreen FREQ  \\\n",
       "Cluster                                                              \n",
       "0                  0.076394           0.959787            0.065936   \n",
       "1                  0.091435           0.281323            0.004581   \n",
       "2                  0.068333           0.752583            0.056306   \n",
       "4                  0.111731           0.729846            0.027923   \n",
       "5                  0.070062           0.862908            0.064077   \n",
       "6                  0.115500           0.992950            0.048925   \n",
       "\n",
       "         DEF Postup PPP  DEF Postup FREQ  DEF PRBallHandler PPP  \\\n",
       "Cluster                                                           \n",
       "0              0.924149         0.048734               0.875138   \n",
       "1              0.925532         0.060419               0.325097   \n",
       "2              0.701083         0.043000               0.897889   \n",
       "4              0.917846         0.057692               0.875231   \n",
       "5              0.944108         0.050892               0.871323   \n",
       "6              0.992325         0.060150               0.867825   \n",
       "\n",
       "         DEF PRBallHandler FREQ  ...  PLUSMINUS Less Than 6Ft  \\\n",
       "Cluster                          ...                            \n",
       "0                      0.292043  ...                 0.002830   \n",
       "1                      0.010694  ...                -0.043952   \n",
       "2                      0.297639  ...                 0.009833   \n",
       "4                      0.078577  ...                -0.053423   \n",
       "5                      0.325215  ...                 0.014123   \n",
       "6                      0.156975  ...                -0.034850   \n",
       "\n",
       "         FREQ Less Than 10Ft  PLUSMINUS Less Than 10Ft  \\\n",
       "Cluster                                                  \n",
       "0                   0.442574                  0.004266   \n",
       "1                   0.502581                 -0.034339   \n",
       "2                   0.459694                  0.012097   \n",
       "4                   0.467885                 -0.043769   \n",
       "5                   0.443369                  0.014185   \n",
       "6                   0.472775                 -0.031475   \n",
       "\n",
       "         PCT_LOOSE_BALLS_RECOVERED_DEF  REB_CONTEST_PCT  AVG_REB_DIST  \\\n",
       "Cluster                                                                 \n",
       "0                             0.510489         0.221787      8.309574   \n",
       "1                             0.400339         0.452661      4.901613   \n",
       "2                             0.523639         0.235931      8.397222   \n",
       "4                             0.475923         0.383038      4.930769   \n",
       "5                             0.559431         0.234369      8.410769   \n",
       "6                             0.512050         0.328125      6.327500   \n",
       "\n",
       "         DIST_MILES_DEF  AVG_SPEED_DEF  DEFLECTIONS Per36  Cluster  \n",
       "Cluster                                                             \n",
       "0              0.978511       3.830638           1.651185        0  \n",
       "1              0.739032       3.829516           1.905483        1  \n",
       "2              0.768194       3.874722           2.274556        2  \n",
       "4              0.879231       3.843462           1.719314        4  \n",
       "5              0.903077       3.896308           3.034862        5  \n",
       "6              0.842250       3.819500           1.982840        6  \n",
       "\n",
       "[6 rows x 27 columns]"
      ]
     },
     "execution_count": 109,
     "metadata": {},
     "output_type": "execute_result"
    }
   ],
   "source": [
    "defence_cluster_groups"
   ]
  },
  {
   "cell_type": "code",
   "execution_count": 110,
   "metadata": {},
   "outputs": [],
   "source": [
    "\n",
    "def_ranks = pd.DataFrame()\n",
    "for i in defence_cluster_groups.columns:\n",
    "    def_ranks[i + ' rank'] = defence_cluster_groups[i].rank()\n",
    "\n",
    "def_ranks.to_html('def_ranks.html')\n"
   ]
  },
  {
   "cell_type": "code",
   "execution_count": 111,
   "metadata": {},
   "outputs": [
    {
     "data": {
      "text/plain": [
       "array(['Naz Reid', 'Steven Adams', 'Daniel Gafford', 'Onyeka Okongwu',\n",
       "       'Dwight Powell', 'Isaiah Hartenstein', 'Mitchell Robinson',\n",
       "       'Jakob Poeltl', 'Kelly Olynyk', 'Nemanja Bjelica',\n",
       "       'Jonas Valanciunas', 'Domantas Sabonis', 'Jalen Smith',\n",
       "       'Olivier Sarr', 'Derrick Favors', 'Robin Lopez', 'Alex Len',\n",
       "       'Nerlens Noel', 'Dewayne Dedmon', 'Thomas Bryant',\n",
       "       'Kristaps Porzingis', 'Tristan Thompson', 'Tristan Thompson',\n",
       "       'Zach Collins', 'Serge Ibaka', 'JaVale McGee', 'Andre Drummond',\n",
       "       'Andre Drummond', 'Montrezl Harrell', 'Montrezl Harrell',\n",
       "       'Taj Gibson', 'Trey Lyles', 'Isaiah Roby', 'Daniel Theis',\n",
       "       'Daniel Theis', 'Drew Eubanks', 'Drew Eubanks',\n",
       "       'Willy Hernangomez', 'Jusuf Nurkic', 'Joel Embiid',\n",
       "       'Hassan Whiteside', 'Richaun Holmes', 'Khem Birch',\n",
       "       'Jeremiah Robinson-Earl', 'Dwight Howard', 'Blake Griffin',\n",
       "       'Mason Plumlee', 'Myles Turner', 'Clint Capela', 'Trendon Watford',\n",
       "       'Deandre Ayton', 'LaMarcus Aldridge', 'Nikola Jokic',\n",
       "       'Precious Achiuwa', 'Karl-Anthony Towns', 'Damian Jones',\n",
       "       'Ivica Zubac', 'Jarrett Allen', 'Nikola Vucevic', 'Kevon Looney',\n",
       "       'Alperen Sengun', 'Isaiah Stewart'], dtype=object)"
      ]
     },
     "execution_count": 111,
     "metadata": {},
     "output_type": "execute_result"
    }
   ],
   "source": [
    "all_defence_clust[all_defence_clust['Cluster']==1].PLAYER_NAME.values"
   ]
  },
  {
   "cell_type": "code",
   "execution_count": 112,
   "metadata": {},
   "outputs": [],
   "source": [
    "def_cluster_dict = {0: ' Positional Perimeter Guard', 1: 'Paint Protector', 2:'Off-Ball Chaser',  4: 'Versatile Rim Protector', 5: 'Perimeter Ball-Hawk', 6: 'Versatile Positional Wing'}\n",
    "\n"
   ]
  },
  {
   "cell_type": "code",
   "execution_count": 113,
   "metadata": {},
   "outputs": [],
   "source": [
    "def_cluster = all_defence_clust.drop(['Season', 'MIN', 'GP', 'DEFLECTIONS'], axis=1)"
   ]
  },
  {
   "cell_type": "code",
   "execution_count": 114,
   "metadata": {},
   "outputs": [],
   "source": [
    "def_cluster['Archetype'] = def_cluster['Cluster'].map(def_cluster_dict)"
   ]
  },
  {
   "cell_type": "code",
   "execution_count": 115,
   "metadata": {},
   "outputs": [],
   "source": [
    "def_cluster.to_csv(\"Defence Data.csv\", index = False)"
   ]
  },
  {
   "cell_type": "code",
   "execution_count": 142,
   "metadata": {},
   "outputs": [
    {
     "data": {
      "text/html": [
       "<div>\n",
       "<style scoped>\n",
       "    .dataframe tbody tr th:only-of-type {\n",
       "        vertical-align: middle;\n",
       "    }\n",
       "\n",
       "    .dataframe tbody tr th {\n",
       "        vertical-align: top;\n",
       "    }\n",
       "\n",
       "    .dataframe thead th {\n",
       "        text-align: right;\n",
       "    }\n",
       "</style>\n",
       "<table border=\"1\" class=\"dataframe\">\n",
       "  <thead>\n",
       "    <tr style=\"text-align: right;\">\n",
       "      <th></th>\n",
       "      <th>PLAYER_NAME</th>\n",
       "      <th>DEF Handoff PPP</th>\n",
       "      <th>DEF Handoff FREQ</th>\n",
       "      <th>DEF Isolation PPP</th>\n",
       "      <th>DEF Isolation FREQ</th>\n",
       "      <th>DEF OffScreen PPP</th>\n",
       "      <th>DEF OffScreen FREQ</th>\n",
       "      <th>DEF Postup PPP</th>\n",
       "      <th>DEF Postup FREQ</th>\n",
       "      <th>DEF PRBallHandler PPP</th>\n",
       "      <th>...</th>\n",
       "      <th>FREQ Less Than 10Ft</th>\n",
       "      <th>PLUSMINUS Less Than 10Ft</th>\n",
       "      <th>PCT_LOOSE_BALLS_RECOVERED_DEF</th>\n",
       "      <th>REB_CONTEST_PCT</th>\n",
       "      <th>AVG_REB_DIST</th>\n",
       "      <th>DIST_MILES_DEF</th>\n",
       "      <th>AVG_SPEED_DEF</th>\n",
       "      <th>DEFLECTIONS Per36</th>\n",
       "      <th>Cluster</th>\n",
       "      <th>Archetype</th>\n",
       "    </tr>\n",
       "  </thead>\n",
       "  <tbody>\n",
       "    <tr>\n",
       "      <th>1738</th>\n",
       "      <td>Andre Drummond</td>\n",
       "      <td>0.0</td>\n",
       "      <td>0.0</td>\n",
       "      <td>1.038</td>\n",
       "      <td>0.052</td>\n",
       "      <td>0.0</td>\n",
       "      <td>0.0</td>\n",
       "      <td>1.25</td>\n",
       "      <td>0.024</td>\n",
       "      <td>0.0</td>\n",
       "      <td>...</td>\n",
       "      <td>0.494</td>\n",
       "      <td>-0.022</td>\n",
       "      <td>0.375</td>\n",
       "      <td>0.501</td>\n",
       "      <td>3.9</td>\n",
       "      <td>0.65</td>\n",
       "      <td>3.84</td>\n",
       "      <td>3.91066</td>\n",
       "      <td>1</td>\n",
       "      <td>Paint Protector</td>\n",
       "    </tr>\n",
       "    <tr>\n",
       "      <th>1739</th>\n",
       "      <td>Andre Drummond</td>\n",
       "      <td>0.0</td>\n",
       "      <td>0.0</td>\n",
       "      <td>1.250</td>\n",
       "      <td>0.114</td>\n",
       "      <td>0.0</td>\n",
       "      <td>0.0</td>\n",
       "      <td>1.00</td>\n",
       "      <td>0.036</td>\n",
       "      <td>0.0</td>\n",
       "      <td>...</td>\n",
       "      <td>0.494</td>\n",
       "      <td>-0.022</td>\n",
       "      <td>0.375</td>\n",
       "      <td>0.501</td>\n",
       "      <td>3.9</td>\n",
       "      <td>0.65</td>\n",
       "      <td>3.84</td>\n",
       "      <td>3.91066</td>\n",
       "      <td>1</td>\n",
       "      <td>Paint Protector</td>\n",
       "    </tr>\n",
       "  </tbody>\n",
       "</table>\n",
       "<p>2 rows × 29 columns</p>\n",
       "</div>"
      ],
      "text/plain": [
       "         PLAYER_NAME  DEF Handoff PPP  DEF Handoff FREQ  DEF Isolation PPP  \\\n",
       "1738  Andre Drummond              0.0               0.0              1.038   \n",
       "1739  Andre Drummond              0.0               0.0              1.250   \n",
       "\n",
       "      DEF Isolation FREQ  DEF OffScreen PPP  DEF OffScreen FREQ  \\\n",
       "1738               0.052                0.0                 0.0   \n",
       "1739               0.114                0.0                 0.0   \n",
       "\n",
       "      DEF Postup PPP  DEF Postup FREQ  DEF PRBallHandler PPP  ...  \\\n",
       "1738            1.25            0.024                    0.0  ...   \n",
       "1739            1.00            0.036                    0.0  ...   \n",
       "\n",
       "      FREQ Less Than 10Ft  PLUSMINUS Less Than 10Ft  \\\n",
       "1738                0.494                    -0.022   \n",
       "1739                0.494                    -0.022   \n",
       "\n",
       "      PCT_LOOSE_BALLS_RECOVERED_DEF  REB_CONTEST_PCT  AVG_REB_DIST  \\\n",
       "1738                          0.375            0.501           3.9   \n",
       "1739                          0.375            0.501           3.9   \n",
       "\n",
       "      DIST_MILES_DEF  AVG_SPEED_DEF  DEFLECTIONS Per36  Cluster  \\\n",
       "1738            0.65           3.84            3.91066        1   \n",
       "1739            0.65           3.84            3.91066        1   \n",
       "\n",
       "            Archetype  \n",
       "1738  Paint Protector  \n",
       "1739  Paint Protector  \n",
       "\n",
       "[2 rows x 29 columns]"
      ]
     },
     "execution_count": 142,
     "metadata": {},
     "output_type": "execute_result"
    }
   ],
   "source": [
    "def_cluster[def_cluster['PLAYER_NAME']=='Andre Drummond']"
   ]
  },
  {
   "cell_type": "markdown",
   "metadata": {},
   "source": [
    "## Offence Clustering"
   ]
  },
  {
   "cell_type": "code",
   "execution_count": 116,
   "metadata": {},
   "outputs": [],
   "source": [
    "all_offence_clust = pd.read_csv('all_offence.csv')\n",
    "\n",
    "all_offence_clust = all_offence_clust[(all_offence_clust['GP']>20)& (all_offence_clust['MIN']>15)]"
   ]
  },
  {
   "cell_type": "code",
   "execution_count": 117,
   "metadata": {},
   "outputs": [
    {
     "data": {
      "text/plain": [
       "Index(['PLAYER_NAME', 'Season', 'Cut PPP', 'Cut FREQ', 'GP', 'Handoff PPP',\n",
       "       'Handoff FREQ', 'Isolation PPP', 'Isolation FREQ', 'Misc PPP',\n",
       "       'Misc FREQ', 'OffScreen PPP', 'OffScreen FREQ', 'Postup PPP',\n",
       "       'Postup FREQ', 'PRBallHandler PPP', 'PRBallHandler FREQ',\n",
       "       'PRRollman PPP', 'PRRollman FREQ', 'OffRebound PPP', 'OffRebound FREQ',\n",
       "       'Spotup PPP', 'Spotup FREQ', 'Transition PPP', 'Transition FREQ',\n",
       "       'Total Poss', 'MIN', 'POTENTIAL_AST', 'DRIVE_PASSES_PCT',\n",
       "       'PULL_UP_FG3_PCT', 'CATCH_SHOOT_FG_PCT', 'FG3A', 'USG_PCT',\n",
       "       'POTENTIAL_AST FREQ', 'Restricted Area FREQ',\n",
       "       'In The Paint (Non-RA) FREQ', 'Mid-Range FREQ', '3P FREQ',\n",
       "       'Drives FREQ', 'PULL_UP FREQ', 'CATCH_SHOOT FREQ'],\n",
       "      dtype='object')"
      ]
     },
     "execution_count": 117,
     "metadata": {},
     "output_type": "execute_result"
    }
   ],
   "source": [
    "all_offence_clust.columns"
   ]
  },
  {
   "cell_type": "code",
   "execution_count": 118,
   "metadata": {},
   "outputs": [],
   "source": [
    "offence_percentiles = all_offence_clust.copy()\n",
    "\n",
    "\n",
    "\n",
    "\n",
    "for i in all_offence_clust.columns[2:]:\n",
    "   offence_percentiles[i + ' Rank'] = offence_percentiles[i].rank(pct=True)\n",
    "\n",
    "offence_percentiles = offence_percentiles.drop(all_offence_clust.columns[2:], axis=1)\n",
    "offence_percentiles.to_csv('off_percentiles.csv', index=False)"
   ]
  },
  {
   "cell_type": "code",
   "execution_count": null,
   "metadata": {},
   "outputs": [],
   "source": []
  },
  {
   "cell_type": "code",
   "execution_count": 119,
   "metadata": {},
   "outputs": [],
   "source": [
    "off_train = all_offence_clust.drop(['PLAYER_NAME', 'Season', 'GP', 'MIN', 'Misc PPP', 'Misc FREQ', \"Total Poss\", 'POTENTIAL_AST','PULL_UP_FG3_PCT', 'CATCH_SHOOT_FG_PCT' ], axis='columns')"
   ]
  },
  {
   "cell_type": "code",
   "execution_count": 120,
   "metadata": {},
   "outputs": [],
   "source": [
    "pd.DataFrame(off_train.mean()).transpose().to_csv('Offence League Average.csv', index=False)"
   ]
  },
  {
   "cell_type": "code",
   "execution_count": 121,
   "metadata": {},
   "outputs": [
    {
     "data": {
      "text/plain": [
       "0"
      ]
     },
     "execution_count": 121,
     "metadata": {},
     "output_type": "execute_result"
    }
   ],
   "source": [
    "(off_train['Mid-Range FREQ'].values>1).sum()"
   ]
  },
  {
   "cell_type": "code",
   "execution_count": 122,
   "metadata": {},
   "outputs": [],
   "source": [
    "norm_off_train = pd.DataFrame(StandardScaler().fit_transform(off_train),columns = off_train.columns)"
   ]
  },
  {
   "cell_type": "code",
   "execution_count": 123,
   "metadata": {},
   "outputs": [
    {
     "name": "stderr",
     "output_type": "stream",
     "text": [
      "c:\\Users\\rpand\\anaconda3\\envs\\nba_app_env\\lib\\site-packages\\sklearn\\cluster\\_kmeans.py:1332: UserWarning:\n",
      "\n",
      "KMeans is known to have a memory leak on Windows with MKL, when there are less chunks than available threads. You can avoid it by setting the environment variable OMP_NUM_THREADS=2.\n",
      "\n",
      "c:\\Users\\rpand\\anaconda3\\envs\\nba_app_env\\lib\\site-packages\\sklearn\\cluster\\_kmeans.py:1332: UserWarning:\n",
      "\n",
      "KMeans is known to have a memory leak on Windows with MKL, when there are less chunks than available threads. You can avoid it by setting the environment variable OMP_NUM_THREADS=2.\n",
      "\n",
      "c:\\Users\\rpand\\anaconda3\\envs\\nba_app_env\\lib\\site-packages\\sklearn\\cluster\\_kmeans.py:1332: UserWarning:\n",
      "\n",
      "KMeans is known to have a memory leak on Windows with MKL, when there are less chunks than available threads. You can avoid it by setting the environment variable OMP_NUM_THREADS=2.\n",
      "\n",
      "c:\\Users\\rpand\\anaconda3\\envs\\nba_app_env\\lib\\site-packages\\sklearn\\cluster\\_kmeans.py:1332: UserWarning:\n",
      "\n",
      "KMeans is known to have a memory leak on Windows with MKL, when there are less chunks than available threads. You can avoid it by setting the environment variable OMP_NUM_THREADS=2.\n",
      "\n",
      "c:\\Users\\rpand\\anaconda3\\envs\\nba_app_env\\lib\\site-packages\\sklearn\\cluster\\_kmeans.py:1332: UserWarning:\n",
      "\n",
      "KMeans is known to have a memory leak on Windows with MKL, when there are less chunks than available threads. You can avoid it by setting the environment variable OMP_NUM_THREADS=2.\n",
      "\n",
      "c:\\Users\\rpand\\anaconda3\\envs\\nba_app_env\\lib\\site-packages\\sklearn\\cluster\\_kmeans.py:1332: UserWarning:\n",
      "\n",
      "KMeans is known to have a memory leak on Windows with MKL, when there are less chunks than available threads. You can avoid it by setting the environment variable OMP_NUM_THREADS=2.\n",
      "\n",
      "c:\\Users\\rpand\\anaconda3\\envs\\nba_app_env\\lib\\site-packages\\sklearn\\cluster\\_kmeans.py:1332: UserWarning:\n",
      "\n",
      "KMeans is known to have a memory leak on Windows with MKL, when there are less chunks than available threads. You can avoid it by setting the environment variable OMP_NUM_THREADS=2.\n",
      "\n",
      "c:\\Users\\rpand\\anaconda3\\envs\\nba_app_env\\lib\\site-packages\\sklearn\\cluster\\_kmeans.py:1332: UserWarning:\n",
      "\n",
      "KMeans is known to have a memory leak on Windows with MKL, when there are less chunks than available threads. You can avoid it by setting the environment variable OMP_NUM_THREADS=2.\n",
      "\n",
      "c:\\Users\\rpand\\anaconda3\\envs\\nba_app_env\\lib\\site-packages\\sklearn\\cluster\\_kmeans.py:1332: UserWarning:\n",
      "\n",
      "KMeans is known to have a memory leak on Windows with MKL, when there are less chunks than available threads. You can avoid it by setting the environment variable OMP_NUM_THREADS=2.\n",
      "\n",
      "c:\\Users\\rpand\\anaconda3\\envs\\nba_app_env\\lib\\site-packages\\sklearn\\cluster\\_kmeans.py:1332: UserWarning:\n",
      "\n",
      "KMeans is known to have a memory leak on Windows with MKL, when there are less chunks than available threads. You can avoid it by setting the environment variable OMP_NUM_THREADS=2.\n",
      "\n",
      "c:\\Users\\rpand\\anaconda3\\envs\\nba_app_env\\lib\\site-packages\\sklearn\\cluster\\_kmeans.py:1332: UserWarning:\n",
      "\n",
      "KMeans is known to have a memory leak on Windows with MKL, when there are less chunks than available threads. You can avoid it by setting the environment variable OMP_NUM_THREADS=2.\n",
      "\n",
      "c:\\Users\\rpand\\anaconda3\\envs\\nba_app_env\\lib\\site-packages\\sklearn\\cluster\\_kmeans.py:1332: UserWarning:\n",
      "\n",
      "KMeans is known to have a memory leak on Windows with MKL, when there are less chunks than available threads. You can avoid it by setting the environment variable OMP_NUM_THREADS=2.\n",
      "\n",
      "c:\\Users\\rpand\\anaconda3\\envs\\nba_app_env\\lib\\site-packages\\sklearn\\cluster\\_kmeans.py:1332: UserWarning:\n",
      "\n",
      "KMeans is known to have a memory leak on Windows with MKL, when there are less chunks than available threads. You can avoid it by setting the environment variable OMP_NUM_THREADS=2.\n",
      "\n",
      "c:\\Users\\rpand\\anaconda3\\envs\\nba_app_env\\lib\\site-packages\\sklearn\\cluster\\_kmeans.py:1332: UserWarning:\n",
      "\n",
      "KMeans is known to have a memory leak on Windows with MKL, when there are less chunks than available threads. You can avoid it by setting the environment variable OMP_NUM_THREADS=2.\n",
      "\n",
      "c:\\Users\\rpand\\anaconda3\\envs\\nba_app_env\\lib\\site-packages\\sklearn\\cluster\\_kmeans.py:1332: UserWarning:\n",
      "\n",
      "KMeans is known to have a memory leak on Windows with MKL, when there are less chunks than available threads. You can avoid it by setting the environment variable OMP_NUM_THREADS=2.\n",
      "\n",
      "c:\\Users\\rpand\\anaconda3\\envs\\nba_app_env\\lib\\site-packages\\sklearn\\cluster\\_kmeans.py:1332: UserWarning:\n",
      "\n",
      "KMeans is known to have a memory leak on Windows with MKL, when there are less chunks than available threads. You can avoid it by setting the environment variable OMP_NUM_THREADS=2.\n",
      "\n",
      "c:\\Users\\rpand\\anaconda3\\envs\\nba_app_env\\lib\\site-packages\\sklearn\\cluster\\_kmeans.py:1332: UserWarning:\n",
      "\n",
      "KMeans is known to have a memory leak on Windows with MKL, when there are less chunks than available threads. You can avoid it by setting the environment variable OMP_NUM_THREADS=2.\n",
      "\n",
      "c:\\Users\\rpand\\anaconda3\\envs\\nba_app_env\\lib\\site-packages\\sklearn\\cluster\\_kmeans.py:1332: UserWarning:\n",
      "\n",
      "KMeans is known to have a memory leak on Windows with MKL, when there are less chunks than available threads. You can avoid it by setting the environment variable OMP_NUM_THREADS=2.\n",
      "\n"
     ]
    },
    {
     "data": {
      "image/png": "[encoded data removed]",
      "text/plain": [
       "<Figure size 432x288 with 1 Axes>"
      ]
     },
     "metadata": {
      "needs_background": "light"
     },
     "output_type": "display_data"
    }
   ],
   "source": [
    "gauss_tune(norm_off_train, 3,20)"
   ]
  },
  {
   "cell_type": "code",
   "execution_count": 124,
   "metadata": {},
   "outputs": [
    {
     "name": "stderr",
     "output_type": "stream",
     "text": [
      "c:\\Users\\rpand\\anaconda3\\envs\\nba_app_env\\lib\\site-packages\\sklearn\\cluster\\_kmeans.py:1332: UserWarning:\n",
      "\n",
      "KMeans is known to have a memory leak on Windows with MKL, when there are less chunks than available threads. You can avoid it by setting the environment variable OMP_NUM_THREADS=2.\n",
      "\n"
     ]
    }
   ],
   "source": [
    "off_cluster_results = off_train.copy()\n",
    "gmm = GaussianMixture(17, random_state=29)\n",
    "off_clusters = gmm.fit_predict(norm_off_train)\n",
    "off_cluster_results['Clusters'] = off_clusters"
   ]
  },
  {
   "cell_type": "code",
   "execution_count": 125,
   "metadata": {},
   "outputs": [
    {
     "data": {
      "text/html": [
       "<div>\n",
       "<style scoped>\n",
       "    .dataframe tbody tr th:only-of-type {\n",
       "        vertical-align: middle;\n",
       "    }\n",
       "\n",
       "    .dataframe tbody tr th {\n",
       "        vertical-align: top;\n",
       "    }\n",
       "\n",
       "    .dataframe thead th {\n",
       "        text-align: right;\n",
       "    }\n",
       "</style>\n",
       "<table border=\"1\" class=\"dataframe\">\n",
       "  <thead>\n",
       "    <tr style=\"text-align: right;\">\n",
       "      <th></th>\n",
       "      <th>Cut PPP</th>\n",
       "      <th>Cut FREQ</th>\n",
       "      <th>Handoff PPP</th>\n",
       "      <th>Handoff FREQ</th>\n",
       "      <th>Isolation PPP</th>\n",
       "      <th>Isolation FREQ</th>\n",
       "      <th>OffScreen PPP</th>\n",
       "      <th>OffScreen FREQ</th>\n",
       "      <th>Postup PPP</th>\n",
       "      <th>Postup FREQ</th>\n",
       "      <th>...</th>\n",
       "      <th>USG_PCT</th>\n",
       "      <th>POTENTIAL_AST FREQ</th>\n",
       "      <th>Restricted Area FREQ</th>\n",
       "      <th>In The Paint (Non-RA) FREQ</th>\n",
       "      <th>Mid-Range FREQ</th>\n",
       "      <th>3P FREQ</th>\n",
       "      <th>Drives FREQ</th>\n",
       "      <th>PULL_UP FREQ</th>\n",
       "      <th>CATCH_SHOOT FREQ</th>\n",
       "      <th>Clusters</th>\n",
       "    </tr>\n",
       "  </thead>\n",
       "  <tbody>\n",
       "    <tr>\n",
       "      <th>0</th>\n",
       "      <td>1.342</td>\n",
       "      <td>0.298</td>\n",
       "      <td>0.000</td>\n",
       "      <td>0.000</td>\n",
       "      <td>1.263</td>\n",
       "      <td>0.025</td>\n",
       "      <td>0.0</td>\n",
       "      <td>0.0</td>\n",
       "      <td>1.056</td>\n",
       "      <td>0.143</td>\n",
       "      <td>...</td>\n",
       "      <td>0.177</td>\n",
       "      <td>0.248120</td>\n",
       "      <td>0.705263</td>\n",
       "      <td>0.242105</td>\n",
       "      <td>0.052632</td>\n",
       "      <td>0.020619</td>\n",
       "      <td>0.082707</td>\n",
       "      <td>0.010309</td>\n",
       "      <td>0.072165</td>\n",
       "      <td>10</td>\n",
       "    </tr>\n",
       "    <tr>\n",
       "      <th>1</th>\n",
       "      <td>1.357</td>\n",
       "      <td>0.249</td>\n",
       "      <td>0.000</td>\n",
       "      <td>0.000</td>\n",
       "      <td>0.000</td>\n",
       "      <td>0.000</td>\n",
       "      <td>0.0</td>\n",
       "      <td>0.0</td>\n",
       "      <td>1.061</td>\n",
       "      <td>0.059</td>\n",
       "      <td>...</td>\n",
       "      <td>0.166</td>\n",
       "      <td>0.138211</td>\n",
       "      <td>0.881579</td>\n",
       "      <td>0.118421</td>\n",
       "      <td>0.000000</td>\n",
       "      <td>0.012987</td>\n",
       "      <td>0.024390</td>\n",
       "      <td>0.012987</td>\n",
       "      <td>0.012987</td>\n",
       "      <td>4</td>\n",
       "    </tr>\n",
       "    <tr>\n",
       "      <th>2</th>\n",
       "      <td>1.528</td>\n",
       "      <td>0.380</td>\n",
       "      <td>0.000</td>\n",
       "      <td>0.000</td>\n",
       "      <td>0.000</td>\n",
       "      <td>0.000</td>\n",
       "      <td>0.0</td>\n",
       "      <td>0.0</td>\n",
       "      <td>0.000</td>\n",
       "      <td>0.000</td>\n",
       "      <td>...</td>\n",
       "      <td>0.112</td>\n",
       "      <td>0.454545</td>\n",
       "      <td>0.852459</td>\n",
       "      <td>0.114754</td>\n",
       "      <td>0.032787</td>\n",
       "      <td>0.000000</td>\n",
       "      <td>0.012987</td>\n",
       "      <td>0.000000</td>\n",
       "      <td>0.016667</td>\n",
       "      <td>4</td>\n",
       "    </tr>\n",
       "    <tr>\n",
       "      <th>3</th>\n",
       "      <td>1.274</td>\n",
       "      <td>0.194</td>\n",
       "      <td>0.000</td>\n",
       "      <td>0.000</td>\n",
       "      <td>0.909</td>\n",
       "      <td>0.103</td>\n",
       "      <td>0.0</td>\n",
       "      <td>0.0</td>\n",
       "      <td>0.967</td>\n",
       "      <td>0.141</td>\n",
       "      <td>...</td>\n",
       "      <td>0.201</td>\n",
       "      <td>0.344156</td>\n",
       "      <td>0.457944</td>\n",
       "      <td>0.355140</td>\n",
       "      <td>0.186916</td>\n",
       "      <td>0.108333</td>\n",
       "      <td>0.227273</td>\n",
       "      <td>0.175000</td>\n",
       "      <td>0.158333</td>\n",
       "      <td>1</td>\n",
       "    </tr>\n",
       "    <tr>\n",
       "      <th>4</th>\n",
       "      <td>1.283</td>\n",
       "      <td>0.265</td>\n",
       "      <td>0.000</td>\n",
       "      <td>0.000</td>\n",
       "      <td>0.000</td>\n",
       "      <td>0.000</td>\n",
       "      <td>0.0</td>\n",
       "      <td>0.0</td>\n",
       "      <td>0.818</td>\n",
       "      <td>0.030</td>\n",
       "      <td>...</td>\n",
       "      <td>0.149</td>\n",
       "      <td>0.218750</td>\n",
       "      <td>0.817073</td>\n",
       "      <td>0.170732</td>\n",
       "      <td>0.012195</td>\n",
       "      <td>0.000000</td>\n",
       "      <td>0.020833</td>\n",
       "      <td>0.000000</td>\n",
       "      <td>0.000000</td>\n",
       "      <td>4</td>\n",
       "    </tr>\n",
       "    <tr>\n",
       "      <th>...</th>\n",
       "      <td>...</td>\n",
       "      <td>...</td>\n",
       "      <td>...</td>\n",
       "      <td>...</td>\n",
       "      <td>...</td>\n",
       "      <td>...</td>\n",
       "      <td>...</td>\n",
       "      <td>...</td>\n",
       "      <td>...</td>\n",
       "      <td>...</td>\n",
       "      <td>...</td>\n",
       "      <td>...</td>\n",
       "      <td>...</td>\n",
       "      <td>...</td>\n",
       "      <td>...</td>\n",
       "      <td>...</td>\n",
       "      <td>...</td>\n",
       "      <td>...</td>\n",
       "      <td>...</td>\n",
       "      <td>...</td>\n",
       "      <td>...</td>\n",
       "    </tr>\n",
       "    <tr>\n",
       "      <th>403</th>\n",
       "      <td>0.000</td>\n",
       "      <td>0.000</td>\n",
       "      <td>0.364</td>\n",
       "      <td>0.048</td>\n",
       "      <td>0.333</td>\n",
       "      <td>0.053</td>\n",
       "      <td>0.0</td>\n",
       "      <td>0.0</td>\n",
       "      <td>0.000</td>\n",
       "      <td>0.000</td>\n",
       "      <td>...</td>\n",
       "      <td>0.174</td>\n",
       "      <td>0.621212</td>\n",
       "      <td>0.382353</td>\n",
       "      <td>0.176471</td>\n",
       "      <td>0.441176</td>\n",
       "      <td>0.474576</td>\n",
       "      <td>0.515152</td>\n",
       "      <td>0.423729</td>\n",
       "      <td>0.338983</td>\n",
       "      <td>11</td>\n",
       "    </tr>\n",
       "    <tr>\n",
       "      <th>411</th>\n",
       "      <td>0.000</td>\n",
       "      <td>0.000</td>\n",
       "      <td>0.000</td>\n",
       "      <td>0.000</td>\n",
       "      <td>0.875</td>\n",
       "      <td>0.107</td>\n",
       "      <td>0.0</td>\n",
       "      <td>0.0</td>\n",
       "      <td>0.000</td>\n",
       "      <td>0.000</td>\n",
       "      <td>...</td>\n",
       "      <td>0.152</td>\n",
       "      <td>1.268657</td>\n",
       "      <td>0.565217</td>\n",
       "      <td>0.304348</td>\n",
       "      <td>0.130435</td>\n",
       "      <td>0.511111</td>\n",
       "      <td>0.761194</td>\n",
       "      <td>0.266667</td>\n",
       "      <td>0.311111</td>\n",
       "      <td>5</td>\n",
       "    </tr>\n",
       "    <tr>\n",
       "      <th>415</th>\n",
       "      <td>0.000</td>\n",
       "      <td>0.000</td>\n",
       "      <td>0.000</td>\n",
       "      <td>0.000</td>\n",
       "      <td>0.000</td>\n",
       "      <td>0.000</td>\n",
       "      <td>0.0</td>\n",
       "      <td>0.0</td>\n",
       "      <td>0.000</td>\n",
       "      <td>0.000</td>\n",
       "      <td>...</td>\n",
       "      <td>0.146</td>\n",
       "      <td>0.351852</td>\n",
       "      <td>0.631579</td>\n",
       "      <td>0.210526</td>\n",
       "      <td>0.157895</td>\n",
       "      <td>0.595745</td>\n",
       "      <td>0.407407</td>\n",
       "      <td>0.170213</td>\n",
       "      <td>0.489362</td>\n",
       "      <td>14</td>\n",
       "    </tr>\n",
       "    <tr>\n",
       "      <th>435</th>\n",
       "      <td>0.000</td>\n",
       "      <td>0.000</td>\n",
       "      <td>0.000</td>\n",
       "      <td>0.000</td>\n",
       "      <td>0.000</td>\n",
       "      <td>0.000</td>\n",
       "      <td>0.0</td>\n",
       "      <td>0.0</td>\n",
       "      <td>0.000</td>\n",
       "      <td>0.000</td>\n",
       "      <td>...</td>\n",
       "      <td>0.150</td>\n",
       "      <td>0.340426</td>\n",
       "      <td>0.787879</td>\n",
       "      <td>0.121212</td>\n",
       "      <td>0.090909</td>\n",
       "      <td>0.346939</td>\n",
       "      <td>0.489362</td>\n",
       "      <td>0.102041</td>\n",
       "      <td>0.285714</td>\n",
       "      <td>2</td>\n",
       "    </tr>\n",
       "    <tr>\n",
       "      <th>448</th>\n",
       "      <td>0.000</td>\n",
       "      <td>0.000</td>\n",
       "      <td>0.000</td>\n",
       "      <td>0.000</td>\n",
       "      <td>0.000</td>\n",
       "      <td>0.000</td>\n",
       "      <td>0.0</td>\n",
       "      <td>0.0</td>\n",
       "      <td>0.000</td>\n",
       "      <td>0.000</td>\n",
       "      <td>...</td>\n",
       "      <td>0.099</td>\n",
       "      <td>0.619048</td>\n",
       "      <td>0.444444</td>\n",
       "      <td>0.333333</td>\n",
       "      <td>0.222222</td>\n",
       "      <td>0.750000</td>\n",
       "      <td>0.380952</td>\n",
       "      <td>0.093750</td>\n",
       "      <td>0.718750</td>\n",
       "      <td>14</td>\n",
       "    </tr>\n",
       "  </tbody>\n",
       "</table>\n",
       "<p>335 rows × 32 columns</p>\n",
       "</div>"
      ],
      "text/plain": [
       "     Cut PPP  Cut FREQ  Handoff PPP  Handoff FREQ  Isolation PPP  \\\n",
       "0      1.342     0.298        0.000         0.000          1.263   \n",
       "1      1.357     0.249        0.000         0.000          0.000   \n",
       "2      1.528     0.380        0.000         0.000          0.000   \n",
       "3      1.274     0.194        0.000         0.000          0.909   \n",
       "4      1.283     0.265        0.000         0.000          0.000   \n",
       "..       ...       ...          ...           ...            ...   \n",
       "403    0.000     0.000        0.364         0.048          0.333   \n",
       "411    0.000     0.000        0.000         0.000          0.875   \n",
       "415    0.000     0.000        0.000         0.000          0.000   \n",
       "435    0.000     0.000        0.000         0.000          0.000   \n",
       "448    0.000     0.000        0.000         0.000          0.000   \n",
       "\n",
       "     Isolation FREQ  OffScreen PPP  OffScreen FREQ  Postup PPP  Postup FREQ  \\\n",
       "0             0.025            0.0             0.0       1.056        0.143   \n",
       "1             0.000            0.0             0.0       1.061        0.059   \n",
       "2             0.000            0.0             0.0       0.000        0.000   \n",
       "3             0.103            0.0             0.0       0.967        0.141   \n",
       "4             0.000            0.0             0.0       0.818        0.030   \n",
       "..              ...            ...             ...         ...          ...   \n",
       "403           0.053            0.0             0.0       0.000        0.000   \n",
       "411           0.107            0.0             0.0       0.000        0.000   \n",
       "415           0.000            0.0             0.0       0.000        0.000   \n",
       "435           0.000            0.0             0.0       0.000        0.000   \n",
       "448           0.000            0.0             0.0       0.000        0.000   \n",
       "\n",
       "     ...  USG_PCT  POTENTIAL_AST FREQ  Restricted Area FREQ  \\\n",
       "0    ...    0.177            0.248120              0.705263   \n",
       "1    ...    0.166            0.138211              0.881579   \n",
       "2    ...    0.112            0.454545              0.852459   \n",
       "3    ...    0.201            0.344156              0.457944   \n",
       "4    ...    0.149            0.218750              0.817073   \n",
       "..   ...      ...                 ...                   ...   \n",
       "403  ...    0.174            0.621212              0.382353   \n",
       "411  ...    0.152            1.268657              0.565217   \n",
       "415  ...    0.146            0.351852              0.631579   \n",
       "435  ...    0.150            0.340426              0.787879   \n",
       "448  ...    0.099            0.619048              0.444444   \n",
       "\n",
       "     In The Paint (Non-RA) FREQ  Mid-Range FREQ   3P FREQ  Drives FREQ  \\\n",
       "0                      0.242105        0.052632  0.020619     0.082707   \n",
       "1                      0.118421        0.000000  0.012987     0.024390   \n",
       "2                      0.114754        0.032787  0.000000     0.012987   \n",
       "3                      0.355140        0.186916  0.108333     0.227273   \n",
       "4                      0.170732        0.012195  0.000000     0.020833   \n",
       "..                          ...             ...       ...          ...   \n",
       "403                    0.176471        0.441176  0.474576     0.515152   \n",
       "411                    0.304348        0.130435  0.511111     0.761194   \n",
       "415                    0.210526        0.157895  0.595745     0.407407   \n",
       "435                    0.121212        0.090909  0.346939     0.489362   \n",
       "448                    0.333333        0.222222  0.750000     0.380952   \n",
       "\n",
       "     PULL_UP FREQ  CATCH_SHOOT FREQ  Clusters  \n",
       "0        0.010309          0.072165        10  \n",
       "1        0.012987          0.012987         4  \n",
       "2        0.000000          0.016667         4  \n",
       "3        0.175000          0.158333         1  \n",
       "4        0.000000          0.000000         4  \n",
       "..            ...               ...       ...  \n",
       "403      0.423729          0.338983        11  \n",
       "411      0.266667          0.311111         5  \n",
       "415      0.170213          0.489362        14  \n",
       "435      0.102041          0.285714         2  \n",
       "448      0.093750          0.718750        14  \n",
       "\n",
       "[335 rows x 32 columns]"
      ]
     },
     "execution_count": 125,
     "metadata": {},
     "output_type": "execute_result"
    }
   ],
   "source": [
    "off_cluster_results"
   ]
  },
  {
   "cell_type": "code",
   "execution_count": 126,
   "metadata": {},
   "outputs": [
    {
     "data": {
      "text/plain": [
       "4     37\n",
       "1     32\n",
       "3     32\n",
       "9     30\n",
       "11    27\n",
       "0     26\n",
       "14    24\n",
       "6     21\n",
       "2     18\n",
       "15    18\n",
       "8     18\n",
       "7     16\n",
       "12    15\n",
       "13    14\n",
       "5      7\n",
       "Name: Clusters, dtype: int64"
      ]
     },
     "execution_count": 126,
     "metadata": {},
     "output_type": "execute_result"
    }
   ],
   "source": [
    "off_cluster_results['Clusters'] = off_cluster_results['Clusters'].replace([10,16], [4,1])\n",
    "off_cluster_results.Clusters.value_counts()"
   ]
  },
  {
   "cell_type": "code",
   "execution_count": 127,
   "metadata": {},
   "outputs": [
    {
     "data": {
      "text/plain": [
       "4     37\n",
       "1     32\n",
       "3     32\n",
       "9     30\n",
       "11    27\n",
       "0     26\n",
       "14    24\n",
       "6     21\n",
       "2     18\n",
       "15    18\n",
       "8     18\n",
       "7     16\n",
       "12    15\n",
       "13    14\n",
       "5      7\n",
       "Name: Cluster, dtype: int64"
      ]
     },
     "execution_count": 127,
     "metadata": {},
     "output_type": "execute_result"
    }
   ],
   "source": [
    "\n",
    "off_cluster_groups = off_cluster_results.groupby('Clusters').mean()\n",
    "off_cluster_groups['Clusters'] = (0,1,2,3,4,5,6,7,8,9,11,12,13,14,15)\n",
    "off_cluster_groups.to_csv(\"Offence Cluster Data.csv\")\n",
    "off_player_groups  = all_offence_clust[['PLAYER_NAME', 'Season']].copy()\n",
    "off_player_groups['Cluster'] = off_cluster_results.Clusters\n",
    "off_player_groups.Cluster.value_counts()"
   ]
  },
  {
   "cell_type": "code",
   "execution_count": 128,
   "metadata": {},
   "outputs": [
    {
     "data": {
      "text/html": [
       "<div>\n",
       "<style scoped>\n",
       "    .dataframe tbody tr th:only-of-type {\n",
       "        vertical-align: middle;\n",
       "    }\n",
       "\n",
       "    .dataframe tbody tr th {\n",
       "        vertical-align: top;\n",
       "    }\n",
       "\n",
       "    .dataframe thead th {\n",
       "        text-align: right;\n",
       "    }\n",
       "</style>\n",
       "<table border=\"1\" class=\"dataframe\">\n",
       "  <thead>\n",
       "    <tr style=\"text-align: right;\">\n",
       "      <th></th>\n",
       "      <th>Clusters</th>\n",
       "      <th>Cut PPP</th>\n",
       "      <th>Cut FREQ</th>\n",
       "      <th>Handoff PPP</th>\n",
       "      <th>Handoff FREQ</th>\n",
       "      <th>Isolation PPP</th>\n",
       "      <th>Isolation FREQ</th>\n",
       "      <th>OffScreen PPP</th>\n",
       "      <th>OffScreen FREQ</th>\n",
       "      <th>Postup PPP</th>\n",
       "      <th>...</th>\n",
       "      <th>USG_PCT</th>\n",
       "      <th>POTENTIAL_AST FREQ</th>\n",
       "      <th>Restricted Area FREQ</th>\n",
       "      <th>In The Paint (Non-RA) FREQ</th>\n",
       "      <th>Mid-Range FREQ</th>\n",
       "      <th>3P FREQ</th>\n",
       "      <th>Drives FREQ</th>\n",
       "      <th>PULL_UP FREQ</th>\n",
       "      <th>CATCH_SHOOT FREQ</th>\n",
       "      <th>Clusters.1</th>\n",
       "    </tr>\n",
       "  </thead>\n",
       "  <tbody>\n",
       "    <tr>\n",
       "      <th>0</th>\n",
       "      <td>0</td>\n",
       "      <td>1.183577</td>\n",
       "      <td>0.031462</td>\n",
       "      <td>0.910769</td>\n",
       "      <td>0.099423</td>\n",
       "      <td>0.861192</td>\n",
       "      <td>0.056154</td>\n",
       "      <td>0.969115</td>\n",
       "      <td>0.083154</td>\n",
       "      <td>0.026923</td>\n",
       "      <td>...</td>\n",
       "      <td>0.210731</td>\n",
       "      <td>0.374927</td>\n",
       "      <td>0.407665</td>\n",
       "      <td>0.272326</td>\n",
       "      <td>0.320009</td>\n",
       "      <td>0.519376</td>\n",
       "      <td>0.403745</td>\n",
       "      <td>0.363344</td>\n",
       "      <td>0.348195</td>\n",
       "      <td>0</td>\n",
       "    </tr>\n",
       "    <tr>\n",
       "      <th>1</th>\n",
       "      <td>1</td>\n",
       "      <td>1.308031</td>\n",
       "      <td>0.117656</td>\n",
       "      <td>0.396969</td>\n",
       "      <td>0.012406</td>\n",
       "      <td>0.726875</td>\n",
       "      <td>0.042469</td>\n",
       "      <td>0.495156</td>\n",
       "      <td>0.016969</td>\n",
       "      <td>0.942531</td>\n",
       "      <td>...</td>\n",
       "      <td>0.208344</td>\n",
       "      <td>0.321070</td>\n",
       "      <td>0.511666</td>\n",
       "      <td>0.320554</td>\n",
       "      <td>0.167781</td>\n",
       "      <td>0.284462</td>\n",
       "      <td>0.220376</td>\n",
       "      <td>0.112823</td>\n",
       "      <td>0.320523</td>\n",
       "      <td>1</td>\n",
       "    </tr>\n",
       "    <tr>\n",
       "      <th>2</th>\n",
       "      <td>2</td>\n",
       "      <td>1.208222</td>\n",
       "      <td>0.153667</td>\n",
       "      <td>0.206333</td>\n",
       "      <td>0.008389</td>\n",
       "      <td>0.233722</td>\n",
       "      <td>0.010944</td>\n",
       "      <td>0.000000</td>\n",
       "      <td>0.000000</td>\n",
       "      <td>0.174778</td>\n",
       "      <td>...</td>\n",
       "      <td>0.145889</td>\n",
       "      <td>0.314781</td>\n",
       "      <td>0.761026</td>\n",
       "      <td>0.177500</td>\n",
       "      <td>0.061474</td>\n",
       "      <td>0.359437</td>\n",
       "      <td>0.251103</td>\n",
       "      <td>0.055778</td>\n",
       "      <td>0.350507</td>\n",
       "      <td>2</td>\n",
       "    </tr>\n",
       "    <tr>\n",
       "      <th>3</th>\n",
       "      <td>3</td>\n",
       "      <td>1.327937</td>\n",
       "      <td>0.058031</td>\n",
       "      <td>0.849906</td>\n",
       "      <td>0.055531</td>\n",
       "      <td>0.876781</td>\n",
       "      <td>0.049875</td>\n",
       "      <td>0.881219</td>\n",
       "      <td>0.030469</td>\n",
       "      <td>0.272062</td>\n",
       "      <td>...</td>\n",
       "      <td>0.183812</td>\n",
       "      <td>0.406264</td>\n",
       "      <td>0.542517</td>\n",
       "      <td>0.317844</td>\n",
       "      <td>0.139640</td>\n",
       "      <td>0.420479</td>\n",
       "      <td>0.480686</td>\n",
       "      <td>0.195139</td>\n",
       "      <td>0.335122</td>\n",
       "      <td>3</td>\n",
       "    </tr>\n",
       "    <tr>\n",
       "      <th>4</th>\n",
       "      <td>4</td>\n",
       "      <td>1.305135</td>\n",
       "      <td>0.248405</td>\n",
       "      <td>0.033270</td>\n",
       "      <td>0.000649</td>\n",
       "      <td>0.193459</td>\n",
       "      <td>0.006541</td>\n",
       "      <td>0.000000</td>\n",
       "      <td>0.000000</td>\n",
       "      <td>0.753649</td>\n",
       "      <td>...</td>\n",
       "      <td>0.157757</td>\n",
       "      <td>0.315773</td>\n",
       "      <td>0.692092</td>\n",
       "      <td>0.256929</td>\n",
       "      <td>0.050979</td>\n",
       "      <td>0.049392</td>\n",
       "      <td>0.073780</td>\n",
       "      <td>0.031528</td>\n",
       "      <td>0.101502</td>\n",
       "      <td>4</td>\n",
       "    </tr>\n",
       "    <tr>\n",
       "      <th>5</th>\n",
       "      <td>5</td>\n",
       "      <td>0.906714</td>\n",
       "      <td>0.044000</td>\n",
       "      <td>0.383000</td>\n",
       "      <td>0.024571</td>\n",
       "      <td>0.514286</td>\n",
       "      <td>0.066429</td>\n",
       "      <td>0.000000</td>\n",
       "      <td>0.000000</td>\n",
       "      <td>0.000000</td>\n",
       "      <td>...</td>\n",
       "      <td>0.158714</td>\n",
       "      <td>1.251645</td>\n",
       "      <td>0.485207</td>\n",
       "      <td>0.302344</td>\n",
       "      <td>0.212449</td>\n",
       "      <td>0.280267</td>\n",
       "      <td>1.127054</td>\n",
       "      <td>0.312704</td>\n",
       "      <td>0.183101</td>\n",
       "      <td>5</td>\n",
       "    </tr>\n",
       "    <tr>\n",
       "      <th>6</th>\n",
       "      <td>6</td>\n",
       "      <td>1.252000</td>\n",
       "      <td>0.063905</td>\n",
       "      <td>0.837857</td>\n",
       "      <td>0.063524</td>\n",
       "      <td>0.034381</td>\n",
       "      <td>0.001286</td>\n",
       "      <td>0.998571</td>\n",
       "      <td>0.059667</td>\n",
       "      <td>0.034905</td>\n",
       "      <td>...</td>\n",
       "      <td>0.151095</td>\n",
       "      <td>0.327365</td>\n",
       "      <td>0.487996</td>\n",
       "      <td>0.261587</td>\n",
       "      <td>0.250417</td>\n",
       "      <td>0.602519</td>\n",
       "      <td>0.278453</td>\n",
       "      <td>0.177041</td>\n",
       "      <td>0.547792</td>\n",
       "      <td>6</td>\n",
       "    </tr>\n",
       "    <tr>\n",
       "      <th>7</th>\n",
       "      <td>7</td>\n",
       "      <td>1.362000</td>\n",
       "      <td>0.048125</td>\n",
       "      <td>0.925063</td>\n",
       "      <td>0.045000</td>\n",
       "      <td>0.787438</td>\n",
       "      <td>0.082000</td>\n",
       "      <td>0.801500</td>\n",
       "      <td>0.050500</td>\n",
       "      <td>0.983125</td>\n",
       "      <td>...</td>\n",
       "      <td>0.209563</td>\n",
       "      <td>0.274463</td>\n",
       "      <td>0.368518</td>\n",
       "      <td>0.306275</td>\n",
       "      <td>0.325207</td>\n",
       "      <td>0.431991</td>\n",
       "      <td>0.334799</td>\n",
       "      <td>0.282498</td>\n",
       "      <td>0.383558</td>\n",
       "      <td>7</td>\n",
       "    </tr>\n",
       "    <tr>\n",
       "      <th>8</th>\n",
       "      <td>8</td>\n",
       "      <td>0.717889</td>\n",
       "      <td>0.026667</td>\n",
       "      <td>0.977111</td>\n",
       "      <td>0.132333</td>\n",
       "      <td>0.179056</td>\n",
       "      <td>0.008500</td>\n",
       "      <td>0.965222</td>\n",
       "      <td>0.147722</td>\n",
       "      <td>0.049389</td>\n",
       "      <td>...</td>\n",
       "      <td>0.178833</td>\n",
       "      <td>0.305490</td>\n",
       "      <td>0.457135</td>\n",
       "      <td>0.263057</td>\n",
       "      <td>0.279808</td>\n",
       "      <td>0.717009</td>\n",
       "      <td>0.247812</td>\n",
       "      <td>0.255062</td>\n",
       "      <td>0.563775</td>\n",
       "      <td>8</td>\n",
       "    </tr>\n",
       "    <tr>\n",
       "      <th>9</th>\n",
       "      <td>9</td>\n",
       "      <td>1.088167</td>\n",
       "      <td>0.019033</td>\n",
       "      <td>0.916267</td>\n",
       "      <td>0.059567</td>\n",
       "      <td>0.918133</td>\n",
       "      <td>0.141600</td>\n",
       "      <td>0.936067</td>\n",
       "      <td>0.035900</td>\n",
       "      <td>0.346667</td>\n",
       "      <td>...</td>\n",
       "      <td>0.276067</td>\n",
       "      <td>0.537241</td>\n",
       "      <td>0.379052</td>\n",
       "      <td>0.349169</td>\n",
       "      <td>0.271779</td>\n",
       "      <td>0.393658</td>\n",
       "      <td>0.643719</td>\n",
       "      <td>0.451757</td>\n",
       "      <td>0.172106</td>\n",
       "      <td>9</td>\n",
       "    </tr>\n",
       "    <tr>\n",
       "      <th>10</th>\n",
       "      <td>11</td>\n",
       "      <td>0.056963</td>\n",
       "      <td>0.001111</td>\n",
       "      <td>0.860370</td>\n",
       "      <td>0.058074</td>\n",
       "      <td>0.866222</td>\n",
       "      <td>0.077259</td>\n",
       "      <td>0.656000</td>\n",
       "      <td>0.026370</td>\n",
       "      <td>0.040741</td>\n",
       "      <td>...</td>\n",
       "      <td>0.199889</td>\n",
       "      <td>0.634052</td>\n",
       "      <td>0.352916</td>\n",
       "      <td>0.358905</td>\n",
       "      <td>0.288178</td>\n",
       "      <td>0.441997</td>\n",
       "      <td>0.694890</td>\n",
       "      <td>0.419848</td>\n",
       "      <td>0.252418</td>\n",
       "      <td>11</td>\n",
       "    </tr>\n",
       "    <tr>\n",
       "      <th>11</th>\n",
       "      <td>12</td>\n",
       "      <td>1.271733</td>\n",
       "      <td>0.154400</td>\n",
       "      <td>0.000000</td>\n",
       "      <td>0.000000</td>\n",
       "      <td>0.000000</td>\n",
       "      <td>0.000000</td>\n",
       "      <td>0.000000</td>\n",
       "      <td>0.000000</td>\n",
       "      <td>0.693467</td>\n",
       "      <td>...</td>\n",
       "      <td>0.160867</td>\n",
       "      <td>0.319543</td>\n",
       "      <td>0.606979</td>\n",
       "      <td>0.261938</td>\n",
       "      <td>0.131084</td>\n",
       "      <td>0.365628</td>\n",
       "      <td>0.108249</td>\n",
       "      <td>0.049937</td>\n",
       "      <td>0.413243</td>\n",
       "      <td>12</td>\n",
       "    </tr>\n",
       "    <tr>\n",
       "      <th>12</th>\n",
       "      <td>13</td>\n",
       "      <td>1.386071</td>\n",
       "      <td>0.041071</td>\n",
       "      <td>0.875929</td>\n",
       "      <td>0.035214</td>\n",
       "      <td>0.962786</td>\n",
       "      <td>0.160357</td>\n",
       "      <td>0.922571</td>\n",
       "      <td>0.051357</td>\n",
       "      <td>0.947286</td>\n",
       "      <td>...</td>\n",
       "      <td>0.300000</td>\n",
       "      <td>0.404407</td>\n",
       "      <td>0.367780</td>\n",
       "      <td>0.270754</td>\n",
       "      <td>0.361466</td>\n",
       "      <td>0.280926</td>\n",
       "      <td>0.446227</td>\n",
       "      <td>0.422684</td>\n",
       "      <td>0.180080</td>\n",
       "      <td>13</td>\n",
       "    </tr>\n",
       "    <tr>\n",
       "      <th>13</th>\n",
       "      <td>14</td>\n",
       "      <td>1.069500</td>\n",
       "      <td>0.087583</td>\n",
       "      <td>0.275875</td>\n",
       "      <td>0.020958</td>\n",
       "      <td>0.020833</td>\n",
       "      <td>0.000875</td>\n",
       "      <td>0.061125</td>\n",
       "      <td>0.003542</td>\n",
       "      <td>0.128167</td>\n",
       "      <td>...</td>\n",
       "      <td>0.126542</td>\n",
       "      <td>0.567304</td>\n",
       "      <td>0.604980</td>\n",
       "      <td>0.261932</td>\n",
       "      <td>0.133088</td>\n",
       "      <td>0.552760</td>\n",
       "      <td>0.358101</td>\n",
       "      <td>0.121583</td>\n",
       "      <td>0.500834</td>\n",
       "      <td>14</td>\n",
       "    </tr>\n",
       "    <tr>\n",
       "      <th>14</th>\n",
       "      <td>15</td>\n",
       "      <td>1.240889</td>\n",
       "      <td>0.037111</td>\n",
       "      <td>0.874222</td>\n",
       "      <td>0.053889</td>\n",
       "      <td>0.839667</td>\n",
       "      <td>0.054611</td>\n",
       "      <td>0.116500</td>\n",
       "      <td>0.006167</td>\n",
       "      <td>0.040722</td>\n",
       "      <td>...</td>\n",
       "      <td>0.166611</td>\n",
       "      <td>0.767617</td>\n",
       "      <td>0.447430</td>\n",
       "      <td>0.392609</td>\n",
       "      <td>0.159961</td>\n",
       "      <td>0.410920</td>\n",
       "      <td>0.695077</td>\n",
       "      <td>0.267285</td>\n",
       "      <td>0.309810</td>\n",
       "      <td>15</td>\n",
       "    </tr>\n",
       "  </tbody>\n",
       "</table>\n",
       "<p>15 rows × 33 columns</p>\n",
       "</div>"
      ],
      "text/plain": [
       "    Clusters   Cut PPP  Cut FREQ  Handoff PPP  Handoff FREQ  Isolation PPP  \\\n",
       "0          0  1.183577  0.031462     0.910769      0.099423       0.861192   \n",
       "1          1  1.308031  0.117656     0.396969      0.012406       0.726875   \n",
       "2          2  1.208222  0.153667     0.206333      0.008389       0.233722   \n",
       "3          3  1.327937  0.058031     0.849906      0.055531       0.876781   \n",
       "4          4  1.305135  0.248405     0.033270      0.000649       0.193459   \n",
       "5          5  0.906714  0.044000     0.383000      0.024571       0.514286   \n",
       "6          6  1.252000  0.063905     0.837857      0.063524       0.034381   \n",
       "7          7  1.362000  0.048125     0.925063      0.045000       0.787438   \n",
       "8          8  0.717889  0.026667     0.977111      0.132333       0.179056   \n",
       "9          9  1.088167  0.019033     0.916267      0.059567       0.918133   \n",
       "10        11  0.056963  0.001111     0.860370      0.058074       0.866222   \n",
       "11        12  1.271733  0.154400     0.000000      0.000000       0.000000   \n",
       "12        13  1.386071  0.041071     0.875929      0.035214       0.962786   \n",
       "13        14  1.069500  0.087583     0.275875      0.020958       0.020833   \n",
       "14        15  1.240889  0.037111     0.874222      0.053889       0.839667   \n",
       "\n",
       "    Isolation FREQ  OffScreen PPP  OffScreen FREQ  Postup PPP  ...   USG_PCT  \\\n",
       "0         0.056154       0.969115        0.083154    0.026923  ...  0.210731   \n",
       "1         0.042469       0.495156        0.016969    0.942531  ...  0.208344   \n",
       "2         0.010944       0.000000        0.000000    0.174778  ...  0.145889   \n",
       "3         0.049875       0.881219        0.030469    0.272062  ...  0.183812   \n",
       "4         0.006541       0.000000        0.000000    0.753649  ...  0.157757   \n",
       "5         0.066429       0.000000        0.000000    0.000000  ...  0.158714   \n",
       "6         0.001286       0.998571        0.059667    0.034905  ...  0.151095   \n",
       "7         0.082000       0.801500        0.050500    0.983125  ...  0.209563   \n",
       "8         0.008500       0.965222        0.147722    0.049389  ...  0.178833   \n",
       "9         0.141600       0.936067        0.035900    0.346667  ...  0.276067   \n",
       "10        0.077259       0.656000        0.026370    0.040741  ...  0.199889   \n",
       "11        0.000000       0.000000        0.000000    0.693467  ...  0.160867   \n",
       "12        0.160357       0.922571        0.051357    0.947286  ...  0.300000   \n",
       "13        0.000875       0.061125        0.003542    0.128167  ...  0.126542   \n",
       "14        0.054611       0.116500        0.006167    0.040722  ...  0.166611   \n",
       "\n",
       "    POTENTIAL_AST FREQ  Restricted Area FREQ  In The Paint (Non-RA) FREQ  \\\n",
       "0             0.374927              0.407665                    0.272326   \n",
       "1             0.321070              0.511666                    0.320554   \n",
       "2             0.314781              0.761026                    0.177500   \n",
       "3             0.406264              0.542517                    0.317844   \n",
       "4             0.315773              0.692092                    0.256929   \n",
       "5             1.251645              0.485207                    0.302344   \n",
       "6             0.327365              0.487996                    0.261587   \n",
       "7             0.274463              0.368518                    0.306275   \n",
       "8             0.305490              0.457135                    0.263057   \n",
       "9             0.537241              0.379052                    0.349169   \n",
       "10            0.634052              0.352916                    0.358905   \n",
       "11            0.319543              0.606979                    0.261938   \n",
       "12            0.404407              0.367780                    0.270754   \n",
       "13            0.567304              0.604980                    0.261932   \n",
       "14            0.767617              0.447430                    0.392609   \n",
       "\n",
       "    Mid-Range FREQ   3P FREQ  Drives FREQ  PULL_UP FREQ  CATCH_SHOOT FREQ  \\\n",
       "0         0.320009  0.519376     0.403745      0.363344          0.348195   \n",
       "1         0.167781  0.284462     0.220376      0.112823          0.320523   \n",
       "2         0.061474  0.359437     0.251103      0.055778          0.350507   \n",
       "3         0.139640  0.420479     0.480686      0.195139          0.335122   \n",
       "4         0.050979  0.049392     0.073780      0.031528          0.101502   \n",
       "5         0.212449  0.280267     1.127054      0.312704          0.183101   \n",
       "6         0.250417  0.602519     0.278453      0.177041          0.547792   \n",
       "7         0.325207  0.431991     0.334799      0.282498          0.383558   \n",
       "8         0.279808  0.717009     0.247812      0.255062          0.563775   \n",
       "9         0.271779  0.393658     0.643719      0.451757          0.172106   \n",
       "10        0.288178  0.441997     0.694890      0.419848          0.252418   \n",
       "11        0.131084  0.365628     0.108249      0.049937          0.413243   \n",
       "12        0.361466  0.280926     0.446227      0.422684          0.180080   \n",
       "13        0.133088  0.552760     0.358101      0.121583          0.500834   \n",
       "14        0.159961  0.410920     0.695077      0.267285          0.309810   \n",
       "\n",
       "    Clusters.1  \n",
       "0            0  \n",
       "1            1  \n",
       "2            2  \n",
       "3            3  \n",
       "4            4  \n",
       "5            5  \n",
       "6            6  \n",
       "7            7  \n",
       "8            8  \n",
       "9            9  \n",
       "10          11  \n",
       "11          12  \n",
       "12          13  \n",
       "13          14  \n",
       "14          15  \n",
       "\n",
       "[15 rows x 33 columns]"
      ]
     },
     "execution_count": 128,
     "metadata": {},
     "output_type": "execute_result"
    }
   ],
   "source": [
    "pd.read_csv('Offence Cluster Data.csv')"
   ]
  },
  {
   "cell_type": "code",
   "execution_count": 129,
   "metadata": {},
   "outputs": [
    {
     "data": {
      "text/html": [
       "<div>\n",
       "<style scoped>\n",
       "    .dataframe tbody tr th:only-of-type {\n",
       "        vertical-align: middle;\n",
       "    }\n",
       "\n",
       "    .dataframe tbody tr th {\n",
       "        vertical-align: top;\n",
       "    }\n",
       "\n",
       "    .dataframe thead th {\n",
       "        text-align: right;\n",
       "    }\n",
       "</style>\n",
       "<table border=\"1\" class=\"dataframe\">\n",
       "  <thead>\n",
       "    <tr style=\"text-align: right;\">\n",
       "      <th></th>\n",
       "      <th>PLAYER_NAME</th>\n",
       "      <th>Season</th>\n",
       "      <th>Cluster</th>\n",
       "    </tr>\n",
       "  </thead>\n",
       "  <tbody>\n",
       "    <tr>\n",
       "      <th>69</th>\n",
       "      <td>Pascal Siakam</td>\n",
       "      <td>2021-22</td>\n",
       "      <td>13</td>\n",
       "    </tr>\n",
       "  </tbody>\n",
       "</table>\n",
       "</div>"
      ],
      "text/plain": [
       "      PLAYER_NAME   Season  Cluster\n",
       "69  Pascal Siakam  2021-22       13"
      ]
     },
     "execution_count": 129,
     "metadata": {},
     "output_type": "execute_result"
    }
   ],
   "source": [
    "off_player_groups[off_player_groups['PLAYER_NAME']=='Pascal Siakam']"
   ]
  },
  {
   "cell_type": "code",
   "execution_count": 130,
   "metadata": {},
   "outputs": [
    {
     "data": {
      "text/html": [
       "<div>\n",
       "<style scoped>\n",
       "    .dataframe tbody tr th:only-of-type {\n",
       "        vertical-align: middle;\n",
       "    }\n",
       "\n",
       "    .dataframe tbody tr th {\n",
       "        vertical-align: top;\n",
       "    }\n",
       "\n",
       "    .dataframe thead th {\n",
       "        text-align: right;\n",
       "    }\n",
       "</style>\n",
       "<table border=\"1\" class=\"dataframe\">\n",
       "  <thead>\n",
       "    <tr style=\"text-align: right;\">\n",
       "      <th></th>\n",
       "      <th>PLAYER_NAME</th>\n",
       "      <th>Season</th>\n",
       "      <th>Cluster</th>\n",
       "    </tr>\n",
       "  </thead>\n",
       "  <tbody>\n",
       "    <tr>\n",
       "      <th>327</th>\n",
       "      <td>Tyrese Maxey</td>\n",
       "      <td>2021-22</td>\n",
       "      <td>11</td>\n",
       "    </tr>\n",
       "    <tr>\n",
       "      <th>346</th>\n",
       "      <td>Ricky Rubio</td>\n",
       "      <td>2021-22</td>\n",
       "      <td>11</td>\n",
       "    </tr>\n",
       "    <tr>\n",
       "      <th>348</th>\n",
       "      <td>Jalen Brunson</td>\n",
       "      <td>2021-22</td>\n",
       "      <td>11</td>\n",
       "    </tr>\n",
       "    <tr>\n",
       "      <th>350</th>\n",
       "      <td>Seth Curry</td>\n",
       "      <td>2021-22</td>\n",
       "      <td>11</td>\n",
       "    </tr>\n",
       "    <tr>\n",
       "      <th>352</th>\n",
       "      <td>Mike Conley</td>\n",
       "      <td>2021-22</td>\n",
       "      <td>11</td>\n",
       "    </tr>\n",
       "    <tr>\n",
       "      <th>353</th>\n",
       "      <td>Immanuel Quickley</td>\n",
       "      <td>2021-22</td>\n",
       "      <td>11</td>\n",
       "    </tr>\n",
       "    <tr>\n",
       "      <th>355</th>\n",
       "      <td>Malcolm Brogdon</td>\n",
       "      <td>2021-22</td>\n",
       "      <td>11</td>\n",
       "    </tr>\n",
       "    <tr>\n",
       "      <th>357</th>\n",
       "      <td>Davion Mitchell</td>\n",
       "      <td>2021-22</td>\n",
       "      <td>11</td>\n",
       "    </tr>\n",
       "    <tr>\n",
       "      <th>358</th>\n",
       "      <td>Cam Thomas</td>\n",
       "      <td>2021-22</td>\n",
       "      <td>11</td>\n",
       "    </tr>\n",
       "    <tr>\n",
       "      <th>362</th>\n",
       "      <td>Chris Paul</td>\n",
       "      <td>2021-22</td>\n",
       "      <td>11</td>\n",
       "    </tr>\n",
       "    <tr>\n",
       "      <th>363</th>\n",
       "      <td>Kemba Walker</td>\n",
       "      <td>2021-22</td>\n",
       "      <td>11</td>\n",
       "    </tr>\n",
       "    <tr>\n",
       "      <th>364</th>\n",
       "      <td>Devonte' Graham</td>\n",
       "      <td>2021-22</td>\n",
       "      <td>11</td>\n",
       "    </tr>\n",
       "    <tr>\n",
       "      <th>365</th>\n",
       "      <td>Cameron Payne</td>\n",
       "      <td>2021-22</td>\n",
       "      <td>11</td>\n",
       "    </tr>\n",
       "    <tr>\n",
       "      <th>368</th>\n",
       "      <td>Tyrese Haliburton</td>\n",
       "      <td>2021-22</td>\n",
       "      <td>11</td>\n",
       "    </tr>\n",
       "    <tr>\n",
       "      <th>370</th>\n",
       "      <td>Brandon Williams</td>\n",
       "      <td>2021-22</td>\n",
       "      <td>11</td>\n",
       "    </tr>\n",
       "    <tr>\n",
       "      <th>371</th>\n",
       "      <td>Shake Milton</td>\n",
       "      <td>2021-22</td>\n",
       "      <td>11</td>\n",
       "    </tr>\n",
       "    <tr>\n",
       "      <th>372</th>\n",
       "      <td>Derrick Rose</td>\n",
       "      <td>2021-22</td>\n",
       "      <td>11</td>\n",
       "    </tr>\n",
       "    <tr>\n",
       "      <th>375</th>\n",
       "      <td>Jeremy Lamb</td>\n",
       "      <td>2021-22</td>\n",
       "      <td>11</td>\n",
       "    </tr>\n",
       "    <tr>\n",
       "      <th>376</th>\n",
       "      <td>Tre Mann</td>\n",
       "      <td>2021-22</td>\n",
       "      <td>11</td>\n",
       "    </tr>\n",
       "    <tr>\n",
       "      <th>381</th>\n",
       "      <td>Aaron Holiday</td>\n",
       "      <td>2021-22</td>\n",
       "      <td>11</td>\n",
       "    </tr>\n",
       "    <tr>\n",
       "      <th>382</th>\n",
       "      <td>Lance Stephenson</td>\n",
       "      <td>2021-22</td>\n",
       "      <td>11</td>\n",
       "    </tr>\n",
       "    <tr>\n",
       "      <th>383</th>\n",
       "      <td>Spencer Dinwiddie</td>\n",
       "      <td>2021-22</td>\n",
       "      <td>11</td>\n",
       "    </tr>\n",
       "    <tr>\n",
       "      <th>387</th>\n",
       "      <td>Coby White</td>\n",
       "      <td>2021-22</td>\n",
       "      <td>11</td>\n",
       "    </tr>\n",
       "    <tr>\n",
       "      <th>395</th>\n",
       "      <td>Austin Rivers</td>\n",
       "      <td>2021-22</td>\n",
       "      <td>11</td>\n",
       "    </tr>\n",
       "    <tr>\n",
       "      <th>397</th>\n",
       "      <td>D.J. Augustin</td>\n",
       "      <td>2021-22</td>\n",
       "      <td>11</td>\n",
       "    </tr>\n",
       "    <tr>\n",
       "      <th>402</th>\n",
       "      <td>Ty Jerome</td>\n",
       "      <td>2021-22</td>\n",
       "      <td>11</td>\n",
       "    </tr>\n",
       "    <tr>\n",
       "      <th>403</th>\n",
       "      <td>Keifer Sykes</td>\n",
       "      <td>2021-22</td>\n",
       "      <td>11</td>\n",
       "    </tr>\n",
       "  </tbody>\n",
       "</table>\n",
       "</div>"
      ],
      "text/plain": [
       "           PLAYER_NAME   Season  Cluster\n",
       "327       Tyrese Maxey  2021-22       11\n",
       "346        Ricky Rubio  2021-22       11\n",
       "348      Jalen Brunson  2021-22       11\n",
       "350         Seth Curry  2021-22       11\n",
       "352        Mike Conley  2021-22       11\n",
       "353  Immanuel Quickley  2021-22       11\n",
       "355    Malcolm Brogdon  2021-22       11\n",
       "357    Davion Mitchell  2021-22       11\n",
       "358         Cam Thomas  2021-22       11\n",
       "362         Chris Paul  2021-22       11\n",
       "363       Kemba Walker  2021-22       11\n",
       "364    Devonte' Graham  2021-22       11\n",
       "365      Cameron Payne  2021-22       11\n",
       "368  Tyrese Haliburton  2021-22       11\n",
       "370   Brandon Williams  2021-22       11\n",
       "371       Shake Milton  2021-22       11\n",
       "372       Derrick Rose  2021-22       11\n",
       "375        Jeremy Lamb  2021-22       11\n",
       "376           Tre Mann  2021-22       11\n",
       "381      Aaron Holiday  2021-22       11\n",
       "382   Lance Stephenson  2021-22       11\n",
       "383  Spencer Dinwiddie  2021-22       11\n",
       "387         Coby White  2021-22       11\n",
       "395      Austin Rivers  2021-22       11\n",
       "397      D.J. Augustin  2021-22       11\n",
       "402          Ty Jerome  2021-22       11\n",
       "403       Keifer Sykes  2021-22       11"
      ]
     },
     "execution_count": 130,
     "metadata": {},
     "output_type": "execute_result"
    }
   ],
   "source": [
    "off_player_groups[off_player_groups['Cluster']==11]"
   ]
  },
  {
   "cell_type": "code",
   "execution_count": 131,
   "metadata": {},
   "outputs": [],
   "source": [
    "off_ranks = pd.DataFrame()\n",
    "for i in off_cluster_groups.columns:\n",
    "    off_ranks[i + ' rank'] = off_cluster_groups[i].rank()\n",
    "\n",
    "off_ranks.to_csv('off_ranks.csv', index=False)"
   ]
  },
  {
   "cell_type": "code",
   "execution_count": 132,
   "metadata": {},
   "outputs": [],
   "source": [
    "off_cluster_dict = {0: 'Off-Guard Shot-Creator', 1: 'Versatile Big Creator', 2: 'Off-Ball Big', 3:'Versatile Wing Slasher', 4: 'Interior Big', 5:'Pass-First Hesitant-Shooter', \n",
    "6:'Spot-Up Shooter', 7: 'Big-Wing Secondary Creator', 8:'Movement Shooter',\n",
    "9: 'Aggressive Guard', 11: ' Secondary Perimeter Shot Creator', 12: \"Stretch Big\",\n",
    " 13: 'Iso-Wing Creator', 14:'Glue Guy', 15: 'Pass-First Willing Shooter'}\n",
    "\n"
   ]
  },
  {
   "cell_type": "code",
   "execution_count": 133,
   "metadata": {},
   "outputs": [
    {
     "data": {
      "text/plain": [
       "Index(['PLAYER_NAME', 'Season', 'Cut PPP', 'Cut FREQ', 'GP', 'Handoff PPP',\n",
       "       'Handoff FREQ', 'Isolation PPP', 'Isolation FREQ', 'Misc PPP',\n",
       "       'Misc FREQ', 'OffScreen PPP', 'OffScreen FREQ', 'Postup PPP',\n",
       "       'Postup FREQ', 'PRBallHandler PPP', 'PRBallHandler FREQ',\n",
       "       'PRRollman PPP', 'PRRollman FREQ', 'OffRebound PPP', 'OffRebound FREQ',\n",
       "       'Spotup PPP', 'Spotup FREQ', 'Transition PPP', 'Transition FREQ',\n",
       "       'Total Poss', 'MIN', 'POTENTIAL_AST', 'DRIVE_PASSES_PCT',\n",
       "       'PULL_UP_FG3_PCT', 'CATCH_SHOOT_FG_PCT', 'FG3A', 'USG_PCT',\n",
       "       'POTENTIAL_AST FREQ', 'Restricted Area FREQ',\n",
       "       'In The Paint (Non-RA) FREQ', 'Mid-Range FREQ', '3P FREQ',\n",
       "       'Drives FREQ', 'PULL_UP FREQ', 'CATCH_SHOOT FREQ'],\n",
       "      dtype='object')"
      ]
     },
     "execution_count": 133,
     "metadata": {},
     "output_type": "execute_result"
    }
   ],
   "source": [
    "all_offence_clust.columns"
   ]
  },
  {
   "cell_type": "code",
   "execution_count": 134,
   "metadata": {},
   "outputs": [],
   "source": [
    "off_cluster = all_offence_clust.drop(['Misc PPP', 'Misc FREQ', \"Total Poss\", 'POTENTIAL_AST','PULL_UP_FG3_PCT', 'CATCH_SHOOT_FG_PCT' ], axis='columns')\n",
    "off_cluster['Cluster'] = off_player_groups['Cluster'].values\n"
   ]
  },
  {
   "cell_type": "code",
   "execution_count": 135,
   "metadata": {},
   "outputs": [],
   "source": [
    "off_cluster['Archetype'] = off_cluster['Cluster'].map(off_cluster_dict)"
   ]
  },
  {
   "cell_type": "code",
   "execution_count": null,
   "metadata": {},
   "outputs": [],
   "source": []
  },
  {
   "cell_type": "code",
   "execution_count": 136,
   "metadata": {},
   "outputs": [],
   "source": [
    "off_cluster.to_csv('Offence Data.csv',index=False)"
   ]
  },
  {
   "cell_type": "code",
   "execution_count": 137,
   "metadata": {},
   "outputs": [
    {
     "data": {
      "text/plain": [
       "Index(['PLAYER_NAME', 'Season', 'Cut PPP', 'Cut FREQ', 'GP', 'Handoff PPP',\n",
       "       'Handoff FREQ', 'Isolation PPP', 'Isolation FREQ', 'OffScreen PPP',\n",
       "       'OffScreen FREQ', 'Postup PPP', 'Postup FREQ', 'PRBallHandler PPP',\n",
       "       'PRBallHandler FREQ', 'PRRollman PPP', 'PRRollman FREQ',\n",
       "       'OffRebound PPP', 'OffRebound FREQ', 'Spotup PPP', 'Spotup FREQ',\n",
       "       'Transition PPP', 'Transition FREQ', 'MIN', 'DRIVE_PASSES_PCT', 'FG3A',\n",
       "       'USG_PCT', 'POTENTIAL_AST FREQ', 'Restricted Area FREQ',\n",
       "       'In The Paint (Non-RA) FREQ', 'Mid-Range FREQ', '3P FREQ',\n",
       "       'Drives FREQ', 'PULL_UP FREQ', 'CATCH_SHOOT FREQ', 'Cluster',\n",
       "       'Archetype'],\n",
       "      dtype='object')"
      ]
     },
     "execution_count": 137,
     "metadata": {},
     "output_type": "execute_result"
    }
   ],
   "source": [
    "off_cluster.columns"
   ]
  },
  {
   "cell_type": "code",
   "execution_count": 138,
   "metadata": {},
   "outputs": [],
   "source": [
    "def slice_data(player):\n",
    "    player_offence = offence_data"
   ]
  },
  {
   "cell_type": "code",
   "execution_count": 139,
   "metadata": {},
   "outputs": [],
   "source": [
    "def draw_bar(player_data,cluster_data,league_data, col_list, player, league = True):\n",
    "    \n",
    "        \n",
    "    cluster = player_data['Cluster']\n",
    "    print(cluster)\n",
    "    \n",
    "    \n",
    "    \n",
    "    cluster_data_plt = cluster_data[col_list].values.tolist()[0]\n",
    "    league_data_plt = league_data[col_list].values.tolist()[0]\n",
    "    player_data_plt = player_data[col_list].values.tolist()[0]\n",
    "    \n",
    "    if league:\n",
    "        fig = go.Figure(data=[\n",
    "        \n",
    "        go.Bar(name=player_data['Archetype'].values[0]+'Average', x=col_list,\n",
    "               y=cluster_data_plt),\n",
    "              go.Bar (name=player , x=col_list,\n",
    "               y=player_data_plt),\n",
    "               go.Bar(name= 'League Average', x=col_list,\n",
    "               y=league_data_plt)])\n",
    "        # Change the bar mode\n",
    "        fig.update_layout(barmode='group')\n",
    "        fig.show()\n",
    "    \n",
    "    else:\n",
    "        fig = go.Figure(data=[\n",
    "        \n",
    "        go.Bar(name=player_data['Archetype'].values[0]+'Average', x=col_list,\n",
    "               y=cluster_data_plt),\n",
    "        \n",
    "               go.Bar(name=player , x=col_list,\n",
    "               y=player_data[col_list])\n",
    "               \n",
    "        ])\n",
    "        # Change the bar mode\n",
    "        fig.update_layout(barmode='group')\n",
    "        fig.show()\n",
    "        \n"
   ]
  },
  {
   "cell_type": "code",
   "execution_count": null,
   "metadata": {},
   "outputs": [],
   "source": []
  },
  {
   "cell_type": "code",
   "execution_count": 140,
   "metadata": {},
   "outputs": [
    {
     "data": {
      "text/html": [
       "<div>\n",
       "<style scoped>\n",
       "    .dataframe tbody tr th:only-of-type {\n",
       "        vertical-align: middle;\n",
       "    }\n",
       "\n",
       "    .dataframe tbody tr th {\n",
       "        vertical-align: top;\n",
       "    }\n",
       "\n",
       "    .dataframe thead th {\n",
       "        text-align: right;\n",
       "    }\n",
       "</style>\n",
       "<table border=\"1\" class=\"dataframe\">\n",
       "  <thead>\n",
       "    <tr style=\"text-align: right;\">\n",
       "      <th></th>\n",
       "      <th>Cut PPP rank</th>\n",
       "      <th>Cut FREQ rank</th>\n",
       "      <th>Handoff PPP rank</th>\n",
       "      <th>Handoff FREQ rank</th>\n",
       "      <th>Isolation PPP rank</th>\n",
       "      <th>Isolation FREQ rank</th>\n",
       "      <th>OffScreen PPP rank</th>\n",
       "      <th>OffScreen FREQ rank</th>\n",
       "      <th>Postup PPP rank</th>\n",
       "      <th>Postup FREQ rank</th>\n",
       "      <th>...</th>\n",
       "      <th>USG_PCT rank</th>\n",
       "      <th>POTENTIAL_AST FREQ rank</th>\n",
       "      <th>Restricted Area FREQ rank</th>\n",
       "      <th>In The Paint (Non-RA) FREQ rank</th>\n",
       "      <th>Mid-Range FREQ rank</th>\n",
       "      <th>3P FREQ rank</th>\n",
       "      <th>Drives FREQ rank</th>\n",
       "      <th>PULL_UP FREQ rank</th>\n",
       "      <th>CATCH_SHOOT FREQ rank</th>\n",
       "      <th>Clusters rank</th>\n",
       "    </tr>\n",
       "    <tr>\n",
       "      <th>Clusters</th>\n",
       "      <th></th>\n",
       "      <th></th>\n",
       "      <th></th>\n",
       "      <th></th>\n",
       "      <th></th>\n",
       "      <th></th>\n",
       "      <th></th>\n",
       "      <th></th>\n",
       "      <th></th>\n",
       "      <th></th>\n",
       "      <th></th>\n",
       "      <th></th>\n",
       "      <th></th>\n",
       "      <th></th>\n",
       "      <th></th>\n",
       "      <th></th>\n",
       "      <th></th>\n",
       "      <th></th>\n",
       "      <th></th>\n",
       "      <th></th>\n",
       "      <th></th>\n",
       "    </tr>\n",
       "  </thead>\n",
       "  <tbody>\n",
       "    <tr>\n",
       "      <th>0</th>\n",
       "      <td>6.0</td>\n",
       "      <td>4.0</td>\n",
       "      <td>12.0</td>\n",
       "      <td>14.0</td>\n",
       "      <td>11.0</td>\n",
       "      <td>10.0</td>\n",
       "      <td>14.0</td>\n",
       "      <td>14.0</td>\n",
       "      <td>2.0</td>\n",
       "      <td>2.0</td>\n",
       "      <td>...</td>\n",
       "      <td>13.0</td>\n",
       "      <td>8.0</td>\n",
       "      <td>5.0</td>\n",
       "      <td>8.0</td>\n",
       "      <td>13.0</td>\n",
       "      <td>12.0</td>\n",
       "      <td>9.0</td>\n",
       "      <td>12.0</td>\n",
       "      <td>9.0</td>\n",
       "      <td>1.0</td>\n",
       "    </tr>\n",
       "    <tr>\n",
       "      <th>1</th>\n",
       "      <td>12.0</td>\n",
       "      <td>12.0</td>\n",
       "      <td>6.0</td>\n",
       "      <td>4.0</td>\n",
       "      <td>8.0</td>\n",
       "      <td>7.0</td>\n",
       "      <td>7.0</td>\n",
       "      <td>7.0</td>\n",
       "      <td>13.0</td>\n",
       "      <td>15.0</td>\n",
       "      <td>...</td>\n",
       "      <td>11.0</td>\n",
       "      <td>6.0</td>\n",
       "      <td>10.0</td>\n",
       "      <td>12.0</td>\n",
       "      <td>7.0</td>\n",
       "      <td>4.0</td>\n",
       "      <td>3.0</td>\n",
       "      <td>4.0</td>\n",
       "      <td>7.0</td>\n",
       "      <td>2.0</td>\n",
       "    </tr>\n",
       "    <tr>\n",
       "      <th>2</th>\n",
       "      <td>7.0</td>\n",
       "      <td>13.0</td>\n",
       "      <td>3.0</td>\n",
       "      <td>3.0</td>\n",
       "      <td>6.0</td>\n",
       "      <td>6.0</td>\n",
       "      <td>2.5</td>\n",
       "      <td>2.5</td>\n",
       "      <td>8.0</td>\n",
       "      <td>8.0</td>\n",
       "      <td>...</td>\n",
       "      <td>2.0</td>\n",
       "      <td>3.0</td>\n",
       "      <td>15.0</td>\n",
       "      <td>1.0</td>\n",
       "      <td>2.0</td>\n",
       "      <td>5.0</td>\n",
       "      <td>5.0</td>\n",
       "      <td>3.0</td>\n",
       "      <td>10.0</td>\n",
       "      <td>3.0</td>\n",
       "    </tr>\n",
       "    <tr>\n",
       "      <th>3</th>\n",
       "      <td>13.0</td>\n",
       "      <td>9.0</td>\n",
       "      <td>8.0</td>\n",
       "      <td>10.0</td>\n",
       "      <td>13.0</td>\n",
       "      <td>8.0</td>\n",
       "      <td>10.0</td>\n",
       "      <td>9.0</td>\n",
       "      <td>9.0</td>\n",
       "      <td>9.0</td>\n",
       "      <td>...</td>\n",
       "      <td>9.0</td>\n",
       "      <td>10.0</td>\n",
       "      <td>11.0</td>\n",
       "      <td>11.0</td>\n",
       "      <td>5.0</td>\n",
       "      <td>9.0</td>\n",
       "      <td>11.0</td>\n",
       "      <td>7.0</td>\n",
       "      <td>8.0</td>\n",
       "      <td>4.0</td>\n",
       "    </tr>\n",
       "    <tr>\n",
       "      <th>4</th>\n",
       "      <td>11.0</td>\n",
       "      <td>15.0</td>\n",
       "      <td>2.0</td>\n",
       "      <td>2.0</td>\n",
       "      <td>5.0</td>\n",
       "      <td>4.0</td>\n",
       "      <td>2.5</td>\n",
       "      <td>2.5</td>\n",
       "      <td>12.0</td>\n",
       "      <td>12.0</td>\n",
       "      <td>...</td>\n",
       "      <td>4.0</td>\n",
       "      <td>4.0</td>\n",
       "      <td>14.0</td>\n",
       "      <td>2.0</td>\n",
       "      <td>1.0</td>\n",
       "      <td>1.0</td>\n",
       "      <td>1.0</td>\n",
       "      <td>1.0</td>\n",
       "      <td>1.0</td>\n",
       "      <td>5.0</td>\n",
       "    </tr>\n",
       "    <tr>\n",
       "      <th>5</th>\n",
       "      <td>3.0</td>\n",
       "      <td>7.0</td>\n",
       "      <td>5.0</td>\n",
       "      <td>6.0</td>\n",
       "      <td>7.0</td>\n",
       "      <td>11.0</td>\n",
       "      <td>2.5</td>\n",
       "      <td>2.5</td>\n",
       "      <td>1.0</td>\n",
       "      <td>1.0</td>\n",
       "      <td>...</td>\n",
       "      <td>5.0</td>\n",
       "      <td>15.0</td>\n",
       "      <td>8.0</td>\n",
       "      <td>9.0</td>\n",
       "      <td>8.0</td>\n",
       "      <td>2.0</td>\n",
       "      <td>15.0</td>\n",
       "      <td>11.0</td>\n",
       "      <td>4.0</td>\n",
       "      <td>6.0</td>\n",
       "    </tr>\n",
       "    <tr>\n",
       "      <th>6</th>\n",
       "      <td>9.0</td>\n",
       "      <td>10.0</td>\n",
       "      <td>7.0</td>\n",
       "      <td>13.0</td>\n",
       "      <td>3.0</td>\n",
       "      <td>3.0</td>\n",
       "      <td>15.0</td>\n",
       "      <td>13.0</td>\n",
       "      <td>3.0</td>\n",
       "      <td>5.0</td>\n",
       "      <td>...</td>\n",
       "      <td>3.0</td>\n",
       "      <td>7.0</td>\n",
       "      <td>9.0</td>\n",
       "      <td>3.0</td>\n",
       "      <td>9.0</td>\n",
       "      <td>14.0</td>\n",
       "      <td>6.0</td>\n",
       "      <td>6.0</td>\n",
       "      <td>14.0</td>\n",
       "      <td>7.0</td>\n",
       "    </tr>\n",
       "    <tr>\n",
       "      <th>7</th>\n",
       "      <td>14.0</td>\n",
       "      <td>8.0</td>\n",
       "      <td>14.0</td>\n",
       "      <td>8.0</td>\n",
       "      <td>9.0</td>\n",
       "      <td>13.0</td>\n",
       "      <td>9.0</td>\n",
       "      <td>11.0</td>\n",
       "      <td>15.0</td>\n",
       "      <td>14.0</td>\n",
       "      <td>...</td>\n",
       "      <td>12.0</td>\n",
       "      <td>1.0</td>\n",
       "      <td>3.0</td>\n",
       "      <td>10.0</td>\n",
       "      <td>14.0</td>\n",
       "      <td>10.0</td>\n",
       "      <td>7.0</td>\n",
       "      <td>10.0</td>\n",
       "      <td>11.0</td>\n",
       "      <td>8.0</td>\n",
       "    </tr>\n",
       "    <tr>\n",
       "      <th>8</th>\n",
       "      <td>2.0</td>\n",
       "      <td>3.0</td>\n",
       "      <td>15.0</td>\n",
       "      <td>15.0</td>\n",
       "      <td>4.0</td>\n",
       "      <td>5.0</td>\n",
       "      <td>13.0</td>\n",
       "      <td>15.0</td>\n",
       "      <td>6.0</td>\n",
       "      <td>6.0</td>\n",
       "      <td>...</td>\n",
       "      <td>8.0</td>\n",
       "      <td>2.0</td>\n",
       "      <td>7.0</td>\n",
       "      <td>6.0</td>\n",
       "      <td>11.0</td>\n",
       "      <td>15.0</td>\n",
       "      <td>4.0</td>\n",
       "      <td>8.0</td>\n",
       "      <td>15.0</td>\n",
       "      <td>9.0</td>\n",
       "    </tr>\n",
       "    <tr>\n",
       "      <th>9</th>\n",
       "      <td>5.0</td>\n",
       "      <td>2.0</td>\n",
       "      <td>13.0</td>\n",
       "      <td>12.0</td>\n",
       "      <td>14.0</td>\n",
       "      <td>14.0</td>\n",
       "      <td>12.0</td>\n",
       "      <td>10.0</td>\n",
       "      <td>10.0</td>\n",
       "      <td>10.0</td>\n",
       "      <td>...</td>\n",
       "      <td>14.0</td>\n",
       "      <td>11.0</td>\n",
       "      <td>4.0</td>\n",
       "      <td>13.0</td>\n",
       "      <td>10.0</td>\n",
       "      <td>7.0</td>\n",
       "      <td>12.0</td>\n",
       "      <td>15.0</td>\n",
       "      <td>2.0</td>\n",
       "      <td>10.0</td>\n",
       "    </tr>\n",
       "    <tr>\n",
       "      <th>11</th>\n",
       "      <td>1.0</td>\n",
       "      <td>1.0</td>\n",
       "      <td>9.0</td>\n",
       "      <td>11.0</td>\n",
       "      <td>12.0</td>\n",
       "      <td>12.0</td>\n",
       "      <td>8.0</td>\n",
       "      <td>8.0</td>\n",
       "      <td>5.0</td>\n",
       "      <td>4.0</td>\n",
       "      <td>...</td>\n",
       "      <td>10.0</td>\n",
       "      <td>13.0</td>\n",
       "      <td>1.0</td>\n",
       "      <td>14.0</td>\n",
       "      <td>12.0</td>\n",
       "      <td>11.0</td>\n",
       "      <td>13.0</td>\n",
       "      <td>13.0</td>\n",
       "      <td>5.0</td>\n",
       "      <td>11.0</td>\n",
       "    </tr>\n",
       "    <tr>\n",
       "      <th>12</th>\n",
       "      <td>10.0</td>\n",
       "      <td>14.0</td>\n",
       "      <td>1.0</td>\n",
       "      <td>1.0</td>\n",
       "      <td>1.0</td>\n",
       "      <td>1.0</td>\n",
       "      <td>2.5</td>\n",
       "      <td>2.5</td>\n",
       "      <td>11.0</td>\n",
       "      <td>11.0</td>\n",
       "      <td>...</td>\n",
       "      <td>6.0</td>\n",
       "      <td>5.0</td>\n",
       "      <td>13.0</td>\n",
       "      <td>5.0</td>\n",
       "      <td>3.0</td>\n",
       "      <td>6.0</td>\n",
       "      <td>2.0</td>\n",
       "      <td>2.0</td>\n",
       "      <td>12.0</td>\n",
       "      <td>12.0</td>\n",
       "    </tr>\n",
       "    <tr>\n",
       "      <th>13</th>\n",
       "      <td>15.0</td>\n",
       "      <td>6.0</td>\n",
       "      <td>11.0</td>\n",
       "      <td>7.0</td>\n",
       "      <td>15.0</td>\n",
       "      <td>15.0</td>\n",
       "      <td>11.0</td>\n",
       "      <td>12.0</td>\n",
       "      <td>14.0</td>\n",
       "      <td>13.0</td>\n",
       "      <td>...</td>\n",
       "      <td>15.0</td>\n",
       "      <td>9.0</td>\n",
       "      <td>2.0</td>\n",
       "      <td>7.0</td>\n",
       "      <td>15.0</td>\n",
       "      <td>3.0</td>\n",
       "      <td>10.0</td>\n",
       "      <td>14.0</td>\n",
       "      <td>3.0</td>\n",
       "      <td>13.0</td>\n",
       "    </tr>\n",
       "    <tr>\n",
       "      <th>14</th>\n",
       "      <td>4.0</td>\n",
       "      <td>11.0</td>\n",
       "      <td>4.0</td>\n",
       "      <td>5.0</td>\n",
       "      <td>2.0</td>\n",
       "      <td>2.0</td>\n",
       "      <td>5.0</td>\n",
       "      <td>5.0</td>\n",
       "      <td>7.0</td>\n",
       "      <td>7.0</td>\n",
       "      <td>...</td>\n",
       "      <td>1.0</td>\n",
       "      <td>12.0</td>\n",
       "      <td>12.0</td>\n",
       "      <td>4.0</td>\n",
       "      <td>4.0</td>\n",
       "      <td>13.0</td>\n",
       "      <td>8.0</td>\n",
       "      <td>5.0</td>\n",
       "      <td>13.0</td>\n",
       "      <td>14.0</td>\n",
       "    </tr>\n",
       "    <tr>\n",
       "      <th>15</th>\n",
       "      <td>8.0</td>\n",
       "      <td>5.0</td>\n",
       "      <td>10.0</td>\n",
       "      <td>9.0</td>\n",
       "      <td>10.0</td>\n",
       "      <td>9.0</td>\n",
       "      <td>6.0</td>\n",
       "      <td>6.0</td>\n",
       "      <td>4.0</td>\n",
       "      <td>3.0</td>\n",
       "      <td>...</td>\n",
       "      <td>7.0</td>\n",
       "      <td>14.0</td>\n",
       "      <td>6.0</td>\n",
       "      <td>15.0</td>\n",
       "      <td>6.0</td>\n",
       "      <td>8.0</td>\n",
       "      <td>14.0</td>\n",
       "      <td>9.0</td>\n",
       "      <td>6.0</td>\n",
       "      <td>15.0</td>\n",
       "    </tr>\n",
       "  </tbody>\n",
       "</table>\n",
       "<p>15 rows × 32 columns</p>\n",
       "</div>"
      ],
      "text/plain": [
       "          Cut PPP rank  Cut FREQ rank  Handoff PPP rank  Handoff FREQ rank  \\\n",
       "Clusters                                                                     \n",
       "0                  6.0            4.0              12.0               14.0   \n",
       "1                 12.0           12.0               6.0                4.0   \n",
       "2                  7.0           13.0               3.0                3.0   \n",
       "3                 13.0            9.0               8.0               10.0   \n",
       "4                 11.0           15.0               2.0                2.0   \n",
       "5                  3.0            7.0               5.0                6.0   \n",
       "6                  9.0           10.0               7.0               13.0   \n",
       "7                 14.0            8.0              14.0                8.0   \n",
       "8                  2.0            3.0              15.0               15.0   \n",
       "9                  5.0            2.0              13.0               12.0   \n",
       "11                 1.0            1.0               9.0               11.0   \n",
       "12                10.0           14.0               1.0                1.0   \n",
       "13                15.0            6.0              11.0                7.0   \n",
       "14                 4.0           11.0               4.0                5.0   \n",
       "15                 8.0            5.0              10.0                9.0   \n",
       "\n",
       "          Isolation PPP rank  Isolation FREQ rank  OffScreen PPP rank  \\\n",
       "Clusters                                                                \n",
       "0                       11.0                 10.0                14.0   \n",
       "1                        8.0                  7.0                 7.0   \n",
       "2                        6.0                  6.0                 2.5   \n",
       "3                       13.0                  8.0                10.0   \n",
       "4                        5.0                  4.0                 2.5   \n",
       "5                        7.0                 11.0                 2.5   \n",
       "6                        3.0                  3.0                15.0   \n",
       "7                        9.0                 13.0                 9.0   \n",
       "8                        4.0                  5.0                13.0   \n",
       "9                       14.0                 14.0                12.0   \n",
       "11                      12.0                 12.0                 8.0   \n",
       "12                       1.0                  1.0                 2.5   \n",
       "13                      15.0                 15.0                11.0   \n",
       "14                       2.0                  2.0                 5.0   \n",
       "15                      10.0                  9.0                 6.0   \n",
       "\n",
       "          OffScreen FREQ rank  Postup PPP rank  Postup FREQ rank  ...  \\\n",
       "Clusters                                                          ...   \n",
       "0                        14.0              2.0               2.0  ...   \n",
       "1                         7.0             13.0              15.0  ...   \n",
       "2                         2.5              8.0               8.0  ...   \n",
       "3                         9.0              9.0               9.0  ...   \n",
       "4                         2.5             12.0              12.0  ...   \n",
       "5                         2.5              1.0               1.0  ...   \n",
       "6                        13.0              3.0               5.0  ...   \n",
       "7                        11.0             15.0              14.0  ...   \n",
       "8                        15.0              6.0               6.0  ...   \n",
       "9                        10.0             10.0              10.0  ...   \n",
       "11                        8.0              5.0               4.0  ...   \n",
       "12                        2.5             11.0              11.0  ...   \n",
       "13                       12.0             14.0              13.0  ...   \n",
       "14                        5.0              7.0               7.0  ...   \n",
       "15                        6.0              4.0               3.0  ...   \n",
       "\n",
       "          USG_PCT rank  POTENTIAL_AST FREQ rank  Restricted Area FREQ rank  \\\n",
       "Clusters                                                                     \n",
       "0                 13.0                      8.0                        5.0   \n",
       "1                 11.0                      6.0                       10.0   \n",
       "2                  2.0                      3.0                       15.0   \n",
       "3                  9.0                     10.0                       11.0   \n",
       "4                  4.0                      4.0                       14.0   \n",
       "5                  5.0                     15.0                        8.0   \n",
       "6                  3.0                      7.0                        9.0   \n",
       "7                 12.0                      1.0                        3.0   \n",
       "8                  8.0                      2.0                        7.0   \n",
       "9                 14.0                     11.0                        4.0   \n",
       "11                10.0                     13.0                        1.0   \n",
       "12                 6.0                      5.0                       13.0   \n",
       "13                15.0                      9.0                        2.0   \n",
       "14                 1.0                     12.0                       12.0   \n",
       "15                 7.0                     14.0                        6.0   \n",
       "\n",
       "          In The Paint (Non-RA) FREQ rank  Mid-Range FREQ rank  3P FREQ rank  \\\n",
       "Clusters                                                                       \n",
       "0                                     8.0                 13.0          12.0   \n",
       "1                                    12.0                  7.0           4.0   \n",
       "2                                     1.0                  2.0           5.0   \n",
       "3                                    11.0                  5.0           9.0   \n",
       "4                                     2.0                  1.0           1.0   \n",
       "5                                     9.0                  8.0           2.0   \n",
       "6                                     3.0                  9.0          14.0   \n",
       "7                                    10.0                 14.0          10.0   \n",
       "8                                     6.0                 11.0          15.0   \n",
       "9                                    13.0                 10.0           7.0   \n",
       "11                                   14.0                 12.0          11.0   \n",
       "12                                    5.0                  3.0           6.0   \n",
       "13                                    7.0                 15.0           3.0   \n",
       "14                                    4.0                  4.0          13.0   \n",
       "15                                   15.0                  6.0           8.0   \n",
       "\n",
       "          Drives FREQ rank  PULL_UP FREQ rank  CATCH_SHOOT FREQ rank  \\\n",
       "Clusters                                                               \n",
       "0                      9.0               12.0                    9.0   \n",
       "1                      3.0                4.0                    7.0   \n",
       "2                      5.0                3.0                   10.0   \n",
       "3                     11.0                7.0                    8.0   \n",
       "4                      1.0                1.0                    1.0   \n",
       "5                     15.0               11.0                    4.0   \n",
       "6                      6.0                6.0                   14.0   \n",
       "7                      7.0               10.0                   11.0   \n",
       "8                      4.0                8.0                   15.0   \n",
       "9                     12.0               15.0                    2.0   \n",
       "11                    13.0               13.0                    5.0   \n",
       "12                     2.0                2.0                   12.0   \n",
       "13                    10.0               14.0                    3.0   \n",
       "14                     8.0                5.0                   13.0   \n",
       "15                    14.0                9.0                    6.0   \n",
       "\n",
       "          Clusters rank  \n",
       "Clusters                 \n",
       "0                   1.0  \n",
       "1                   2.0  \n",
       "2                   3.0  \n",
       "3                   4.0  \n",
       "4                   5.0  \n",
       "5                   6.0  \n",
       "6                   7.0  \n",
       "7                   8.0  \n",
       "8                   9.0  \n",
       "9                  10.0  \n",
       "11                 11.0  \n",
       "12                 12.0  \n",
       "13                 13.0  \n",
       "14                 14.0  \n",
       "15                 15.0  \n",
       "\n",
       "[15 rows x 32 columns]"
      ]
     },
     "execution_count": 140,
     "metadata": {},
     "output_type": "execute_result"
    }
   ],
   "source": [
    "off_ranks"
   ]
  },
  {
   "cell_type": "code",
   "execution_count": null,
   "metadata": {},
   "outputs": [],
   "source": []
  },
  {
   "cell_type": "code",
   "execution_count": null,
   "metadata": {},
   "outputs": [],
   "source": []
  },
  {
   "cell_type": "code",
   "execution_count": null,
   "metadata": {},
   "outputs": [],
   "source": []
  }
 ],
 "metadata": {
  "kernelspec": {
   "display_name": "Python 3.9.12 ('nba_app_env')",
   "language": "python",
   "name": "python3"
  },
  "language_info": {
   "codemirror_mode": {
    "name": "ipython",
    "version": 3
   },
   "file_extension": ".py",
   "mimetype": "text/x-python",
   "name": "python",
   "nbconvert_exporter": "python",
   "pygments_lexer": "ipython3",
   "version": "3.9.12"
  },
  "orig_nbformat": 4,
  "vscode": {
   "interpreter": {
    "hash": "d61a41af72a47b7a251fc1df71191a43b373aa708978a13d44ab0d9d4b9d4eb7"
   }
  }
 },
 "nbformat": 4,
 "nbformat_minor": 2
}
