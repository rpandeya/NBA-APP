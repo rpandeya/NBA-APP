{
 "cells": [
  {
   "cell_type": "code",
   "execution_count": 1,
   "metadata": {},
   "outputs": [],
   "source": [
    "from nba_api.stats.endpoints import boxscoretraditionalv2 as boxscore, leagueleaders as ll, leaguegamelog, boxscorefourfactorsv2 as ff, playerdashptreb as rebounds\n",
    "from nba_api.stats.endpoints import playercareerstats as player_career, draftcombinestats as combine, leaguehustlestatsplayer as hustle, commonteamroster as roster\n",
    "from nba_api.stats.endpoints import synergyplaytypes as synergy_types, playerprofilev2 as player_profile\n",
    "from nba_api.stats.static import teams, players\n",
    "import pandas as pd\n",
    "from nba_api.stats.endpoints import commonplayerinfo, leaguedashplayershotlocations as shot_chart, leaguedashteamptshot as teamshot, leaguedashptdefend as defence\n",
    "from sklearn.linear_model import LinearRegression, LogisticRegression\n",
    "from sklearn.preprocessing import StandardScaler, MinMaxScaler\n",
    "from sklearn.pipeline import Pipeline\n",
    "from sklearn.model_selection import train_test_split, cross_val_score, GridSearchCV, StratifiedKFold\n",
    "import matplotlib.pyplot as plt\n",
    "import statsmodels.api as sm\n",
    "import numpy as np\n",
    "from sklearn.metrics import confusion_matrix, roc_curve, precision_recall_curve, auc, plot_roc_curve, accuracy_score, recall_score, precision_score, silhouette_samples, silhouette_score\n",
    "import requests\n",
    "import warnings\n",
    "import plotly.express as px\n",
    "import plotly.graph_objects as go\n",
    "import itertools\n",
    "from sklearn.decomposition import PCA\n",
    "from yellowbrick.cluster import KElbowVisualizer, SilhouetteVisualizer\n",
    "from sklearn.cluster import AgglomerativeClustering, KMeans, dbscan\n",
    "from sklearn.mixture import GaussianMixture\n",
    "import os\n"
   ]
  },
  {
   "cell_type": "code",
   "execution_count": 2,
   "metadata": {},
   "outputs": [],
   "source": [
    "def get_player_hustle(start_szn, end_szn='2021-22', min_games = 0, min_mins = 0):\n",
    "    hustle_stats = hustle.LeagueHustleStatsPlayer(per_mode_time='PerGame', season = start_szn, season_type_all_star='Regular Season')\n",
    "    hustle_df = hustle_stats.get_data_frames()[0]\n",
    "    hustle_df = hustle_df[(hustle_df['G']>min_games) & (hustle_df['DEFLECTIONS']>0)&(hustle_df['CONTESTED_SHOTS_3PT']>0) & (hustle_df['MIN']>min_mins)]\n",
    "    start_year = int(start_szn[0:4])\n",
    "    end_year = int('20'+end_szn[5:])\n",
    "    \n",
    "\n",
    "    current_szn = start_szn\n",
    "    hustle_df['Season'] = [current_szn]*len(hustle_df)\n",
    "    for i in range(start_year,end_year-1):\n",
    "        current_szn =  str(int(current_szn[0:4]) +1) +'-'+ str(int(current_szn[5:])+1)\n",
    "        print(current_szn)\n",
    "        hustle_stats = hustle.LeagueHustleStatsPlayer(per_mode_time='PerGame', season = current_szn, season_type_all_star='Regular Season')\n",
    "        temp = hustle_stats.get_data_frames()[0]\n",
    "        temp = temp[(temp['G']>min_games)& (temp['DEFLECTIONS']>0)&(temp['CONTESTED_SHOTS_3PT']>0) & (temp['MIN']>min_mins)]\n",
    "        temp['Season'] = [current_szn]*len(temp)\n",
    "        hustle_df = pd.concat([hustle_df,temp], axis=0, ignore_index=True)\n",
    "    return hustle_df\n"
   ]
  },
  {
   "cell_type": "code",
   "execution_count": 3,
   "metadata": {},
   "outputs": [],
   "source": [
    "def get_defence(shot_type, start_szn, end_szn='2021-22', min_games = 0, min_mins = 0):\n",
    "    \n",
    "    defence_df = defence.LeagueDashPtDefend(defense_category=shot_type, league_id='00', season = start_szn, season_type_all_star='Regular Season', per_mode_simple='PerGame').get_data_frames()[0]\n",
    "    start_year = int(start_szn[0:4])\n",
    "    end_year = int('20'+end_szn[5:])\n",
    "   \n",
    "    current_szn = start_szn\n",
    "    defence_df['Season'] = [current_szn]*len(defence_df)\n",
    "    for i in range(start_year,end_year-1):\n",
    "        current_szn =  str(int(current_szn[0:4]) +1) +'-'+ str(int(current_szn[5:])+1)\n",
    "        temp = defence.LeagueDashPtDefend(defense_category= shot_type, league_id='00', season = current_szn, season_type_all_star='Regular Season', per_mode_simple='PerGame').get_data_frames()[0]\n",
    "        temp['Season'] = [current_szn]*len(temp)\n",
    "        defence_df = pd.concat([defence_df,temp], axis=0, ignore_index=True)\n",
    "    return defence_df"
   ]
  },
  {
   "cell_type": "markdown",
   "metadata": {},
   "source": [
    "## Synergy and Tracking"
   ]
  },
  {
   "cell_type": "code",
   "execution_count": 4,
   "metadata": {},
   "outputs": [],
   "source": [
    "playtypes = np.array(('Cut',\n",
    "\t'Handoff',\n",
    "\t'Isolation',\n",
    "\t'Misc',\n",
    " \t'OffScreen',\n",
    " \t'Postup',\n",
    "\t'PRBallHandler',\n",
    " \t'PRRollman',\n",
    " \t'OffRebound',\n",
    " \t'Spotup',\n",
    " \t'Transition'))\n"
   ]
  },
  {
   "cell_type": "code",
   "execution_count": 5,
   "metadata": {},
   "outputs": [],
   "source": [
    "def synergy_data(playtypes, grouping, szn_year):\n",
    "    data = {}\n",
    "    for i in playtypes:\n",
    "       \n",
    "        # Under the Header tab, select general and copy the first part of the request URL\n",
    "        url = 'https://stats.nba.com/stats/synergyplaytypes?LeagueID=00&PerMode=PerGame&PlayType='+i+'&PlayerOrTeam=P&SeasonType=Regular Season&SeasonYear='+szn_year+'&TypeGrouping='+grouping\n",
    "        #Header Tab, under \"Query String Parameter\" subsection\n",
    "        \n",
    "        # Header tab, under “Request Headers” subsection\n",
    "        header = {\n",
    "        'Accept': 'application/json, text/plain, */*',\n",
    "        'Accept-Encoding': 'gzip, deflate, br',\n",
    "        'Accept-Language': 'en-CA,en-GB;q=0.9,en-US;q=0.8,en;q=0.7',\n",
    "        'Host': 'stats.nba.com',\n",
    "        'Origin': 'https://www.nba.com',\n",
    "        'Referer': 'https://www.nba.com/',\n",
    "\n",
    "        'Sec-Fetch-Dest': 'empty',\n",
    "        'Sec-Fetch-Mode': 'cors',\n",
    "        'Sec-Fetch-Site': 'same-site',\n",
    "        'User-Agent': 'Mozilla/5.0 (Windows NT 10.0; Win64; x64; rv:103.0) Gecko/20100101 Firefox/103.0',\n",
    "        'x-nba-stats-origin': 'stats',\n",
    "        'x-nba-stats-token': 'true'}\n",
    "        #Using Request library to get the data\n",
    "        response = requests.get(url, headers=header)\n",
    "        response_json = response.json()\n",
    "        frame = pd.DataFrame(response_json['resultSets'][0]['rowSet'])\n",
    "        frame.columns = response_json['resultSets'][0]['headers']\n",
    "        frame['Season'] = szn_year\n",
    "        data[i] = frame\n",
    "        \n",
    "    for i in data.keys():\n",
    "\n",
    "        data[i].sort_values(by = 'POSS_PCT', ascending = False)\n",
    "        data[i] = data[i].rename({'PERCENTILE': 'PPP PERCENTILE'}, axis='columns')\n",
    "        data[i]['POSS PCT PERCENTILE'] = data[i]['POSS_PCT'].rank(pct = True)\n",
    "\n",
    "    return data\n"
   ]
  },
  {
   "cell_type": "code",
   "execution_count": 6,
   "metadata": {},
   "outputs": [],
   "source": [
    "def distance(szn_year):\n",
    "    # Under the Header tab, select general and copy the first part of the request URL\n",
    "    #Header Tab, under \"Query String Parameter\" subsection\n",
    "    url = f'https://stats.nba.com/stats/leaguedashptstats?College=&Conference=&Country=&DateFrom=&DateTo=&Division=&DraftPick=&DraftYear=&GameScope=&Height=&LastNGames=0&LeagueID=00&Location=&Month=0&OpponentTeamID=0&Outcome=&PORound=0&PerMode=PerGame&PlayerExperience=&PlayerOrTeam=Player&PlayerPosition=&PtMeasureType=SpeedDistance&Season={szn_year}&SeasonSegment=&SeasonType=Regular Season&StarterBench=&TeamID=0&VsConference=&VsDivision=&Weight='   \n",
    "    # Header tab, under “Request Headers” subsection\n",
    "    header = {\n",
    "    'Accept': 'application/json, text/plain, */*',\n",
    "    'Accept-Encoding': 'gzip, deflate, br',\n",
    "    'Accept-Language': 'en-CA,en-GB;q=0.9,en-US;q=0.8,en;q=0.7',\n",
    "    'Host': 'stats.nba.com',\n",
    "    'Origin': 'https://www.nba.com',\n",
    "    'Referer': 'https://www.nba.com/',\n",
    "\n",
    "    'Sec-Fetch-Dest': 'empty',\n",
    "    'Sec-Fetch-Mode': 'cors',\n",
    "    'Sec-Fetch-Site': 'same-site',\n",
    "    'User-Agent': 'Mozilla/5.0 (Windows NT 10.0; Win64; x64; rv:103.0) Gecko/20100101 Firefox/103.0',\n",
    "    'x-nba-stats-origin': 'stats',\n",
    "    'x-nba-stats-token': 'true'}\n",
    "    #Using Request library to get the data\n",
    "    response = requests.get(url, headers=header)\n",
    "    response_json = response.json()\n",
    "    frame = pd.DataFrame(response_json['resultSets'][0]['rowSet'])\n",
    "    frame.columns = response_json['resultSets'][0]['headers']\n",
    "    frame['Season'] = szn_year\n",
    "    return frame"
   ]
  },
  {
   "cell_type": "code",
   "execution_count": 7,
   "metadata": {},
   "outputs": [],
   "source": [
    "def shot_tracking(szn_year, category):\n",
    "    \n",
    "    url = 'https://stats.nba.com/stats/leaguedashptstats?College=&Conference=&Country=&DateFrom=&DateTo=&Division=&DraftPick=&DraftYear=&GameScope=&Height=&LastNGames=0&LeagueID=00&Location=&Month=0&OpponentTeamID=0&Outcome=&PORound=0&PerMode=PerGame&PlayerExperience=&PlayerOrTeam=Player&PlayerPosition=&PtMeasureType=Drives&Season=2021-22&SeasonSegment=&SeasonType=Regular Season&StarterBench=&TeamID=0&VsConference=&VsDivision=&Weight='\n",
    "    \n",
    "    url = url.replace('2021-22', szn_year)\n",
    "    url= url.replace('Drives', category)\n",
    "    # Under the Header tab, select general and copy the first part of the request URL\n",
    "    \n",
    "    # Header tab, under “Request Headers” subsection\n",
    "    header = {\n",
    "    'Accept': 'application/json, text/plain, */*',\n",
    "    'Accept-Encoding': 'gzip, deflate, br',\n",
    "    'Accept-Language': 'en-CA,en-GB;q=0.9,en-US;q=0.8,en;q=0.7',\n",
    "    'Host': 'stats.nba.com',\n",
    "    'Origin': 'https://www.nba.com',\n",
    "    'Referer': 'https://www.nba.com/',\n",
    "\n",
    "    'Sec-Fetch-Dest': 'empty',\n",
    "    'Sec-Fetch-Mode': 'cors',\n",
    "    'Sec-Fetch-Site': 'same-site',\n",
    "    'User-Agent': 'Mozilla/5.0 (Windows NT 10.0; Win64; x64; rv:103.0) Gecko/20100101 Firefox/103.0',\n",
    "    'x-nba-stats-origin': 'stats',\n",
    "    'x-nba-stats-token': 'true'}\n",
    "    #Using Request library to get the data\n",
    "    response = requests.get(url, headers=header)\n",
    "    response_json = response.json()\n",
    "    frame = pd.DataFrame(response_json['resultSets'][0]['rowSet'])\n",
    "    frame.columns = response_json['resultSets'][0]['headers']\n",
    "    frame['Season'] = szn_year\n",
    "    \n",
    "        \n",
    "    \n",
    "\n",
    "    return frame\n"
   ]
  },
  {
   "cell_type": "code",
   "execution_count": 517,
   "metadata": {},
   "outputs": [
    {
     "name": "stdout",
     "output_type": "stream",
     "text": [
      "2019-20\n",
      "2020-21\n",
      "2021-22\n"
     ]
    }
   ],
   "source": [
    "hustle_df = get_player_hustle('2018-19')"
   ]
  },
  {
   "cell_type": "code",
   "execution_count": 10,
   "metadata": {},
   "outputs": [],
   "source": [
    "shot_areas = ( '3 Pointers', 'Less Than 6Ft','Less Than 10Ft')\n",
    "def get_shot_areas(areas):\n",
    "\n",
    "    dfs = {}\n",
    "    for area in areas:\n",
    "        area_df = get_defence(area, '2018-19')\n",
    "       \n",
    "        dfs[area] = area_df\n",
    "        \n",
    "        print(f'done {area}')\n",
    "    return dfs"
   ]
  },
  {
   "cell_type": "code",
   "execution_count": 11,
   "metadata": {},
   "outputs": [
    {
     "name": "stdout",
     "output_type": "stream",
     "text": [
      "done 3 Pointers\n",
      "done Less Than 6Ft\n",
      "done Less Than 10Ft\n"
     ]
    }
   ],
   "source": [
    "shot_dfs = get_shot_areas(shot_areas)"
   ]
  },
  {
   "cell_type": "code",
   "execution_count": 13,
   "metadata": {},
   "outputs": [
    {
     "data": {
      "text/plain": [
       "CLOSE_DEF_PERSON_ID                   203497\n",
       "PLAYER_NAME                      Rudy Gobert\n",
       "PLAYER_LAST_TEAM_ID               1610612762\n",
       "PLAYER_LAST_TEAM_ABBREVIATION            UTA\n",
       "PLAYER_POSITION                            C\n",
       "AGE                                     27.0\n",
       "GP                                        79\n",
       "G                                         79\n",
       "FREQ                                   0.412\n",
       "FGM_LT_06                               4.54\n",
       "FGA_LT_06                               8.67\n",
       "LT_06_PCT                              0.524\n",
       "NS_LT_06_PCT                           0.618\n",
       "PLUSMINUS                             -0.094\n",
       "Season                               2018-19\n",
       "Name: 1, dtype: object"
      ]
     },
     "execution_count": 13,
     "metadata": {},
     "output_type": "execute_result"
    }
   ],
   "source": [
    "shot_dfs['Less Than 6Ft'].iloc[1]"
   ]
  },
  {
   "cell_type": "code",
   "execution_count": 521,
   "metadata": {},
   "outputs": [],
   "source": [
    "\n",
    "hustle_df['Activity Metric'] = hustle_df.DEFLECTIONS + hustle_df.CONTESTED_SHOTS_3PT + hustle_df.CONTESTED_SHOTS_2PT\n"
   ]
  },
  {
   "cell_type": "code",
   "execution_count": 522,
   "metadata": {},
   "outputs": [],
   "source": [
    "for i in ('DEFLECTIONS', 'CONTESTED_SHOTS_3PT', \"CONTESTED_SHOTS_2PT\"):\n",
    "    colname = i + ' '+'Percentile'\n",
    "    hustle_df[colname] = hustle_df[i].rank(pct = True)"
   ]
  },
  {
   "cell_type": "code",
   "execution_count": null,
   "metadata": {},
   "outputs": [],
   "source": []
  },
  {
   "cell_type": "code",
   "execution_count": 523,
   "metadata": {},
   "outputs": [],
   "source": [
    "hustle_df.to_csv('Hustle_DF.csv', index = False)"
   ]
  },
  {
   "cell_type": "code",
   "execution_count": 524,
   "metadata": {},
   "outputs": [],
   "source": [
    "for i in shot_dfs.keys():\n",
    "    shot_dfs[i].to_csv('Defence'+i+'.csv', index = False)\n"
   ]
  },
  {
   "cell_type": "code",
   "execution_count": 30,
   "metadata": {},
   "outputs": [],
   "source": [
    "hustle_df = pd.read_csv('hustle_df.csv')\n"
   ]
  },
  {
   "cell_type": "code",
   "execution_count": 16,
   "metadata": {},
   "outputs": [],
   "source": [
    "shots_dfs = {}\n",
    "for i in shot_areas:\n",
    "    shots_dfs[i] = pd.read_csv('Defence'+i+'.csv')\n",
    "    shots_dfs[i] = shots_dfs[i].iloc[:,[1,3,6,7,8,9,10,11,12,13,14]].copy()\n",
    "    shots_dfs[i] = shots_dfs[i].rename({'FREQ': 'FREQ'+' '+i, 'PLUSMINUS': 'PLUSMINUS' + ' ' + i, 'PLAYER_LAST_TEAM_ABBREVIATION': 'TEAM_ABBREVIATION'}, axis='columns')\n",
    "    \n",
    "\n",
    "\n"
   ]
  },
  {
   "cell_type": "code",
   "execution_count": 17,
   "metadata": {},
   "outputs": [],
   "source": [
    "full_shot_df = pd.merge(shots_dfs['3 Pointers'], shots_dfs['Less Than 6Ft'], how='inner', on=['PLAYER_NAME', 'Season', 'TEAM_ABBREVIATION'])\n",
    "full_shot_df = pd.merge(full_shot_df, shots_dfs['Less Than 10Ft'], how='inner', on = ['PLAYER_NAME', 'Season', 'TEAM_ABBREVIATION'])"
   ]
  },
  {
   "cell_type": "code",
   "execution_count": 18,
   "metadata": {},
   "outputs": [],
   "source": [
    "full_shot_df.to_csv('full_shot.csv', index=False)"
   ]
  },
  {
   "cell_type": "code",
   "execution_count": 19,
   "metadata": {},
   "outputs": [],
   "source": [
    "full_shot_df = pd.read_csv('full_shot.csv')"
   ]
  },
  {
   "cell_type": "code",
   "execution_count": 20,
   "metadata": {},
   "outputs": [],
   "source": [
    "full_shot_df_final = full_shot_df[['PLAYER_NAME', 'TEAM_ABBREVIATION','Season', 'FREQ 3 Pointers', 'PLUSMINUS 3 Pointers', 'FREQ Less Than 6Ft','PLUSMINUS Less Than 6Ft',\n",
    "'FREQ Less Than 10Ft', 'PLUSMINUS Less Than 10Ft']]"
   ]
  },
  {
   "cell_type": "code",
   "execution_count": 21,
   "metadata": {},
   "outputs": [
    {
     "data": {
      "text/html": [
       "<div>\n",
       "<style scoped>\n",
       "    .dataframe tbody tr th:only-of-type {\n",
       "        vertical-align: middle;\n",
       "    }\n",
       "\n",
       "    .dataframe tbody tr th {\n",
       "        vertical-align: top;\n",
       "    }\n",
       "\n",
       "    .dataframe thead th {\n",
       "        text-align: right;\n",
       "    }\n",
       "</style>\n",
       "<table border=\"1\" class=\"dataframe\">\n",
       "  <thead>\n",
       "    <tr style=\"text-align: right;\">\n",
       "      <th></th>\n",
       "      <th>PLAYER_NAME</th>\n",
       "      <th>TEAM_ABBREVIATION</th>\n",
       "      <th>Season</th>\n",
       "      <th>FREQ 3 Pointers</th>\n",
       "      <th>PLUSMINUS 3 Pointers</th>\n",
       "      <th>FREQ Less Than 6Ft</th>\n",
       "      <th>PLUSMINUS Less Than 6Ft</th>\n",
       "      <th>FREQ Less Than 10Ft</th>\n",
       "      <th>PLUSMINUS Less Than 10Ft</th>\n",
       "    </tr>\n",
       "  </thead>\n",
       "  <tbody>\n",
       "    <tr>\n",
       "      <th>79</th>\n",
       "      <td>Nikola Jokic</td>\n",
       "      <td>DEN</td>\n",
       "      <td>2018-19</td>\n",
       "      <td>0.229</td>\n",
       "      <td>0.009</td>\n",
       "      <td>0.450</td>\n",
       "      <td>-0.059</td>\n",
       "      <td>0.549</td>\n",
       "      <td>-0.047</td>\n",
       "    </tr>\n",
       "    <tr>\n",
       "      <th>610</th>\n",
       "      <td>Nikola Jokic</td>\n",
       "      <td>DEN</td>\n",
       "      <td>2019-20</td>\n",
       "      <td>0.233</td>\n",
       "      <td>0.019</td>\n",
       "      <td>0.451</td>\n",
       "      <td>-0.033</td>\n",
       "      <td>0.556</td>\n",
       "      <td>-0.041</td>\n",
       "    </tr>\n",
       "    <tr>\n",
       "      <th>1145</th>\n",
       "      <td>Nikola Jokic</td>\n",
       "      <td>DEN</td>\n",
       "      <td>2020-21</td>\n",
       "      <td>0.222</td>\n",
       "      <td>-0.008</td>\n",
       "      <td>0.428</td>\n",
       "      <td>-0.016</td>\n",
       "      <td>0.527</td>\n",
       "      <td>-0.015</td>\n",
       "    </tr>\n",
       "    <tr>\n",
       "      <th>1626</th>\n",
       "      <td>Nikola Jokic</td>\n",
       "      <td>DEN</td>\n",
       "      <td>2021-22</td>\n",
       "      <td>0.216</td>\n",
       "      <td>0.011</td>\n",
       "      <td>0.394</td>\n",
       "      <td>-0.025</td>\n",
       "      <td>0.508</td>\n",
       "      <td>-0.029</td>\n",
       "    </tr>\n",
       "  </tbody>\n",
       "</table>\n",
       "</div>"
      ],
      "text/plain": [
       "       PLAYER_NAME TEAM_ABBREVIATION   Season  FREQ 3 Pointers  \\\n",
       "79    Nikola Jokic               DEN  2018-19            0.229   \n",
       "610   Nikola Jokic               DEN  2019-20            0.233   \n",
       "1145  Nikola Jokic               DEN  2020-21            0.222   \n",
       "1626  Nikola Jokic               DEN  2021-22            0.216   \n",
       "\n",
       "      PLUSMINUS 3 Pointers  FREQ Less Than 6Ft  PLUSMINUS Less Than 6Ft  \\\n",
       "79                   0.009               0.450                   -0.059   \n",
       "610                  0.019               0.451                   -0.033   \n",
       "1145                -0.008               0.428                   -0.016   \n",
       "1626                 0.011               0.394                   -0.025   \n",
       "\n",
       "      FREQ Less Than 10Ft  PLUSMINUS Less Than 10Ft  \n",
       "79                  0.549                    -0.047  \n",
       "610                 0.556                    -0.041  \n",
       "1145                0.527                    -0.015  \n",
       "1626                0.508                    -0.029  "
      ]
     },
     "execution_count": 21,
     "metadata": {},
     "output_type": "execute_result"
    }
   ],
   "source": [
    "full_shot_df_final[full_shot_df_final['PLAYER_NAME']=='Nikola Jokic']"
   ]
  },
  {
   "cell_type": "code",
   "execution_count": 22,
   "metadata": {},
   "outputs": [],
   "source": [
    "drives = shot_tracking('2021-22', 'Drives')\n",
    "\n",
    "pullup = shot_tracking('2021-22', 'PullUpShot')\n",
    "\n",
    "passing = shot_tracking('2021-22', 'Passing')\n",
    "\n",
    "catch_shoot = shot_tracking('2021-22', 'CatchShoot')"
   ]
  },
  {
   "cell_type": "code",
   "execution_count": 23,
   "metadata": {},
   "outputs": [
    {
     "data": {
      "text/plain": [
       "Index(['PLAYER_ID', 'PLAYER_NAME', 'TEAM_ID', 'TEAM_ABBREVIATION', 'GP', 'W',\n",
       "       'L', 'MIN', 'PASSES_MADE', 'PASSES_RECEIVED', 'AST', 'FT_AST',\n",
       "       'SECONDARY_AST', 'POTENTIAL_AST', 'AST_POINTS_CREATED', 'AST_ADJ',\n",
       "       'AST_TO_PASS_PCT', 'AST_TO_PASS_PCT_ADJ', 'Season'],\n",
       "      dtype='object')"
      ]
     },
     "execution_count": 23,
     "metadata": {},
     "output_type": "execute_result"
    }
   ],
   "source": [
    "passing.columns"
   ]
  },
  {
   "cell_type": "code",
   "execution_count": 522,
   "metadata": {},
   "outputs": [],
   "source": [
    "passing = passing[['PLAYER_NAME', 'TEAM_ABBREVIATION','POTENTIAL_AST', 'Season']].copy()"
   ]
  },
  {
   "cell_type": "code",
   "execution_count": 523,
   "metadata": {},
   "outputs": [],
   "source": [
    "pullup = pullup[['PLAYER_NAME', 'TEAM_ABBREVIATION','PULL_UP_FGA', 'PULL_UP_FG3_PCT', 'Season']].copy()"
   ]
  },
  {
   "cell_type": "code",
   "execution_count": 524,
   "metadata": {},
   "outputs": [],
   "source": [
    "drives = drives[['PLAYER_NAME', 'TEAM_ABBREVIATION','DRIVES', 'DRIVE_PASSES_PCT','Season']].copy()"
   ]
  },
  {
   "cell_type": "code",
   "execution_count": 525,
   "metadata": {},
   "outputs": [],
   "source": [
    "catch_shoot = catch_shoot[['PLAYER_NAME','TEAM_ABBREVIATION','CATCH_SHOOT_FG_PCT','CATCH_SHOOT_FGA','Season' ]].copy()"
   ]
  },
  {
   "cell_type": "code",
   "execution_count": 39,
   "metadata": {},
   "outputs": [],
   "source": [
    "def basic_stats(szn_year, type='Base'):\n",
    "    url = 'https://stats.nba.com/stats/leaguedashplayerstats?College=&Conference=&Country=&DateFrom=&DateTo=&Division=&DraftPick=&DraftYear=&GameScope=&GameSegment=&Height=&LastNGames=0&LeagueID=00&Location=&MeasureType=Base&Month=0&OpponentTeamID=0&Outcome=&PORound=0&PaceAdjust=N&PerMode=PerGame&Period=0&PlayerExperience=&PlayerPosition=&PlusMinus=N&Rank=N&Season=2021-22&SeasonSegment=&SeasonType=Regular Season&ShotClockRange=&StarterBench=&TeamID=0&TwoWay=0&VsConference=&VsDivision=&Weight='  \n",
    "    url = url.replace('2021-22', szn_year)\n",
    "    url = url.replace('Base', type)\n",
    "    # Header tab, under “Request Headers” subsection\n",
    "    header = {\n",
    "    'Accept': 'application/json, text/plain, */*',\n",
    "    'Accept-Encoding': 'gzip, deflate, br',\n",
    "    'Accept-Language': 'en-CA,en-GB;q=0.9,en-US;q=0.8,en;q=0.7',\n",
    "    'Host': 'stats.nba.com',\n",
    "    'Origin': 'https://www.nba.com',\n",
    "    'Referer': 'https://www.nba.com/',\n",
    "\n",
    "    'Sec-Fetch-Dest': 'empty',\n",
    "    'Sec-Fetch-Mode': 'cors',\n",
    "    'Sec-Fetch-Site': 'same-site',\n",
    "    'User-Agent': 'Mozilla/5.0 (Windows NT 10.0; Win64; x64; rv:103.0) Gecko/20100101 Firefox/103.0',\n",
    "    'x-nba-stats-origin': 'stats',\n",
    "    'x-nba-stats-token': 'true'}\n",
    "    #Using Request library to get the data\n",
    "    response = requests.get(url, headers=header)\n",
    "    response_json = response.json()\n",
    "    frame = pd.DataFrame(response_json['resultSets'][0]['rowSet'])\n",
    "    frame.columns = response_json['resultSets'][0]['headers']\n",
    "    frame['Season'] = szn_year\n",
    "    return frame"
   ]
  },
  {
   "cell_type": "code",
   "execution_count": 43,
   "metadata": {},
   "outputs": [],
   "source": [
    "player_basic = basic_stats('2021-22')\n",
    "\n",
    "\n",
    "\n"
   ]
  },
  {
   "cell_type": "code",
   "execution_count": 42,
   "metadata": {},
   "outputs": [],
   "source": [
    "player_advanced = basic_stats('2021-22', 'Advanced')"
   ]
  },
  {
   "cell_type": "code",
   "execution_count": 41,
   "metadata": {},
   "outputs": [
    {
     "data": {
      "text/plain": [
       "Index(['PLAYER_ID', 'PLAYER_NAME', 'NICKNAME', 'TEAM_ID', 'TEAM_ABBREVIATION',\n",
       "       'AGE', 'GP', 'W', 'L', 'W_PCT', 'MIN', 'FGM', 'FGA', 'FG_PCT', 'FG3M',\n",
       "       'FG3A', 'FG3_PCT', 'FTM', 'FTA', 'FT_PCT', 'OREB', 'DREB', 'REB', 'AST',\n",
       "       'TOV', 'STL', 'BLK', 'BLKA', 'PF', 'PFD', 'PTS', 'PLUS_MINUS',\n",
       "       'NBA_FANTASY_PTS', 'DD2', 'TD3', 'WNBA_FANTASY_PTS', 'GP_RANK',\n",
       "       'W_RANK', 'L_RANK', 'W_PCT_RANK', 'MIN_RANK', 'FGM_RANK', 'FGA_RANK',\n",
       "       'FG_PCT_RANK', 'FG3M_RANK', 'FG3A_RANK', 'FG3_PCT_RANK', 'FTM_RANK',\n",
       "       'FTA_RANK', 'FT_PCT_RANK', 'OREB_RANK', 'DREB_RANK', 'REB_RANK',\n",
       "       'AST_RANK', 'TOV_RANK', 'STL_RANK', 'BLK_RANK', 'BLKA_RANK', 'PF_RANK',\n",
       "       'PFD_RANK', 'PTS_RANK', 'PLUS_MINUS_RANK', 'NBA_FANTASY_PTS_RANK',\n",
       "       'DD2_RANK', 'TD3_RANK', 'WNBA_FANTASY_PTS_RANK', 'CFID', 'CFPARAMS',\n",
       "       'Season'],\n",
       "      dtype='object')"
      ]
     },
     "execution_count": 41,
     "metadata": {},
     "output_type": "execute_result"
    }
   ],
   "source": [
    "player_basic.columns"
   ]
  },
  {
   "cell_type": "code",
   "execution_count": 44,
   "metadata": {},
   "outputs": [],
   "source": [
    "player_basic = player_basic[['PLAYER_NAME','TEAM_ABBREVIATION', 'FGA', 'FG3A']]\n",
    "\n",
    "player_advanced = player_advanced[['PLAYER_NAME','TEAM_ABBREVIATION' ,'USG_PCT']]"
   ]
  },
  {
   "cell_type": "code",
   "execution_count": 24,
   "metadata": {},
   "outputs": [],
   "source": [
    "shot_data = shot_chart.LeagueDashPlayerShotLocations(distance_range='By Zone', season_type_all_star='Regular Season',per_mode_detailed='PerGame' )\n",
    "shot_df = shot_data.get_data_frames()[0]\n"
   ]
  },
  {
   "cell_type": "code",
   "execution_count": 25,
   "metadata": {},
   "outputs": [
    {
     "data": {
      "text/html": [
       "<div>\n",
       "<style scoped>\n",
       "    .dataframe tbody tr th:only-of-type {\n",
       "        vertical-align: middle;\n",
       "    }\n",
       "\n",
       "    .dataframe tbody tr th {\n",
       "        vertical-align: top;\n",
       "    }\n",
       "\n",
       "    .dataframe thead tr th {\n",
       "        text-align: left;\n",
       "    }\n",
       "</style>\n",
       "<table border=\"1\" class=\"dataframe\">\n",
       "  <thead>\n",
       "    <tr>\n",
       "      <th>SHOT_CATEGORY</th>\n",
       "      <th colspan=\"6\" halign=\"left\"></th>\n",
       "      <th colspan=\"3\" halign=\"left\">Restricted Area</th>\n",
       "      <th>In The Paint (Non-RA)</th>\n",
       "      <th>...</th>\n",
       "      <th>Right Corner 3</th>\n",
       "      <th colspan=\"3\" halign=\"left\">Above the Break 3</th>\n",
       "      <th colspan=\"3\" halign=\"left\">Backcourt</th>\n",
       "      <th colspan=\"3\" halign=\"left\">Corner 3</th>\n",
       "    </tr>\n",
       "    <tr>\n",
       "      <th>columns</th>\n",
       "      <th>PLAYER_ID</th>\n",
       "      <th>PLAYER_NAME</th>\n",
       "      <th>TEAM_ID</th>\n",
       "      <th>TEAM_ABBREVIATION</th>\n",
       "      <th>AGE</th>\n",
       "      <th>NICKNAME</th>\n",
       "      <th>FGM</th>\n",
       "      <th>FGA</th>\n",
       "      <th>FG_PCT</th>\n",
       "      <th>FGM</th>\n",
       "      <th>...</th>\n",
       "      <th>FG_PCT</th>\n",
       "      <th>FGM</th>\n",
       "      <th>FGA</th>\n",
       "      <th>FG_PCT</th>\n",
       "      <th>FGM</th>\n",
       "      <th>FGA</th>\n",
       "      <th>FG_PCT</th>\n",
       "      <th>FGM</th>\n",
       "      <th>FGA</th>\n",
       "      <th>FG_PCT</th>\n",
       "    </tr>\n",
       "  </thead>\n",
       "  <tbody>\n",
       "    <tr>\n",
       "      <th>0</th>\n",
       "      <td>203932</td>\n",
       "      <td>Aaron Gordon</td>\n",
       "      <td>1610612743</td>\n",
       "      <td>DEN</td>\n",
       "      <td>26.0</td>\n",
       "      <td>Aaron</td>\n",
       "      <td>3.7</td>\n",
       "      <td>4.9</td>\n",
       "      <td>0.755</td>\n",
       "      <td>0.4</td>\n",
       "      <td>...</td>\n",
       "      <td>0.356</td>\n",
       "      <td>0.7</td>\n",
       "      <td>1.9</td>\n",
       "      <td>0.340</td>\n",
       "      <td>0.0</td>\n",
       "      <td>0.1</td>\n",
       "      <td>0.0</td>\n",
       "      <td>0.5</td>\n",
       "      <td>1.5</td>\n",
       "      <td>0.339</td>\n",
       "    </tr>\n",
       "    <tr>\n",
       "      <th>1</th>\n",
       "      <td>1630565</td>\n",
       "      <td>Aaron Henry</td>\n",
       "      <td>1610612755</td>\n",
       "      <td>PHI</td>\n",
       "      <td>22.0</td>\n",
       "      <td>Aaron</td>\n",
       "      <td>0.2</td>\n",
       "      <td>0.2</td>\n",
       "      <td>1.000</td>\n",
       "      <td>0.0</td>\n",
       "      <td>...</td>\n",
       "      <td>0.000</td>\n",
       "      <td>0.0</td>\n",
       "      <td>0.2</td>\n",
       "      <td>0.000</td>\n",
       "      <td>NaN</td>\n",
       "      <td>NaN</td>\n",
       "      <td>NaN</td>\n",
       "      <td>0.0</td>\n",
       "      <td>0.0</td>\n",
       "      <td>0.000</td>\n",
       "    </tr>\n",
       "    <tr>\n",
       "      <th>2</th>\n",
       "      <td>1628988</td>\n",
       "      <td>Aaron Holiday</td>\n",
       "      <td>1610612756</td>\n",
       "      <td>PHX</td>\n",
       "      <td>25.0</td>\n",
       "      <td>Aaron</td>\n",
       "      <td>0.8</td>\n",
       "      <td>1.3</td>\n",
       "      <td>0.600</td>\n",
       "      <td>0.8</td>\n",
       "      <td>...</td>\n",
       "      <td>0.500</td>\n",
       "      <td>0.5</td>\n",
       "      <td>1.4</td>\n",
       "      <td>0.372</td>\n",
       "      <td>0.0</td>\n",
       "      <td>0.0</td>\n",
       "      <td>0.0</td>\n",
       "      <td>0.1</td>\n",
       "      <td>0.3</td>\n",
       "      <td>0.412</td>\n",
       "    </tr>\n",
       "    <tr>\n",
       "      <th>3</th>\n",
       "      <td>1630174</td>\n",
       "      <td>Aaron Nesmith</td>\n",
       "      <td>1610612738</td>\n",
       "      <td>BOS</td>\n",
       "      <td>22.0</td>\n",
       "      <td>Aaron</td>\n",
       "      <td>0.5</td>\n",
       "      <td>0.7</td>\n",
       "      <td>0.765</td>\n",
       "      <td>0.1</td>\n",
       "      <td>...</td>\n",
       "      <td>0.211</td>\n",
       "      <td>0.4</td>\n",
       "      <td>1.4</td>\n",
       "      <td>0.310</td>\n",
       "      <td>0.0</td>\n",
       "      <td>0.0</td>\n",
       "      <td>0.0</td>\n",
       "      <td>0.2</td>\n",
       "      <td>0.9</td>\n",
       "      <td>0.205</td>\n",
       "    </tr>\n",
       "    <tr>\n",
       "      <th>4</th>\n",
       "      <td>1630598</td>\n",
       "      <td>Aaron Wiggins</td>\n",
       "      <td>1610612760</td>\n",
       "      <td>OKC</td>\n",
       "      <td>23.0</td>\n",
       "      <td>Aaron</td>\n",
       "      <td>1.4</td>\n",
       "      <td>2.2</td>\n",
       "      <td>0.645</td>\n",
       "      <td>0.8</td>\n",
       "      <td>...</td>\n",
       "      <td>0.261</td>\n",
       "      <td>0.5</td>\n",
       "      <td>1.7</td>\n",
       "      <td>0.298</td>\n",
       "      <td>0.0</td>\n",
       "      <td>0.0</td>\n",
       "      <td>0.0</td>\n",
       "      <td>0.3</td>\n",
       "      <td>1.1</td>\n",
       "      <td>0.321</td>\n",
       "    </tr>\n",
       "    <tr>\n",
       "      <th>...</th>\n",
       "      <td>...</td>\n",
       "      <td>...</td>\n",
       "      <td>...</td>\n",
       "      <td>...</td>\n",
       "      <td>...</td>\n",
       "      <td>...</td>\n",
       "      <td>...</td>\n",
       "      <td>...</td>\n",
       "      <td>...</td>\n",
       "      <td>...</td>\n",
       "      <td>...</td>\n",
       "      <td>...</td>\n",
       "      <td>...</td>\n",
       "      <td>...</td>\n",
       "      <td>...</td>\n",
       "      <td>...</td>\n",
       "      <td>...</td>\n",
       "      <td>...</td>\n",
       "      <td>...</td>\n",
       "      <td>...</td>\n",
       "      <td>...</td>\n",
       "    </tr>\n",
       "    <tr>\n",
       "      <th>600</th>\n",
       "      <td>203897</td>\n",
       "      <td>Zach LaVine</td>\n",
       "      <td>1610612741</td>\n",
       "      <td>CHI</td>\n",
       "      <td>27.0</td>\n",
       "      <td>Zach</td>\n",
       "      <td>3.6</td>\n",
       "      <td>5.2</td>\n",
       "      <td>0.688</td>\n",
       "      <td>0.6</td>\n",
       "      <td>...</td>\n",
       "      <td>0.583</td>\n",
       "      <td>2.2</td>\n",
       "      <td>6.0</td>\n",
       "      <td>0.366</td>\n",
       "      <td>0.0</td>\n",
       "      <td>0.0</td>\n",
       "      <td>0.0</td>\n",
       "      <td>0.6</td>\n",
       "      <td>1.1</td>\n",
       "      <td>0.521</td>\n",
       "    </tr>\n",
       "    <tr>\n",
       "      <th>601</th>\n",
       "      <td>1630285</td>\n",
       "      <td>Zavier Simpson</td>\n",
       "      <td>1610612760</td>\n",
       "      <td>OKC</td>\n",
       "      <td>25.0</td>\n",
       "      <td>Zavier</td>\n",
       "      <td>2.3</td>\n",
       "      <td>4.3</td>\n",
       "      <td>0.529</td>\n",
       "      <td>2.3</td>\n",
       "      <td>...</td>\n",
       "      <td>0.000</td>\n",
       "      <td>0.3</td>\n",
       "      <td>2.0</td>\n",
       "      <td>0.125</td>\n",
       "      <td>0.0</td>\n",
       "      <td>0.0</td>\n",
       "      <td>0.0</td>\n",
       "      <td>0.0</td>\n",
       "      <td>0.0</td>\n",
       "      <td>0.000</td>\n",
       "    </tr>\n",
       "    <tr>\n",
       "      <th>602</th>\n",
       "      <td>1630192</td>\n",
       "      <td>Zeke Nnaji</td>\n",
       "      <td>1610612743</td>\n",
       "      <td>DEN</td>\n",
       "      <td>21.0</td>\n",
       "      <td>Zeke</td>\n",
       "      <td>1.2</td>\n",
       "      <td>1.9</td>\n",
       "      <td>0.671</td>\n",
       "      <td>0.1</td>\n",
       "      <td>...</td>\n",
       "      <td>0.529</td>\n",
       "      <td>0.5</td>\n",
       "      <td>1.1</td>\n",
       "      <td>0.435</td>\n",
       "      <td>0.0</td>\n",
       "      <td>0.0</td>\n",
       "      <td>0.0</td>\n",
       "      <td>0.4</td>\n",
       "      <td>0.9</td>\n",
       "      <td>0.500</td>\n",
       "    </tr>\n",
       "    <tr>\n",
       "      <th>603</th>\n",
       "      <td>1630533</td>\n",
       "      <td>Ziaire Williams</td>\n",
       "      <td>1610612763</td>\n",
       "      <td>MEM</td>\n",
       "      <td>20.0</td>\n",
       "      <td>Ziaire</td>\n",
       "      <td>1.1</td>\n",
       "      <td>1.4</td>\n",
       "      <td>0.833</td>\n",
       "      <td>0.3</td>\n",
       "      <td>...</td>\n",
       "      <td>0.447</td>\n",
       "      <td>0.6</td>\n",
       "      <td>1.9</td>\n",
       "      <td>0.297</td>\n",
       "      <td>0.0</td>\n",
       "      <td>0.0</td>\n",
       "      <td>0.0</td>\n",
       "      <td>0.7</td>\n",
       "      <td>2.0</td>\n",
       "      <td>0.342</td>\n",
       "    </tr>\n",
       "    <tr>\n",
       "      <th>604</th>\n",
       "      <td>1629597</td>\n",
       "      <td>Zylan Cheatham</td>\n",
       "      <td>1610612762</td>\n",
       "      <td>UTA</td>\n",
       "      <td>26.0</td>\n",
       "      <td>Zylan</td>\n",
       "      <td>0.0</td>\n",
       "      <td>1.0</td>\n",
       "      <td>0.000</td>\n",
       "      <td>0.0</td>\n",
       "      <td>...</td>\n",
       "      <td>0.000</td>\n",
       "      <td>0.0</td>\n",
       "      <td>1.0</td>\n",
       "      <td>0.000</td>\n",
       "      <td>NaN</td>\n",
       "      <td>NaN</td>\n",
       "      <td>NaN</td>\n",
       "      <td>0.0</td>\n",
       "      <td>1.0</td>\n",
       "      <td>0.000</td>\n",
       "    </tr>\n",
       "  </tbody>\n",
       "</table>\n",
       "<p>605 rows × 30 columns</p>\n",
       "</div>"
      ],
      "text/plain": [
       "SHOT_CATEGORY                                                                 \\\n",
       "columns       PLAYER_ID      PLAYER_NAME     TEAM_ID TEAM_ABBREVIATION   AGE   \n",
       "0                203932     Aaron Gordon  1610612743               DEN  26.0   \n",
       "1               1630565      Aaron Henry  1610612755               PHI  22.0   \n",
       "2               1628988    Aaron Holiday  1610612756               PHX  25.0   \n",
       "3               1630174    Aaron Nesmith  1610612738               BOS  22.0   \n",
       "4               1630598    Aaron Wiggins  1610612760               OKC  23.0   \n",
       "..                  ...              ...         ...               ...   ...   \n",
       "600              203897      Zach LaVine  1610612741               CHI  27.0   \n",
       "601             1630285   Zavier Simpson  1610612760               OKC  25.0   \n",
       "602             1630192       Zeke Nnaji  1610612743               DEN  21.0   \n",
       "603             1630533  Ziaire Williams  1610612763               MEM  20.0   \n",
       "604             1629597   Zylan Cheatham  1610612762               UTA  26.0   \n",
       "\n",
       "SHOT_CATEGORY          Restricted Area             In The Paint (Non-RA)  ...  \\\n",
       "columns       NICKNAME             FGM  FGA FG_PCT                   FGM  ...   \n",
       "0                Aaron             3.7  4.9  0.755                   0.4  ...   \n",
       "1                Aaron             0.2  0.2  1.000                   0.0  ...   \n",
       "2                Aaron             0.8  1.3  0.600                   0.8  ...   \n",
       "3                Aaron             0.5  0.7  0.765                   0.1  ...   \n",
       "4                Aaron             1.4  2.2  0.645                   0.8  ...   \n",
       "..                 ...             ...  ...    ...                   ...  ...   \n",
       "600               Zach             3.6  5.2  0.688                   0.6  ...   \n",
       "601             Zavier             2.3  4.3  0.529                   2.3  ...   \n",
       "602               Zeke             1.2  1.9  0.671                   0.1  ...   \n",
       "603             Ziaire             1.1  1.4  0.833                   0.3  ...   \n",
       "604              Zylan             0.0  1.0  0.000                   0.0  ...   \n",
       "\n",
       "SHOT_CATEGORY Right Corner 3 Above the Break 3             Backcourt       \\\n",
       "columns               FG_PCT               FGM  FGA FG_PCT       FGM  FGA   \n",
       "0                      0.356               0.7  1.9  0.340       0.0  0.1   \n",
       "1                      0.000               0.0  0.2  0.000       NaN  NaN   \n",
       "2                      0.500               0.5  1.4  0.372       0.0  0.0   \n",
       "3                      0.211               0.4  1.4  0.310       0.0  0.0   \n",
       "4                      0.261               0.5  1.7  0.298       0.0  0.0   \n",
       "..                       ...               ...  ...    ...       ...  ...   \n",
       "600                    0.583               2.2  6.0  0.366       0.0  0.0   \n",
       "601                    0.000               0.3  2.0  0.125       0.0  0.0   \n",
       "602                    0.529               0.5  1.1  0.435       0.0  0.0   \n",
       "603                    0.447               0.6  1.9  0.297       0.0  0.0   \n",
       "604                    0.000               0.0  1.0  0.000       NaN  NaN   \n",
       "\n",
       "SHOT_CATEGORY        Corner 3              \n",
       "columns       FG_PCT      FGM  FGA FG_PCT  \n",
       "0                0.0      0.5  1.5  0.339  \n",
       "1                NaN      0.0  0.0  0.000  \n",
       "2                0.0      0.1  0.3  0.412  \n",
       "3                0.0      0.2  0.9  0.205  \n",
       "4                0.0      0.3  1.1  0.321  \n",
       "..               ...      ...  ...    ...  \n",
       "600              0.0      0.6  1.1  0.521  \n",
       "601              0.0      0.0  0.0  0.000  \n",
       "602              0.0      0.4  0.9  0.500  \n",
       "603              0.0      0.7  2.0  0.342  \n",
       "604              NaN      0.0  1.0  0.000  \n",
       "\n",
       "[605 rows x 30 columns]"
      ]
     },
     "execution_count": 25,
     "metadata": {},
     "output_type": "execute_result"
    }
   ],
   "source": [
    "shot_df"
   ]
  },
  {
   "cell_type": "code",
   "execution_count": 26,
   "metadata": {},
   "outputs": [],
   "source": [
    "shot_df = shot_df[['','Restricted Area', 'In The Paint (Non-RA)', 'Mid-Range']]\n",
    "player_names = shot_df[('', 'PLAYER_NAME')].values\n",
    "team_abb = shot_df[('', 'TEAM_ABBREVIATION')].values\n",
    "area_fga = {}\n",
    "\n",
    "for area in ('Restricted Area', 'In The Paint (Non-RA)', 'Mid-Range'):\n",
    "    \n",
    "    area_fga[area + ' FGA'] = shot_df[(area, 'FGA')].values"
   ]
  },
  {
   "cell_type": "code",
   "execution_count": 27,
   "metadata": {},
   "outputs": [],
   "source": [
    "twos_breakdown = pd.DataFrame(area_fga)\n",
    "twos_breakdown['2PA'] = twos_breakdown.sum(axis=1)\n",
    "twos_breakdown['PLAYER_NAME'] = player_names\n",
    "twos_breakdown['TEAM_ABBREVIATION'] = team_abb\n"
   ]
  },
  {
   "cell_type": "code",
   "execution_count": 28,
   "metadata": {},
   "outputs": [
    {
     "data": {
      "text/html": [
       "<div>\n",
       "<style scoped>\n",
       "    .dataframe tbody tr th:only-of-type {\n",
       "        vertical-align: middle;\n",
       "    }\n",
       "\n",
       "    .dataframe tbody tr th {\n",
       "        vertical-align: top;\n",
       "    }\n",
       "\n",
       "    .dataframe thead th {\n",
       "        text-align: right;\n",
       "    }\n",
       "</style>\n",
       "<table border=\"1\" class=\"dataframe\">\n",
       "  <thead>\n",
       "    <tr style=\"text-align: right;\">\n",
       "      <th></th>\n",
       "      <th>Restricted Area FGA</th>\n",
       "      <th>In The Paint (Non-RA) FGA</th>\n",
       "      <th>Mid-Range FGA</th>\n",
       "      <th>2PA</th>\n",
       "      <th>PLAYER_NAME</th>\n",
       "      <th>TEAM_ABBREVIATION</th>\n",
       "    </tr>\n",
       "  </thead>\n",
       "  <tbody>\n",
       "  </tbody>\n",
       "</table>\n",
       "</div>"
      ],
      "text/plain": [
       "Empty DataFrame\n",
       "Columns: [Restricted Area FGA, In The Paint (Non-RA) FGA, Mid-Range FGA, 2PA, PLAYER_NAME, TEAM_ABBREVIATION]\n",
       "Index: []"
      ]
     },
     "execution_count": 28,
     "metadata": {},
     "output_type": "execute_result"
    }
   ],
   "source": [
    "twos_breakdown[twos_breakdown['Mid-Range FGA']> twos_breakdown['2PA']]"
   ]
  },
  {
   "cell_type": "code",
   "execution_count": 33,
   "metadata": {},
   "outputs": [
    {
     "data": {
      "text/html": [
       "<div>\n",
       "<style scoped>\n",
       "    .dataframe tbody tr th:only-of-type {\n",
       "        vertical-align: middle;\n",
       "    }\n",
       "\n",
       "    .dataframe tbody tr th {\n",
       "        vertical-align: top;\n",
       "    }\n",
       "\n",
       "    .dataframe thead th {\n",
       "        text-align: right;\n",
       "    }\n",
       "</style>\n",
       "<table border=\"1\" class=\"dataframe\">\n",
       "  <thead>\n",
       "    <tr style=\"text-align: right;\">\n",
       "      <th></th>\n",
       "      <th>Restricted Area FGA</th>\n",
       "      <th>In The Paint (Non-RA) FGA</th>\n",
       "      <th>Mid-Range FGA</th>\n",
       "      <th>2PA</th>\n",
       "      <th>PLAYER_NAME</th>\n",
       "      <th>TEAM_ABBREVIATION</th>\n",
       "    </tr>\n",
       "  </thead>\n",
       "  <tbody>\n",
       "    <tr>\n",
       "      <th>148</th>\n",
       "      <td>2.3</td>\n",
       "      <td>2.6</td>\n",
       "      <td>0.9</td>\n",
       "      <td>5.8</td>\n",
       "      <td>Derrick White</td>\n",
       "      <td>BOS</td>\n",
       "    </tr>\n",
       "  </tbody>\n",
       "</table>\n",
       "</div>"
      ],
      "text/plain": [
       "     Restricted Area FGA  In The Paint (Non-RA) FGA  Mid-Range FGA  2PA  \\\n",
       "148                  2.3                        2.6            0.9  5.8   \n",
       "\n",
       "       PLAYER_NAME TEAM_ABBREVIATION  \n",
       "148  Derrick White               BOS  "
      ]
     },
     "execution_count": 33,
     "metadata": {},
     "output_type": "execute_result"
    }
   ],
   "source": [
    "twos_breakdown[twos_breakdown['PLAYER_NAME']=='Derrick White']"
   ]
  },
  {
   "cell_type": "code",
   "execution_count": 45,
   "metadata": {},
   "outputs": [
    {
     "name": "stderr",
     "output_type": "stream",
     "text": [
      "C:\\Users\\rpand\\AppData\\Local\\Temp\\ipykernel_1504\\3418698264.py:4: FutureWarning: Passing 'suffixes' which cause duplicate columns {'TEAM_ID_x', 'GP_x', 'MIN_x', 'PLAYER_ID_x', 'W_x', 'L_x'} in the result is deprecated and will raise a MergeError in a future version.\n",
      "  full_shot_pass = pd.merge(full_shot_pass, df, how = 'inner', on = ['PLAYER_NAME', 'Season', 'TEAM_ABBREVIATION'])\n"
     ]
    }
   ],
   "source": [
    "full_shot_pass = passing\n",
    "\n",
    "for df in (drives, pullup, catch_shoot):\n",
    "    full_shot_pass = pd.merge(full_shot_pass, df, how = 'inner', on = ['PLAYER_NAME', 'Season', 'TEAM_ABBREVIATION'])\n",
    "full_shot_pass = pd.merge(full_shot_pass, twos_breakdown, on = ['PLAYER_NAME',  'TEAM_ABBREVIATION'] ,how='inner')\n",
    "full_shot_pass = pd.merge(full_shot_pass, player_basic, how='inner', on = ['PLAYER_NAME',  'TEAM_ABBREVIATION'])\n",
    "full_shot_pass = pd.merge(full_shot_pass, player_advanced, how='inner', on = ['PLAYER_NAME',  'TEAM_ABBREVIATION'])"
   ]
  },
  {
   "cell_type": "code",
   "execution_count": 765,
   "metadata": {},
   "outputs": [],
   "source": [
    "full_shot_pass.to_csv('full_shot_pass.csv', index=False)"
   ]
  },
  {
   "cell_type": "code",
   "execution_count": 701,
   "metadata": {},
   "outputs": [
    {
     "data": {
      "text/plain": [
       "Index(['PLAYER_NAME', 'POTENTIAL_AST', 'Season', 'DRIVES', 'DRIVE_PASSES_PCT',\n",
       "       'PULL_UP_FGA', 'PULL_UP_FG3_PCT', 'CATCH_SHOOT_FG_PCT',\n",
       "       'CATCH_SHOOT_FGA', 'Restricted Area FGA', 'In The Paint (Non-RA) FGA',\n",
       "       'Mid-Range FGA', '2PA', 'FGA', 'USG_PCT'],\n",
       "      dtype='object')"
      ]
     },
     "execution_count": 701,
     "metadata": {},
     "output_type": "execute_result"
    }
   ],
   "source": [
    "full_shot_pass.columns"
   ]
  },
  {
   "cell_type": "markdown",
   "metadata": {},
   "source": [
    "## Getting Historical Offensive Data"
   ]
  },
  {
   "cell_type": "code",
   "execution_count": 702,
   "metadata": {},
   "outputs": [],
   "source": [
    "def historic_synergy(playtypes, grouping, start_year, end_year = '2021-22'):\n",
    "    start_szn = int(start_year[0:4])\n",
    "    end_year = int('20'+end_year[5:])\n",
    "    historic_df = synergy_data(playtypes, grouping, start_year)\n",
    "    current_szn = start_year\n",
    "    \n",
    "    for i in range(start_szn,end_year-1):\n",
    "        current_szn =  str(int(current_szn[0:4]) +1) +'-'+ str(int(current_szn[5:])+1)\n",
    "        print('starting'+' '+current_szn)\n",
    "        temp_df = synergy_data(playtypes, grouping, current_szn)\n",
    "        \n",
    "        for j in historic_df.keys():\n",
    "            print(f'Working on :{j}')\n",
    "            historic_df[j] = pd.concat([historic_df[j],temp_df[j]], axis=0, ignore_index=True)\n",
    "        print(f'Done {current_szn}')\n",
    "\n",
    "    return(historic_df)"
   ]
  },
  {
   "cell_type": "code",
   "execution_count": 703,
   "metadata": {},
   "outputs": [],
   "source": [
    "historic_offence = historic_synergy(playtypes, 'offensive', '2021-22')"
   ]
  },
  {
   "cell_type": "code",
   "execution_count": 704,
   "metadata": {},
   "outputs": [],
   "source": [
    "for i in playtypes:\n",
    "    historic_offence[i].to_csv('historic_offence'+'_'+i, index=False)"
   ]
  },
  {
   "cell_type": "code",
   "execution_count": 46,
   "metadata": {},
   "outputs": [],
   "source": [
    "historic_offence_dfs = {}\n",
    "for i in playtypes:\n",
    "    historic_offence_dfs[i] = pd.read_csv('historic_offence'+'_'+i)"
   ]
  },
  {
   "cell_type": "code",
   "execution_count": 47,
   "metadata": {},
   "outputs": [
    {
     "data": {
      "text/html": [
       "<div>\n",
       "<style scoped>\n",
       "    .dataframe tbody tr th:only-of-type {\n",
       "        vertical-align: middle;\n",
       "    }\n",
       "\n",
       "    .dataframe tbody tr th {\n",
       "        vertical-align: top;\n",
       "    }\n",
       "\n",
       "    .dataframe thead th {\n",
       "        text-align: right;\n",
       "    }\n",
       "</style>\n",
       "<table border=\"1\" class=\"dataframe\">\n",
       "  <thead>\n",
       "    <tr style=\"text-align: right;\">\n",
       "      <th></th>\n",
       "      <th>SEASON_ID</th>\n",
       "      <th>PLAYER_ID</th>\n",
       "      <th>PLAYER_NAME</th>\n",
       "      <th>TEAM_ID</th>\n",
       "      <th>TEAM_ABBREVIATION</th>\n",
       "      <th>TEAM_NAME</th>\n",
       "      <th>PLAY_TYPE</th>\n",
       "      <th>TYPE_GROUPING</th>\n",
       "      <th>PPP PERCENTILE</th>\n",
       "      <th>GP</th>\n",
       "      <th>...</th>\n",
       "      <th>PLUSONE_POSS_PCT</th>\n",
       "      <th>SCORE_POSS_PCT</th>\n",
       "      <th>EFG_PCT</th>\n",
       "      <th>POSS</th>\n",
       "      <th>PTS</th>\n",
       "      <th>FGM</th>\n",
       "      <th>FGA</th>\n",
       "      <th>FGMX</th>\n",
       "      <th>Season</th>\n",
       "      <th>POSS PCT PERCENTILE</th>\n",
       "    </tr>\n",
       "  </thead>\n",
       "  <tbody>\n",
       "    <tr>\n",
       "      <th>0</th>\n",
       "      <td>22021</td>\n",
       "      <td>1629130</td>\n",
       "      <td>Duncan Robinson</td>\n",
       "      <td>1610612748</td>\n",
       "      <td>MIA</td>\n",
       "      <td>Miami Heat</td>\n",
       "      <td>Handoff</td>\n",
       "      <td>Offensive</td>\n",
       "      <td>0.779</td>\n",
       "      <td>79</td>\n",
       "      <td>...</td>\n",
       "      <td>0.005</td>\n",
       "      <td>0.364</td>\n",
       "      <td>0.535</td>\n",
       "      <td>2.3</td>\n",
       "      <td>2.4</td>\n",
       "      <td>0.8</td>\n",
       "      <td>2.2</td>\n",
       "      <td>1.4</td>\n",
       "      <td>2021-22</td>\n",
       "      <td>1.000000</td>\n",
       "    </tr>\n",
       "    <tr>\n",
       "      <th>1</th>\n",
       "      <td>22021</td>\n",
       "      <td>1630217</td>\n",
       "      <td>Desmond Bane</td>\n",
       "      <td>1610612763</td>\n",
       "      <td>MEM</td>\n",
       "      <td>Memphis Grizzlies</td>\n",
       "      <td>Handoff</td>\n",
       "      <td>Offensive</td>\n",
       "      <td>0.737</td>\n",
       "      <td>76</td>\n",
       "      <td>...</td>\n",
       "      <td>0.006</td>\n",
       "      <td>0.410</td>\n",
       "      <td>0.535</td>\n",
       "      <td>2.1</td>\n",
       "      <td>2.1</td>\n",
       "      <td>0.8</td>\n",
       "      <td>1.9</td>\n",
       "      <td>1.1</td>\n",
       "      <td>2021-22</td>\n",
       "      <td>0.937500</td>\n",
       "    </tr>\n",
       "    <tr>\n",
       "      <th>2</th>\n",
       "      <td>22021</td>\n",
       "      <td>201988</td>\n",
       "      <td>Patty Mills</td>\n",
       "      <td>1610612751</td>\n",
       "      <td>BKN</td>\n",
       "      <td>Brooklyn Nets</td>\n",
       "      <td>Handoff</td>\n",
       "      <td>Offensive</td>\n",
       "      <td>0.747</td>\n",
       "      <td>81</td>\n",
       "      <td>...</td>\n",
       "      <td>0.000</td>\n",
       "      <td>0.388</td>\n",
       "      <td>0.540</td>\n",
       "      <td>1.9</td>\n",
       "      <td>1.9</td>\n",
       "      <td>0.7</td>\n",
       "      <td>1.7</td>\n",
       "      <td>1.0</td>\n",
       "      <td>2021-22</td>\n",
       "      <td>0.980903</td>\n",
       "    </tr>\n",
       "    <tr>\n",
       "      <th>3</th>\n",
       "      <td>22021</td>\n",
       "      <td>1629673</td>\n",
       "      <td>Jordan Poole</td>\n",
       "      <td>1610612744</td>\n",
       "      <td>GSW</td>\n",
       "      <td>Golden State Warriors</td>\n",
       "      <td>Handoff</td>\n",
       "      <td>Offensive</td>\n",
       "      <td>0.554</td>\n",
       "      <td>76</td>\n",
       "      <td>...</td>\n",
       "      <td>0.006</td>\n",
       "      <td>0.365</td>\n",
       "      <td>0.489</td>\n",
       "      <td>2.2</td>\n",
       "      <td>2.0</td>\n",
       "      <td>0.7</td>\n",
       "      <td>1.8</td>\n",
       "      <td>1.1</td>\n",
       "      <td>2021-22</td>\n",
       "      <td>0.937500</td>\n",
       "    </tr>\n",
       "    <tr>\n",
       "      <th>4</th>\n",
       "      <td>22021</td>\n",
       "      <td>201939</td>\n",
       "      <td>Stephen Curry</td>\n",
       "      <td>1610612744</td>\n",
       "      <td>GSW</td>\n",
       "      <td>Golden State Warriors</td>\n",
       "      <td>Handoff</td>\n",
       "      <td>Offensive</td>\n",
       "      <td>0.571</td>\n",
       "      <td>64</td>\n",
       "      <td>...</td>\n",
       "      <td>0.013</td>\n",
       "      <td>0.354</td>\n",
       "      <td>0.460</td>\n",
       "      <td>2.5</td>\n",
       "      <td>2.3</td>\n",
       "      <td>0.7</td>\n",
       "      <td>2.0</td>\n",
       "      <td>1.3</td>\n",
       "      <td>2021-22</td>\n",
       "      <td>0.866319</td>\n",
       "    </tr>\n",
       "    <tr>\n",
       "      <th>...</th>\n",
       "      <td>...</td>\n",
       "      <td>...</td>\n",
       "      <td>...</td>\n",
       "      <td>...</td>\n",
       "      <td>...</td>\n",
       "      <td>...</td>\n",
       "      <td>...</td>\n",
       "      <td>...</td>\n",
       "      <td>...</td>\n",
       "      <td>...</td>\n",
       "      <td>...</td>\n",
       "      <td>...</td>\n",
       "      <td>...</td>\n",
       "      <td>...</td>\n",
       "      <td>...</td>\n",
       "      <td>...</td>\n",
       "      <td>...</td>\n",
       "      <td>...</td>\n",
       "      <td>...</td>\n",
       "      <td>...</td>\n",
       "      <td>...</td>\n",
       "    </tr>\n",
       "    <tr>\n",
       "      <th>283</th>\n",
       "      <td>22021</td>\n",
       "      <td>1630182</td>\n",
       "      <td>Josh Green</td>\n",
       "      <td>1610612742</td>\n",
       "      <td>DAL</td>\n",
       "      <td>Dallas Mavericks</td>\n",
       "      <td>Handoff</td>\n",
       "      <td>Offensive</td>\n",
       "      <td>0.014</td>\n",
       "      <td>67</td>\n",
       "      <td>...</td>\n",
       "      <td>0.000</td>\n",
       "      <td>0.100</td>\n",
       "      <td>0.143</td>\n",
       "      <td>0.1</td>\n",
       "      <td>0.0</td>\n",
       "      <td>0.0</td>\n",
       "      <td>0.1</td>\n",
       "      <td>0.1</td>\n",
       "      <td>2021-22</td>\n",
       "      <td>0.154514</td>\n",
       "    </tr>\n",
       "    <tr>\n",
       "      <th>284</th>\n",
       "      <td>22021</td>\n",
       "      <td>1629164</td>\n",
       "      <td>Brandon Goodwin</td>\n",
       "      <td>1610612739</td>\n",
       "      <td>CLE</td>\n",
       "      <td>Cleveland Cavaliers</td>\n",
       "      <td>Handoff</td>\n",
       "      <td>Offensive</td>\n",
       "      <td>0.007</td>\n",
       "      <td>36</td>\n",
       "      <td>...</td>\n",
       "      <td>0.000</td>\n",
       "      <td>0.091</td>\n",
       "      <td>0.100</td>\n",
       "      <td>0.3</td>\n",
       "      <td>0.1</td>\n",
       "      <td>0.0</td>\n",
       "      <td>0.3</td>\n",
       "      <td>0.3</td>\n",
       "      <td>2021-22</td>\n",
       "      <td>0.411458</td>\n",
       "    </tr>\n",
       "    <tr>\n",
       "      <th>285</th>\n",
       "      <td>22021</td>\n",
       "      <td>1628365</td>\n",
       "      <td>Markelle Fultz</td>\n",
       "      <td>1610612753</td>\n",
       "      <td>ORL</td>\n",
       "      <td>Orlando Magic</td>\n",
       "      <td>Handoff</td>\n",
       "      <td>Offensive</td>\n",
       "      <td>0.007</td>\n",
       "      <td>18</td>\n",
       "      <td>...</td>\n",
       "      <td>0.000</td>\n",
       "      <td>0.091</td>\n",
       "      <td>0.111</td>\n",
       "      <td>0.6</td>\n",
       "      <td>0.1</td>\n",
       "      <td>0.1</td>\n",
       "      <td>0.5</td>\n",
       "      <td>0.4</td>\n",
       "      <td>2021-22</td>\n",
       "      <td>0.347222</td>\n",
       "    </tr>\n",
       "    <tr>\n",
       "      <th>286</th>\n",
       "      <td>22021</td>\n",
       "      <td>1628367</td>\n",
       "      <td>Josh Jackson</td>\n",
       "      <td>1610612765</td>\n",
       "      <td>DET</td>\n",
       "      <td>Detroit Pistons</td>\n",
       "      <td>Handoff</td>\n",
       "      <td>Offensive</td>\n",
       "      <td>0.003</td>\n",
       "      <td>39</td>\n",
       "      <td>...</td>\n",
       "      <td>0.000</td>\n",
       "      <td>0.083</td>\n",
       "      <td>0.100</td>\n",
       "      <td>0.3</td>\n",
       "      <td>0.1</td>\n",
       "      <td>0.0</td>\n",
       "      <td>0.3</td>\n",
       "      <td>0.2</td>\n",
       "      <td>2021-22</td>\n",
       "      <td>0.220486</td>\n",
       "    </tr>\n",
       "    <tr>\n",
       "      <th>287</th>\n",
       "      <td>22021</td>\n",
       "      <td>1629681</td>\n",
       "      <td>Killian Tillie</td>\n",
       "      <td>1610612763</td>\n",
       "      <td>MEM</td>\n",
       "      <td>Memphis Grizzlies</td>\n",
       "      <td>Handoff</td>\n",
       "      <td>Offensive</td>\n",
       "      <td>0.000</td>\n",
       "      <td>36</td>\n",
       "      <td>...</td>\n",
       "      <td>0.000</td>\n",
       "      <td>0.063</td>\n",
       "      <td>0.077</td>\n",
       "      <td>0.4</td>\n",
       "      <td>0.1</td>\n",
       "      <td>0.0</td>\n",
       "      <td>0.4</td>\n",
       "      <td>0.3</td>\n",
       "      <td>2021-22</td>\n",
       "      <td>0.907986</td>\n",
       "    </tr>\n",
       "  </tbody>\n",
       "</table>\n",
       "<p>288 rows × 26 columns</p>\n",
       "</div>"
      ],
      "text/plain": [
       "     SEASON_ID  PLAYER_ID      PLAYER_NAME     TEAM_ID TEAM_ABBREVIATION  \\\n",
       "0        22021    1629130  Duncan Robinson  1610612748               MIA   \n",
       "1        22021    1630217     Desmond Bane  1610612763               MEM   \n",
       "2        22021     201988      Patty Mills  1610612751               BKN   \n",
       "3        22021    1629673     Jordan Poole  1610612744               GSW   \n",
       "4        22021     201939    Stephen Curry  1610612744               GSW   \n",
       "..         ...        ...              ...         ...               ...   \n",
       "283      22021    1630182       Josh Green  1610612742               DAL   \n",
       "284      22021    1629164  Brandon Goodwin  1610612739               CLE   \n",
       "285      22021    1628365   Markelle Fultz  1610612753               ORL   \n",
       "286      22021    1628367     Josh Jackson  1610612765               DET   \n",
       "287      22021    1629681   Killian Tillie  1610612763               MEM   \n",
       "\n",
       "                 TEAM_NAME PLAY_TYPE TYPE_GROUPING  PPP PERCENTILE  GP  ...  \\\n",
       "0               Miami Heat   Handoff     Offensive           0.779  79  ...   \n",
       "1        Memphis Grizzlies   Handoff     Offensive           0.737  76  ...   \n",
       "2            Brooklyn Nets   Handoff     Offensive           0.747  81  ...   \n",
       "3    Golden State Warriors   Handoff     Offensive           0.554  76  ...   \n",
       "4    Golden State Warriors   Handoff     Offensive           0.571  64  ...   \n",
       "..                     ...       ...           ...             ...  ..  ...   \n",
       "283       Dallas Mavericks   Handoff     Offensive           0.014  67  ...   \n",
       "284    Cleveland Cavaliers   Handoff     Offensive           0.007  36  ...   \n",
       "285          Orlando Magic   Handoff     Offensive           0.007  18  ...   \n",
       "286        Detroit Pistons   Handoff     Offensive           0.003  39  ...   \n",
       "287      Memphis Grizzlies   Handoff     Offensive           0.000  36  ...   \n",
       "\n",
       "     PLUSONE_POSS_PCT  SCORE_POSS_PCT  EFG_PCT  POSS  PTS  FGM  FGA  FGMX  \\\n",
       "0               0.005           0.364    0.535   2.3  2.4  0.8  2.2   1.4   \n",
       "1               0.006           0.410    0.535   2.1  2.1  0.8  1.9   1.1   \n",
       "2               0.000           0.388    0.540   1.9  1.9  0.7  1.7   1.0   \n",
       "3               0.006           0.365    0.489   2.2  2.0  0.7  1.8   1.1   \n",
       "4               0.013           0.354    0.460   2.5  2.3  0.7  2.0   1.3   \n",
       "..                ...             ...      ...   ...  ...  ...  ...   ...   \n",
       "283             0.000           0.100    0.143   0.1  0.0  0.0  0.1   0.1   \n",
       "284             0.000           0.091    0.100   0.3  0.1  0.0  0.3   0.3   \n",
       "285             0.000           0.091    0.111   0.6  0.1  0.1  0.5   0.4   \n",
       "286             0.000           0.083    0.100   0.3  0.1  0.0  0.3   0.2   \n",
       "287             0.000           0.063    0.077   0.4  0.1  0.0  0.4   0.3   \n",
       "\n",
       "      Season  POSS PCT PERCENTILE  \n",
       "0    2021-22             1.000000  \n",
       "1    2021-22             0.937500  \n",
       "2    2021-22             0.980903  \n",
       "3    2021-22             0.937500  \n",
       "4    2021-22             0.866319  \n",
       "..       ...                  ...  \n",
       "283  2021-22             0.154514  \n",
       "284  2021-22             0.411458  \n",
       "285  2021-22             0.347222  \n",
       "286  2021-22             0.220486  \n",
       "287  2021-22             0.907986  \n",
       "\n",
       "[288 rows x 26 columns]"
      ]
     },
     "execution_count": 47,
     "metadata": {},
     "output_type": "execute_result"
    }
   ],
   "source": [
    "historic_offence_dfs['Handoff']"
   ]
  },
  {
   "cell_type": "code",
   "execution_count": 767,
   "metadata": {},
   "outputs": [],
   "source": [
    "for i in historic_offence_dfs.keys():\n",
    "    historic_offence_dfs[i]= historic_offence_dfs[i].rename({'PPP': i + ' PPP', 'POSS': i + ' POSS', 'POSS_PCT': i+' FREQ'}, axis='columns')\n",
    "    historic_offence_dfs[i] = historic_offence_dfs[i][['PLAYER_NAME', 'Season', 'TEAM_ABBREVIATION',i + ' PPP',  i + ' FREQ',i + ' POSS','GP']]"
   ]
  },
  {
   "cell_type": "code",
   "execution_count": 768,
   "metadata": {},
   "outputs": [
    {
     "data": {
      "text/plain": [
       "dict_keys(['Cut', 'Handoff', 'Isolation', 'Misc', 'OffScreen', 'Postup', 'PRBallHandler', 'PRRollman', 'OffRebound', 'Spotup', 'Transition'])"
      ]
     },
     "execution_count": 768,
     "metadata": {},
     "output_type": "execute_result"
    }
   ],
   "source": [
    "historic_offence_dfs.keys()"
   ]
  },
  {
   "cell_type": "code",
   "execution_count": 769,
   "metadata": {},
   "outputs": [],
   "source": [
    "all_offence = pd.merge(historic_offence_dfs['Cut'], historic_offence_dfs['Handoff'], how = 'outer', on=['PLAYER_NAME', 'Season','GP', 'TEAM_ABBREVIATION'])\n",
    "\n",
    "for i in range(2, len(historic_offence_dfs.keys())):\n",
    "    key = list(historic_offence_dfs.keys())[i]\n",
    "    all_offence = pd.merge(all_offence, historic_offence_dfs[key], how = 'outer', on=['PLAYER_NAME', 'Season', 'GP', 'TEAM_ABBREVIATION'])"
   ]
  },
  {
   "cell_type": "code",
   "execution_count": 770,
   "metadata": {},
   "outputs": [],
   "source": [
    "all_offence = all_offence.drop_duplicates(['PLAYER_NAME', 'Season', 'GP', 'TEAM_ABBREVIATION'])"
   ]
  },
  {
   "cell_type": "code",
   "execution_count": 771,
   "metadata": {},
   "outputs": [],
   "source": [
    "poss_cols = [i + ' POSS' for i in historic_offence.keys()]"
   ]
  },
  {
   "cell_type": "code",
   "execution_count": 772,
   "metadata": {},
   "outputs": [],
   "source": [
    "all_offence['Total Poss'] = all_offence[poss_cols].sum(axis=1)"
   ]
  },
  {
   "cell_type": "code",
   "execution_count": 773,
   "metadata": {},
   "outputs": [],
   "source": [
    "all_offence = all_offence.drop(poss_cols, axis='columns')"
   ]
  },
  {
   "cell_type": "code",
   "execution_count": 774,
   "metadata": {},
   "outputs": [],
   "source": [
    "\n",
    "all_offence = pd.merge(all_offence, hustle_df[['PLAYER_NAME',  \"MIN\", \"Season\"]], on = ['PLAYER_NAME', 'Season'], how='inner')"
   ]
  },
  {
   "cell_type": "code",
   "execution_count": 775,
   "metadata": {},
   "outputs": [],
   "source": [
    "shot_pass =pd.read_csv('full_shot_pass.csv')"
   ]
  },
  {
   "cell_type": "code",
   "execution_count": 776,
   "metadata": {},
   "outputs": [],
   "source": [
    "all_offence = pd.merge(all_offence, shot_pass, on = ['PLAYER_NAME', 'Season'], how='inner')"
   ]
  },
  {
   "cell_type": "code",
   "execution_count": 777,
   "metadata": {},
   "outputs": [],
   "source": [
    "all_offence = all_offence.fillna(0)"
   ]
  },
  {
   "cell_type": "code",
   "execution_count": 778,
   "metadata": {},
   "outputs": [],
   "source": [
    "all_offence = all_offence.drop_duplicates(['PLAYER_NAME', 'Season'])"
   ]
  },
  {
   "cell_type": "code",
   "execution_count": 779,
   "metadata": {},
   "outputs": [
    {
     "data": {
      "text/plain": [
       "Index(['PLAYER_NAME', 'Season', 'Cut PPP', 'Cut FREQ', 'GP', 'Handoff PPP',\n",
       "       'Handoff FREQ', 'Isolation PPP', 'Isolation FREQ', 'Misc PPP',\n",
       "       'Misc FREQ', 'OffScreen PPP', 'OffScreen FREQ', 'Postup PPP',\n",
       "       'Postup FREQ', 'PRBallHandler PPP', 'PRBallHandler FREQ',\n",
       "       'PRRollman PPP', 'PRRollman FREQ', 'OffRebound PPP', 'OffRebound FREQ',\n",
       "       'Spotup PPP', 'Spotup FREQ', 'Transition PPP', 'Transition FREQ',\n",
       "       'Total Poss', 'MIN', 'POTENTIAL_AST', 'DRIVES', 'DRIVE_PASSES_PCT',\n",
       "       'PULL_UP_FGA', 'PULL_UP_FG3_PCT', 'CATCH_SHOOT_FG_PCT',\n",
       "       'CATCH_SHOOT_FGA', 'Restricted Area FGA', 'In The Paint (Non-RA) FGA',\n",
       "       'Mid-Range FGA', '2PA', 'FGA', 'FG3A', 'USG_PCT'],\n",
       "      dtype='object')"
      ]
     },
     "execution_count": 779,
     "metadata": {},
     "output_type": "execute_result"
    }
   ],
   "source": [
    "all_offence.columns"
   ]
  },
  {
   "cell_type": "code",
   "execution_count": 780,
   "metadata": {},
   "outputs": [],
   "source": [
    "all_offence['POTENTIAL_AST FREQ'] = all_offence['POTENTIAL_AST']/all_offence['Total Poss']\n",
    "\n",
    "for area in ('Restricted Area', 'In The Paint (Non-RA)', 'Mid-Range'):\n",
    "    all_offence[area + ' FREQ'] = all_offence[area+ ' FGA']/all_offence['2PA']\n",
    "    all_offence = all_offence.drop(area+' FGA', axis=1)"
   ]
  },
  {
   "cell_type": "code",
   "execution_count": 781,
   "metadata": {},
   "outputs": [],
   "source": [
    "all_offence['3P FREQ'] = all_offence['FG3A']/all_offence['FGA']"
   ]
  },
  {
   "cell_type": "code",
   "execution_count": 782,
   "metadata": {},
   "outputs": [],
   "source": [
    "all_offence['Drives FREQ'] = all_offence['DRIVES']/all_offence['Total Poss']\n",
    "\n",
    "for area in ('PULL_UP', 'CATCH_SHOOT'):\n",
    "    all_offence[area + ' FREQ'] = all_offence[area+ '_FGA']/all_offence['FGA']\n",
    "    all_offence = all_offence.drop(area+'_FGA', axis=1)"
   ]
  },
  {
   "cell_type": "code",
   "execution_count": 783,
   "metadata": {},
   "outputs": [],
   "source": [
    "all_offence = all_offence.drop(['DRIVES', '2PA', 'FGA' ], axis=1)"
   ]
  },
  {
   "cell_type": "code",
   "execution_count": 784,
   "metadata": {},
   "outputs": [
    {
     "data": {
      "text/plain": [
       "0.000000    26\n",
       "0.090909     8\n",
       "0.250000     8\n",
       "0.125000     7\n",
       "0.333333     6\n",
       "            ..\n",
       "0.021277     1\n",
       "0.074534     1\n",
       "0.092593     1\n",
       "0.060000     1\n",
       "0.465116     1\n",
       "Name: Mid-Range FREQ, Length: 318, dtype: int64"
      ]
     },
     "execution_count": 784,
     "metadata": {},
     "output_type": "execute_result"
    }
   ],
   "source": [
    "all_offence['Mid-Range FREQ'].value_counts()"
   ]
  },
  {
   "cell_type": "code",
   "execution_count": 785,
   "metadata": {},
   "outputs": [],
   "source": [
    "all_offence.to_csv('all_offence.csv', index=False)"
   ]
  },
  {
   "cell_type": "code",
   "execution_count": 652,
   "metadata": {},
   "outputs": [
    {
     "ename": "TypeError",
     "evalue": "ufunc 'isinf' not supported for the input types, and the inputs could not be safely coerced to any supported types according to the casting rule ''safe''",
     "output_type": "error",
     "traceback": [
      "\u001b[1;31m---------------------------------------------------------------------------\u001b[0m",
      "\u001b[1;31mTypeError\u001b[0m                                 Traceback (most recent call last)",
      "\u001b[1;32mc:\\Users\\rpand\\NBA_App\\NBA_APP\\nba_app_backend.ipynb Cell 64\u001b[0m in \u001b[0;36m<cell line: 1>\u001b[1;34m()\u001b[0m\n\u001b[1;32m----> <a href='vscode-notebook-cell:/c%3A/Users/rpand/NBA_App/NBA_APP/nba_app_backend.ipynb#X65sZmlsZQ%3D%3D?line=0'>1</a>\u001b[0m np\u001b[39m.\u001b[39;49misinf(all_offence)\u001b[39m.\u001b[39msum()\n",
      "File \u001b[1;32mc:\\Users\\rpand\\anaconda3\\envs\\nba_app_env\\lib\\site-packages\\pandas\\core\\generic.py:2101\u001b[0m, in \u001b[0;36mNDFrame.__array_ufunc__\u001b[1;34m(self, ufunc, method, *inputs, **kwargs)\u001b[0m\n\u001b[0;32m   2097\u001b[0m \u001b[39m@final\u001b[39m\n\u001b[0;32m   2098\u001b[0m \u001b[39mdef\u001b[39;00m \u001b[39m__array_ufunc__\u001b[39m(\n\u001b[0;32m   2099\u001b[0m     \u001b[39mself\u001b[39m, ufunc: np\u001b[39m.\u001b[39mufunc, method: \u001b[39mstr\u001b[39m, \u001b[39m*\u001b[39minputs: Any, \u001b[39m*\u001b[39m\u001b[39m*\u001b[39mkwargs: Any\n\u001b[0;32m   2100\u001b[0m ):\n\u001b[1;32m-> 2101\u001b[0m     \u001b[39mreturn\u001b[39;00m arraylike\u001b[39m.\u001b[39marray_ufunc(\u001b[39mself\u001b[39m, ufunc, method, \u001b[39m*\u001b[39minputs, \u001b[39m*\u001b[39m\u001b[39m*\u001b[39mkwargs)\n",
      "File \u001b[1;32mc:\\Users\\rpand\\anaconda3\\envs\\nba_app_env\\lib\\site-packages\\pandas\\core\\arraylike.py:405\u001b[0m, in \u001b[0;36marray_ufunc\u001b[1;34m(self, ufunc, method, *inputs, **kwargs)\u001b[0m\n\u001b[0;32m    400\u001b[0m \u001b[39mif\u001b[39;00m method \u001b[39m==\u001b[39m \u001b[39m\"\u001b[39m\u001b[39m__call__\u001b[39m\u001b[39m\"\u001b[39m \u001b[39mand\u001b[39;00m \u001b[39mnot\u001b[39;00m kwargs:\n\u001b[0;32m    401\u001b[0m     \u001b[39m# for np.<ufunc>(..) calls\u001b[39;00m\n\u001b[0;32m    402\u001b[0m     \u001b[39m# kwargs cannot necessarily be handled block-by-block, so only\u001b[39;00m\n\u001b[0;32m    403\u001b[0m     \u001b[39m# take this path if there are no kwargs\u001b[39;00m\n\u001b[0;32m    404\u001b[0m     mgr \u001b[39m=\u001b[39m inputs[\u001b[39m0\u001b[39m]\u001b[39m.\u001b[39m_mgr\n\u001b[1;32m--> 405\u001b[0m     result \u001b[39m=\u001b[39m mgr\u001b[39m.\u001b[39;49mapply(\u001b[39mgetattr\u001b[39;49m(ufunc, method))\n\u001b[0;32m    406\u001b[0m \u001b[39melse\u001b[39;00m:\n\u001b[0;32m    407\u001b[0m     \u001b[39m# otherwise specific ufunc methods (eg np.<ufunc>.accumulate(..))\u001b[39;00m\n\u001b[0;32m    408\u001b[0m     \u001b[39m# Those can have an axis keyword and thus can't be called block-by-block\u001b[39;00m\n\u001b[0;32m    409\u001b[0m     result \u001b[39m=\u001b[39m default_array_ufunc(inputs[\u001b[39m0\u001b[39m], ufunc, method, \u001b[39m*\u001b[39minputs, \u001b[39m*\u001b[39m\u001b[39m*\u001b[39mkwargs)\n",
      "File \u001b[1;32mc:\\Users\\rpand\\anaconda3\\envs\\nba_app_env\\lib\\site-packages\\pandas\\core\\internals\\managers.py:302\u001b[0m, in \u001b[0;36mBaseBlockManager.apply\u001b[1;34m(self, f, align_keys, ignore_failures, **kwargs)\u001b[0m\n\u001b[0;32m    300\u001b[0m \u001b[39mtry\u001b[39;00m:\n\u001b[0;32m    301\u001b[0m     \u001b[39mif\u001b[39;00m callable(f):\n\u001b[1;32m--> 302\u001b[0m         applied \u001b[39m=\u001b[39m b\u001b[39m.\u001b[39mapply(f, \u001b[39m*\u001b[39m\u001b[39m*\u001b[39mkwargs)\n\u001b[0;32m    303\u001b[0m     \u001b[39melse\u001b[39;00m:\n\u001b[0;32m    304\u001b[0m         applied \u001b[39m=\u001b[39m \u001b[39mgetattr\u001b[39m(b, f)(\u001b[39m*\u001b[39m\u001b[39m*\u001b[39mkwargs)\n",
      "File \u001b[1;32mc:\\Users\\rpand\\anaconda3\\envs\\nba_app_env\\lib\\site-packages\\pandas\\core\\internals\\blocks.py:402\u001b[0m, in \u001b[0;36mBlock.apply\u001b[1;34m(self, func, **kwargs)\u001b[0m\n\u001b[0;32m    396\u001b[0m \u001b[39m@final\u001b[39m\n\u001b[0;32m    397\u001b[0m \u001b[39mdef\u001b[39;00m \u001b[39mapply\u001b[39m(\u001b[39mself\u001b[39m, func, \u001b[39m*\u001b[39m\u001b[39m*\u001b[39mkwargs) \u001b[39m-\u001b[39m\u001b[39m>\u001b[39m \u001b[39mlist\u001b[39m[Block]:\n\u001b[0;32m    398\u001b[0m     \u001b[39m\"\"\"\u001b[39;00m\n\u001b[0;32m    399\u001b[0m \u001b[39m    apply the function to my values; return a block if we are not\u001b[39;00m\n\u001b[0;32m    400\u001b[0m \u001b[39m    one\u001b[39;00m\n\u001b[0;32m    401\u001b[0m \u001b[39m    \"\"\"\u001b[39;00m\n\u001b[1;32m--> 402\u001b[0m     result \u001b[39m=\u001b[39m func(\u001b[39mself\u001b[39m\u001b[39m.\u001b[39mvalues, \u001b[39m*\u001b[39m\u001b[39m*\u001b[39mkwargs)\n\u001b[0;32m    404\u001b[0m     \u001b[39mreturn\u001b[39;00m \u001b[39mself\u001b[39m\u001b[39m.\u001b[39m_split_op_result(result)\n",
      "\u001b[1;31mTypeError\u001b[0m: ufunc 'isinf' not supported for the input types, and the inputs could not be safely coerced to any supported types according to the casting rule ''safe''"
     ]
    }
   ],
   "source": []
  },
  {
   "cell_type": "markdown",
   "metadata": {},
   "source": [
    "## Getting the Historical Defensive Data"
   ]
  },
  {
   "cell_type": "code",
   "execution_count": 532,
   "metadata": {},
   "outputs": [],
   "source": [
    "def historic_drebs(start_year ,end_year='2021-22'):\n",
    "    start_szn =  int(start_year[0:4])\n",
    "    end_year = int('20'+end_year[5:])\n",
    "    reb_df = dreb_tracking(start_year)\n",
    "    current_szn = start_year\n",
    "    for i in range(start_szn,end_year-1):\n",
    "        current_szn =  str(int(current_szn[0:4]) +1) +'-'+ str(int(current_szn[5:])+1)\n",
    "        print('starting'+' '+current_szn)\n",
    "        temp_df = dreb_tracking(current_szn)\n",
    "        reb_df = pd.concat([reb_df, temp_df], axis=0, ignore_index=True)\n",
    "    return reb_df\n"
   ]
  },
  {
   "cell_type": "code",
   "execution_count": 533,
   "metadata": {},
   "outputs": [],
   "source": [
    "def historic_dist(start_year, end_year='2021-22'):\n",
    "    start_szn =  int(start_year[0:4])\n",
    "    end_year = int('20'+end_year[5:])\n",
    "    dist_df = distance(start_year)\n",
    "    current_szn = start_year\n",
    "    for i in range(start_szn,end_year-1):\n",
    "        current_szn =  str(int(current_szn[0:4]) +1) +'-'+ str(int(current_szn[5:])+1)\n",
    "        print('starting'+' '+current_szn)\n",
    "        temp_df = distance(current_szn)\n",
    "        dist_df = pd.concat([dist_df, temp_df], axis=0, ignore_index=True)\n",
    "    return dist_df\n"
   ]
  },
  {
   "cell_type": "code",
   "execution_count": 534,
   "metadata": {},
   "outputs": [
    {
     "name": "stdout",
     "output_type": "stream",
     "text": [
      "starting 2019-20\n",
      "starting 2020-21\n",
      "starting 2021-22\n"
     ]
    }
   ],
   "source": [
    "reb_df = historic_drebs('2018-19')"
   ]
  },
  {
   "cell_type": "code",
   "execution_count": 535,
   "metadata": {},
   "outputs": [
    {
     "data": {
      "text/plain": [
       "2021-22    605\n",
       "2020-21    540\n",
       "2018-19    530\n",
       "2019-20    529\n",
       "Name: Season, dtype: int64"
      ]
     },
     "execution_count": 535,
     "metadata": {},
     "output_type": "execute_result"
    }
   ],
   "source": [
    "reb_df['Season'].value_counts()"
   ]
  },
  {
   "cell_type": "code",
   "execution_count": 536,
   "metadata": {},
   "outputs": [
    {
     "name": "stdout",
     "output_type": "stream",
     "text": [
      "starting 2019-20\n",
      "starting 2020-21\n",
      "starting 2021-22\n"
     ]
    }
   ],
   "source": [
    "dist_df = historic_dist('2018-19')"
   ]
  },
  {
   "cell_type": "code",
   "execution_count": 537,
   "metadata": {},
   "outputs": [
    {
     "data": {
      "text/plain": [
       "2021-22    605\n",
       "2020-21    540\n",
       "2018-19    530\n",
       "2019-20    529\n",
       "Name: Season, dtype: int64"
      ]
     },
     "execution_count": 537,
     "metadata": {},
     "output_type": "execute_result"
    }
   ],
   "source": [
    "dist_df['Season'].value_counts()"
   ]
  },
  {
   "cell_type": "code",
   "execution_count": 538,
   "metadata": {},
   "outputs": [],
   "source": [
    "dist_df= dist_df[['PLAYER_NAME', 'Season','DIST_MILES_DEF', 'AVG_SPEED_DEF']]\n",
    "dist_df.to_csv('dist_df.csv', index=False)"
   ]
  },
  {
   "cell_type": "code",
   "execution_count": 539,
   "metadata": {},
   "outputs": [],
   "source": [
    "reb_df = reb_df[['PLAYER_NAME', 'Season', 'REB_CONTEST_PCT', 'AVG_REB_DIST']]\n",
    "reb_df.to_csv('reb_df.csv', index=False)"
   ]
  },
  {
   "cell_type": "code",
   "execution_count": 12,
   "metadata": {},
   "outputs": [
    {
     "name": "stdout",
     "output_type": "stream",
     "text": [
      "starting 2019-20\n",
      "Working on :Handoff\n",
      "Working on :Isolation\n",
      "Working on :OffScreen\n",
      "Working on :Postup\n",
      "Working on :PRBallHandler\n",
      "Working on :PRRollman\n",
      "Working on :Spotup\n",
      "Done 2019-20\n",
      "starting 2020-21\n",
      "Working on :Handoff\n",
      "Working on :Isolation\n",
      "Working on :OffScreen\n",
      "Working on :Postup\n",
      "Working on :PRBallHandler\n",
      "Working on :PRRollman\n",
      "Working on :Spotup\n",
      "Done 2020-21\n",
      "starting 2021-22\n",
      "Working on :Handoff\n",
      "Working on :Isolation\n",
      "Working on :OffScreen\n",
      "Working on :Postup\n",
      "Working on :PRBallHandler\n",
      "Working on :PRRollman\n",
      "Working on :Spotup\n",
      "Done 2021-22\n"
     ]
    }
   ],
   "source": [
    "historic_defence = historic_synergy(playtypes[[1,2,4,5,6,7,9]], 'defensive', '2018-19')"
   ]
  },
  {
   "cell_type": "code",
   "execution_count": 13,
   "metadata": {},
   "outputs": [],
   "source": [
    "for i in playtypes[[1,2,4,5,6,7,9]]:\n",
    "    historic_defence[i].to_csv('historic_defence'+'_'+i, index=False)"
   ]
  },
  {
   "cell_type": "markdown",
   "metadata": {},
   "source": [
    "### Merge the historical data into one large df"
   ]
  },
  {
   "cell_type": "code",
   "execution_count": 111,
   "metadata": {},
   "outputs": [],
   "source": [
    "historic_defence_dfs = {}\n",
    "for i in playtypes[[1,2,4,5,6,7,9]]:\n",
    "    historic_defence_dfs[i] = pd.read_csv('historic_defence'+'_'+i)"
   ]
  },
  {
   "cell_type": "code",
   "execution_count": 112,
   "metadata": {},
   "outputs": [],
   "source": [
    "full_shot_df = pd.read_csv('full_shot.csv')"
   ]
  },
  {
   "cell_type": "code",
   "execution_count": 113,
   "metadata": {},
   "outputs": [],
   "source": [
    "rebs_df = pd.read_csv('reb_df.csv')"
   ]
  },
  {
   "cell_type": "code",
   "execution_count": 114,
   "metadata": {},
   "outputs": [],
   "source": [
    "dist_df = pd.read_csv('dist_df.csv')"
   ]
  },
  {
   "cell_type": "code",
   "execution_count": 115,
   "metadata": {},
   "outputs": [
    {
     "data": {
      "text/plain": [
       "Index(['SEASON_ID', 'PLAYER_ID', 'PLAYER_NAME', 'TEAM_ID', 'TEAM_ABBREVIATION',\n",
       "       'TEAM_NAME', 'PLAY_TYPE', 'TYPE_GROUPING', 'PPP PERCENTILE', 'GP',\n",
       "       'POSS_PCT', 'PPP', 'FG_PCT', 'FT_POSS_PCT', 'TOV_POSS_PCT',\n",
       "       'SF_POSS_PCT', 'PLUSONE_POSS_PCT', 'SCORE_POSS_PCT', 'EFG_PCT', 'POSS',\n",
       "       'PTS', 'FGM', 'FGA', 'FGMX', 'Season', 'POSS PCT PERCENTILE'],\n",
       "      dtype='object')"
      ]
     },
     "execution_count": 115,
     "metadata": {},
     "output_type": "execute_result"
    }
   ],
   "source": [
    "historic_defence_dfs['Handoff'][historic_defence_dfs['Handoff']['SEASON_ID']=='22021'].columns"
   ]
  },
  {
   "cell_type": "code",
   "execution_count": 116,
   "metadata": {},
   "outputs": [],
   "source": [
    "for i in historic_defence_dfs.keys():\n",
    "    historic_defence_dfs[i]= historic_defence_dfs[i].rename({'PPP':'DEF ' + i + ' PPP', 'POSS':'DEF ' +  i + ' POSS', 'POSS_PCT':'DEF ' +  i+' FREQ'}, axis='columns')\n",
    "    historic_defence_dfs[i] = historic_defence_dfs[i][['PLAYER_NAME', 'Season','DEF ' +  i + ' PPP',  'DEF ' + i + ' FREQ','GP']]"
   ]
  },
  {
   "cell_type": "code",
   "execution_count": 117,
   "metadata": {},
   "outputs": [
    {
     "data": {
      "text/html": [
       "<div>\n",
       "<style scoped>\n",
       "    .dataframe tbody tr th:only-of-type {\n",
       "        vertical-align: middle;\n",
       "    }\n",
       "\n",
       "    .dataframe tbody tr th {\n",
       "        vertical-align: top;\n",
       "    }\n",
       "\n",
       "    .dataframe thead th {\n",
       "        text-align: right;\n",
       "    }\n",
       "</style>\n",
       "<table border=\"1\" class=\"dataframe\">\n",
       "  <thead>\n",
       "    <tr style=\"text-align: right;\">\n",
       "      <th></th>\n",
       "      <th>PLAYER_NAME</th>\n",
       "      <th>Season</th>\n",
       "      <th>DEF Handoff PPP</th>\n",
       "      <th>DEF Handoff FREQ</th>\n",
       "      <th>GP</th>\n",
       "    </tr>\n",
       "  </thead>\n",
       "  <tbody>\n",
       "    <tr>\n",
       "      <th>288</th>\n",
       "      <td>Aaron Gordon</td>\n",
       "      <td>2018-19</td>\n",
       "      <td>0.836</td>\n",
       "      <td>0.081</td>\n",
       "      <td>78</td>\n",
       "    </tr>\n",
       "    <tr>\n",
       "      <th>529</th>\n",
       "      <td>Aaron Gordon</td>\n",
       "      <td>2019-20</td>\n",
       "      <td>0.809</td>\n",
       "      <td>0.069</td>\n",
       "      <td>62</td>\n",
       "    </tr>\n",
       "    <tr>\n",
       "      <th>678</th>\n",
       "      <td>Aaron Gordon</td>\n",
       "      <td>2020-21</td>\n",
       "      <td>0.563</td>\n",
       "      <td>0.069</td>\n",
       "      <td>25</td>\n",
       "    </tr>\n",
       "    <tr>\n",
       "      <th>818</th>\n",
       "      <td>Aaron Gordon</td>\n",
       "      <td>2020-21</td>\n",
       "      <td>1.077</td>\n",
       "      <td>0.096</td>\n",
       "      <td>25</td>\n",
       "    </tr>\n",
       "    <tr>\n",
       "      <th>1302</th>\n",
       "      <td>Aaron Gordon</td>\n",
       "      <td>2021-22</td>\n",
       "      <td>1.000</td>\n",
       "      <td>0.077</td>\n",
       "      <td>75</td>\n",
       "    </tr>\n",
       "  </tbody>\n",
       "</table>\n",
       "</div>"
      ],
      "text/plain": [
       "       PLAYER_NAME   Season  DEF Handoff PPP  DEF Handoff FREQ  GP\n",
       "288   Aaron Gordon  2018-19            0.836             0.081  78\n",
       "529   Aaron Gordon  2019-20            0.809             0.069  62\n",
       "678   Aaron Gordon  2020-21            0.563             0.069  25\n",
       "818   Aaron Gordon  2020-21            1.077             0.096  25\n",
       "1302  Aaron Gordon  2021-22            1.000             0.077  75"
      ]
     },
     "execution_count": 117,
     "metadata": {},
     "output_type": "execute_result"
    }
   ],
   "source": [
    "historic_defence_dfs['Handoff'][historic_defence_dfs['Handoff']['PLAYER_NAME']=='Aaron Gordon']"
   ]
  },
  {
   "cell_type": "code",
   "execution_count": 118,
   "metadata": {},
   "outputs": [],
   "source": [
    "all_defence = pd.merge(historic_defence_dfs['Handoff'], historic_defence_dfs['Isolation'], how = 'outer', on=['PLAYER_NAME', 'Season','GP'])\n",
    "\n",
    "for i in range(2, len(historic_defence_dfs.keys())):\n",
    "    key = list(historic_defence_dfs.keys())[i]\n",
    "    all_defence = pd.merge(all_defence, historic_defence_dfs[key], how = 'outer', on=['PLAYER_NAME', 'Season', 'GP'])"
   ]
  },
  {
   "cell_type": "code",
   "execution_count": 119,
   "metadata": {},
   "outputs": [
    {
     "data": {
      "text/plain": [
       "PLAYER_NAME               Aaron Gordon\n",
       "Season                         2018-19\n",
       "DEF Handoff PPP                  0.167\n",
       "DEF Handoff FREQ                 0.007\n",
       "GP                                   2\n",
       "DEF Isolation PPP                 0.19\n",
       "DEF Isolation FREQ                0.02\n",
       "DEF OffScreen PPP                  0.0\n",
       "DEF OffScreen FREQ               0.007\n",
       "DEF Postup PPP                   0.182\n",
       "DEF Postup FREQ                  0.014\n",
       "DEF PRBallHandler PPP              0.0\n",
       "DEF PRBallHandler FREQ           0.008\n",
       "DEF PRRollman PPP                  0.0\n",
       "DEF PRRollman FREQ               0.013\n",
       "DEF Spotup PPP                     0.0\n",
       "DEF Spotup FREQ                  0.093\n",
       "dtype: object"
      ]
     },
     "execution_count": 119,
     "metadata": {},
     "output_type": "execute_result"
    }
   ],
   "source": [
    "all_defence.min(axis=0)"
   ]
  },
  {
   "cell_type": "code",
   "execution_count": 120,
   "metadata": {},
   "outputs": [
    {
     "data": {
      "text/html": [
       "<div>\n",
       "<style scoped>\n",
       "    .dataframe tbody tr th:only-of-type {\n",
       "        vertical-align: middle;\n",
       "    }\n",
       "\n",
       "    .dataframe tbody tr th {\n",
       "        vertical-align: top;\n",
       "    }\n",
       "\n",
       "    .dataframe thead th {\n",
       "        text-align: right;\n",
       "    }\n",
       "</style>\n",
       "<table border=\"1\" class=\"dataframe\">\n",
       "  <thead>\n",
       "    <tr style=\"text-align: right;\">\n",
       "      <th></th>\n",
       "      <th>PLAYER_NAME</th>\n",
       "      <th>Season</th>\n",
       "      <th>DEF Handoff PPP</th>\n",
       "      <th>DEF Handoff FREQ</th>\n",
       "      <th>GP</th>\n",
       "      <th>DEF Isolation PPP</th>\n",
       "      <th>DEF Isolation FREQ</th>\n",
       "      <th>DEF OffScreen PPP</th>\n",
       "      <th>DEF OffScreen FREQ</th>\n",
       "      <th>DEF Postup PPP</th>\n",
       "      <th>DEF Postup FREQ</th>\n",
       "      <th>DEF PRBallHandler PPP</th>\n",
       "      <th>DEF PRBallHandler FREQ</th>\n",
       "      <th>DEF PRRollman PPP</th>\n",
       "      <th>DEF PRRollman FREQ</th>\n",
       "      <th>DEF Spotup PPP</th>\n",
       "      <th>DEF Spotup FREQ</th>\n",
       "    </tr>\n",
       "  </thead>\n",
       "  <tbody>\n",
       "    <tr>\n",
       "      <th>1471</th>\n",
       "      <td>Serge Ibaka</td>\n",
       "      <td>2018-19</td>\n",
       "      <td>NaN</td>\n",
       "      <td>NaN</td>\n",
       "      <td>74</td>\n",
       "      <td>1.074</td>\n",
       "      <td>0.065</td>\n",
       "      <td>1.1</td>\n",
       "      <td>0.01</td>\n",
       "      <td>0.919</td>\n",
       "      <td>0.071</td>\n",
       "      <td>1.182</td>\n",
       "      <td>0.01</td>\n",
       "      <td>1.182</td>\n",
       "      <td>0.053</td>\n",
       "      <td>0.756</td>\n",
       "      <td>0.157</td>\n",
       "    </tr>\n",
       "    <tr>\n",
       "      <th>1551</th>\n",
       "      <td>Serge Ibaka</td>\n",
       "      <td>2019-20</td>\n",
       "      <td>NaN</td>\n",
       "      <td>NaN</td>\n",
       "      <td>55</td>\n",
       "      <td>0.745</td>\n",
       "      <td>0.086</td>\n",
       "      <td>NaN</td>\n",
       "      <td>NaN</td>\n",
       "      <td>0.640</td>\n",
       "      <td>0.039</td>\n",
       "      <td>NaN</td>\n",
       "      <td>NaN</td>\n",
       "      <td>1.030</td>\n",
       "      <td>0.051</td>\n",
       "      <td>0.902</td>\n",
       "      <td>0.254</td>\n",
       "    </tr>\n",
       "    <tr>\n",
       "      <th>1645</th>\n",
       "      <td>Serge Ibaka</td>\n",
       "      <td>2020-21</td>\n",
       "      <td>NaN</td>\n",
       "      <td>NaN</td>\n",
       "      <td>41</td>\n",
       "      <td>0.783</td>\n",
       "      <td>0.083</td>\n",
       "      <td>NaN</td>\n",
       "      <td>NaN</td>\n",
       "      <td>0.913</td>\n",
       "      <td>0.041</td>\n",
       "      <td>NaN</td>\n",
       "      <td>NaN</td>\n",
       "      <td>1.056</td>\n",
       "      <td>0.065</td>\n",
       "      <td>0.883</td>\n",
       "      <td>0.138</td>\n",
       "    </tr>\n",
       "    <tr>\n",
       "      <th>1723</th>\n",
       "      <td>Serge Ibaka</td>\n",
       "      <td>2021-22</td>\n",
       "      <td>NaN</td>\n",
       "      <td>NaN</td>\n",
       "      <td>19</td>\n",
       "      <td>1.200</td>\n",
       "      <td>0.089</td>\n",
       "      <td>NaN</td>\n",
       "      <td>NaN</td>\n",
       "      <td>NaN</td>\n",
       "      <td>NaN</td>\n",
       "      <td>NaN</td>\n",
       "      <td>NaN</td>\n",
       "      <td>1.000</td>\n",
       "      <td>0.080</td>\n",
       "      <td>1.500</td>\n",
       "      <td>0.107</td>\n",
       "    </tr>\n",
       "    <tr>\n",
       "      <th>1734</th>\n",
       "      <td>Serge Ibaka</td>\n",
       "      <td>2021-22</td>\n",
       "      <td>NaN</td>\n",
       "      <td>NaN</td>\n",
       "      <td>35</td>\n",
       "      <td>1.071</td>\n",
       "      <td>0.105</td>\n",
       "      <td>NaN</td>\n",
       "      <td>NaN</td>\n",
       "      <td>0.556</td>\n",
       "      <td>0.067</td>\n",
       "      <td>NaN</td>\n",
       "      <td>NaN</td>\n",
       "      <td>1.400</td>\n",
       "      <td>0.056</td>\n",
       "      <td>0.830</td>\n",
       "      <td>0.199</td>\n",
       "    </tr>\n",
       "  </tbody>\n",
       "</table>\n",
       "</div>"
      ],
      "text/plain": [
       "      PLAYER_NAME   Season  DEF Handoff PPP  DEF Handoff FREQ  GP  \\\n",
       "1471  Serge Ibaka  2018-19              NaN               NaN  74   \n",
       "1551  Serge Ibaka  2019-20              NaN               NaN  55   \n",
       "1645  Serge Ibaka  2020-21              NaN               NaN  41   \n",
       "1723  Serge Ibaka  2021-22              NaN               NaN  19   \n",
       "1734  Serge Ibaka  2021-22              NaN               NaN  35   \n",
       "\n",
       "      DEF Isolation PPP  DEF Isolation FREQ  DEF OffScreen PPP  \\\n",
       "1471              1.074               0.065                1.1   \n",
       "1551              0.745               0.086                NaN   \n",
       "1645              0.783               0.083                NaN   \n",
       "1723              1.200               0.089                NaN   \n",
       "1734              1.071               0.105                NaN   \n",
       "\n",
       "      DEF OffScreen FREQ  DEF Postup PPP  DEF Postup FREQ  \\\n",
       "1471                0.01           0.919            0.071   \n",
       "1551                 NaN           0.640            0.039   \n",
       "1645                 NaN           0.913            0.041   \n",
       "1723                 NaN             NaN              NaN   \n",
       "1734                 NaN           0.556            0.067   \n",
       "\n",
       "      DEF PRBallHandler PPP  DEF PRBallHandler FREQ  DEF PRRollman PPP  \\\n",
       "1471                  1.182                    0.01              1.182   \n",
       "1551                    NaN                     NaN              1.030   \n",
       "1645                    NaN                     NaN              1.056   \n",
       "1723                    NaN                     NaN              1.000   \n",
       "1734                    NaN                     NaN              1.400   \n",
       "\n",
       "      DEF PRRollman FREQ  DEF Spotup PPP  DEF Spotup FREQ  \n",
       "1471               0.053           0.756            0.157  \n",
       "1551               0.051           0.902            0.254  \n",
       "1645               0.065           0.883            0.138  \n",
       "1723               0.080           1.500            0.107  \n",
       "1734               0.056           0.830            0.199  "
      ]
     },
     "execution_count": 120,
     "metadata": {},
     "output_type": "execute_result"
    }
   ],
   "source": [
    "all_defence[ (all_defence['PLAYER_NAME']=='Serge Ibaka')]"
   ]
  },
  {
   "cell_type": "code",
   "execution_count": null,
   "metadata": {},
   "outputs": [],
   "source": []
  },
  {
   "cell_type": "code",
   "execution_count": 121,
   "metadata": {},
   "outputs": [
    {
     "data": {
      "text/html": [
       "<div>\n",
       "<style scoped>\n",
       "    .dataframe tbody tr th:only-of-type {\n",
       "        vertical-align: middle;\n",
       "    }\n",
       "\n",
       "    .dataframe tbody tr th {\n",
       "        vertical-align: top;\n",
       "    }\n",
       "\n",
       "    .dataframe thead th {\n",
       "        text-align: right;\n",
       "    }\n",
       "</style>\n",
       "<table border=\"1\" class=\"dataframe\">\n",
       "  <thead>\n",
       "    <tr style=\"text-align: right;\">\n",
       "      <th></th>\n",
       "      <th>PLAYER_NAME</th>\n",
       "      <th>Season</th>\n",
       "      <th>DEF Handoff PPP</th>\n",
       "      <th>DEF Handoff FREQ</th>\n",
       "      <th>GP</th>\n",
       "      <th>DEF Isolation PPP</th>\n",
       "      <th>DEF Isolation FREQ</th>\n",
       "      <th>DEF OffScreen PPP</th>\n",
       "      <th>DEF OffScreen FREQ</th>\n",
       "      <th>DEF Postup PPP</th>\n",
       "      <th>...</th>\n",
       "      <th>DEF PRRollman PPP</th>\n",
       "      <th>DEF PRRollman FREQ</th>\n",
       "      <th>DEF Spotup PPP</th>\n",
       "      <th>DEF Spotup FREQ</th>\n",
       "      <th>FREQ 3 Pointers</th>\n",
       "      <th>PLUSMINUS 3 Pointers</th>\n",
       "      <th>FREQ Less Than 6Ft</th>\n",
       "      <th>PLUSMINUS Less Than 6Ft</th>\n",
       "      <th>FREQ Less Than 10Ft</th>\n",
       "      <th>PLUSMINUS Less Than 10Ft</th>\n",
       "    </tr>\n",
       "  </thead>\n",
       "  <tbody>\n",
       "    <tr>\n",
       "      <th>419</th>\n",
       "      <td>Nikola Jokic</td>\n",
       "      <td>2019-20</td>\n",
       "      <td>1.167</td>\n",
       "      <td>0.011</td>\n",
       "      <td>73</td>\n",
       "      <td>0.659</td>\n",
       "      <td>0.082</td>\n",
       "      <td>NaN</td>\n",
       "      <td>NaN</td>\n",
       "      <td>0.714</td>\n",
       "      <td>...</td>\n",
       "      <td>1.128</td>\n",
       "      <td>0.073</td>\n",
       "      <td>0.922</td>\n",
       "      <td>0.169</td>\n",
       "      <td>0.233</td>\n",
       "      <td>0.019</td>\n",
       "      <td>0.451</td>\n",
       "      <td>-0.033</td>\n",
       "      <td>0.556</td>\n",
       "      <td>-0.041</td>\n",
       "    </tr>\n",
       "    <tr>\n",
       "      <th>683</th>\n",
       "      <td>Nikola Jokic</td>\n",
       "      <td>2020-21</td>\n",
       "      <td>0.600</td>\n",
       "      <td>0.009</td>\n",
       "      <td>72</td>\n",
       "      <td>0.625</td>\n",
       "      <td>0.060</td>\n",
       "      <td>0.667</td>\n",
       "      <td>0.011</td>\n",
       "      <td>0.800</td>\n",
       "      <td>...</td>\n",
       "      <td>0.877</td>\n",
       "      <td>0.061</td>\n",
       "      <td>1.318</td>\n",
       "      <td>0.165</td>\n",
       "      <td>0.222</td>\n",
       "      <td>-0.008</td>\n",
       "      <td>0.428</td>\n",
       "      <td>-0.016</td>\n",
       "      <td>0.527</td>\n",
       "      <td>-0.015</td>\n",
       "    </tr>\n",
       "    <tr>\n",
       "      <th>1534</th>\n",
       "      <td>Nikola Jokic</td>\n",
       "      <td>2018-19</td>\n",
       "      <td>NaN</td>\n",
       "      <td>NaN</td>\n",
       "      <td>80</td>\n",
       "      <td>0.800</td>\n",
       "      <td>0.076</td>\n",
       "      <td>0.667</td>\n",
       "      <td>0.011</td>\n",
       "      <td>0.862</td>\n",
       "      <td>...</td>\n",
       "      <td>0.966</td>\n",
       "      <td>0.082</td>\n",
       "      <td>0.896</td>\n",
       "      <td>0.183</td>\n",
       "      <td>0.229</td>\n",
       "      <td>0.009</td>\n",
       "      <td>0.450</td>\n",
       "      <td>-0.059</td>\n",
       "      <td>0.549</td>\n",
       "      <td>-0.047</td>\n",
       "    </tr>\n",
       "    <tr>\n",
       "      <th>1833</th>\n",
       "      <td>Nikola Jokic</td>\n",
       "      <td>2021-22</td>\n",
       "      <td>NaN</td>\n",
       "      <td>NaN</td>\n",
       "      <td>74</td>\n",
       "      <td>0.961</td>\n",
       "      <td>0.063</td>\n",
       "      <td>NaN</td>\n",
       "      <td>NaN</td>\n",
       "      <td>1.019</td>\n",
       "      <td>...</td>\n",
       "      <td>0.958</td>\n",
       "      <td>0.078</td>\n",
       "      <td>1.019</td>\n",
       "      <td>0.173</td>\n",
       "      <td>0.216</td>\n",
       "      <td>0.011</td>\n",
       "      <td>0.394</td>\n",
       "      <td>-0.025</td>\n",
       "      <td>0.508</td>\n",
       "      <td>-0.029</td>\n",
       "    </tr>\n",
       "  </tbody>\n",
       "</table>\n",
       "<p>4 rows × 23 columns</p>\n",
       "</div>"
      ],
      "text/plain": [
       "       PLAYER_NAME   Season  DEF Handoff PPP  DEF Handoff FREQ  GP  \\\n",
       "419   Nikola Jokic  2019-20            1.167             0.011  73   \n",
       "683   Nikola Jokic  2020-21            0.600             0.009  72   \n",
       "1534  Nikola Jokic  2018-19              NaN               NaN  80   \n",
       "1833  Nikola Jokic  2021-22              NaN               NaN  74   \n",
       "\n",
       "      DEF Isolation PPP  DEF Isolation FREQ  DEF OffScreen PPP  \\\n",
       "419               0.659               0.082                NaN   \n",
       "683               0.625               0.060              0.667   \n",
       "1534              0.800               0.076              0.667   \n",
       "1833              0.961               0.063                NaN   \n",
       "\n",
       "      DEF OffScreen FREQ  DEF Postup PPP  ...  DEF PRRollman PPP  \\\n",
       "419                  NaN           0.714  ...              1.128   \n",
       "683                0.011           0.800  ...              0.877   \n",
       "1534               0.011           0.862  ...              0.966   \n",
       "1833                 NaN           1.019  ...              0.958   \n",
       "\n",
       "      DEF PRRollman FREQ  DEF Spotup PPP  DEF Spotup FREQ  FREQ 3 Pointers  \\\n",
       "419                0.073           0.922            0.169            0.233   \n",
       "683                0.061           1.318            0.165            0.222   \n",
       "1534               0.082           0.896            0.183            0.229   \n",
       "1833               0.078           1.019            0.173            0.216   \n",
       "\n",
       "      PLUSMINUS 3 Pointers  FREQ Less Than 6Ft  PLUSMINUS Less Than 6Ft  \\\n",
       "419                  0.019               0.451                   -0.033   \n",
       "683                 -0.008               0.428                   -0.016   \n",
       "1534                 0.009               0.450                   -0.059   \n",
       "1833                 0.011               0.394                   -0.025   \n",
       "\n",
       "      FREQ Less Than 10Ft  PLUSMINUS Less Than 10Ft  \n",
       "419                 0.556                    -0.041  \n",
       "683                 0.527                    -0.015  \n",
       "1534                0.549                    -0.047  \n",
       "1833                0.508                    -0.029  \n",
       "\n",
       "[4 rows x 23 columns]"
      ]
     },
     "execution_count": 121,
     "metadata": {},
     "output_type": "execute_result"
    }
   ],
   "source": [
    "all_defence =pd.merge(all_defence, full_shot_df_final, how='inner', on = ['PLAYER_NAME', 'Season'])\n",
    "all_defence[all_defence['PLAYER_NAME']=='Nikola Jokic']"
   ]
  },
  {
   "cell_type": "code",
   "execution_count": 122,
   "metadata": {},
   "outputs": [
    {
     "data": {
      "text/html": [
       "<div>\n",
       "<style scoped>\n",
       "    .dataframe tbody tr th:only-of-type {\n",
       "        vertical-align: middle;\n",
       "    }\n",
       "\n",
       "    .dataframe tbody tr th {\n",
       "        vertical-align: top;\n",
       "    }\n",
       "\n",
       "    .dataframe thead th {\n",
       "        text-align: right;\n",
       "    }\n",
       "</style>\n",
       "<table border=\"1\" class=\"dataframe\">\n",
       "  <thead>\n",
       "    <tr style=\"text-align: right;\">\n",
       "      <th></th>\n",
       "      <th>PLAYER_NAME</th>\n",
       "      <th>Season</th>\n",
       "      <th>DEF Handoff PPP</th>\n",
       "      <th>DEF Handoff FREQ</th>\n",
       "      <th>GP</th>\n",
       "      <th>DEF Isolation PPP</th>\n",
       "      <th>DEF Isolation FREQ</th>\n",
       "      <th>DEF OffScreen PPP</th>\n",
       "      <th>DEF OffScreen FREQ</th>\n",
       "      <th>DEF Postup PPP</th>\n",
       "      <th>...</th>\n",
       "      <th>DEF Spotup FREQ</th>\n",
       "      <th>FREQ 3 Pointers</th>\n",
       "      <th>PLUSMINUS 3 Pointers</th>\n",
       "      <th>FREQ Less Than 6Ft</th>\n",
       "      <th>PLUSMINUS Less Than 6Ft</th>\n",
       "      <th>FREQ Less Than 10Ft</th>\n",
       "      <th>PLUSMINUS Less Than 10Ft</th>\n",
       "      <th>MIN</th>\n",
       "      <th>DEFLECTIONS</th>\n",
       "      <th>PCT_LOOSE_BALLS_RECOVERED_DEF</th>\n",
       "    </tr>\n",
       "  </thead>\n",
       "  <tbody>\n",
       "    <tr>\n",
       "      <th>419</th>\n",
       "      <td>Nikola Jokic</td>\n",
       "      <td>2019-20</td>\n",
       "      <td>1.167</td>\n",
       "      <td>0.011</td>\n",
       "      <td>73</td>\n",
       "      <td>0.659</td>\n",
       "      <td>0.082</td>\n",
       "      <td>NaN</td>\n",
       "      <td>NaN</td>\n",
       "      <td>0.714</td>\n",
       "      <td>...</td>\n",
       "      <td>0.169</td>\n",
       "      <td>0.233</td>\n",
       "      <td>0.019</td>\n",
       "      <td>0.451</td>\n",
       "      <td>-0.033</td>\n",
       "      <td>0.556</td>\n",
       "      <td>-0.041</td>\n",
       "      <td>32.0</td>\n",
       "      <td>2.79</td>\n",
       "      <td>0.507</td>\n",
       "    </tr>\n",
       "    <tr>\n",
       "      <th>683</th>\n",
       "      <td>Nikola Jokic</td>\n",
       "      <td>2020-21</td>\n",
       "      <td>0.600</td>\n",
       "      <td>0.009</td>\n",
       "      <td>72</td>\n",
       "      <td>0.625</td>\n",
       "      <td>0.060</td>\n",
       "      <td>0.667</td>\n",
       "      <td>0.011</td>\n",
       "      <td>0.800</td>\n",
       "      <td>...</td>\n",
       "      <td>0.165</td>\n",
       "      <td>0.222</td>\n",
       "      <td>-0.008</td>\n",
       "      <td>0.428</td>\n",
       "      <td>-0.016</td>\n",
       "      <td>0.527</td>\n",
       "      <td>-0.015</td>\n",
       "      <td>34.6</td>\n",
       "      <td>2.76</td>\n",
       "      <td>0.345</td>\n",
       "    </tr>\n",
       "    <tr>\n",
       "      <th>1534</th>\n",
       "      <td>Nikola Jokic</td>\n",
       "      <td>2018-19</td>\n",
       "      <td>NaN</td>\n",
       "      <td>NaN</td>\n",
       "      <td>80</td>\n",
       "      <td>0.800</td>\n",
       "      <td>0.076</td>\n",
       "      <td>0.667</td>\n",
       "      <td>0.011</td>\n",
       "      <td>0.862</td>\n",
       "      <td>...</td>\n",
       "      <td>0.183</td>\n",
       "      <td>0.229</td>\n",
       "      <td>0.009</td>\n",
       "      <td>0.450</td>\n",
       "      <td>-0.059</td>\n",
       "      <td>0.549</td>\n",
       "      <td>-0.047</td>\n",
       "      <td>31.3</td>\n",
       "      <td>2.44</td>\n",
       "      <td>0.488</td>\n",
       "    </tr>\n",
       "    <tr>\n",
       "      <th>1833</th>\n",
       "      <td>Nikola Jokic</td>\n",
       "      <td>2021-22</td>\n",
       "      <td>NaN</td>\n",
       "      <td>NaN</td>\n",
       "      <td>74</td>\n",
       "      <td>0.961</td>\n",
       "      <td>0.063</td>\n",
       "      <td>NaN</td>\n",
       "      <td>NaN</td>\n",
       "      <td>1.019</td>\n",
       "      <td>...</td>\n",
       "      <td>0.173</td>\n",
       "      <td>0.216</td>\n",
       "      <td>0.011</td>\n",
       "      <td>0.394</td>\n",
       "      <td>-0.025</td>\n",
       "      <td>0.508</td>\n",
       "      <td>-0.029</td>\n",
       "      <td>33.5</td>\n",
       "      <td>2.85</td>\n",
       "      <td>0.413</td>\n",
       "    </tr>\n",
       "  </tbody>\n",
       "</table>\n",
       "<p>4 rows × 26 columns</p>\n",
       "</div>"
      ],
      "text/plain": [
       "       PLAYER_NAME   Season  DEF Handoff PPP  DEF Handoff FREQ  GP  \\\n",
       "419   Nikola Jokic  2019-20            1.167             0.011  73   \n",
       "683   Nikola Jokic  2020-21            0.600             0.009  72   \n",
       "1534  Nikola Jokic  2018-19              NaN               NaN  80   \n",
       "1833  Nikola Jokic  2021-22              NaN               NaN  74   \n",
       "\n",
       "      DEF Isolation PPP  DEF Isolation FREQ  DEF OffScreen PPP  \\\n",
       "419               0.659               0.082                NaN   \n",
       "683               0.625               0.060              0.667   \n",
       "1534              0.800               0.076              0.667   \n",
       "1833              0.961               0.063                NaN   \n",
       "\n",
       "      DEF OffScreen FREQ  DEF Postup PPP  ...  DEF Spotup FREQ  \\\n",
       "419                  NaN           0.714  ...            0.169   \n",
       "683                0.011           0.800  ...            0.165   \n",
       "1534               0.011           0.862  ...            0.183   \n",
       "1833                 NaN           1.019  ...            0.173   \n",
       "\n",
       "      FREQ 3 Pointers  PLUSMINUS 3 Pointers  FREQ Less Than 6Ft  \\\n",
       "419             0.233                 0.019               0.451   \n",
       "683             0.222                -0.008               0.428   \n",
       "1534            0.229                 0.009               0.450   \n",
       "1833            0.216                 0.011               0.394   \n",
       "\n",
       "      PLUSMINUS Less Than 6Ft  FREQ Less Than 10Ft  PLUSMINUS Less Than 10Ft  \\\n",
       "419                    -0.033                0.556                    -0.041   \n",
       "683                    -0.016                0.527                    -0.015   \n",
       "1534                   -0.059                0.549                    -0.047   \n",
       "1833                   -0.025                0.508                    -0.029   \n",
       "\n",
       "       MIN  DEFLECTIONS  PCT_LOOSE_BALLS_RECOVERED_DEF  \n",
       "419   32.0         2.79                          0.507  \n",
       "683   34.6         2.76                          0.345  \n",
       "1534  31.3         2.44                          0.488  \n",
       "1833  33.5         2.85                          0.413  \n",
       "\n",
       "[4 rows x 26 columns]"
      ]
     },
     "execution_count": 122,
     "metadata": {},
     "output_type": "execute_result"
    }
   ],
   "source": [
    "all_defence = pd.merge(all_defence, hustle_df[['PLAYER_NAME', 'Season', 'MIN', 'DEFLECTIONS','PCT_LOOSE_BALLS_RECOVERED_DEF']], on = ['PLAYER_NAME', 'Season'], how = 'inner')\n",
    "all_defence[all_defence['PLAYER_NAME']=='Nikola Jokic']"
   ]
  },
  {
   "cell_type": "code",
   "execution_count": 123,
   "metadata": {},
   "outputs": [],
   "source": [
    "defence_2021 = all_defence[all_defence['Season']=='2021-22'].fillna(0)"
   ]
  },
  {
   "cell_type": "code",
   "execution_count": 125,
   "metadata": {},
   "outputs": [],
   "source": [
    "all_defence = all_defence.fillna(0)"
   ]
  },
  {
   "cell_type": "code",
   "execution_count": 126,
   "metadata": {},
   "outputs": [
    {
     "data": {
      "text/html": [
       "<div>\n",
       "<style scoped>\n",
       "    .dataframe tbody tr th:only-of-type {\n",
       "        vertical-align: middle;\n",
       "    }\n",
       "\n",
       "    .dataframe tbody tr th {\n",
       "        vertical-align: top;\n",
       "    }\n",
       "\n",
       "    .dataframe thead th {\n",
       "        text-align: right;\n",
       "    }\n",
       "</style>\n",
       "<table border=\"1\" class=\"dataframe\">\n",
       "  <thead>\n",
       "    <tr style=\"text-align: right;\">\n",
       "      <th></th>\n",
       "      <th>PLAYER_NAME</th>\n",
       "      <th>Season</th>\n",
       "      <th>DIST_MILES_DEF</th>\n",
       "      <th>AVG_SPEED_DEF</th>\n",
       "    </tr>\n",
       "  </thead>\n",
       "  <tbody>\n",
       "    <tr>\n",
       "      <th>0</th>\n",
       "      <td>Aaron Gordon</td>\n",
       "      <td>2018-19</td>\n",
       "      <td>1.12</td>\n",
       "      <td>3.79</td>\n",
       "    </tr>\n",
       "    <tr>\n",
       "      <th>1</th>\n",
       "      <td>Aaron Holiday</td>\n",
       "      <td>2018-19</td>\n",
       "      <td>0.49</td>\n",
       "      <td>4.12</td>\n",
       "    </tr>\n",
       "    <tr>\n",
       "      <th>2</th>\n",
       "      <td>Abdel Nader</td>\n",
       "      <td>2018-19</td>\n",
       "      <td>0.45</td>\n",
       "      <td>4.27</td>\n",
       "    </tr>\n",
       "    <tr>\n",
       "      <th>3</th>\n",
       "      <td>Al Horford</td>\n",
       "      <td>2018-19</td>\n",
       "      <td>0.96</td>\n",
       "      <td>3.64</td>\n",
       "    </tr>\n",
       "    <tr>\n",
       "      <th>4</th>\n",
       "      <td>Al-Farouq Aminu</td>\n",
       "      <td>2018-19</td>\n",
       "      <td>0.96</td>\n",
       "      <td>3.93</td>\n",
       "    </tr>\n",
       "    <tr>\n",
       "      <th>...</th>\n",
       "      <td>...</td>\n",
       "      <td>...</td>\n",
       "      <td>...</td>\n",
       "      <td>...</td>\n",
       "    </tr>\n",
       "    <tr>\n",
       "      <th>2199</th>\n",
       "      <td>Zach LaVine</td>\n",
       "      <td>2021-22</td>\n",
       "      <td>1.17</td>\n",
       "      <td>3.82</td>\n",
       "    </tr>\n",
       "    <tr>\n",
       "      <th>2200</th>\n",
       "      <td>Zavier Simpson</td>\n",
       "      <td>2021-22</td>\n",
       "      <td>1.39</td>\n",
       "      <td>3.77</td>\n",
       "    </tr>\n",
       "    <tr>\n",
       "      <th>2201</th>\n",
       "      <td>Zeke Nnaji</td>\n",
       "      <td>2021-22</td>\n",
       "      <td>0.61</td>\n",
       "      <td>4.07</td>\n",
       "    </tr>\n",
       "    <tr>\n",
       "      <th>2202</th>\n",
       "      <td>Ziaire Williams</td>\n",
       "      <td>2021-22</td>\n",
       "      <td>0.75</td>\n",
       "      <td>4.01</td>\n",
       "    </tr>\n",
       "    <tr>\n",
       "      <th>2203</th>\n",
       "      <td>Zylan Cheatham</td>\n",
       "      <td>2021-22</td>\n",
       "      <td>0.23</td>\n",
       "      <td>3.66</td>\n",
       "    </tr>\n",
       "  </tbody>\n",
       "</table>\n",
       "<p>2204 rows × 4 columns</p>\n",
       "</div>"
      ],
      "text/plain": [
       "          PLAYER_NAME   Season  DIST_MILES_DEF  AVG_SPEED_DEF\n",
       "0        Aaron Gordon  2018-19            1.12           3.79\n",
       "1       Aaron Holiday  2018-19            0.49           4.12\n",
       "2         Abdel Nader  2018-19            0.45           4.27\n",
       "3          Al Horford  2018-19            0.96           3.64\n",
       "4     Al-Farouq Aminu  2018-19            0.96           3.93\n",
       "...               ...      ...             ...            ...\n",
       "2199      Zach LaVine  2021-22            1.17           3.82\n",
       "2200   Zavier Simpson  2021-22            1.39           3.77\n",
       "2201       Zeke Nnaji  2021-22            0.61           4.07\n",
       "2202  Ziaire Williams  2021-22            0.75           4.01\n",
       "2203   Zylan Cheatham  2021-22            0.23           3.66\n",
       "\n",
       "[2204 rows x 4 columns]"
      ]
     },
     "execution_count": 126,
     "metadata": {},
     "output_type": "execute_result"
    }
   ],
   "source": [
    "dist_df"
   ]
  },
  {
   "cell_type": "code",
   "execution_count": 127,
   "metadata": {},
   "outputs": [],
   "source": [
    "\n",
    "all_defence = pd.merge(all_defence, rebs_df, on = ['PLAYER_NAME', 'Season'], how='inner')\n",
    "all_defence = pd.merge(all_defence, dist_df, on = ['PLAYER_NAME', 'Season'], how='inner')"
   ]
  },
  {
   "cell_type": "code",
   "execution_count": 128,
   "metadata": {},
   "outputs": [
    {
     "data": {
      "text/html": [
       "<div>\n",
       "<style scoped>\n",
       "    .dataframe tbody tr th:only-of-type {\n",
       "        vertical-align: middle;\n",
       "    }\n",
       "\n",
       "    .dataframe tbody tr th {\n",
       "        vertical-align: top;\n",
       "    }\n",
       "\n",
       "    .dataframe thead th {\n",
       "        text-align: right;\n",
       "    }\n",
       "</style>\n",
       "<table border=\"1\" class=\"dataframe\">\n",
       "  <thead>\n",
       "    <tr style=\"text-align: right;\">\n",
       "      <th></th>\n",
       "      <th>PLAYER_NAME</th>\n",
       "      <th>Season</th>\n",
       "      <th>DEF Handoff PPP</th>\n",
       "      <th>DEF Handoff FREQ</th>\n",
       "      <th>GP</th>\n",
       "      <th>DEF Isolation PPP</th>\n",
       "      <th>DEF Isolation FREQ</th>\n",
       "      <th>DEF OffScreen PPP</th>\n",
       "      <th>DEF OffScreen FREQ</th>\n",
       "      <th>DEF Postup PPP</th>\n",
       "      <th>...</th>\n",
       "      <th>PLUSMINUS Less Than 6Ft</th>\n",
       "      <th>FREQ Less Than 10Ft</th>\n",
       "      <th>PLUSMINUS Less Than 10Ft</th>\n",
       "      <th>MIN</th>\n",
       "      <th>DEFLECTIONS</th>\n",
       "      <th>PCT_LOOSE_BALLS_RECOVERED_DEF</th>\n",
       "      <th>REB_CONTEST_PCT</th>\n",
       "      <th>AVG_REB_DIST</th>\n",
       "      <th>DIST_MILES_DEF</th>\n",
       "      <th>AVG_SPEED_DEF</th>\n",
       "    </tr>\n",
       "  </thead>\n",
       "  <tbody>\n",
       "    <tr>\n",
       "      <th>0</th>\n",
       "      <td>Alex Caruso</td>\n",
       "      <td>2018-19</td>\n",
       "      <td>0.167</td>\n",
       "      <td>0.052</td>\n",
       "      <td>26</td>\n",
       "      <td>0.793</td>\n",
       "      <td>0.126</td>\n",
       "      <td>1.000</td>\n",
       "      <td>0.082</td>\n",
       "      <td>1.056</td>\n",
       "      <td>...</td>\n",
       "      <td>0.021</td>\n",
       "      <td>0.404</td>\n",
       "      <td>0.041</td>\n",
       "      <td>21.2</td>\n",
       "      <td>1.88</td>\n",
       "      <td>0.211</td>\n",
       "      <td>0.269</td>\n",
       "      <td>10.2</td>\n",
       "      <td>0.76</td>\n",
       "      <td>3.89</td>\n",
       "    </tr>\n",
       "    <tr>\n",
       "      <th>1</th>\n",
       "      <td>Al Horford</td>\n",
       "      <td>2018-19</td>\n",
       "      <td>0.500</td>\n",
       "      <td>0.011</td>\n",
       "      <td>68</td>\n",
       "      <td>0.765</td>\n",
       "      <td>0.106</td>\n",
       "      <td>0.909</td>\n",
       "      <td>0.012</td>\n",
       "      <td>0.981</td>\n",
       "      <td>...</td>\n",
       "      <td>-0.059</td>\n",
       "      <td>0.533</td>\n",
       "      <td>-0.042</td>\n",
       "      <td>29.0</td>\n",
       "      <td>1.38</td>\n",
       "      <td>0.684</td>\n",
       "      <td>0.384</td>\n",
       "      <td>6.4</td>\n",
       "      <td>0.96</td>\n",
       "      <td>3.64</td>\n",
       "    </tr>\n",
       "    <tr>\n",
       "      <th>2</th>\n",
       "      <td>Semi Ojeleye</td>\n",
       "      <td>2018-19</td>\n",
       "      <td>0.455</td>\n",
       "      <td>0.054</td>\n",
       "      <td>56</td>\n",
       "      <td>0.900</td>\n",
       "      <td>0.147</td>\n",
       "      <td>1.538</td>\n",
       "      <td>0.064</td>\n",
       "      <td>0.933</td>\n",
       "      <td>...</td>\n",
       "      <td>0.001</td>\n",
       "      <td>0.449</td>\n",
       "      <td>0.013</td>\n",
       "      <td>10.6</td>\n",
       "      <td>0.21</td>\n",
       "      <td>0.529</td>\n",
       "      <td>0.395</td>\n",
       "      <td>8.3</td>\n",
       "      <td>0.38</td>\n",
       "      <td>3.90</td>\n",
       "    </tr>\n",
       "    <tr>\n",
       "      <th>3</th>\n",
       "      <td>Thabo Sefolosha</td>\n",
       "      <td>2018-19</td>\n",
       "      <td>0.455</td>\n",
       "      <td>0.056</td>\n",
       "      <td>50</td>\n",
       "      <td>0.684</td>\n",
       "      <td>0.097</td>\n",
       "      <td>0.583</td>\n",
       "      <td>0.062</td>\n",
       "      <td>1.318</td>\n",
       "      <td>...</td>\n",
       "      <td>-0.029</td>\n",
       "      <td>0.595</td>\n",
       "      <td>-0.042</td>\n",
       "      <td>12.2</td>\n",
       "      <td>1.26</td>\n",
       "      <td>0.714</td>\n",
       "      <td>0.205</td>\n",
       "      <td>6.2</td>\n",
       "      <td>0.42</td>\n",
       "      <td>3.90</td>\n",
       "    </tr>\n",
       "    <tr>\n",
       "      <th>4</th>\n",
       "      <td>Iman Shumpert</td>\n",
       "      <td>2018-19</td>\n",
       "      <td>0.455</td>\n",
       "      <td>0.089</td>\n",
       "      <td>20</td>\n",
       "      <td>1.071</td>\n",
       "      <td>0.113</td>\n",
       "      <td>1.417</td>\n",
       "      <td>0.097</td>\n",
       "      <td>0.000</td>\n",
       "      <td>...</td>\n",
       "      <td>0.105</td>\n",
       "      <td>0.472</td>\n",
       "      <td>0.106</td>\n",
       "      <td>23.9</td>\n",
       "      <td>1.87</td>\n",
       "      <td>0.557</td>\n",
       "      <td>0.202</td>\n",
       "      <td>8.1</td>\n",
       "      <td>0.87</td>\n",
       "      <td>3.99</td>\n",
       "    </tr>\n",
       "    <tr>\n",
       "      <th>...</th>\n",
       "      <td>...</td>\n",
       "      <td>...</td>\n",
       "      <td>...</td>\n",
       "      <td>...</td>\n",
       "      <td>...</td>\n",
       "      <td>...</td>\n",
       "      <td>...</td>\n",
       "      <td>...</td>\n",
       "      <td>...</td>\n",
       "      <td>...</td>\n",
       "      <td>...</td>\n",
       "      <td>...</td>\n",
       "      <td>...</td>\n",
       "      <td>...</td>\n",
       "      <td>...</td>\n",
       "      <td>...</td>\n",
       "      <td>...</td>\n",
       "      <td>...</td>\n",
       "      <td>...</td>\n",
       "      <td>...</td>\n",
       "      <td>...</td>\n",
       "    </tr>\n",
       "    <tr>\n",
       "      <th>2027</th>\n",
       "      <td>Louis King</td>\n",
       "      <td>2021-22</td>\n",
       "      <td>0.000</td>\n",
       "      <td>0.000</td>\n",
       "      <td>10</td>\n",
       "      <td>0.000</td>\n",
       "      <td>0.000</td>\n",
       "      <td>0.000</td>\n",
       "      <td>0.000</td>\n",
       "      <td>0.000</td>\n",
       "      <td>...</td>\n",
       "      <td>-0.082</td>\n",
       "      <td>0.540</td>\n",
       "      <td>-0.093</td>\n",
       "      <td>10.4</td>\n",
       "      <td>0.90</td>\n",
       "      <td>1.000</td>\n",
       "      <td>0.333</td>\n",
       "      <td>8.4</td>\n",
       "      <td>0.39</td>\n",
       "      <td>4.05</td>\n",
       "    </tr>\n",
       "    <tr>\n",
       "      <th>2028</th>\n",
       "      <td>Jaylen Hoard</td>\n",
       "      <td>2021-22</td>\n",
       "      <td>0.000</td>\n",
       "      <td>0.000</td>\n",
       "      <td>7</td>\n",
       "      <td>0.000</td>\n",
       "      <td>0.000</td>\n",
       "      <td>0.000</td>\n",
       "      <td>0.000</td>\n",
       "      <td>0.000</td>\n",
       "      <td>...</td>\n",
       "      <td>-0.017</td>\n",
       "      <td>0.461</td>\n",
       "      <td>0.001</td>\n",
       "      <td>34.2</td>\n",
       "      <td>1.71</td>\n",
       "      <td>0.333</td>\n",
       "      <td>0.333</td>\n",
       "      <td>4.5</td>\n",
       "      <td>1.20</td>\n",
       "      <td>4.15</td>\n",
       "    </tr>\n",
       "    <tr>\n",
       "      <th>2029</th>\n",
       "      <td>Willie Cauley-Stein</td>\n",
       "      <td>2021-22</td>\n",
       "      <td>0.000</td>\n",
       "      <td>0.000</td>\n",
       "      <td>11</td>\n",
       "      <td>0.000</td>\n",
       "      <td>0.000</td>\n",
       "      <td>0.000</td>\n",
       "      <td>0.000</td>\n",
       "      <td>0.000</td>\n",
       "      <td>...</td>\n",
       "      <td>0.034</td>\n",
       "      <td>0.500</td>\n",
       "      <td>0.078</td>\n",
       "      <td>9.1</td>\n",
       "      <td>0.60</td>\n",
       "      <td>0.333</td>\n",
       "      <td>0.500</td>\n",
       "      <td>4.7</td>\n",
       "      <td>0.32</td>\n",
       "      <td>4.08</td>\n",
       "    </tr>\n",
       "    <tr>\n",
       "      <th>2030</th>\n",
       "      <td>Moses Brown</td>\n",
       "      <td>2021-22</td>\n",
       "      <td>0.000</td>\n",
       "      <td>0.000</td>\n",
       "      <td>14</td>\n",
       "      <td>0.000</td>\n",
       "      <td>0.000</td>\n",
       "      <td>0.000</td>\n",
       "      <td>0.000</td>\n",
       "      <td>0.000</td>\n",
       "      <td>...</td>\n",
       "      <td>-0.087</td>\n",
       "      <td>0.525</td>\n",
       "      <td>-0.065</td>\n",
       "      <td>8.6</td>\n",
       "      <td>0.28</td>\n",
       "      <td>0.375</td>\n",
       "      <td>0.467</td>\n",
       "      <td>4.2</td>\n",
       "      <td>0.30</td>\n",
       "      <td>4.07</td>\n",
       "    </tr>\n",
       "    <tr>\n",
       "      <th>2031</th>\n",
       "      <td>Markieff Morris</td>\n",
       "      <td>2021-22</td>\n",
       "      <td>0.000</td>\n",
       "      <td>0.000</td>\n",
       "      <td>17</td>\n",
       "      <td>0.000</td>\n",
       "      <td>0.000</td>\n",
       "      <td>0.000</td>\n",
       "      <td>0.000</td>\n",
       "      <td>0.000</td>\n",
       "      <td>...</td>\n",
       "      <td>0.032</td>\n",
       "      <td>0.389</td>\n",
       "      <td>0.094</td>\n",
       "      <td>17.6</td>\n",
       "      <td>0.82</td>\n",
       "      <td>0.200</td>\n",
       "      <td>0.378</td>\n",
       "      <td>5.7</td>\n",
       "      <td>0.59</td>\n",
       "      <td>3.74</td>\n",
       "    </tr>\n",
       "  </tbody>\n",
       "</table>\n",
       "<p>2032 rows × 30 columns</p>\n",
       "</div>"
      ],
      "text/plain": [
       "              PLAYER_NAME   Season  DEF Handoff PPP  DEF Handoff FREQ  GP  \\\n",
       "0             Alex Caruso  2018-19            0.167             0.052  26   \n",
       "1              Al Horford  2018-19            0.500             0.011  68   \n",
       "2            Semi Ojeleye  2018-19            0.455             0.054  56   \n",
       "3         Thabo Sefolosha  2018-19            0.455             0.056  50   \n",
       "4           Iman Shumpert  2018-19            0.455             0.089  20   \n",
       "...                   ...      ...              ...               ...  ..   \n",
       "2027           Louis King  2021-22            0.000             0.000  10   \n",
       "2028         Jaylen Hoard  2021-22            0.000             0.000   7   \n",
       "2029  Willie Cauley-Stein  2021-22            0.000             0.000  11   \n",
       "2030          Moses Brown  2021-22            0.000             0.000  14   \n",
       "2031      Markieff Morris  2021-22            0.000             0.000  17   \n",
       "\n",
       "      DEF Isolation PPP  DEF Isolation FREQ  DEF OffScreen PPP  \\\n",
       "0                 0.793               0.126              1.000   \n",
       "1                 0.765               0.106              0.909   \n",
       "2                 0.900               0.147              1.538   \n",
       "3                 0.684               0.097              0.583   \n",
       "4                 1.071               0.113              1.417   \n",
       "...                 ...                 ...                ...   \n",
       "2027              0.000               0.000              0.000   \n",
       "2028              0.000               0.000              0.000   \n",
       "2029              0.000               0.000              0.000   \n",
       "2030              0.000               0.000              0.000   \n",
       "2031              0.000               0.000              0.000   \n",
       "\n",
       "      DEF OffScreen FREQ  DEF Postup PPP  ...  PLUSMINUS Less Than 6Ft  \\\n",
       "0                  0.082           1.056  ...                    0.021   \n",
       "1                  0.012           0.981  ...                   -0.059   \n",
       "2                  0.064           0.933  ...                    0.001   \n",
       "3                  0.062           1.318  ...                   -0.029   \n",
       "4                  0.097           0.000  ...                    0.105   \n",
       "...                  ...             ...  ...                      ...   \n",
       "2027               0.000           0.000  ...                   -0.082   \n",
       "2028               0.000           0.000  ...                   -0.017   \n",
       "2029               0.000           0.000  ...                    0.034   \n",
       "2030               0.000           0.000  ...                   -0.087   \n",
       "2031               0.000           0.000  ...                    0.032   \n",
       "\n",
       "      FREQ Less Than 10Ft  PLUSMINUS Less Than 10Ft   MIN  DEFLECTIONS  \\\n",
       "0                   0.404                     0.041  21.2         1.88   \n",
       "1                   0.533                    -0.042  29.0         1.38   \n",
       "2                   0.449                     0.013  10.6         0.21   \n",
       "3                   0.595                    -0.042  12.2         1.26   \n",
       "4                   0.472                     0.106  23.9         1.87   \n",
       "...                   ...                       ...   ...          ...   \n",
       "2027                0.540                    -0.093  10.4         0.90   \n",
       "2028                0.461                     0.001  34.2         1.71   \n",
       "2029                0.500                     0.078   9.1         0.60   \n",
       "2030                0.525                    -0.065   8.6         0.28   \n",
       "2031                0.389                     0.094  17.6         0.82   \n",
       "\n",
       "      PCT_LOOSE_BALLS_RECOVERED_DEF  REB_CONTEST_PCT  AVG_REB_DIST  \\\n",
       "0                             0.211            0.269          10.2   \n",
       "1                             0.684            0.384           6.4   \n",
       "2                             0.529            0.395           8.3   \n",
       "3                             0.714            0.205           6.2   \n",
       "4                             0.557            0.202           8.1   \n",
       "...                             ...              ...           ...   \n",
       "2027                          1.000            0.333           8.4   \n",
       "2028                          0.333            0.333           4.5   \n",
       "2029                          0.333            0.500           4.7   \n",
       "2030                          0.375            0.467           4.2   \n",
       "2031                          0.200            0.378           5.7   \n",
       "\n",
       "      DIST_MILES_DEF  AVG_SPEED_DEF  \n",
       "0               0.76           3.89  \n",
       "1               0.96           3.64  \n",
       "2               0.38           3.90  \n",
       "3               0.42           3.90  \n",
       "4               0.87           3.99  \n",
       "...              ...            ...  \n",
       "2027            0.39           4.05  \n",
       "2028            1.20           4.15  \n",
       "2029            0.32           4.08  \n",
       "2030            0.30           4.07  \n",
       "2031            0.59           3.74  \n",
       "\n",
       "[2032 rows x 30 columns]"
      ]
     },
     "execution_count": 128,
     "metadata": {},
     "output_type": "execute_result"
    }
   ],
   "source": [
    "all_defence"
   ]
  },
  {
   "cell_type": "code",
   "execution_count": 129,
   "metadata": {},
   "outputs": [],
   "source": [
    "all_defence = all_defence.drop_duplicates(['PLAYER_NAME','GP', 'Season'])"
   ]
  },
  {
   "cell_type": "code",
   "execution_count": 130,
   "metadata": {},
   "outputs": [
    {
     "data": {
      "text/html": [
       "<div>\n",
       "<style scoped>\n",
       "    .dataframe tbody tr th:only-of-type {\n",
       "        vertical-align: middle;\n",
       "    }\n",
       "\n",
       "    .dataframe tbody tr th {\n",
       "        vertical-align: top;\n",
       "    }\n",
       "\n",
       "    .dataframe thead th {\n",
       "        text-align: right;\n",
       "    }\n",
       "</style>\n",
       "<table border=\"1\" class=\"dataframe\">\n",
       "  <thead>\n",
       "    <tr style=\"text-align: right;\">\n",
       "      <th></th>\n",
       "      <th>PLAYER_NAME</th>\n",
       "      <th>Season</th>\n",
       "      <th>DEF Handoff PPP</th>\n",
       "      <th>DEF Handoff FREQ</th>\n",
       "      <th>GP</th>\n",
       "      <th>DEF Isolation PPP</th>\n",
       "      <th>DEF Isolation FREQ</th>\n",
       "      <th>DEF OffScreen PPP</th>\n",
       "      <th>DEF OffScreen FREQ</th>\n",
       "      <th>DEF Postup PPP</th>\n",
       "      <th>...</th>\n",
       "      <th>PLUSMINUS Less Than 6Ft</th>\n",
       "      <th>FREQ Less Than 10Ft</th>\n",
       "      <th>PLUSMINUS Less Than 10Ft</th>\n",
       "      <th>MIN</th>\n",
       "      <th>DEFLECTIONS</th>\n",
       "      <th>PCT_LOOSE_BALLS_RECOVERED_DEF</th>\n",
       "      <th>REB_CONTEST_PCT</th>\n",
       "      <th>AVG_REB_DIST</th>\n",
       "      <th>DIST_MILES_DEF</th>\n",
       "      <th>AVG_SPEED_DEF</th>\n",
       "    </tr>\n",
       "  </thead>\n",
       "  <tbody>\n",
       "    <tr>\n",
       "      <th>0</th>\n",
       "      <td>Alex Caruso</td>\n",
       "      <td>2018-19</td>\n",
       "      <td>0.167</td>\n",
       "      <td>0.052</td>\n",
       "      <td>26</td>\n",
       "      <td>0.793</td>\n",
       "      <td>0.126</td>\n",
       "      <td>1.000</td>\n",
       "      <td>0.082</td>\n",
       "      <td>1.056</td>\n",
       "      <td>...</td>\n",
       "      <td>0.021</td>\n",
       "      <td>0.404</td>\n",
       "      <td>0.041</td>\n",
       "      <td>21.2</td>\n",
       "      <td>1.88</td>\n",
       "      <td>0.211</td>\n",
       "      <td>0.269</td>\n",
       "      <td>10.2</td>\n",
       "      <td>0.76</td>\n",
       "      <td>3.89</td>\n",
       "    </tr>\n",
       "    <tr>\n",
       "      <th>1</th>\n",
       "      <td>Al Horford</td>\n",
       "      <td>2018-19</td>\n",
       "      <td>0.500</td>\n",
       "      <td>0.011</td>\n",
       "      <td>68</td>\n",
       "      <td>0.765</td>\n",
       "      <td>0.106</td>\n",
       "      <td>0.909</td>\n",
       "      <td>0.012</td>\n",
       "      <td>0.981</td>\n",
       "      <td>...</td>\n",
       "      <td>-0.059</td>\n",
       "      <td>0.533</td>\n",
       "      <td>-0.042</td>\n",
       "      <td>29.0</td>\n",
       "      <td>1.38</td>\n",
       "      <td>0.684</td>\n",
       "      <td>0.384</td>\n",
       "      <td>6.4</td>\n",
       "      <td>0.96</td>\n",
       "      <td>3.64</td>\n",
       "    </tr>\n",
       "    <tr>\n",
       "      <th>2</th>\n",
       "      <td>Semi Ojeleye</td>\n",
       "      <td>2018-19</td>\n",
       "      <td>0.455</td>\n",
       "      <td>0.054</td>\n",
       "      <td>56</td>\n",
       "      <td>0.900</td>\n",
       "      <td>0.147</td>\n",
       "      <td>1.538</td>\n",
       "      <td>0.064</td>\n",
       "      <td>0.933</td>\n",
       "      <td>...</td>\n",
       "      <td>0.001</td>\n",
       "      <td>0.449</td>\n",
       "      <td>0.013</td>\n",
       "      <td>10.6</td>\n",
       "      <td>0.21</td>\n",
       "      <td>0.529</td>\n",
       "      <td>0.395</td>\n",
       "      <td>8.3</td>\n",
       "      <td>0.38</td>\n",
       "      <td>3.90</td>\n",
       "    </tr>\n",
       "    <tr>\n",
       "      <th>3</th>\n",
       "      <td>Thabo Sefolosha</td>\n",
       "      <td>2018-19</td>\n",
       "      <td>0.455</td>\n",
       "      <td>0.056</td>\n",
       "      <td>50</td>\n",
       "      <td>0.684</td>\n",
       "      <td>0.097</td>\n",
       "      <td>0.583</td>\n",
       "      <td>0.062</td>\n",
       "      <td>1.318</td>\n",
       "      <td>...</td>\n",
       "      <td>-0.029</td>\n",
       "      <td>0.595</td>\n",
       "      <td>-0.042</td>\n",
       "      <td>12.2</td>\n",
       "      <td>1.26</td>\n",
       "      <td>0.714</td>\n",
       "      <td>0.205</td>\n",
       "      <td>6.2</td>\n",
       "      <td>0.42</td>\n",
       "      <td>3.90</td>\n",
       "    </tr>\n",
       "    <tr>\n",
       "      <th>4</th>\n",
       "      <td>Iman Shumpert</td>\n",
       "      <td>2018-19</td>\n",
       "      <td>0.455</td>\n",
       "      <td>0.089</td>\n",
       "      <td>20</td>\n",
       "      <td>1.071</td>\n",
       "      <td>0.113</td>\n",
       "      <td>1.417</td>\n",
       "      <td>0.097</td>\n",
       "      <td>0.000</td>\n",
       "      <td>...</td>\n",
       "      <td>0.105</td>\n",
       "      <td>0.472</td>\n",
       "      <td>0.106</td>\n",
       "      <td>23.9</td>\n",
       "      <td>1.87</td>\n",
       "      <td>0.557</td>\n",
       "      <td>0.202</td>\n",
       "      <td>8.1</td>\n",
       "      <td>0.87</td>\n",
       "      <td>3.99</td>\n",
       "    </tr>\n",
       "    <tr>\n",
       "      <th>...</th>\n",
       "      <td>...</td>\n",
       "      <td>...</td>\n",
       "      <td>...</td>\n",
       "      <td>...</td>\n",
       "      <td>...</td>\n",
       "      <td>...</td>\n",
       "      <td>...</td>\n",
       "      <td>...</td>\n",
       "      <td>...</td>\n",
       "      <td>...</td>\n",
       "      <td>...</td>\n",
       "      <td>...</td>\n",
       "      <td>...</td>\n",
       "      <td>...</td>\n",
       "      <td>...</td>\n",
       "      <td>...</td>\n",
       "      <td>...</td>\n",
       "      <td>...</td>\n",
       "      <td>...</td>\n",
       "      <td>...</td>\n",
       "      <td>...</td>\n",
       "    </tr>\n",
       "    <tr>\n",
       "      <th>2027</th>\n",
       "      <td>Louis King</td>\n",
       "      <td>2021-22</td>\n",
       "      <td>0.000</td>\n",
       "      <td>0.000</td>\n",
       "      <td>10</td>\n",
       "      <td>0.000</td>\n",
       "      <td>0.000</td>\n",
       "      <td>0.000</td>\n",
       "      <td>0.000</td>\n",
       "      <td>0.000</td>\n",
       "      <td>...</td>\n",
       "      <td>-0.082</td>\n",
       "      <td>0.540</td>\n",
       "      <td>-0.093</td>\n",
       "      <td>10.4</td>\n",
       "      <td>0.90</td>\n",
       "      <td>1.000</td>\n",
       "      <td>0.333</td>\n",
       "      <td>8.4</td>\n",
       "      <td>0.39</td>\n",
       "      <td>4.05</td>\n",
       "    </tr>\n",
       "    <tr>\n",
       "      <th>2028</th>\n",
       "      <td>Jaylen Hoard</td>\n",
       "      <td>2021-22</td>\n",
       "      <td>0.000</td>\n",
       "      <td>0.000</td>\n",
       "      <td>7</td>\n",
       "      <td>0.000</td>\n",
       "      <td>0.000</td>\n",
       "      <td>0.000</td>\n",
       "      <td>0.000</td>\n",
       "      <td>0.000</td>\n",
       "      <td>...</td>\n",
       "      <td>-0.017</td>\n",
       "      <td>0.461</td>\n",
       "      <td>0.001</td>\n",
       "      <td>34.2</td>\n",
       "      <td>1.71</td>\n",
       "      <td>0.333</td>\n",
       "      <td>0.333</td>\n",
       "      <td>4.5</td>\n",
       "      <td>1.20</td>\n",
       "      <td>4.15</td>\n",
       "    </tr>\n",
       "    <tr>\n",
       "      <th>2029</th>\n",
       "      <td>Willie Cauley-Stein</td>\n",
       "      <td>2021-22</td>\n",
       "      <td>0.000</td>\n",
       "      <td>0.000</td>\n",
       "      <td>11</td>\n",
       "      <td>0.000</td>\n",
       "      <td>0.000</td>\n",
       "      <td>0.000</td>\n",
       "      <td>0.000</td>\n",
       "      <td>0.000</td>\n",
       "      <td>...</td>\n",
       "      <td>0.034</td>\n",
       "      <td>0.500</td>\n",
       "      <td>0.078</td>\n",
       "      <td>9.1</td>\n",
       "      <td>0.60</td>\n",
       "      <td>0.333</td>\n",
       "      <td>0.500</td>\n",
       "      <td>4.7</td>\n",
       "      <td>0.32</td>\n",
       "      <td>4.08</td>\n",
       "    </tr>\n",
       "    <tr>\n",
       "      <th>2030</th>\n",
       "      <td>Moses Brown</td>\n",
       "      <td>2021-22</td>\n",
       "      <td>0.000</td>\n",
       "      <td>0.000</td>\n",
       "      <td>14</td>\n",
       "      <td>0.000</td>\n",
       "      <td>0.000</td>\n",
       "      <td>0.000</td>\n",
       "      <td>0.000</td>\n",
       "      <td>0.000</td>\n",
       "      <td>...</td>\n",
       "      <td>-0.087</td>\n",
       "      <td>0.525</td>\n",
       "      <td>-0.065</td>\n",
       "      <td>8.6</td>\n",
       "      <td>0.28</td>\n",
       "      <td>0.375</td>\n",
       "      <td>0.467</td>\n",
       "      <td>4.2</td>\n",
       "      <td>0.30</td>\n",
       "      <td>4.07</td>\n",
       "    </tr>\n",
       "    <tr>\n",
       "      <th>2031</th>\n",
       "      <td>Markieff Morris</td>\n",
       "      <td>2021-22</td>\n",
       "      <td>0.000</td>\n",
       "      <td>0.000</td>\n",
       "      <td>17</td>\n",
       "      <td>0.000</td>\n",
       "      <td>0.000</td>\n",
       "      <td>0.000</td>\n",
       "      <td>0.000</td>\n",
       "      <td>0.000</td>\n",
       "      <td>...</td>\n",
       "      <td>0.032</td>\n",
       "      <td>0.389</td>\n",
       "      <td>0.094</td>\n",
       "      <td>17.6</td>\n",
       "      <td>0.82</td>\n",
       "      <td>0.200</td>\n",
       "      <td>0.378</td>\n",
       "      <td>5.7</td>\n",
       "      <td>0.59</td>\n",
       "      <td>3.74</td>\n",
       "    </tr>\n",
       "  </tbody>\n",
       "</table>\n",
       "<p>1969 rows × 30 columns</p>\n",
       "</div>"
      ],
      "text/plain": [
       "              PLAYER_NAME   Season  DEF Handoff PPP  DEF Handoff FREQ  GP  \\\n",
       "0             Alex Caruso  2018-19            0.167             0.052  26   \n",
       "1              Al Horford  2018-19            0.500             0.011  68   \n",
       "2            Semi Ojeleye  2018-19            0.455             0.054  56   \n",
       "3         Thabo Sefolosha  2018-19            0.455             0.056  50   \n",
       "4           Iman Shumpert  2018-19            0.455             0.089  20   \n",
       "...                   ...      ...              ...               ...  ..   \n",
       "2027           Louis King  2021-22            0.000             0.000  10   \n",
       "2028         Jaylen Hoard  2021-22            0.000             0.000   7   \n",
       "2029  Willie Cauley-Stein  2021-22            0.000             0.000  11   \n",
       "2030          Moses Brown  2021-22            0.000             0.000  14   \n",
       "2031      Markieff Morris  2021-22            0.000             0.000  17   \n",
       "\n",
       "      DEF Isolation PPP  DEF Isolation FREQ  DEF OffScreen PPP  \\\n",
       "0                 0.793               0.126              1.000   \n",
       "1                 0.765               0.106              0.909   \n",
       "2                 0.900               0.147              1.538   \n",
       "3                 0.684               0.097              0.583   \n",
       "4                 1.071               0.113              1.417   \n",
       "...                 ...                 ...                ...   \n",
       "2027              0.000               0.000              0.000   \n",
       "2028              0.000               0.000              0.000   \n",
       "2029              0.000               0.000              0.000   \n",
       "2030              0.000               0.000              0.000   \n",
       "2031              0.000               0.000              0.000   \n",
       "\n",
       "      DEF OffScreen FREQ  DEF Postup PPP  ...  PLUSMINUS Less Than 6Ft  \\\n",
       "0                  0.082           1.056  ...                    0.021   \n",
       "1                  0.012           0.981  ...                   -0.059   \n",
       "2                  0.064           0.933  ...                    0.001   \n",
       "3                  0.062           1.318  ...                   -0.029   \n",
       "4                  0.097           0.000  ...                    0.105   \n",
       "...                  ...             ...  ...                      ...   \n",
       "2027               0.000           0.000  ...                   -0.082   \n",
       "2028               0.000           0.000  ...                   -0.017   \n",
       "2029               0.000           0.000  ...                    0.034   \n",
       "2030               0.000           0.000  ...                   -0.087   \n",
       "2031               0.000           0.000  ...                    0.032   \n",
       "\n",
       "      FREQ Less Than 10Ft  PLUSMINUS Less Than 10Ft   MIN  DEFLECTIONS  \\\n",
       "0                   0.404                     0.041  21.2         1.88   \n",
       "1                   0.533                    -0.042  29.0         1.38   \n",
       "2                   0.449                     0.013  10.6         0.21   \n",
       "3                   0.595                    -0.042  12.2         1.26   \n",
       "4                   0.472                     0.106  23.9         1.87   \n",
       "...                   ...                       ...   ...          ...   \n",
       "2027                0.540                    -0.093  10.4         0.90   \n",
       "2028                0.461                     0.001  34.2         1.71   \n",
       "2029                0.500                     0.078   9.1         0.60   \n",
       "2030                0.525                    -0.065   8.6         0.28   \n",
       "2031                0.389                     0.094  17.6         0.82   \n",
       "\n",
       "      PCT_LOOSE_BALLS_RECOVERED_DEF  REB_CONTEST_PCT  AVG_REB_DIST  \\\n",
       "0                             0.211            0.269          10.2   \n",
       "1                             0.684            0.384           6.4   \n",
       "2                             0.529            0.395           8.3   \n",
       "3                             0.714            0.205           6.2   \n",
       "4                             0.557            0.202           8.1   \n",
       "...                             ...              ...           ...   \n",
       "2027                          1.000            0.333           8.4   \n",
       "2028                          0.333            0.333           4.5   \n",
       "2029                          0.333            0.500           4.7   \n",
       "2030                          0.375            0.467           4.2   \n",
       "2031                          0.200            0.378           5.7   \n",
       "\n",
       "      DIST_MILES_DEF  AVG_SPEED_DEF  \n",
       "0               0.76           3.89  \n",
       "1               0.96           3.64  \n",
       "2               0.38           3.90  \n",
       "3               0.42           3.90  \n",
       "4               0.87           3.99  \n",
       "...              ...            ...  \n",
       "2027            0.39           4.05  \n",
       "2028            1.20           4.15  \n",
       "2029            0.32           4.08  \n",
       "2030            0.30           4.07  \n",
       "2031            0.59           3.74  \n",
       "\n",
       "[1969 rows x 30 columns]"
      ]
     },
     "execution_count": 130,
     "metadata": {},
     "output_type": "execute_result"
    }
   ],
   "source": [
    "all_defence"
   ]
  },
  {
   "cell_type": "code",
   "execution_count": 131,
   "metadata": {},
   "outputs": [
    {
     "data": {
      "text/plain": [
       "PLAYER_NAME                      0\n",
       "Season                           0\n",
       "DEF Handoff PPP                  0\n",
       "DEF Handoff FREQ                 0\n",
       "GP                               0\n",
       "DEF Isolation PPP                0\n",
       "DEF Isolation FREQ               0\n",
       "DEF OffScreen PPP                0\n",
       "DEF OffScreen FREQ               0\n",
       "DEF Postup PPP                   0\n",
       "DEF Postup FREQ                  0\n",
       "DEF PRBallHandler PPP            0\n",
       "DEF PRBallHandler FREQ           0\n",
       "DEF PRRollman PPP                0\n",
       "DEF PRRollman FREQ               0\n",
       "DEF Spotup PPP                   0\n",
       "DEF Spotup FREQ                  0\n",
       "FREQ 3 Pointers                  0\n",
       "PLUSMINUS 3 Pointers             0\n",
       "FREQ Less Than 6Ft               0\n",
       "PLUSMINUS Less Than 6Ft          0\n",
       "FREQ Less Than 10Ft              0\n",
       "PLUSMINUS Less Than 10Ft         0\n",
       "MIN                              0\n",
       "DEFLECTIONS                      0\n",
       "PCT_LOOSE_BALLS_RECOVERED_DEF    0\n",
       "REB_CONTEST_PCT                  0\n",
       "AVG_REB_DIST                     0\n",
       "DIST_MILES_DEF                   0\n",
       "AVG_SPEED_DEF                    0\n",
       "dtype: int64"
      ]
     },
     "execution_count": 131,
     "metadata": {},
     "output_type": "execute_result"
    }
   ],
   "source": [
    "all_defence.isna().sum()"
   ]
  },
  {
   "cell_type": "code",
   "execution_count": 282,
   "metadata": {},
   "outputs": [
    {
     "name": "stderr",
     "output_type": "stream",
     "text": [
      "C:\\Users\\rpand\\AppData\\Local\\Temp\\ipykernel_38572\\254949371.py:1: SettingWithCopyWarning:\n",
      "\n",
      "\n",
      "A value is trying to be set on a copy of a slice from a DataFrame.\n",
      "Try using .loc[row_indexer,col_indexer] = value instead\n",
      "\n",
      "See the caveats in the documentation: https://pandas.pydata.org/pandas-docs/stable/user_guide/indexing.html#returning-a-view-versus-a-copy\n",
      "\n"
     ]
    }
   ],
   "source": [
    "all_defence['DEFLECTIONS Per36'] = (all_defence['DEFLECTIONS']/all_defence['MIN'])*36"
   ]
  },
  {
   "cell_type": "code",
   "execution_count": 283,
   "metadata": {},
   "outputs": [],
   "source": [
    "\n",
    "all_defence.to_csv('all_defence.csv', index=False)"
   ]
  },
  {
   "cell_type": "code",
   "execution_count": 284,
   "metadata": {},
   "outputs": [
    {
     "data": {
      "text/plain": [
       "Index(['PLAYER_NAME', 'Season', 'DEF Handoff PPP', 'DEF Handoff FREQ', 'GP',\n",
       "       'DEF Isolation PPP', 'DEF Isolation FREQ', 'DEF OffScreen PPP',\n",
       "       'DEF OffScreen FREQ', 'DEF Postup PPP', 'DEF Postup FREQ',\n",
       "       'DEF PRBallHandler PPP', 'DEF PRBallHandler FREQ', 'DEF PRRollman PPP',\n",
       "       'DEF PRRollman FREQ', 'DEF Spotup PPP', 'DEF Spotup FREQ',\n",
       "       'FREQ 3 Pointers', 'PLUSMINUS 3 Pointers', 'FREQ Less Than 6Ft',\n",
       "       'PLUSMINUS Less Than 6Ft', 'FREQ Less Than 10Ft',\n",
       "       'PLUSMINUS Less Than 10Ft', 'MIN', 'DEFLECTIONS',\n",
       "       'PCT_LOOSE_BALLS_RECOVERED_DEF', 'REB_CONTEST_PCT', 'AVG_REB_DIST',\n",
       "       'DIST_MILES_DEF', 'AVG_SPEED_DEF', 'DEFLECTIONS Per36'],\n",
       "      dtype='object')"
      ]
     },
     "execution_count": 284,
     "metadata": {},
     "output_type": "execute_result"
    }
   ],
   "source": [
    "all_defence.columns"
   ]
  },
  {
   "cell_type": "markdown",
   "metadata": {},
   "source": [
    "## Clustering"
   ]
  },
  {
   "cell_type": "code",
   "execution_count": 13,
   "metadata": {},
   "outputs": [],
   "source": [
    "all_defence_clust = pd.read_csv('all_defence.csv')\n",
    "\n",
    "\n",
    "\n",
    "\n",
    "all_defence_clust = all_defence_clust[(all_defence_clust['GP']>20)& (all_defence_clust['MIN']>15)&(all_defence_clust['Season']=='2021-22')]\n",
    "\n",
    "\n"
   ]
  },
  {
   "cell_type": "code",
   "execution_count": 14,
   "metadata": {},
   "outputs": [
    {
     "data": {
      "text/html": [
       "<div>\n",
       "<style scoped>\n",
       "    .dataframe tbody tr th:only-of-type {\n",
       "        vertical-align: middle;\n",
       "    }\n",
       "\n",
       "    .dataframe tbody tr th {\n",
       "        vertical-align: top;\n",
       "    }\n",
       "\n",
       "    .dataframe thead th {\n",
       "        text-align: right;\n",
       "    }\n",
       "</style>\n",
       "<table border=\"1\" class=\"dataframe\">\n",
       "  <thead>\n",
       "    <tr style=\"text-align: right;\">\n",
       "      <th></th>\n",
       "      <th>PLAYER_NAME</th>\n",
       "      <th>Season</th>\n",
       "      <th>DEF Handoff PPP</th>\n",
       "      <th>DEF Handoff FREQ</th>\n",
       "      <th>GP</th>\n",
       "      <th>DEF Isolation PPP</th>\n",
       "      <th>DEF Isolation FREQ</th>\n",
       "      <th>DEF OffScreen PPP</th>\n",
       "      <th>DEF OffScreen FREQ</th>\n",
       "      <th>DEF Postup PPP</th>\n",
       "      <th>...</th>\n",
       "      <th>FREQ Less Than 10Ft</th>\n",
       "      <th>PLUSMINUS Less Than 10Ft</th>\n",
       "      <th>MIN</th>\n",
       "      <th>DEFLECTIONS</th>\n",
       "      <th>PCT_LOOSE_BALLS_RECOVERED_DEF</th>\n",
       "      <th>REB_CONTEST_PCT</th>\n",
       "      <th>AVG_REB_DIST</th>\n",
       "      <th>DIST_MILES_DEF</th>\n",
       "      <th>AVG_SPEED_DEF</th>\n",
       "      <th>DEFLECTIONS Per36</th>\n",
       "    </tr>\n",
       "  </thead>\n",
       "  <tbody>\n",
       "    <tr>\n",
       "      <th>1277</th>\n",
       "      <td>Pascal Siakam</td>\n",
       "      <td>2021-22</td>\n",
       "      <td>1.083</td>\n",
       "      <td>0.04</td>\n",
       "      <td>69</td>\n",
       "      <td>0.645</td>\n",
       "      <td>0.085</td>\n",
       "      <td>1.435</td>\n",
       "      <td>0.052</td>\n",
       "      <td>0.871</td>\n",
       "      <td>...</td>\n",
       "      <td>0.479</td>\n",
       "      <td>-0.03</td>\n",
       "      <td>37.9</td>\n",
       "      <td>2.0</td>\n",
       "      <td>0.487</td>\n",
       "      <td>0.331</td>\n",
       "      <td>6.0</td>\n",
       "      <td>1.22</td>\n",
       "      <td>3.67</td>\n",
       "      <td>1.899736</td>\n",
       "    </tr>\n",
       "  </tbody>\n",
       "</table>\n",
       "<p>1 rows × 31 columns</p>\n",
       "</div>"
      ],
      "text/plain": [
       "        PLAYER_NAME   Season  DEF Handoff PPP  DEF Handoff FREQ  GP  \\\n",
       "1277  Pascal Siakam  2021-22            1.083              0.04  69   \n",
       "\n",
       "      DEF Isolation PPP  DEF Isolation FREQ  DEF OffScreen PPP  \\\n",
       "1277              0.645               0.085              1.435   \n",
       "\n",
       "      DEF OffScreen FREQ  DEF Postup PPP  ...  FREQ Less Than 10Ft  \\\n",
       "1277               0.052           0.871  ...                0.479   \n",
       "\n",
       "      PLUSMINUS Less Than 10Ft   MIN  DEFLECTIONS  \\\n",
       "1277                     -0.03  37.9          2.0   \n",
       "\n",
       "      PCT_LOOSE_BALLS_RECOVERED_DEF  REB_CONTEST_PCT  AVG_REB_DIST  \\\n",
       "1277                          0.487            0.331           6.0   \n",
       "\n",
       "      DIST_MILES_DEF  AVG_SPEED_DEF  DEFLECTIONS Per36  \n",
       "1277            1.22           3.67           1.899736  \n",
       "\n",
       "[1 rows x 31 columns]"
      ]
     },
     "execution_count": 14,
     "metadata": {},
     "output_type": "execute_result"
    }
   ],
   "source": [
    "all_defence_clust[all_defence_clust['PLAYER_NAME'] =='Pascal Siakam']"
   ]
  },
  {
   "cell_type": "code",
   "execution_count": 286,
   "metadata": {},
   "outputs": [],
   "source": [
    "def_train = all_defence_clust.drop(['PLAYER_NAME', 'Season', 'MIN', 'GP', 'DEFLECTIONS'], axis='columns')"
   ]
  },
  {
   "cell_type": "code",
   "execution_count": 287,
   "metadata": {},
   "outputs": [
    {
     "data": {
      "text/plain": [
       "Index(['DEF Handoff PPP', 'DEF Handoff FREQ', 'DEF Isolation PPP',\n",
       "       'DEF Isolation FREQ', 'DEF OffScreen PPP', 'DEF OffScreen FREQ',\n",
       "       'DEF Postup PPP', 'DEF Postup FREQ', 'DEF PRBallHandler PPP',\n",
       "       'DEF PRBallHandler FREQ', 'DEF PRRollman PPP', 'DEF PRRollman FREQ',\n",
       "       'DEF Spotup PPP', 'DEF Spotup FREQ', 'FREQ 3 Pointers',\n",
       "       'PLUSMINUS 3 Pointers', 'FREQ Less Than 6Ft', 'PLUSMINUS Less Than 6Ft',\n",
       "       'FREQ Less Than 10Ft', 'PLUSMINUS Less Than 10Ft',\n",
       "       'PCT_LOOSE_BALLS_RECOVERED_DEF', 'REB_CONTEST_PCT', 'AVG_REB_DIST',\n",
       "       'DIST_MILES_DEF', 'AVG_SPEED_DEF', 'DEFLECTIONS Per36'],\n",
       "      dtype='object')"
      ]
     },
     "execution_count": 287,
     "metadata": {},
     "output_type": "execute_result"
    }
   ],
   "source": [
    "def_train.columns"
   ]
  },
  {
   "cell_type": "code",
   "execution_count": 288,
   "metadata": {},
   "outputs": [],
   "source": [
    "norm_train = pd.DataFrame(StandardScaler().fit_transform(def_train),columns = def_train.columns)"
   ]
  },
  {
   "cell_type": "markdown",
   "metadata": {},
   "source": [
    "## Try K-Means"
   ]
  },
  {
   "cell_type": "code",
   "execution_count": 289,
   "metadata": {},
   "outputs": [
    {
     "name": "stderr",
     "output_type": "stream",
     "text": [
      "c:\\Users\\rpand\\anaconda3\\envs\\nba_app_env\\lib\\site-packages\\sklearn\\cluster\\_kmeans.py:1332: UserWarning:\n",
      "\n",
      "KMeans is known to have a memory leak on Windows with MKL, when there are less chunks than available threads. You can avoid it by setting the environment variable OMP_NUM_THREADS=2.\n",
      "\n",
      "c:\\Users\\rpand\\anaconda3\\envs\\nba_app_env\\lib\\site-packages\\sklearn\\cluster\\_kmeans.py:1332: UserWarning:\n",
      "\n",
      "KMeans is known to have a memory leak on Windows with MKL, when there are less chunks than available threads. You can avoid it by setting the environment variable OMP_NUM_THREADS=2.\n",
      "\n",
      "c:\\Users\\rpand\\anaconda3\\envs\\nba_app_env\\lib\\site-packages\\sklearn\\cluster\\_kmeans.py:1332: UserWarning:\n",
      "\n",
      "KMeans is known to have a memory leak on Windows with MKL, when there are less chunks than available threads. You can avoid it by setting the environment variable OMP_NUM_THREADS=2.\n",
      "\n",
      "c:\\Users\\rpand\\anaconda3\\envs\\nba_app_env\\lib\\site-packages\\sklearn\\cluster\\_kmeans.py:1332: UserWarning:\n",
      "\n",
      "KMeans is known to have a memory leak on Windows with MKL, when there are less chunks than available threads. You can avoid it by setting the environment variable OMP_NUM_THREADS=2.\n",
      "\n",
      "c:\\Users\\rpand\\anaconda3\\envs\\nba_app_env\\lib\\site-packages\\sklearn\\cluster\\_kmeans.py:1332: UserWarning:\n",
      "\n",
      "KMeans is known to have a memory leak on Windows with MKL, when there are less chunks than available threads. You can avoid it by setting the environment variable OMP_NUM_THREADS=2.\n",
      "\n",
      "c:\\Users\\rpand\\anaconda3\\envs\\nba_app_env\\lib\\site-packages\\sklearn\\cluster\\_kmeans.py:1332: UserWarning:\n",
      "\n",
      "KMeans is known to have a memory leak on Windows with MKL, when there are less chunks than available threads. You can avoid it by setting the environment variable OMP_NUM_THREADS=2.\n",
      "\n",
      "c:\\Users\\rpand\\anaconda3\\envs\\nba_app_env\\lib\\site-packages\\sklearn\\cluster\\_kmeans.py:1332: UserWarning:\n",
      "\n",
      "KMeans is known to have a memory leak on Windows with MKL, when there are less chunks than available threads. You can avoid it by setting the environment variable OMP_NUM_THREADS=2.\n",
      "\n"
     ]
    },
    {
     "data": {
      "image/png": "[encoded data removed]",
      "text/plain": [
       "<Figure size 432x288 with 1 Axes>"
      ]
     },
     "metadata": {
      "needs_background": "light"
     },
     "output_type": "display_data"
    },
    {
     "data": {
      "text/plain": [
       "<AxesSubplot:title={'center':'Silhouette Score Elbow for KMeans Clustering'}, xlabel='k', ylabel='silhouette score'>"
      ]
     },
     "execution_count": 289,
     "metadata": {},
     "output_type": "execute_result"
    }
   ],
   "source": [
    "kmean = KMeans(random_state=1)\n",
    "visualizer = KElbowVisualizer(kmean, \n",
    "                              k=(3,10),   \n",
    "                              locate_elbow=True, # Locate the elbow? Default is true.\n",
    "                              timings=False, # Plot the timings to train?\n",
    "                              metric = 'silhouette'\n",
    "                             )   \n",
    "\n",
    "visualizer.fit(norm_train)        \n",
    "visualizer.show()   "
   ]
  },
  {
   "cell_type": "markdown",
   "metadata": {},
   "source": [
    "## Try GMM"
   ]
  },
  {
   "cell_type": "code",
   "execution_count": 290,
   "metadata": {},
   "outputs": [],
   "source": [
    "def gauss_tune(data,min_clust, max_clust, seed=29):\n",
    "    \n",
    "    cluster_amounts = np.arange(min_clust, max_clust+1)\n",
    "    bics = []\n",
    "    clust_num = np.arange(1,len(cluster_amounts)-1)\n",
    "    \n",
    "    for i in cluster_amounts:\n",
    "        gmm = GaussianMixture(i, random_state=seed)\n",
    "        gmm.fit(data)\n",
    "        bic = gmm.bic(data)\n",
    "        bics.append(bic)\n",
    "    plt.plot(cluster_amounts, bics, 'k-o')\n",
    "    plt.xticks(np.arange(3,21))\n",
    "    plt.show()\n",
    "    \n",
    "    \n"
   ]
  },
  {
   "cell_type": "code",
   "execution_count": 142,
   "metadata": {},
   "outputs": [
    {
     "name": "stderr",
     "output_type": "stream",
     "text": [
      "c:\\Users\\rpand\\anaconda3\\envs\\nba_app_env\\lib\\site-packages\\sklearn\\cluster\\_kmeans.py:1332: UserWarning: KMeans is known to have a memory leak on Windows with MKL, when there are less chunks than available threads. You can avoid it by setting the environment variable OMP_NUM_THREADS=2.\n",
      "  warnings.warn(\n",
      "c:\\Users\\rpand\\anaconda3\\envs\\nba_app_env\\lib\\site-packages\\sklearn\\cluster\\_kmeans.py:1332: UserWarning: KMeans is known to have a memory leak on Windows with MKL, when there are less chunks than available threads. You can avoid it by setting the environment variable OMP_NUM_THREADS=2.\n",
      "  warnings.warn(\n",
      "c:\\Users\\rpand\\anaconda3\\envs\\nba_app_env\\lib\\site-packages\\sklearn\\cluster\\_kmeans.py:1332: UserWarning: KMeans is known to have a memory leak on Windows with MKL, when there are less chunks than available threads. You can avoid it by setting the environment variable OMP_NUM_THREADS=2.\n",
      "  warnings.warn(\n",
      "c:\\Users\\rpand\\anaconda3\\envs\\nba_app_env\\lib\\site-packages\\sklearn\\cluster\\_kmeans.py:1332: UserWarning: KMeans is known to have a memory leak on Windows with MKL, when there are less chunks than available threads. You can avoid it by setting the environment variable OMP_NUM_THREADS=2.\n",
      "  warnings.warn(\n",
      "c:\\Users\\rpand\\anaconda3\\envs\\nba_app_env\\lib\\site-packages\\sklearn\\cluster\\_kmeans.py:1332: UserWarning: KMeans is known to have a memory leak on Windows with MKL, when there are less chunks than available threads. You can avoid it by setting the environment variable OMP_NUM_THREADS=2.\n",
      "  warnings.warn(\n",
      "c:\\Users\\rpand\\anaconda3\\envs\\nba_app_env\\lib\\site-packages\\sklearn\\cluster\\_kmeans.py:1332: UserWarning: KMeans is known to have a memory leak on Windows with MKL, when there are less chunks than available threads. You can avoid it by setting the environment variable OMP_NUM_THREADS=2.\n",
      "  warnings.warn(\n",
      "c:\\Users\\rpand\\anaconda3\\envs\\nba_app_env\\lib\\site-packages\\sklearn\\cluster\\_kmeans.py:1332: UserWarning: KMeans is known to have a memory leak on Windows with MKL, when there are less chunks than available threads. You can avoid it by setting the environment variable OMP_NUM_THREADS=2.\n",
      "  warnings.warn(\n",
      "c:\\Users\\rpand\\anaconda3\\envs\\nba_app_env\\lib\\site-packages\\sklearn\\cluster\\_kmeans.py:1332: UserWarning: KMeans is known to have a memory leak on Windows with MKL, when there are less chunks than available threads. You can avoid it by setting the environment variable OMP_NUM_THREADS=2.\n",
      "  warnings.warn(\n",
      "c:\\Users\\rpand\\anaconda3\\envs\\nba_app_env\\lib\\site-packages\\sklearn\\cluster\\_kmeans.py:1332: UserWarning: KMeans is known to have a memory leak on Windows with MKL, when there are less chunks than available threads. You can avoid it by setting the environment variable OMP_NUM_THREADS=2.\n",
      "  warnings.warn(\n",
      "c:\\Users\\rpand\\anaconda3\\envs\\nba_app_env\\lib\\site-packages\\sklearn\\cluster\\_kmeans.py:1332: UserWarning: KMeans is known to have a memory leak on Windows with MKL, when there are less chunks than available threads. You can avoid it by setting the environment variable OMP_NUM_THREADS=2.\n",
      "  warnings.warn(\n",
      "c:\\Users\\rpand\\anaconda3\\envs\\nba_app_env\\lib\\site-packages\\sklearn\\cluster\\_kmeans.py:1332: UserWarning: KMeans is known to have a memory leak on Windows with MKL, when there are less chunks than available threads. You can avoid it by setting the environment variable OMP_NUM_THREADS=2.\n",
      "  warnings.warn(\n",
      "c:\\Users\\rpand\\anaconda3\\envs\\nba_app_env\\lib\\site-packages\\sklearn\\cluster\\_kmeans.py:1332: UserWarning: KMeans is known to have a memory leak on Windows with MKL, when there are less chunks than available threads. You can avoid it by setting the environment variable OMP_NUM_THREADS=2.\n",
      "  warnings.warn(\n",
      "c:\\Users\\rpand\\anaconda3\\envs\\nba_app_env\\lib\\site-packages\\sklearn\\cluster\\_kmeans.py:1332: UserWarning: KMeans is known to have a memory leak on Windows with MKL, when there are less chunks than available threads. You can avoid it by setting the environment variable OMP_NUM_THREADS=2.\n",
      "  warnings.warn(\n"
     ]
    },
    {
     "data": {
      "image/png": "[encoded data removed]",
      "text/plain": [
       "<Figure size 432x288 with 1 Axes>"
      ]
     },
     "metadata": {
      "needs_background": "light"
     },
     "output_type": "display_data"
    }
   ],
   "source": [
    "\n",
    "gauss_tune(norm_train, 3,15)"
   ]
  },
  {
   "cell_type": "code",
   "execution_count": 291,
   "metadata": {},
   "outputs": [
    {
     "name": "stderr",
     "output_type": "stream",
     "text": [
      "c:\\Users\\rpand\\anaconda3\\envs\\nba_app_env\\lib\\site-packages\\sklearn\\cluster\\_kmeans.py:1332: UserWarning:\n",
      "\n",
      "KMeans is known to have a memory leak on Windows with MKL, when there are less chunks than available threads. You can avoid it by setting the environment variable OMP_NUM_THREADS=2.\n",
      "\n"
     ]
    }
   ],
   "source": [
    "cluster_results = def_train.copy()\n",
    "gmm = GaussianMixture(5, random_state=29)\n",
    "kmeans5 = KMeans(5, random_state=2022)\n",
    "clusters = gmm.fit_predict(norm_train)\n",
    "cluster_results['Clusters'] = clusters"
   ]
  },
  {
   "cell_type": "code",
   "execution_count": 292,
   "metadata": {},
   "outputs": [],
   "source": [
    "\n",
    "cluster_groups = cluster_results.groupby(clusters).mean()\n",
    "cluster_groups.to_html('Cluster Data.html')"
   ]
  },
  {
   "cell_type": "code",
   "execution_count": 293,
   "metadata": {},
   "outputs": [
    {
     "data": {
      "text/html": [
       "<div>\n",
       "<style scoped>\n",
       "    .dataframe tbody tr th:only-of-type {\n",
       "        vertical-align: middle;\n",
       "    }\n",
       "\n",
       "    .dataframe tbody tr th {\n",
       "        vertical-align: top;\n",
       "    }\n",
       "\n",
       "    .dataframe thead th {\n",
       "        text-align: right;\n",
       "    }\n",
       "</style>\n",
       "<table border=\"1\" class=\"dataframe\">\n",
       "  <thead>\n",
       "    <tr style=\"text-align: right;\">\n",
       "      <th></th>\n",
       "      <th>DEF Handoff PPP</th>\n",
       "      <th>DEF Handoff FREQ</th>\n",
       "      <th>DEF Isolation PPP</th>\n",
       "      <th>DEF Isolation FREQ</th>\n",
       "      <th>DEF OffScreen PPP</th>\n",
       "      <th>DEF OffScreen FREQ</th>\n",
       "      <th>DEF Postup PPP</th>\n",
       "      <th>DEF Postup FREQ</th>\n",
       "      <th>DEF PRBallHandler PPP</th>\n",
       "      <th>DEF PRBallHandler FREQ</th>\n",
       "      <th>...</th>\n",
       "      <th>PLUSMINUS Less Than 6Ft</th>\n",
       "      <th>FREQ Less Than 10Ft</th>\n",
       "      <th>PLUSMINUS Less Than 10Ft</th>\n",
       "      <th>PCT_LOOSE_BALLS_RECOVERED_DEF</th>\n",
       "      <th>REB_CONTEST_PCT</th>\n",
       "      <th>AVG_REB_DIST</th>\n",
       "      <th>DIST_MILES_DEF</th>\n",
       "      <th>AVG_SPEED_DEF</th>\n",
       "      <th>DEFLECTIONS Per36</th>\n",
       "      <th>Clusters</th>\n",
       "    </tr>\n",
       "  </thead>\n",
       "  <tbody>\n",
       "    <tr>\n",
       "      <th>0</th>\n",
       "      <td>0.908192</td>\n",
       "      <td>0.085840</td>\n",
       "      <td>0.902840</td>\n",
       "      <td>0.074006</td>\n",
       "      <td>0.930936</td>\n",
       "      <td>0.065692</td>\n",
       "      <td>0.940083</td>\n",
       "      <td>0.049705</td>\n",
       "      <td>0.873737</td>\n",
       "      <td>0.304981</td>\n",
       "      <td>...</td>\n",
       "      <td>0.007026</td>\n",
       "      <td>0.442590</td>\n",
       "      <td>0.007891</td>\n",
       "      <td>0.528885</td>\n",
       "      <td>0.228141</td>\n",
       "      <td>8.321154</td>\n",
       "      <td>0.948333</td>\n",
       "      <td>3.856090</td>\n",
       "      <td>2.207427</td>\n",
       "      <td>0.0</td>\n",
       "    </tr>\n",
       "    <tr>\n",
       "      <th>1</th>\n",
       "      <td>0.231441</td>\n",
       "      <td>0.004941</td>\n",
       "      <td>0.958706</td>\n",
       "      <td>0.104176</td>\n",
       "      <td>0.492647</td>\n",
       "      <td>0.007941</td>\n",
       "      <td>0.960294</td>\n",
       "      <td>0.064441</td>\n",
       "      <td>0.592824</td>\n",
       "      <td>0.018912</td>\n",
       "      <td>...</td>\n",
       "      <td>-0.050412</td>\n",
       "      <td>0.516029</td>\n",
       "      <td>-0.040029</td>\n",
       "      <td>0.413059</td>\n",
       "      <td>0.445147</td>\n",
       "      <td>4.976471</td>\n",
       "      <td>0.810588</td>\n",
       "      <td>3.827647</td>\n",
       "      <td>2.008165</td>\n",
       "      <td>1.0</td>\n",
       "    </tr>\n",
       "    <tr>\n",
       "      <th>2</th>\n",
       "      <td>0.823816</td>\n",
       "      <td>0.078342</td>\n",
       "      <td>0.819592</td>\n",
       "      <td>0.068224</td>\n",
       "      <td>0.741579</td>\n",
       "      <td>0.055632</td>\n",
       "      <td>0.703447</td>\n",
       "      <td>0.043921</td>\n",
       "      <td>0.893329</td>\n",
       "      <td>0.297921</td>\n",
       "      <td>...</td>\n",
       "      <td>0.010053</td>\n",
       "      <td>0.459934</td>\n",
       "      <td>0.012105</td>\n",
       "      <td>0.528697</td>\n",
       "      <td>0.233658</td>\n",
       "      <td>8.426316</td>\n",
       "      <td>0.775526</td>\n",
       "      <td>3.873816</td>\n",
       "      <td>2.315977</td>\n",
       "      <td>2.0</td>\n",
       "    </tr>\n",
       "    <tr>\n",
       "      <th>3</th>\n",
       "      <td>0.049393</td>\n",
       "      <td>0.001250</td>\n",
       "      <td>0.947929</td>\n",
       "      <td>0.075964</td>\n",
       "      <td>0.024714</td>\n",
       "      <td>0.000500</td>\n",
       "      <td>0.883321</td>\n",
       "      <td>0.055536</td>\n",
       "      <td>0.000000</td>\n",
       "      <td>0.000714</td>\n",
       "      <td>...</td>\n",
       "      <td>-0.036107</td>\n",
       "      <td>0.486250</td>\n",
       "      <td>-0.027429</td>\n",
       "      <td>0.384893</td>\n",
       "      <td>0.461786</td>\n",
       "      <td>4.810714</td>\n",
       "      <td>0.652143</td>\n",
       "      <td>3.831786</td>\n",
       "      <td>1.780798</td>\n",
       "      <td>3.0</td>\n",
       "    </tr>\n",
       "    <tr>\n",
       "      <th>4</th>\n",
       "      <td>0.939969</td>\n",
       "      <td>0.046154</td>\n",
       "      <td>0.894200</td>\n",
       "      <td>0.114615</td>\n",
       "      <td>0.886200</td>\n",
       "      <td>0.040369</td>\n",
       "      <td>0.956262</td>\n",
       "      <td>0.058446</td>\n",
       "      <td>0.874154</td>\n",
       "      <td>0.124985</td>\n",
       "      <td>...</td>\n",
       "      <td>-0.042323</td>\n",
       "      <td>0.470708</td>\n",
       "      <td>-0.036215</td>\n",
       "      <td>0.495692</td>\n",
       "      <td>0.350846</td>\n",
       "      <td>5.772308</td>\n",
       "      <td>0.856308</td>\n",
       "      <td>3.831846</td>\n",
       "      <td>1.844435</td>\n",
       "      <td>4.0</td>\n",
       "    </tr>\n",
       "  </tbody>\n",
       "</table>\n",
       "<p>5 rows × 27 columns</p>\n",
       "</div>"
      ],
      "text/plain": [
       "   DEF Handoff PPP  DEF Handoff FREQ  DEF Isolation PPP  DEF Isolation FREQ  \\\n",
       "0         0.908192          0.085840           0.902840            0.074006   \n",
       "1         0.231441          0.004941           0.958706            0.104176   \n",
       "2         0.823816          0.078342           0.819592            0.068224   \n",
       "3         0.049393          0.001250           0.947929            0.075964   \n",
       "4         0.939969          0.046154           0.894200            0.114615   \n",
       "\n",
       "   DEF OffScreen PPP  DEF OffScreen FREQ  DEF Postup PPP  DEF Postup FREQ  \\\n",
       "0           0.930936            0.065692        0.940083         0.049705   \n",
       "1           0.492647            0.007941        0.960294         0.064441   \n",
       "2           0.741579            0.055632        0.703447         0.043921   \n",
       "3           0.024714            0.000500        0.883321         0.055536   \n",
       "4           0.886200            0.040369        0.956262         0.058446   \n",
       "\n",
       "   DEF PRBallHandler PPP  DEF PRBallHandler FREQ  ...  \\\n",
       "0               0.873737                0.304981  ...   \n",
       "1               0.592824                0.018912  ...   \n",
       "2               0.893329                0.297921  ...   \n",
       "3               0.000000                0.000714  ...   \n",
       "4               0.874154                0.124985  ...   \n",
       "\n",
       "   PLUSMINUS Less Than 6Ft  FREQ Less Than 10Ft  PLUSMINUS Less Than 10Ft  \\\n",
       "0                 0.007026             0.442590                  0.007891   \n",
       "1                -0.050412             0.516029                 -0.040029   \n",
       "2                 0.010053             0.459934                  0.012105   \n",
       "3                -0.036107             0.486250                 -0.027429   \n",
       "4                -0.042323             0.470708                 -0.036215   \n",
       "\n",
       "   PCT_LOOSE_BALLS_RECOVERED_DEF  REB_CONTEST_PCT  AVG_REB_DIST  \\\n",
       "0                       0.528885         0.228141      8.321154   \n",
       "1                       0.413059         0.445147      4.976471   \n",
       "2                       0.528697         0.233658      8.426316   \n",
       "3                       0.384893         0.461786      4.810714   \n",
       "4                       0.495692         0.350846      5.772308   \n",
       "\n",
       "   DIST_MILES_DEF  AVG_SPEED_DEF  DEFLECTIONS Per36  Clusters  \n",
       "0        0.948333       3.856090           2.207427       0.0  \n",
       "1        0.810588       3.827647           2.008165       1.0  \n",
       "2        0.775526       3.873816           2.315977       2.0  \n",
       "3        0.652143       3.831786           1.780798       3.0  \n",
       "4        0.856308       3.831846           1.844435       4.0  \n",
       "\n",
       "[5 rows x 27 columns]"
      ]
     },
     "execution_count": 293,
     "metadata": {},
     "output_type": "execute_result"
    }
   ],
   "source": [
    "cluster_groups"
   ]
  },
  {
   "cell_type": "code",
   "execution_count": 294,
   "metadata": {},
   "outputs": [],
   "source": [
    "def_ranks = pd.DataFrame()\n",
    "for i in cluster_groups.columns:\n",
    "    def_ranks[i + ' rank'] = cluster_groups[i].rank()\n",
    "\n",
    "def_ranks.to_html('def_ranks')"
   ]
  },
  {
   "cell_type": "code",
   "execution_count": 295,
   "metadata": {},
   "outputs": [
    {
     "data": {
      "text/plain": [
       "0    156\n",
       "2     76\n",
       "4     65\n",
       "1     34\n",
       "3     28\n",
       "Name: Cluster, dtype: int64"
      ]
     },
     "execution_count": 295,
     "metadata": {},
     "output_type": "execute_result"
    }
   ],
   "source": [
    "player_groups  = all_defence_clust[['PLAYER_NAME', 'Season']].copy()\n",
    "player_groups['Cluster'] = clusters\n",
    "player_groups_2021 = player_groups[player_groups['Season']=='2021-22']\n",
    "player_groups.Cluster.value_counts()"
   ]
  },
  {
   "cell_type": "code",
   "execution_count": 319,
   "metadata": {},
   "outputs": [
    {
     "data": {
      "text/html": [
       "<div>\n",
       "<style scoped>\n",
       "    .dataframe tbody tr th:only-of-type {\n",
       "        vertical-align: middle;\n",
       "    }\n",
       "\n",
       "    .dataframe tbody tr th {\n",
       "        vertical-align: top;\n",
       "    }\n",
       "\n",
       "    .dataframe thead th {\n",
       "        text-align: right;\n",
       "    }\n",
       "</style>\n",
       "<table border=\"1\" class=\"dataframe\">\n",
       "  <thead>\n",
       "    <tr style=\"text-align: right;\">\n",
       "      <th></th>\n",
       "      <th>PLAYER_NAME</th>\n",
       "      <th>Season</th>\n",
       "      <th>Cluster</th>\n",
       "    </tr>\n",
       "  </thead>\n",
       "  <tbody>\n",
       "    <tr>\n",
       "      <th>1277</th>\n",
       "      <td>Pascal Siakam</td>\n",
       "      <td>2021-22</td>\n",
       "      <td>4</td>\n",
       "    </tr>\n",
       "  </tbody>\n",
       "</table>\n",
       "</div>"
      ],
      "text/plain": [
       "        PLAYER_NAME   Season  Cluster\n",
       "1277  Pascal Siakam  2021-22        4"
      ]
     },
     "execution_count": 319,
     "metadata": {},
     "output_type": "execute_result"
    }
   ],
   "source": [
    "player_groups[player_groups['PLAYER_NAME']=='Pascal Siakam']"
   ]
  },
  {
   "cell_type": "code",
   "execution_count": 297,
   "metadata": {},
   "outputs": [
    {
     "data": {
      "text/html": [
       "<div>\n",
       "<style scoped>\n",
       "    .dataframe tbody tr th:only-of-type {\n",
       "        vertical-align: middle;\n",
       "    }\n",
       "\n",
       "    .dataframe tbody tr th {\n",
       "        vertical-align: top;\n",
       "    }\n",
       "\n",
       "    .dataframe thead th {\n",
       "        text-align: right;\n",
       "    }\n",
       "</style>\n",
       "<table border=\"1\" class=\"dataframe\">\n",
       "  <thead>\n",
       "    <tr style=\"text-align: right;\">\n",
       "      <th></th>\n",
       "      <th>PLAYER_NAME</th>\n",
       "      <th>Season</th>\n",
       "      <th>Cluster</th>\n",
       "    </tr>\n",
       "  </thead>\n",
       "  <tbody>\n",
       "    <tr>\n",
       "      <th>1032</th>\n",
       "      <td>Daniel Gafford</td>\n",
       "      <td>2021-22</td>\n",
       "      <td>3</td>\n",
       "    </tr>\n",
       "    <tr>\n",
       "      <th>1037</th>\n",
       "      <td>Onyeka Okongwu</td>\n",
       "      <td>2021-22</td>\n",
       "      <td>3</td>\n",
       "    </tr>\n",
       "    <tr>\n",
       "      <th>1141</th>\n",
       "      <td>Jalen Smith</td>\n",
       "      <td>2021-22</td>\n",
       "      <td>3</td>\n",
       "    </tr>\n",
       "    <tr>\n",
       "      <th>1682</th>\n",
       "      <td>Olivier Sarr</td>\n",
       "      <td>2021-22</td>\n",
       "      <td>3</td>\n",
       "    </tr>\n",
       "    <tr>\n",
       "      <th>1693</th>\n",
       "      <td>Derrick Favors</td>\n",
       "      <td>2021-22</td>\n",
       "      <td>3</td>\n",
       "    </tr>\n",
       "    <tr>\n",
       "      <th>1699</th>\n",
       "      <td>Robin Lopez</td>\n",
       "      <td>2021-22</td>\n",
       "      <td>3</td>\n",
       "    </tr>\n",
       "    <tr>\n",
       "      <th>1706</th>\n",
       "      <td>Alex Len</td>\n",
       "      <td>2021-22</td>\n",
       "      <td>3</td>\n",
       "    </tr>\n",
       "    <tr>\n",
       "      <th>1712</th>\n",
       "      <td>Dewayne Dedmon</td>\n",
       "      <td>2021-22</td>\n",
       "      <td>3</td>\n",
       "    </tr>\n",
       "    <tr>\n",
       "      <th>1717</th>\n",
       "      <td>Thomas Bryant</td>\n",
       "      <td>2021-22</td>\n",
       "      <td>3</td>\n",
       "    </tr>\n",
       "    <tr>\n",
       "      <th>1722</th>\n",
       "      <td>Tristan Thompson</td>\n",
       "      <td>2021-22</td>\n",
       "      <td>3</td>\n",
       "    </tr>\n",
       "    <tr>\n",
       "      <th>1723</th>\n",
       "      <td>Tristan Thompson</td>\n",
       "      <td>2021-22</td>\n",
       "      <td>3</td>\n",
       "    </tr>\n",
       "    <tr>\n",
       "      <th>1731</th>\n",
       "      <td>Zach Collins</td>\n",
       "      <td>2021-22</td>\n",
       "      <td>3</td>\n",
       "    </tr>\n",
       "    <tr>\n",
       "      <th>1733</th>\n",
       "      <td>Serge Ibaka</td>\n",
       "      <td>2021-22</td>\n",
       "      <td>3</td>\n",
       "    </tr>\n",
       "    <tr>\n",
       "      <th>1735</th>\n",
       "      <td>JaVale McGee</td>\n",
       "      <td>2021-22</td>\n",
       "      <td>3</td>\n",
       "    </tr>\n",
       "    <tr>\n",
       "      <th>1738</th>\n",
       "      <td>Andre Drummond</td>\n",
       "      <td>2021-22</td>\n",
       "      <td>3</td>\n",
       "    </tr>\n",
       "    <tr>\n",
       "      <th>1739</th>\n",
       "      <td>Andre Drummond</td>\n",
       "      <td>2021-22</td>\n",
       "      <td>3</td>\n",
       "    </tr>\n",
       "    <tr>\n",
       "      <th>1740</th>\n",
       "      <td>Montrezl Harrell</td>\n",
       "      <td>2021-22</td>\n",
       "      <td>3</td>\n",
       "    </tr>\n",
       "    <tr>\n",
       "      <th>1741</th>\n",
       "      <td>Montrezl Harrell</td>\n",
       "      <td>2021-22</td>\n",
       "      <td>3</td>\n",
       "    </tr>\n",
       "    <tr>\n",
       "      <th>1744</th>\n",
       "      <td>Taj Gibson</td>\n",
       "      <td>2021-22</td>\n",
       "      <td>3</td>\n",
       "    </tr>\n",
       "    <tr>\n",
       "      <th>1751</th>\n",
       "      <td>Drew Eubanks</td>\n",
       "      <td>2021-22</td>\n",
       "      <td>3</td>\n",
       "    </tr>\n",
       "    <tr>\n",
       "      <th>1753</th>\n",
       "      <td>Willy Hernangomez</td>\n",
       "      <td>2021-22</td>\n",
       "      <td>3</td>\n",
       "    </tr>\n",
       "    <tr>\n",
       "      <th>1754</th>\n",
       "      <td>Jusuf Nurkic</td>\n",
       "      <td>2021-22</td>\n",
       "      <td>3</td>\n",
       "    </tr>\n",
       "    <tr>\n",
       "      <th>1758</th>\n",
       "      <td>Hassan Whiteside</td>\n",
       "      <td>2021-22</td>\n",
       "      <td>3</td>\n",
       "    </tr>\n",
       "    <tr>\n",
       "      <th>1760</th>\n",
       "      <td>Khem Birch</td>\n",
       "      <td>2021-22</td>\n",
       "      <td>3</td>\n",
       "    </tr>\n",
       "    <tr>\n",
       "      <th>1762</th>\n",
       "      <td>Dwight Howard</td>\n",
       "      <td>2021-22</td>\n",
       "      <td>3</td>\n",
       "    </tr>\n",
       "    <tr>\n",
       "      <th>1768</th>\n",
       "      <td>Deandre Ayton</td>\n",
       "      <td>2021-22</td>\n",
       "      <td>3</td>\n",
       "    </tr>\n",
       "    <tr>\n",
       "      <th>1769</th>\n",
       "      <td>LaMarcus Aldridge</td>\n",
       "      <td>2021-22</td>\n",
       "      <td>3</td>\n",
       "    </tr>\n",
       "    <tr>\n",
       "      <th>1770</th>\n",
       "      <td>Nikola Jokic</td>\n",
       "      <td>2021-22</td>\n",
       "      <td>3</td>\n",
       "    </tr>\n",
       "  </tbody>\n",
       "</table>\n",
       "</div>"
      ],
      "text/plain": [
       "            PLAYER_NAME   Season  Cluster\n",
       "1032     Daniel Gafford  2021-22        3\n",
       "1037     Onyeka Okongwu  2021-22        3\n",
       "1141        Jalen Smith  2021-22        3\n",
       "1682       Olivier Sarr  2021-22        3\n",
       "1693     Derrick Favors  2021-22        3\n",
       "1699        Robin Lopez  2021-22        3\n",
       "1706           Alex Len  2021-22        3\n",
       "1712     Dewayne Dedmon  2021-22        3\n",
       "1717      Thomas Bryant  2021-22        3\n",
       "1722   Tristan Thompson  2021-22        3\n",
       "1723   Tristan Thompson  2021-22        3\n",
       "1731       Zach Collins  2021-22        3\n",
       "1733        Serge Ibaka  2021-22        3\n",
       "1735       JaVale McGee  2021-22        3\n",
       "1738     Andre Drummond  2021-22        3\n",
       "1739     Andre Drummond  2021-22        3\n",
       "1740   Montrezl Harrell  2021-22        3\n",
       "1741   Montrezl Harrell  2021-22        3\n",
       "1744         Taj Gibson  2021-22        3\n",
       "1751       Drew Eubanks  2021-22        3\n",
       "1753  Willy Hernangomez  2021-22        3\n",
       "1754       Jusuf Nurkic  2021-22        3\n",
       "1758   Hassan Whiteside  2021-22        3\n",
       "1760         Khem Birch  2021-22        3\n",
       "1762      Dwight Howard  2021-22        3\n",
       "1768      Deandre Ayton  2021-22        3\n",
       "1769  LaMarcus Aldridge  2021-22        3\n",
       "1770       Nikola Jokic  2021-22        3"
      ]
     },
     "execution_count": 297,
     "metadata": {},
     "output_type": "execute_result"
    }
   ],
   "source": [
    "player_groups[player_groups['Cluster']==3]"
   ]
  },
  {
   "cell_type": "markdown",
   "metadata": {},
   "source": [
    "## Analyze the Large Cluster 0"
   ]
  },
  {
   "cell_type": "code",
   "execution_count": 298,
   "metadata": {},
   "outputs": [],
   "source": [
    "full_results = all_defence_clust.copy()\n",
    "full_results['Cluster'] = clusters"
   ]
  },
  {
   "cell_type": "code",
   "execution_count": 299,
   "metadata": {},
   "outputs": [
    {
     "data": {
      "text/plain": [
       "0    156\n",
       "2     76\n",
       "4     65\n",
       "1     34\n",
       "3     28\n",
       "Name: Cluster, dtype: int64"
      ]
     },
     "execution_count": 299,
     "metadata": {},
     "output_type": "execute_result"
    }
   ],
   "source": [
    "full_results.Cluster.value_counts()"
   ]
  },
  {
   "cell_type": "code",
   "execution_count": 300,
   "metadata": {},
   "outputs": [],
   "source": [
    "clust_0 =  cluster_results[cluster_results['Clusters']==0].copy().drop('Clusters', axis='columns')\n",
    "player_0 = player_groups[player_groups['Cluster']==0].copy()"
   ]
  },
  {
   "cell_type": "code",
   "execution_count": null,
   "metadata": {},
   "outputs": [],
   "source": [
    "\n",
    "    "
   ]
  },
  {
   "cell_type": "code",
   "execution_count": 301,
   "metadata": {},
   "outputs": [],
   "source": [
    "pc2 = PCA(2)\n",
    "clust0_pc = pd.DataFrame(pc2.fit_transform(clust_0), columns = ['Component 1', 'Component 2'])\n"
   ]
  },
  {
   "cell_type": "code",
   "execution_count": 302,
   "metadata": {},
   "outputs": [
    {
     "name": "stdout",
     "output_type": "stream",
     "text": [
      "Variance Explained by these two components is: 0.8627347460298093\n"
     ]
    },
    {
     "data": {
      "text/html": [
       "<div>\n",
       "<style scoped>\n",
       "    .dataframe tbody tr th:only-of-type {\n",
       "        vertical-align: middle;\n",
       "    }\n",
       "\n",
       "    .dataframe tbody tr th {\n",
       "        vertical-align: top;\n",
       "    }\n",
       "\n",
       "    .dataframe thead th {\n",
       "        text-align: right;\n",
       "    }\n",
       "</style>\n",
       "<table border=\"1\" class=\"dataframe\">\n",
       "  <thead>\n",
       "    <tr style=\"text-align: right;\">\n",
       "      <th></th>\n",
       "      <th>Component 1</th>\n",
       "      <th>Component 2</th>\n",
       "    </tr>\n",
       "  </thead>\n",
       "  <tbody>\n",
       "    <tr>\n",
       "      <th>AVG_REB_DIST</th>\n",
       "      <td>-0.998018</td>\n",
       "      <td>0.005509</td>\n",
       "    </tr>\n",
       "    <tr>\n",
       "      <th>DEF PRBallHandler FREQ</th>\n",
       "      <td>-0.020605</td>\n",
       "      <td>0.028112</td>\n",
       "    </tr>\n",
       "    <tr>\n",
       "      <th>PCT_LOOSE_BALLS_RECOVERED_DEF</th>\n",
       "      <td>-0.010973</td>\n",
       "      <td>0.034416</td>\n",
       "    </tr>\n",
       "    <tr>\n",
       "      <th>PLUSMINUS Less Than 6Ft</th>\n",
       "      <td>-0.007949</td>\n",
       "      <td>-0.000542</td>\n",
       "    </tr>\n",
       "    <tr>\n",
       "      <th>PLUSMINUS Less Than 10Ft</th>\n",
       "      <td>-0.005377</td>\n",
       "      <td>-0.000604</td>\n",
       "    </tr>\n",
       "    <tr>\n",
       "      <th>FREQ 3 Pointers</th>\n",
       "      <td>-0.004166</td>\n",
       "      <td>-0.002764</td>\n",
       "    </tr>\n",
       "    <tr>\n",
       "      <th>DEF Handoff PPP</th>\n",
       "      <td>-0.001791</td>\n",
       "      <td>-0.017722</td>\n",
       "    </tr>\n",
       "    <tr>\n",
       "      <th>DEF Handoff FREQ</th>\n",
       "      <td>-0.001122</td>\n",
       "      <td>-0.001950</td>\n",
       "    </tr>\n",
       "    <tr>\n",
       "      <th>DEF PRRollman FREQ</th>\n",
       "      <td>-0.000791</td>\n",
       "      <td>-0.000995</td>\n",
       "    </tr>\n",
       "    <tr>\n",
       "      <th>DEF Postup FREQ</th>\n",
       "      <td>0.001092</td>\n",
       "      <td>0.000746</td>\n",
       "    </tr>\n",
       "    <tr>\n",
       "      <th>DEF OffScreen FREQ</th>\n",
       "      <td>0.001160</td>\n",
       "      <td>0.000355</td>\n",
       "    </tr>\n",
       "    <tr>\n",
       "      <th>DEF PRBallHandler PPP</th>\n",
       "      <td>0.001198</td>\n",
       "      <td>-0.013271</td>\n",
       "    </tr>\n",
       "    <tr>\n",
       "      <th>PLUSMINUS 3 Pointers</th>\n",
       "      <td>0.002952</td>\n",
       "      <td>-0.005713</td>\n",
       "    </tr>\n",
       "    <tr>\n",
       "      <th>DEFLECTIONS Per36</th>\n",
       "      <td>0.004683</td>\n",
       "      <td>0.992870</td>\n",
       "    </tr>\n",
       "    <tr>\n",
       "      <th>DEF Isolation FREQ</th>\n",
       "      <td>0.004779</td>\n",
       "      <td>-0.005006</td>\n",
       "    </tr>\n",
       "    <tr>\n",
       "      <th>DEF OffScreen PPP</th>\n",
       "      <td>0.005573</td>\n",
       "      <td>-0.036072</td>\n",
       "    </tr>\n",
       "    <tr>\n",
       "      <th>DEF Postup PPP</th>\n",
       "      <td>0.006131</td>\n",
       "      <td>0.004553</td>\n",
       "    </tr>\n",
       "    <tr>\n",
       "      <th>FREQ Less Than 10Ft</th>\n",
       "      <td>0.007513</td>\n",
       "      <td>0.004006</td>\n",
       "    </tr>\n",
       "    <tr>\n",
       "      <th>DEF Spotup FREQ</th>\n",
       "      <td>0.008465</td>\n",
       "      <td>-0.011560</td>\n",
       "    </tr>\n",
       "    <tr>\n",
       "      <th>FREQ Less Than 6Ft</th>\n",
       "      <td>0.009722</td>\n",
       "      <td>0.005962</td>\n",
       "    </tr>\n",
       "    <tr>\n",
       "      <th>DEF Spotup PPP</th>\n",
       "      <td>0.010614</td>\n",
       "      <td>-0.022065</td>\n",
       "    </tr>\n",
       "    <tr>\n",
       "      <th>AVG_SPEED_DEF</th>\n",
       "      <td>0.013685</td>\n",
       "      <td>0.071020</td>\n",
       "    </tr>\n",
       "    <tr>\n",
       "      <th>DEF Isolation PPP</th>\n",
       "      <td>0.014463</td>\n",
       "      <td>-0.025062</td>\n",
       "    </tr>\n",
       "    <tr>\n",
       "      <th>DIST_MILES_DEF</th>\n",
       "      <td>0.014580</td>\n",
       "      <td>-0.037984</td>\n",
       "    </tr>\n",
       "    <tr>\n",
       "      <th>REB_CONTEST_PCT</th>\n",
       "      <td>0.031035</td>\n",
       "      <td>0.014623</td>\n",
       "    </tr>\n",
       "    <tr>\n",
       "      <th>DEF PRRollman PPP</th>\n",
       "      <td>0.035587</td>\n",
       "      <td>0.048166</td>\n",
       "    </tr>\n",
       "  </tbody>\n",
       "</table>\n",
       "</div>"
      ],
      "text/plain": [
       "                               Component 1  Component 2\n",
       "AVG_REB_DIST                     -0.998018     0.005509\n",
       "DEF PRBallHandler FREQ           -0.020605     0.028112\n",
       "PCT_LOOSE_BALLS_RECOVERED_DEF    -0.010973     0.034416\n",
       "PLUSMINUS Less Than 6Ft          -0.007949    -0.000542\n",
       "PLUSMINUS Less Than 10Ft         -0.005377    -0.000604\n",
       "FREQ 3 Pointers                  -0.004166    -0.002764\n",
       "DEF Handoff PPP                  -0.001791    -0.017722\n",
       "DEF Handoff FREQ                 -0.001122    -0.001950\n",
       "DEF PRRollman FREQ               -0.000791    -0.000995\n",
       "DEF Postup FREQ                   0.001092     0.000746\n",
       "DEF OffScreen FREQ                0.001160     0.000355\n",
       "DEF PRBallHandler PPP             0.001198    -0.013271\n",
       "PLUSMINUS 3 Pointers              0.002952    -0.005713\n",
       "DEFLECTIONS Per36                 0.004683     0.992870\n",
       "DEF Isolation FREQ                0.004779    -0.005006\n",
       "DEF OffScreen PPP                 0.005573    -0.036072\n",
       "DEF Postup PPP                    0.006131     0.004553\n",
       "FREQ Less Than 10Ft               0.007513     0.004006\n",
       "DEF Spotup FREQ                   0.008465    -0.011560\n",
       "FREQ Less Than 6Ft                0.009722     0.005962\n",
       "DEF Spotup PPP                    0.010614    -0.022065\n",
       "AVG_SPEED_DEF                     0.013685     0.071020\n",
       "DEF Isolation PPP                 0.014463    -0.025062\n",
       "DIST_MILES_DEF                    0.014580    -0.037984\n",
       "REB_CONTEST_PCT                   0.031035     0.014623\n",
       "DEF PRRollman PPP                 0.035587     0.048166"
      ]
     },
     "execution_count": 302,
     "metadata": {},
     "output_type": "execute_result"
    }
   ],
   "source": [
    "\n",
    "\n",
    "print(f'Variance Explained by these two components is: {pc2.explained_variance_ratio_.sum()}')\n",
    "np.transpose(pd.DataFrame(pc2.components_, columns= clust_0.columns, index = ['Component 1', 'Component 2'])).sort_values('Component 1')"
   ]
  },
  {
   "cell_type": "code",
   "execution_count": 303,
   "metadata": {},
   "outputs": [
    {
     "data": {
      "text/html": [
       "<div>\n",
       "<style scoped>\n",
       "    .dataframe tbody tr th:only-of-type {\n",
       "        vertical-align: middle;\n",
       "    }\n",
       "\n",
       "    .dataframe tbody tr th {\n",
       "        vertical-align: top;\n",
       "    }\n",
       "\n",
       "    .dataframe thead th {\n",
       "        text-align: right;\n",
       "    }\n",
       "</style>\n",
       "<table border=\"1\" class=\"dataframe\">\n",
       "  <thead>\n",
       "    <tr style=\"text-align: right;\">\n",
       "      <th></th>\n",
       "      <th>Component 1</th>\n",
       "      <th>Component 2</th>\n",
       "    </tr>\n",
       "  </thead>\n",
       "  <tbody>\n",
       "    <tr>\n",
       "      <th>DIST_MILES_DEF</th>\n",
       "      <td>0.014580</td>\n",
       "      <td>-0.037984</td>\n",
       "    </tr>\n",
       "    <tr>\n",
       "      <th>DEF OffScreen PPP</th>\n",
       "      <td>0.005573</td>\n",
       "      <td>-0.036072</td>\n",
       "    </tr>\n",
       "    <tr>\n",
       "      <th>DEF Isolation PPP</th>\n",
       "      <td>0.014463</td>\n",
       "      <td>-0.025062</td>\n",
       "    </tr>\n",
       "    <tr>\n",
       "      <th>DEF Spotup PPP</th>\n",
       "      <td>0.010614</td>\n",
       "      <td>-0.022065</td>\n",
       "    </tr>\n",
       "    <tr>\n",
       "      <th>DEF Handoff PPP</th>\n",
       "      <td>-0.001791</td>\n",
       "      <td>-0.017722</td>\n",
       "    </tr>\n",
       "    <tr>\n",
       "      <th>DEF PRBallHandler PPP</th>\n",
       "      <td>0.001198</td>\n",
       "      <td>-0.013271</td>\n",
       "    </tr>\n",
       "    <tr>\n",
       "      <th>DEF Spotup FREQ</th>\n",
       "      <td>0.008465</td>\n",
       "      <td>-0.011560</td>\n",
       "    </tr>\n",
       "    <tr>\n",
       "      <th>PLUSMINUS 3 Pointers</th>\n",
       "      <td>0.002952</td>\n",
       "      <td>-0.005713</td>\n",
       "    </tr>\n",
       "    <tr>\n",
       "      <th>DEF Isolation FREQ</th>\n",
       "      <td>0.004779</td>\n",
       "      <td>-0.005006</td>\n",
       "    </tr>\n",
       "    <tr>\n",
       "      <th>FREQ 3 Pointers</th>\n",
       "      <td>-0.004166</td>\n",
       "      <td>-0.002764</td>\n",
       "    </tr>\n",
       "    <tr>\n",
       "      <th>DEF Handoff FREQ</th>\n",
       "      <td>-0.001122</td>\n",
       "      <td>-0.001950</td>\n",
       "    </tr>\n",
       "    <tr>\n",
       "      <th>DEF PRRollman FREQ</th>\n",
       "      <td>-0.000791</td>\n",
       "      <td>-0.000995</td>\n",
       "    </tr>\n",
       "    <tr>\n",
       "      <th>PLUSMINUS Less Than 10Ft</th>\n",
       "      <td>-0.005377</td>\n",
       "      <td>-0.000604</td>\n",
       "    </tr>\n",
       "    <tr>\n",
       "      <th>PLUSMINUS Less Than 6Ft</th>\n",
       "      <td>-0.007949</td>\n",
       "      <td>-0.000542</td>\n",
       "    </tr>\n",
       "    <tr>\n",
       "      <th>DEF OffScreen FREQ</th>\n",
       "      <td>0.001160</td>\n",
       "      <td>0.000355</td>\n",
       "    </tr>\n",
       "    <tr>\n",
       "      <th>DEF Postup FREQ</th>\n",
       "      <td>0.001092</td>\n",
       "      <td>0.000746</td>\n",
       "    </tr>\n",
       "    <tr>\n",
       "      <th>FREQ Less Than 10Ft</th>\n",
       "      <td>0.007513</td>\n",
       "      <td>0.004006</td>\n",
       "    </tr>\n",
       "    <tr>\n",
       "      <th>DEF Postup PPP</th>\n",
       "      <td>0.006131</td>\n",
       "      <td>0.004553</td>\n",
       "    </tr>\n",
       "    <tr>\n",
       "      <th>AVG_REB_DIST</th>\n",
       "      <td>-0.998018</td>\n",
       "      <td>0.005509</td>\n",
       "    </tr>\n",
       "    <tr>\n",
       "      <th>FREQ Less Than 6Ft</th>\n",
       "      <td>0.009722</td>\n",
       "      <td>0.005962</td>\n",
       "    </tr>\n",
       "    <tr>\n",
       "      <th>REB_CONTEST_PCT</th>\n",
       "      <td>0.031035</td>\n",
       "      <td>0.014623</td>\n",
       "    </tr>\n",
       "    <tr>\n",
       "      <th>DEF PRBallHandler FREQ</th>\n",
       "      <td>-0.020605</td>\n",
       "      <td>0.028112</td>\n",
       "    </tr>\n",
       "    <tr>\n",
       "      <th>PCT_LOOSE_BALLS_RECOVERED_DEF</th>\n",
       "      <td>-0.010973</td>\n",
       "      <td>0.034416</td>\n",
       "    </tr>\n",
       "    <tr>\n",
       "      <th>DEF PRRollman PPP</th>\n",
       "      <td>0.035587</td>\n",
       "      <td>0.048166</td>\n",
       "    </tr>\n",
       "    <tr>\n",
       "      <th>AVG_SPEED_DEF</th>\n",
       "      <td>0.013685</td>\n",
       "      <td>0.071020</td>\n",
       "    </tr>\n",
       "    <tr>\n",
       "      <th>DEFLECTIONS Per36</th>\n",
       "      <td>0.004683</td>\n",
       "      <td>0.992870</td>\n",
       "    </tr>\n",
       "  </tbody>\n",
       "</table>\n",
       "</div>"
      ],
      "text/plain": [
       "                               Component 1  Component 2\n",
       "DIST_MILES_DEF                    0.014580    -0.037984\n",
       "DEF OffScreen PPP                 0.005573    -0.036072\n",
       "DEF Isolation PPP                 0.014463    -0.025062\n",
       "DEF Spotup PPP                    0.010614    -0.022065\n",
       "DEF Handoff PPP                  -0.001791    -0.017722\n",
       "DEF PRBallHandler PPP             0.001198    -0.013271\n",
       "DEF Spotup FREQ                   0.008465    -0.011560\n",
       "PLUSMINUS 3 Pointers              0.002952    -0.005713\n",
       "DEF Isolation FREQ                0.004779    -0.005006\n",
       "FREQ 3 Pointers                  -0.004166    -0.002764\n",
       "DEF Handoff FREQ                 -0.001122    -0.001950\n",
       "DEF PRRollman FREQ               -0.000791    -0.000995\n",
       "PLUSMINUS Less Than 10Ft         -0.005377    -0.000604\n",
       "PLUSMINUS Less Than 6Ft          -0.007949    -0.000542\n",
       "DEF OffScreen FREQ                0.001160     0.000355\n",
       "DEF Postup FREQ                   0.001092     0.000746\n",
       "FREQ Less Than 10Ft               0.007513     0.004006\n",
       "DEF Postup PPP                    0.006131     0.004553\n",
       "AVG_REB_DIST                     -0.998018     0.005509\n",
       "FREQ Less Than 6Ft                0.009722     0.005962\n",
       "REB_CONTEST_PCT                   0.031035     0.014623\n",
       "DEF PRBallHandler FREQ           -0.020605     0.028112\n",
       "PCT_LOOSE_BALLS_RECOVERED_DEF    -0.010973     0.034416\n",
       "DEF PRRollman PPP                 0.035587     0.048166\n",
       "AVG_SPEED_DEF                     0.013685     0.071020\n",
       "DEFLECTIONS Per36                 0.004683     0.992870"
      ]
     },
     "execution_count": 303,
     "metadata": {},
     "output_type": "execute_result"
    }
   ],
   "source": [
    "np.transpose(pd.DataFrame(pc2.components_, columns= clust_0.columns, index = ['Component 1', 'Component 2'])).sort_values('Component 2')"
   ]
  },
  {
   "cell_type": "code",
   "execution_count": 304,
   "metadata": {},
   "outputs": [
    {
     "data": {
      "application/vnd.plotly.v1+json": {
       "config": {
        "plotlyServerURL": "https://plot.ly"
       },
       "data": [
        {
         "customdata": [
          "Justin Holiday",
          "Aaron Holiday",
          "Tyrese Haliburton",
          "Gabe Vincent",
          "James Harden",
          "Josh Green",
          "Caris LeVert",
          "Tony Snell",
          "Max Strus",
          "Seth Curry",
          "Taurean Prince",
          "Gordon Hayward",
          "Tre Jones",
          "Buddy Hield",
          "Alex Caruso",
          "Stephen Curry",
          "Derrick White",
          "Jordan Nwora",
          "Caleb Martin",
          "Nickeil Alexander-Walker",
          "Wayne Ellington",
          "CJ McCollum",
          "Bones Hyland",
          "Kemba Walker",
          "John Konchar",
          "Kelly Oubre Jr.",
          "Tyler Herro",
          "Lance Stephenson",
          "Cody Martin",
          "Eric Gordon",
          "Shake Milton",
          "Jerami Grant",
          "Oshae Brissett",
          "George Hill",
          "Kyle Lowry",
          "Maurice Harkless",
          "OG Anunoby",
          "Facundo Campazzo",
          "Garrett Temple",
          "Wesley Matthews",
          "Delon Wright",
          "Furkan Korkmaz",
          "Josh Christopher",
          "Nicolas Batum",
          "Killian Hayes",
          "Tre Mann",
          "Gary Payton II",
          "CJ Elleby",
          "Josh Hart",
          "Amir Coffey",
          "R.J. Hampton",
          "LaMelo Ball",
          "Dennis Schroder",
          "Fred VanVleet",
          "Doug McDermott",
          "Cam Reddish",
          "Anfernee Simons",
          "Duncan Robinson",
          "Jae Crowder",
          "Tyus Jones",
          "Jae'Sean Tate",
          "Ziaire Williams",
          "Patrick Beverley",
          "Norman Powell",
          "Cameron Johnson",
          "Malcolm Brogdon",
          "Eric Bledsoe",
          "Kevin Durant",
          "Marcus Morris Sr.",
          "Kevin Porter Jr.",
          "Immanuel Quickley",
          "Joshua Primo",
          "Ja Morant",
          "Will Barton",
          "Malik Monk",
          "Saddiq Bey",
          "P.J. Tucker",
          "Jarred Vanderbilt",
          "Dillon Brooks",
          "Harrison Barnes",
          "Jalen Suggs",
          "Malik Beasley",
          "D'Angelo Russell",
          "Bradley Beal",
          "Danny Green",
          "Mike Conley",
          "Anthony Edwards",
          "Darius Garland",
          "Tim Hardaway Jr.",
          "Jalen Green",
          "Jalen Brunson",
          "Isaac Okoro",
          "Bogdan Bogdanovic",
          "Cory Joseph",
          "Dorian Finney-Smith",
          "De'Andre Hunter",
          "Austin Rivers",
          "Troy Brown Jr.",
          "Terry Rozier",
          "Luguentz Dort",
          "Reggie Jackson",
          "Coby White",
          "Alec Burks",
          "Miles Bridges",
          "Evan Fournier",
          "Bruce Brown",
          "Talen Horton-Tucker",
          "Raul Neto",
          "Pat Connaughton",
          "Gary Trent Jr.",
          "Avery Bradley",
          "Bojan Bogdanovic",
          "Monte Morris",
          "Austin Reaves",
          "Patty Mills",
          "Franz Wagner",
          "Reggie Bullock",
          "Ayo Dosunmu",
          "Chris Paul",
          "De'Anthony Melton",
          "Jayson Tatum",
          "Dejounte Murray",
          "Zach LaVine",
          "Devonte' Graham",
          "Cole Anthony",
          "Desmond Bane",
          "Matisse Thybulle",
          "Corey Kispert",
          "DeMar DeRozan",
          "Jimmy Butler",
          "RJ Barrett",
          "Devin Booker",
          "De'Aaron Fox",
          "Andrew Wiggins",
          "Herbert Jones",
          "Aaron Gordon",
          "Javonte Green",
          "Jrue Holiday",
          "Kentavious Caldwell-Pope",
          "Kevin Huerter",
          "Grayson Allen",
          "Davion Mitchell",
          "Jaylen Brown",
          "Keldon Johnson",
          "Marcus Smart",
          "Terance Mann",
          "Tyrese Maxey",
          "Khris Middleton",
          "Gary Harris",
          "Mikal Bridges",
          "Russell Westbrook",
          "Trae Young",
          "Donovan Mitchell",
          "Jordan Poole",
          "Jordan Clarkson",
          "Royce O'Neale"
         ],
         "hoverinfo": "skip",
         "hovertemplate": "Player: %{customdata}<br><extra></extra>",
         "marker": {
          "color": "black"
         },
         "mode": "markers",
         "name": "Cluster 0",
         "type": "scatter",
         "x": [
          -1.1765475466722826,
          -2.3925057581942983,
          -1.1429542563497643,
          -2.3068695604882263,
          1.2151542153988195,
          -0.5667709502845363,
          0.24259977721214807,
          0.10986950753050624,
          0.23790288300420642,
          -2.1876225206820585,
          -0.28913195049719936,
          0.4128410467041141,
          -0.7693837141210842,
          0.23970565574220196,
          -0.4699795761135083,
          0.626170009923659,
          -0.8848043676347661,
          1.2121199022317337,
          0.8181505188337664,
          1.427768751576785,
          -0.7445422091303796,
          -2.0780580715603443,
          0.628593414429387,
          -1.6892797109026558,
          1.335587809530808,
          1.0337801981892691,
          0.2255652064957065,
          0.8753155702218879,
          0.13023402715915636,
          -2.616936639060286,
          -0.6191838251797759,
          -0.059503916986578385,
          2.4393161425731247,
          -0.49435435094011687,
          0.29970229201643495,
          1.2289102864287054,
          0.9178768237657201,
          -2.974660798608799,
          -1.098967001193318,
          -1.590372922483166,
          0.6061299996606141,
          -1.6892682137091781,
          0.8443568256513061,
          2.025714192338953,
          -0.3669662232811542,
          0.008291161474850506,
          2.3353461969827713,
          1.4476749505193531,
          1.6402769580793244,
          -0.398116365728966,
          -0.366311431176193,
          0.2534302151871679,
          -2.0905481973904156,
          -1.7577696020038542,
          0.826978203156712,
          -1.6561259556765602,
          -0.661982310364245,
          -0.7921185730807897,
          2.1256586082080227,
          -0.8984146380981043,
          1.5312062381969416,
          -1.203754311106866,
          -0.5850576666767408,
          -1.281617147571633,
          0.5115741002399029,
          -0.002682283315758547,
          -1.0874729798346876,
          1.0330412901031523,
          0.5978514042956009,
          1.0243766860571029,
          -0.27933093280380633,
          0.22222160998414509,
          0.1176899743876971,
          2.220356157826136,
          1.2266812750712919,
          0.8028024609247116,
          1.7281914711423725,
          3.3408290077638236,
          -0.6504262645051252,
          1.3175062618410365,
          1.1152869294956214,
          -1.1790013930275154,
          -0.975047550459492,
          0.4082472710815547,
          0.04645895128579566,
          -1.8932321119791413,
          0.4113283511401612,
          -2.757559724117717,
          0.3221866613624187,
          0.9319673271901082,
          -0.8035975899120888,
          -2.0817843475238704,
          0.7305861172733857,
          -0.4800263921085124,
          1.1287409708304676,
          1.30568021174066,
          -1.7832973282932105,
          1.4006739734568499,
          0.030177984042408814,
          -0.09457126501513573,
          -1.0832227694856054,
          0.3986325459724869,
          0.814358203294684,
          1.9278877531894885,
          -2.366499084431596,
          2.0131011121261366,
          0.33026929373710634,
          -1.878306902438536,
          1.1394011610541825,
          -0.7767121555237044,
          -1.475081201873892,
          0.5139794212215749,
          -1.6886645191105654,
          0.22771144606103458,
          -2.5912663114580488,
          -0.36938193419555526,
          0.01230053696727581,
          -0.5733712810302543,
          -0.7206918246646702,
          1.233703731703346,
          1.5982780581698304,
          2.1450528839883103,
          1.9357432813557143,
          -3.074255234506096,
          1.516467243901897,
          1.2179472876069337,
          -1.3623976129558752,
          -0.4737027697128178,
          0.13536048129516934,
          1.5409536914838873,
          1.0102530835644612,
          0.31610021314799275,
          -1.2709928032358353,
          1.6105860228172777,
          -0.6605464296759026,
          1.7139412568453036,
          2.122156003431512,
          0.4062030053291341,
          -0.3635470471435434,
          -0.6813335771725828,
          -0.3710595427471748,
          -2.281205093420459,
          1.4194824293130472,
          2.622263021600051,
          -0.5897226699136108,
          2.2260299718736185,
          -1.871937574021518,
          1.2341860528423845,
          -2.200343089174743,
          0.03337033819107132,
          1.5255245084580922,
          -2.596714042549579,
          -1.3642011411336707,
          -1.0949513042426864,
          0.3238091205573278,
          1.2068811636015777
         ],
         "y": [
          0.13278231256220155,
          0.8172081066477639,
          0.6393601503556743,
          0.5960524459894577,
          -0.18510675804398008,
          0.7329887545656899,
          -0.36110166433310753,
          -0.3311884346550164,
          -0.8703850691928023,
          -0.2877971921698191,
          0.38839825588473853,
          -0.7194217507925563,
          0.43450150990821973,
          -0.18900607835829045,
          2.140060948919739,
          0.045874785089360624,
          -0.2503340219664337,
          -0.6534214408584712,
          0.7251995595809109,
          0.46914104202702145,
          -0.0844295449011052,
          -0.609525079163963,
          0.03277426059651953,
          -0.5651144048438952,
          0.5321290979552713,
          1.158970791545106,
          -0.8735071303326786,
          0.0003158211682557997,
          0.957843323159418,
          -1.090010644259483,
          -0.8397663991000243,
          -0.3506693024647198,
          -0.5116578084395071,
          -0.5305865890904609,
          0.09190517787354675,
          1.106130536075273,
          0.6517309876760331,
          1.7069858933060393,
          0.8078484891314548,
          0.5214736966706273,
          1.4809146735757897,
          -0.3067327314302161,
          1.4119063733950317,
          0.8563231113152844,
          1.428890789874199,
          -0.3444304946091031,
          3.03520973958433,
          -0.34184973296991694,
          -0.25682540800208037,
          -0.4754884872930144,
          -0.18408468861747507,
          0.8836672641584813,
          -0.02185726145207345,
          1.5186273004899546,
          -1.6980340191190377,
          1.7921596140082579,
          -1.2469343017583185,
          -1.1170114535928803,
          0.6460828351259413,
          -0.0460789209692993,
          -0.1719165991726064,
          -0.5937280294036036,
          1.2341407522886252,
          -0.246066917552288,
          -0.4756531674589088,
          -0.779234868638257,
          0.4271264919961309,
          -0.7053338704084668,
          -1.2815576839946672,
          0.19459994191213095,
          -0.4437457309225131,
          -0.5320191255034303,
          -0.030360711722586198,
          -0.7346521453932233,
          -0.7300168138623093,
          -0.5715083483608886,
          -0.40714305932653405,
          1.6477381184427886,
          0.7819594108451791,
          -1.215484831438653,
          1.0406715066163537,
          -1.0281003190726525,
          -0.09435571625659668,
          -0.3071751927354555,
          1.1125220336130028,
          0.34187247975452817,
          0.3622602148921117,
          -0.2573027635663717,
          -0.6242882121944464,
          -0.7295931935607733,
          -1.0541532593910348,
          -0.505940842317261,
          0.17473469429911667,
          -0.31694205923588187,
          0.0013407580246090865,
          -0.6131692362670684,
          0.17155108537720393,
          -0.7634942481748098,
          -0.108416894281296,
          -0.2744412937414808,
          -0.9102181283110288,
          -1.0665623663475816,
          -0.07719971637886908,
          -0.7364893557306648,
          -0.09888791556887505,
          1.1671037569422675,
          0.40496296494011624,
          0.21309183695213543,
          -0.45392439776791693,
          1.2598152560170939,
          0.2906778863434407,
          -1.3854426284823775,
          -0.8195886288541047,
          -0.42758447572565605,
          -0.9532447351416613,
          -0.020025540741440896,
          -0.5601892601893143,
          -0.3864064100239831,
          0.6678269392484252,
          2.2540907834169834,
          -0.7104180764891355,
          1.9078336507753835,
          -1.1495130793620858,
          -0.13967310202940833,
          -0.7798216513561625,
          -0.05059486386949949,
          3.141475821336017,
          -1.2508705775998257,
          -0.6727568093674926,
          0.5533794849501462,
          -1.2501023349937148,
          -0.3928050804614434,
          0.3793403611669204,
          -0.6030800137775568,
          1.543659241615579,
          -1.1984306887127723,
          1.0373206566428685,
          0.7545866964600543,
          0.1176005199133257,
          -0.07597992754969621,
          -0.3009596291963336,
          -0.26903063726428295,
          -0.33445174933052607,
          -0.7366422923073104,
          0.9873337446602822,
          -0.5127073696427016,
          -0.7790661649189994,
          0.23899385854455454,
          0.012251992621927912,
          -0.07160288575667678,
          -0.31489337533047745,
          -0.47617276038095496,
          0.2998369376906543,
          -0.8301828557558989,
          -0.533676980898647,
          -0.19780911416672262
         ]
        }
       ],
       "layout": {
        "template": {
         "data": {
          "bar": [
           {
            "error_x": {
             "color": "#2a3f5f"
            },
            "error_y": {
             "color": "#2a3f5f"
            },
            "marker": {
             "line": {
              "color": "#E5ECF6",
              "width": 0.5
             },
             "pattern": {
              "fillmode": "overlay",
              "size": 10,
              "solidity": 0.2
             }
            },
            "type": "bar"
           }
          ],
          "barpolar": [
           {
            "marker": {
             "line": {
              "color": "#E5ECF6",
              "width": 0.5
             },
             "pattern": {
              "fillmode": "overlay",
              "size": 10,
              "solidity": 0.2
             }
            },
            "type": "barpolar"
           }
          ],
          "carpet": [
           {
            "aaxis": {
             "endlinecolor": "#2a3f5f",
             "gridcolor": "white",
             "linecolor": "white",
             "minorgridcolor": "white",
             "startlinecolor": "#2a3f5f"
            },
            "baxis": {
             "endlinecolor": "#2a3f5f",
             "gridcolor": "white",
             "linecolor": "white",
             "minorgridcolor": "white",
             "startlinecolor": "#2a3f5f"
            },
            "type": "carpet"
           }
          ],
          "choropleth": [
           {
            "colorbar": {
             "outlinewidth": 0,
             "ticks": ""
            },
            "type": "choropleth"
           }
          ],
          "contour": [
           {
            "colorbar": {
             "outlinewidth": 0,
             "ticks": ""
            },
            "colorscale": [
             [
              0,
              "#0d0887"
             ],
             [
              0.1111111111111111,
              "#46039f"
             ],
             [
              0.2222222222222222,
              "#7201a8"
             ],
             [
              0.3333333333333333,
              "#9c179e"
             ],
             [
              0.4444444444444444,
              "#bd3786"
             ],
             [
              0.5555555555555556,
              "#d8576b"
             ],
             [
              0.6666666666666666,
              "#ed7953"
             ],
             [
              0.7777777777777778,
              "#fb9f3a"
             ],
             [
              0.8888888888888888,
              "#fdca26"
             ],
             [
              1,
              "#f0f921"
             ]
            ],
            "type": "contour"
           }
          ],
          "contourcarpet": [
           {
            "colorbar": {
             "outlinewidth": 0,
             "ticks": ""
            },
            "type": "contourcarpet"
           }
          ],
          "heatmap": [
           {
            "colorbar": {
             "outlinewidth": 0,
             "ticks": ""
            },
            "colorscale": [
             [
              0,
              "#0d0887"
             ],
             [
              0.1111111111111111,
              "#46039f"
             ],
             [
              0.2222222222222222,
              "#7201a8"
             ],
             [
              0.3333333333333333,
              "#9c179e"
             ],
             [
              0.4444444444444444,
              "#bd3786"
             ],
             [
              0.5555555555555556,
              "#d8576b"
             ],
             [
              0.6666666666666666,
              "#ed7953"
             ],
             [
              0.7777777777777778,
              "#fb9f3a"
             ],
             [
              0.8888888888888888,
              "#fdca26"
             ],
             [
              1,
              "#f0f921"
             ]
            ],
            "type": "heatmap"
           }
          ],
          "heatmapgl": [
           {
            "colorbar": {
             "outlinewidth": 0,
             "ticks": ""
            },
            "colorscale": [
             [
              0,
              "#0d0887"
             ],
             [
              0.1111111111111111,
              "#46039f"
             ],
             [
              0.2222222222222222,
              "#7201a8"
             ],
             [
              0.3333333333333333,
              "#9c179e"
             ],
             [
              0.4444444444444444,
              "#bd3786"
             ],
             [
              0.5555555555555556,
              "#d8576b"
             ],
             [
              0.6666666666666666,
              "#ed7953"
             ],
             [
              0.7777777777777778,
              "#fb9f3a"
             ],
             [
              0.8888888888888888,
              "#fdca26"
             ],
             [
              1,
              "#f0f921"
             ]
            ],
            "type": "heatmapgl"
           }
          ],
          "histogram": [
           {
            "marker": {
             "pattern": {
              "fillmode": "overlay",
              "size": 10,
              "solidity": 0.2
             }
            },
            "type": "histogram"
           }
          ],
          "histogram2d": [
           {
            "colorbar": {
             "outlinewidth": 0,
             "ticks": ""
            },
            "colorscale": [
             [
              0,
              "#0d0887"
             ],
             [
              0.1111111111111111,
              "#46039f"
             ],
             [
              0.2222222222222222,
              "#7201a8"
             ],
             [
              0.3333333333333333,
              "#9c179e"
             ],
             [
              0.4444444444444444,
              "#bd3786"
             ],
             [
              0.5555555555555556,
              "#d8576b"
             ],
             [
              0.6666666666666666,
              "#ed7953"
             ],
             [
              0.7777777777777778,
              "#fb9f3a"
             ],
             [
              0.8888888888888888,
              "#fdca26"
             ],
             [
              1,
              "#f0f921"
             ]
            ],
            "type": "histogram2d"
           }
          ],
          "histogram2dcontour": [
           {
            "colorbar": {
             "outlinewidth": 0,
             "ticks": ""
            },
            "colorscale": [
             [
              0,
              "#0d0887"
             ],
             [
              0.1111111111111111,
              "#46039f"
             ],
             [
              0.2222222222222222,
              "#7201a8"
             ],
             [
              0.3333333333333333,
              "#9c179e"
             ],
             [
              0.4444444444444444,
              "#bd3786"
             ],
             [
              0.5555555555555556,
              "#d8576b"
             ],
             [
              0.6666666666666666,
              "#ed7953"
             ],
             [
              0.7777777777777778,
              "#fb9f3a"
             ],
             [
              0.8888888888888888,
              "#fdca26"
             ],
             [
              1,
              "#f0f921"
             ]
            ],
            "type": "histogram2dcontour"
           }
          ],
          "mesh3d": [
           {
            "colorbar": {
             "outlinewidth": 0,
             "ticks": ""
            },
            "type": "mesh3d"
           }
          ],
          "parcoords": [
           {
            "line": {
             "colorbar": {
              "outlinewidth": 0,
              "ticks": ""
             }
            },
            "type": "parcoords"
           }
          ],
          "pie": [
           {
            "automargin": true,
            "type": "pie"
           }
          ],
          "scatter": [
           {
            "fillpattern": {
             "fillmode": "overlay",
             "size": 10,
             "solidity": 0.2
            },
            "type": "scatter"
           }
          ],
          "scatter3d": [
           {
            "line": {
             "colorbar": {
              "outlinewidth": 0,
              "ticks": ""
             }
            },
            "marker": {
             "colorbar": {
              "outlinewidth": 0,
              "ticks": ""
             }
            },
            "type": "scatter3d"
           }
          ],
          "scattercarpet": [
           {
            "marker": {
             "colorbar": {
              "outlinewidth": 0,
              "ticks": ""
             }
            },
            "type": "scattercarpet"
           }
          ],
          "scattergeo": [
           {
            "marker": {
             "colorbar": {
              "outlinewidth": 0,
              "ticks": ""
             }
            },
            "type": "scattergeo"
           }
          ],
          "scattergl": [
           {
            "marker": {
             "colorbar": {
              "outlinewidth": 0,
              "ticks": ""
             }
            },
            "type": "scattergl"
           }
          ],
          "scattermapbox": [
           {
            "marker": {
             "colorbar": {
              "outlinewidth": 0,
              "ticks": ""
             }
            },
            "type": "scattermapbox"
           }
          ],
          "scatterpolar": [
           {
            "marker": {
             "colorbar": {
              "outlinewidth": 0,
              "ticks": ""
             }
            },
            "type": "scatterpolar"
           }
          ],
          "scatterpolargl": [
           {
            "marker": {
             "colorbar": {
              "outlinewidth": 0,
              "ticks": ""
             }
            },
            "type": "scatterpolargl"
           }
          ],
          "scatterternary": [
           {
            "marker": {
             "colorbar": {
              "outlinewidth": 0,
              "ticks": ""
             }
            },
            "type": "scatterternary"
           }
          ],
          "surface": [
           {
            "colorbar": {
             "outlinewidth": 0,
             "ticks": ""
            },
            "colorscale": [
             [
              0,
              "#0d0887"
             ],
             [
              0.1111111111111111,
              "#46039f"
             ],
             [
              0.2222222222222222,
              "#7201a8"
             ],
             [
              0.3333333333333333,
              "#9c179e"
             ],
             [
              0.4444444444444444,
              "#bd3786"
             ],
             [
              0.5555555555555556,
              "#d8576b"
             ],
             [
              0.6666666666666666,
              "#ed7953"
             ],
             [
              0.7777777777777778,
              "#fb9f3a"
             ],
             [
              0.8888888888888888,
              "#fdca26"
             ],
             [
              1,
              "#f0f921"
             ]
            ],
            "type": "surface"
           }
          ],
          "table": [
           {
            "cells": {
             "fill": {
              "color": "#EBF0F8"
             },
             "line": {
              "color": "white"
             }
            },
            "header": {
             "fill": {
              "color": "#C8D4E3"
             },
             "line": {
              "color": "white"
             }
            },
            "type": "table"
           }
          ]
         },
         "layout": {
          "annotationdefaults": {
           "arrowcolor": "#2a3f5f",
           "arrowhead": 0,
           "arrowwidth": 1
          },
          "autotypenumbers": "strict",
          "coloraxis": {
           "colorbar": {
            "outlinewidth": 0,
            "ticks": ""
           }
          },
          "colorscale": {
           "diverging": [
            [
             0,
             "#8e0152"
            ],
            [
             0.1,
             "#c51b7d"
            ],
            [
             0.2,
             "#de77ae"
            ],
            [
             0.3,
             "#f1b6da"
            ],
            [
             0.4,
             "#fde0ef"
            ],
            [
             0.5,
             "#f7f7f7"
            ],
            [
             0.6,
             "#e6f5d0"
            ],
            [
             0.7,
             "#b8e186"
            ],
            [
             0.8,
             "#7fbc41"
            ],
            [
             0.9,
             "#4d9221"
            ],
            [
             1,
             "#276419"
            ]
           ],
           "sequential": [
            [
             0,
             "#0d0887"
            ],
            [
             0.1111111111111111,
             "#46039f"
            ],
            [
             0.2222222222222222,
             "#7201a8"
            ],
            [
             0.3333333333333333,
             "#9c179e"
            ],
            [
             0.4444444444444444,
             "#bd3786"
            ],
            [
             0.5555555555555556,
             "#d8576b"
            ],
            [
             0.6666666666666666,
             "#ed7953"
            ],
            [
             0.7777777777777778,
             "#fb9f3a"
            ],
            [
             0.8888888888888888,
             "#fdca26"
            ],
            [
             1,
             "#f0f921"
            ]
           ],
           "sequentialminus": [
            [
             0,
             "#0d0887"
            ],
            [
             0.1111111111111111,
             "#46039f"
            ],
            [
             0.2222222222222222,
             "#7201a8"
            ],
            [
             0.3333333333333333,
             "#9c179e"
            ],
            [
             0.4444444444444444,
             "#bd3786"
            ],
            [
             0.5555555555555556,
             "#d8576b"
            ],
            [
             0.6666666666666666,
             "#ed7953"
            ],
            [
             0.7777777777777778,
             "#fb9f3a"
            ],
            [
             0.8888888888888888,
             "#fdca26"
            ],
            [
             1,
             "#f0f921"
            ]
           ]
          },
          "colorway": [
           "#636efa",
           "#EF553B",
           "#00cc96",
           "#ab63fa",
           "#FFA15A",
           "#19d3f3",
           "#FF6692",
           "#B6E880",
           "#FF97FF",
           "#FECB52"
          ],
          "font": {
           "color": "#2a3f5f"
          },
          "geo": {
           "bgcolor": "white",
           "lakecolor": "white",
           "landcolor": "#E5ECF6",
           "showlakes": true,
           "showland": true,
           "subunitcolor": "white"
          },
          "hoverlabel": {
           "align": "left"
          },
          "hovermode": "closest",
          "mapbox": {
           "style": "light"
          },
          "paper_bgcolor": "white",
          "plot_bgcolor": "#E5ECF6",
          "polar": {
           "angularaxis": {
            "gridcolor": "white",
            "linecolor": "white",
            "ticks": ""
           },
           "bgcolor": "#E5ECF6",
           "radialaxis": {
            "gridcolor": "white",
            "linecolor": "white",
            "ticks": ""
           }
          },
          "scene": {
           "xaxis": {
            "backgroundcolor": "#E5ECF6",
            "gridcolor": "white",
            "gridwidth": 2,
            "linecolor": "white",
            "showbackground": true,
            "ticks": "",
            "zerolinecolor": "white"
           },
           "yaxis": {
            "backgroundcolor": "#E5ECF6",
            "gridcolor": "white",
            "gridwidth": 2,
            "linecolor": "white",
            "showbackground": true,
            "ticks": "",
            "zerolinecolor": "white"
           },
           "zaxis": {
            "backgroundcolor": "#E5ECF6",
            "gridcolor": "white",
            "gridwidth": 2,
            "linecolor": "white",
            "showbackground": true,
            "ticks": "",
            "zerolinecolor": "white"
           }
          },
          "shapedefaults": {
           "line": {
            "color": "#2a3f5f"
           }
          },
          "ternary": {
           "aaxis": {
            "gridcolor": "white",
            "linecolor": "white",
            "ticks": ""
           },
           "baxis": {
            "gridcolor": "white",
            "linecolor": "white",
            "ticks": ""
           },
           "bgcolor": "#E5ECF6",
           "caxis": {
            "gridcolor": "white",
            "linecolor": "white",
            "ticks": ""
           }
          },
          "title": {
           "x": 0.05
          },
          "xaxis": {
           "automargin": true,
           "gridcolor": "white",
           "linecolor": "white",
           "ticks": "",
           "title": {
            "standoff": 15
           },
           "zerolinecolor": "white",
           "zerolinewidth": 2
          },
          "yaxis": {
           "automargin": true,
           "gridcolor": "white",
           "linecolor": "white",
           "ticks": "",
           "title": {
            "standoff": 15
           },
           "zerolinecolor": "white",
           "zerolinewidth": 2
          }
         }
        }
       }
      }
     },
     "metadata": {},
     "output_type": "display_data"
    }
   ],
   "source": [
    "fig = go.Figure()\n",
    "fig.add_scatter(x = clust0_pc['Component 1'], y = clust0_pc['Component 2'], name = 'Cluster 0', mode = 'markers', marker = dict(color = 'black' ), hoverinfo = 'skip', customdata=player_0.PLAYER_NAME, hovertemplate = 'Player: %{customdata}<br><extra></extra>' )\n"
   ]
  },
  {
   "cell_type": "code",
   "execution_count": 309,
   "metadata": {},
   "outputs": [],
   "source": [
    "def sub_cluster(df):\n",
    "    df['SubGroup'] = [0]*len(df)\n",
    "    df['SubGroup'].loc[(df['Component 2']>0.5)] = 0\n",
    "\n",
    "    df['SubGroup'].loc[(df['Component 2']<0.5)] = 1\n",
    "\n",
    "\n",
    "\n",
    "\n",
    "\n",
    "\n",
    "    "
   ]
  },
  {
   "cell_type": "code",
   "execution_count": 310,
   "metadata": {},
   "outputs": [
    {
     "name": "stderr",
     "output_type": "stream",
     "text": [
      "C:\\Users\\rpand\\AppData\\Local\\Temp\\ipykernel_38572\\2976462210.py:3: SettingWithCopyWarning:\n",
      "\n",
      "\n",
      "A value is trying to be set on a copy of a slice from a DataFrame\n",
      "\n",
      "See the caveats in the documentation: https://pandas.pydata.org/pandas-docs/stable/user_guide/indexing.html#returning-a-view-versus-a-copy\n",
      "\n",
      "C:\\Users\\rpand\\AppData\\Local\\Temp\\ipykernel_38572\\2976462210.py:5: SettingWithCopyWarning:\n",
      "\n",
      "\n",
      "A value is trying to be set on a copy of a slice from a DataFrame\n",
      "\n",
      "See the caveats in the documentation: https://pandas.pydata.org/pandas-docs/stable/user_guide/indexing.html#returning-a-view-versus-a-copy\n",
      "\n"
     ]
    }
   ],
   "source": [
    "sub_cluster(clust0_pc)"
   ]
  },
  {
   "cell_type": "code",
   "execution_count": 311,
   "metadata": {},
   "outputs": [],
   "source": [
    "sub_clust0 = clust0_pc.SubGroup.values"
   ]
  },
  {
   "cell_type": "code",
   "execution_count": 312,
   "metadata": {},
   "outputs": [],
   "source": [
    "player_0['Subgroup'] = sub_clust0\n",
    "clust_0['Subgroup'] = sub_clust0"
   ]
  },
  {
   "cell_type": "code",
   "execution_count": 263,
   "metadata": {},
   "outputs": [
    {
     "data": {
      "text/html": [
       "<div>\n",
       "<style scoped>\n",
       "    .dataframe tbody tr th:only-of-type {\n",
       "        vertical-align: middle;\n",
       "    }\n",
       "\n",
       "    .dataframe tbody tr th {\n",
       "        vertical-align: top;\n",
       "    }\n",
       "\n",
       "    .dataframe thead th {\n",
       "        text-align: right;\n",
       "    }\n",
       "</style>\n",
       "<table border=\"1\" class=\"dataframe\">\n",
       "  <thead>\n",
       "    <tr style=\"text-align: right;\">\n",
       "      <th></th>\n",
       "      <th>PLAYER_NAME</th>\n",
       "      <th>Season</th>\n",
       "      <th>Cluster</th>\n",
       "      <th>Subgroup</th>\n",
       "    </tr>\n",
       "  </thead>\n",
       "  <tbody>\n",
       "    <tr>\n",
       "      <th>1068</th>\n",
       "      <td>Justin Holiday</td>\n",
       "      <td>2021-22</td>\n",
       "      <td>0</td>\n",
       "      <td>1</td>\n",
       "    </tr>\n",
       "    <tr>\n",
       "      <th>1070</th>\n",
       "      <td>Aaron Holiday</td>\n",
       "      <td>2021-22</td>\n",
       "      <td>0</td>\n",
       "      <td>3</td>\n",
       "    </tr>\n",
       "    <tr>\n",
       "      <th>1073</th>\n",
       "      <td>Tyrese Haliburton</td>\n",
       "      <td>2021-22</td>\n",
       "      <td>0</td>\n",
       "      <td>1</td>\n",
       "    </tr>\n",
       "    <tr>\n",
       "      <th>1076</th>\n",
       "      <td>Gabe Vincent</td>\n",
       "      <td>2021-22</td>\n",
       "      <td>0</td>\n",
       "      <td>1</td>\n",
       "    </tr>\n",
       "    <tr>\n",
       "      <th>1078</th>\n",
       "      <td>James Harden</td>\n",
       "      <td>2021-22</td>\n",
       "      <td>0</td>\n",
       "      <td>0</td>\n",
       "    </tr>\n",
       "    <tr>\n",
       "      <th>...</th>\n",
       "      <td>...</td>\n",
       "      <td>...</td>\n",
       "      <td>...</td>\n",
       "      <td>...</td>\n",
       "    </tr>\n",
       "    <tr>\n",
       "      <th>1385</th>\n",
       "      <td>Trae Young</td>\n",
       "      <td>2021-22</td>\n",
       "      <td>0</td>\n",
       "      <td>1</td>\n",
       "    </tr>\n",
       "    <tr>\n",
       "      <th>1386</th>\n",
       "      <td>Donovan Mitchell</td>\n",
       "      <td>2021-22</td>\n",
       "      <td>0</td>\n",
       "      <td>1</td>\n",
       "    </tr>\n",
       "    <tr>\n",
       "      <th>1387</th>\n",
       "      <td>Jordan Poole</td>\n",
       "      <td>2021-22</td>\n",
       "      <td>0</td>\n",
       "      <td>3</td>\n",
       "    </tr>\n",
       "    <tr>\n",
       "      <th>1388</th>\n",
       "      <td>Jordan Clarkson</td>\n",
       "      <td>2021-22</td>\n",
       "      <td>0</td>\n",
       "      <td>2</td>\n",
       "    </tr>\n",
       "    <tr>\n",
       "      <th>1389</th>\n",
       "      <td>Royce O'Neale</td>\n",
       "      <td>2021-22</td>\n",
       "      <td>0</td>\n",
       "      <td>0</td>\n",
       "    </tr>\n",
       "  </tbody>\n",
       "</table>\n",
       "<p>149 rows × 4 columns</p>\n",
       "</div>"
      ],
      "text/plain": [
       "            PLAYER_NAME   Season  Cluster  Subgroup\n",
       "1068     Justin Holiday  2021-22        0         1\n",
       "1070      Aaron Holiday  2021-22        0         3\n",
       "1073  Tyrese Haliburton  2021-22        0         1\n",
       "1076       Gabe Vincent  2021-22        0         1\n",
       "1078       James Harden  2021-22        0         0\n",
       "...                 ...      ...      ...       ...\n",
       "1385         Trae Young  2021-22        0         1\n",
       "1386   Donovan Mitchell  2021-22        0         1\n",
       "1387       Jordan Poole  2021-22        0         3\n",
       "1388    Jordan Clarkson  2021-22        0         2\n",
       "1389      Royce O'Neale  2021-22        0         0\n",
       "\n",
       "[149 rows x 4 columns]"
      ]
     },
     "execution_count": 263,
     "metadata": {},
     "output_type": "execute_result"
    }
   ],
   "source": []
  },
  {
   "cell_type": "markdown",
   "metadata": {},
   "source": [
    "## Analyze Cluster 4"
   ]
  },
  {
   "cell_type": "code",
   "execution_count": 279,
   "metadata": {},
   "outputs": [],
   "source": [
    "def pca_clust(data, players):\n",
    "    pc2 = PCA(2)\n",
    "    cluster_pca = pd.DataFrame(pc2.fit_transform(data), columns = ['Component 1', 'Component 2'])\n",
    "    \n",
    "    print(f'Variance Explained by these two components is: {pc2.explained_variance_ratio_.sum()}')\n",
    "    comps = np.transpose(pd.DataFrame(pc2.components_, columns= data.columns, index = ['Component 1', 'Component 2']))\n",
    "    fig = go.Figure()\n",
    "    fig.add_scatter(x = cluster_pca['Component 1'], y = cluster_pca['Component 2'], name = 'Cluster 0', mode = 'markers', marker = dict(color = 'black' ), hoverinfo = 'skip', customdata=players.PLAYER_NAME, hovertemplate = 'Player: %{customdata}<br><extra></extra>' )\n",
    "    fig.show()\n",
    "    return(comps)"
   ]
  },
  {
   "cell_type": "code",
   "execution_count": 316,
   "metadata": {},
   "outputs": [],
   "source": [
    "clust_4 =  cluster_results[cluster_results['Clusters']==4].copy().drop('Clusters', axis='columns')\n",
    "player_4 = player_groups[player_groups['Cluster']==4].copy()"
   ]
  },
  {
   "cell_type": "code",
   "execution_count": 317,
   "metadata": {},
   "outputs": [
    {
     "name": "stdout",
     "output_type": "stream",
     "text": [
      "Variance Explained by these two components is: 0.6876697074732836\n"
     ]
    },
    {
     "data": {
      "application/vnd.plotly.v1+json": {
       "config": {
        "plotlyServerURL": "https://plot.ly"
       },
       "data": [
        {
         "customdata": [
          "Robert Williams III",
          "Zeke Nnaji",
          "Nic Claxton",
          "Bam Adebayo",
          "Moritz Wagner",
          "Giannis Antetokounmpo",
          "Maxi Kleber",
          "Robert Covington",
          "Romeo Langford",
          "Anthony Davis",
          "Otto Porter Jr.",
          "JaMychal Green",
          "Marvin Bagley III",
          "P.J. Washington",
          "Obi Toppin",
          "Josh Giddey",
          "Alekesej Pokusevski",
          "Rudy Gobert",
          "Brandon Clarke",
          "Rui Hachimura",
          "Jalen Smith",
          "Mo Bamba",
          "John Collins",
          "Draymond Green",
          "Bobby Portis",
          "Carmelo Anthony",
          "Jaxson Hayes",
          "Chris Boucher",
          "Rudy Gay",
          "Keita Bates-Diop",
          "Dean Wade",
          "Danilo Gallinari",
          "Al Horford",
          "Evan Mobley",
          "Wendell Carter Jr.",
          "Jaden McDaniels",
          "Derrick Jones Jr.",
          "Kevin Love",
          "Jaren Jackson Jr.",
          "James Johnson",
          "Chimezie Metu",
          "Chuma Okeke",
          "Kyle Anderson",
          "Jonathan Kuminga",
          "Nassir Little",
          "Scottie Barnes",
          "Luke Kennard",
          "Kessler Edwards",
          "LeBron James",
          "Kenyon Martin Jr.",
          "Christian Wood",
          "Georges Niang",
          "Lamar Stevens",
          "Julius Randle",
          "Jeff Green",
          "Lauri Markkanen",
          "Luka Doncic",
          "Darius Bazley",
          "Pascal Siakam",
          "Tobias Harris",
          "Kyle Kuzma",
          "Grant Williams",
          "Cade Cunningham",
          "Deni Avdija",
          "Terry Taylor"
         ],
         "hoverinfo": "skip",
         "hovertemplate": "Player: %{customdata}<br><extra></extra>",
         "marker": {
          "color": "black"
         },
         "mode": "markers",
         "name": "Cluster 0",
         "type": "scatter",
         "x": [
          -0.2742088516713645,
          -0.6888096227626498,
          -1.1319301256595529,
          0.0907537037986403,
          0.0090091179391814,
          -0.7833456416336134,
          -0.08375719902035582,
          0.6409354511810027,
          1.4965365629344354,
          -0.6852771371900692,
          0.42719148987767724,
          -0.5217716178424271,
          -1.135613294763403,
          -0.19536523507373182,
          -0.21628758588305058,
          0.19186022191463845,
          -0.322875870124631,
          -1.8630188441592022,
          -0.6206029559463467,
          0.5907522843205444,
          -1.47818106519561,
          -1.5898546193593754,
          -1.4113471976632583,
          0.13913974469049573,
          -0.8423866147794453,
          0.39752276071153714,
          0.23274061611141195,
          -1.2203878095754848,
          -0.03821468319272192,
          0.32551071294579437,
          0.4756023405764034,
          0.6096161622493831,
          0.4253314070110451,
          -0.4980101417858231,
          -0.9766743744933807,
          1.5269603289170404,
          0.31013546645772744,
          -1.3319159530459947,
          0.7942936743736799,
          0.7002608851718479,
          -0.5850863672541573,
          1.4366425566307617,
          0.6498338412029984,
          0.23386862243760811,
          0.8592448730631692,
          0.6676132644981194,
          2.012417163402884,
          0.20899799022929702,
          0.2594230112679256,
          0.9819577845929222,
          -1.001594551773743,
          1.82155784803435,
          0.08180658943602478,
          -0.8705855929356684,
          1.0808238379317479,
          0.2366000107571821,
          -0.006635599179956471,
          -0.46176278588175185,
          0.2895773892461645,
          0.26037029337756334,
          -0.6876464957028596,
          0.4676290134852763,
          1.2265421151090246,
          -1.1161746902060241,
          0.4802633878701357
         ],
         "y": [
          0.011634602977146004,
          -0.07804882196295244,
          0.34324885120924664,
          0.8594357776983135,
          0.11907230792555304,
          0.21547930046480399,
          -0.7290261956351464,
          2.168892422832411,
          -0.6630820556644138,
          0.7817313272720365,
          0.6718138975134053,
          0.8415114917726502,
          -0.8197560478918872,
          1.0449446650564829,
          -0.24738087410959822,
          -0.3204211199427126,
          0.32945555796683806,
          -0.18618296812629717,
          0.4214201923179615,
          -0.48323421680075906,
          -1.133983539064118,
          -0.24398330213135389,
          -0.4405672800584714,
          1.1819351719183406,
          0.38550716751991937,
          -0.2974838066498787,
          0.15491656244863147,
          0.37216454059268494,
          0.45924761961331606,
          0.2194847440031687,
          0.28752876617458434,
          -0.6401015093971477,
          -0.7370196410857415,
          -0.11551249719911257,
          -0.410704988443332,
          0.23211313222430371,
          0.7753420454151352,
          -0.6896227503649746,
          0.35518793252186603,
          0.03372630651904863,
          1.1080965363279476,
          1.0404562718462522,
          1.508585098108338,
          -0.2889395554197956,
          -0.8485175980116507,
          0.44068611007347247,
          -1.0230149473104502,
          -0.24291429260246772,
          0.0631834390380579,
          -0.88140139176602,
          -0.2946096605235893,
          -1.004674844846452,
          -0.043392771696745526,
          -0.5521840963394488,
          -1.148161583787845,
          -0.09546147526258715,
          0.2599111487372685,
          -0.27751561359882304,
          -0.040036738662977314,
          -0.6029769379718554,
          -0.8522718470739468,
          -0.38266765210650694,
          0.5264796660154489,
          0.23389014434016195,
          -0.6322301769357436
         ]
        }
       ],
       "layout": {
        "template": {
         "data": {
          "bar": [
           {
            "error_x": {
             "color": "#2a3f5f"
            },
            "error_y": {
             "color": "#2a3f5f"
            },
            "marker": {
             "line": {
              "color": "#E5ECF6",
              "width": 0.5
             },
             "pattern": {
              "fillmode": "overlay",
              "size": 10,
              "solidity": 0.2
             }
            },
            "type": "bar"
           }
          ],
          "barpolar": [
           {
            "marker": {
             "line": {
              "color": "#E5ECF6",
              "width": 0.5
             },
             "pattern": {
              "fillmode": "overlay",
              "size": 10,
              "solidity": 0.2
             }
            },
            "type": "barpolar"
           }
          ],
          "carpet": [
           {
            "aaxis": {
             "endlinecolor": "#2a3f5f",
             "gridcolor": "white",
             "linecolor": "white",
             "minorgridcolor": "white",
             "startlinecolor": "#2a3f5f"
            },
            "baxis": {
             "endlinecolor": "#2a3f5f",
             "gridcolor": "white",
             "linecolor": "white",
             "minorgridcolor": "white",
             "startlinecolor": "#2a3f5f"
            },
            "type": "carpet"
           }
          ],
          "choropleth": [
           {
            "colorbar": {
             "outlinewidth": 0,
             "ticks": ""
            },
            "type": "choropleth"
           }
          ],
          "contour": [
           {
            "colorbar": {
             "outlinewidth": 0,
             "ticks": ""
            },
            "colorscale": [
             [
              0,
              "#0d0887"
             ],
             [
              0.1111111111111111,
              "#46039f"
             ],
             [
              0.2222222222222222,
              "#7201a8"
             ],
             [
              0.3333333333333333,
              "#9c179e"
             ],
             [
              0.4444444444444444,
              "#bd3786"
             ],
             [
              0.5555555555555556,
              "#d8576b"
             ],
             [
              0.6666666666666666,
              "#ed7953"
             ],
             [
              0.7777777777777778,
              "#fb9f3a"
             ],
             [
              0.8888888888888888,
              "#fdca26"
             ],
             [
              1,
              "#f0f921"
             ]
            ],
            "type": "contour"
           }
          ],
          "contourcarpet": [
           {
            "colorbar": {
             "outlinewidth": 0,
             "ticks": ""
            },
            "type": "contourcarpet"
           }
          ],
          "heatmap": [
           {
            "colorbar": {
             "outlinewidth": 0,
             "ticks": ""
            },
            "colorscale": [
             [
              0,
              "#0d0887"
             ],
             [
              0.1111111111111111,
              "#46039f"
             ],
             [
              0.2222222222222222,
              "#7201a8"
             ],
             [
              0.3333333333333333,
              "#9c179e"
             ],
             [
              0.4444444444444444,
              "#bd3786"
             ],
             [
              0.5555555555555556,
              "#d8576b"
             ],
             [
              0.6666666666666666,
              "#ed7953"
             ],
             [
              0.7777777777777778,
              "#fb9f3a"
             ],
             [
              0.8888888888888888,
              "#fdca26"
             ],
             [
              1,
              "#f0f921"
             ]
            ],
            "type": "heatmap"
           }
          ],
          "heatmapgl": [
           {
            "colorbar": {
             "outlinewidth": 0,
             "ticks": ""
            },
            "colorscale": [
             [
              0,
              "#0d0887"
             ],
             [
              0.1111111111111111,
              "#46039f"
             ],
             [
              0.2222222222222222,
              "#7201a8"
             ],
             [
              0.3333333333333333,
              "#9c179e"
             ],
             [
              0.4444444444444444,
              "#bd3786"
             ],
             [
              0.5555555555555556,
              "#d8576b"
             ],
             [
              0.6666666666666666,
              "#ed7953"
             ],
             [
              0.7777777777777778,
              "#fb9f3a"
             ],
             [
              0.8888888888888888,
              "#fdca26"
             ],
             [
              1,
              "#f0f921"
             ]
            ],
            "type": "heatmapgl"
           }
          ],
          "histogram": [
           {
            "marker": {
             "pattern": {
              "fillmode": "overlay",
              "size": 10,
              "solidity": 0.2
             }
            },
            "type": "histogram"
           }
          ],
          "histogram2d": [
           {
            "colorbar": {
             "outlinewidth": 0,
             "ticks": ""
            },
            "colorscale": [
             [
              0,
              "#0d0887"
             ],
             [
              0.1111111111111111,
              "#46039f"
             ],
             [
              0.2222222222222222,
              "#7201a8"
             ],
             [
              0.3333333333333333,
              "#9c179e"
             ],
             [
              0.4444444444444444,
              "#bd3786"
             ],
             [
              0.5555555555555556,
              "#d8576b"
             ],
             [
              0.6666666666666666,
              "#ed7953"
             ],
             [
              0.7777777777777778,
              "#fb9f3a"
             ],
             [
              0.8888888888888888,
              "#fdca26"
             ],
             [
              1,
              "#f0f921"
             ]
            ],
            "type": "histogram2d"
           }
          ],
          "histogram2dcontour": [
           {
            "colorbar": {
             "outlinewidth": 0,
             "ticks": ""
            },
            "colorscale": [
             [
              0,
              "#0d0887"
             ],
             [
              0.1111111111111111,
              "#46039f"
             ],
             [
              0.2222222222222222,
              "#7201a8"
             ],
             [
              0.3333333333333333,
              "#9c179e"
             ],
             [
              0.4444444444444444,
              "#bd3786"
             ],
             [
              0.5555555555555556,
              "#d8576b"
             ],
             [
              0.6666666666666666,
              "#ed7953"
             ],
             [
              0.7777777777777778,
              "#fb9f3a"
             ],
             [
              0.8888888888888888,
              "#fdca26"
             ],
             [
              1,
              "#f0f921"
             ]
            ],
            "type": "histogram2dcontour"
           }
          ],
          "mesh3d": [
           {
            "colorbar": {
             "outlinewidth": 0,
             "ticks": ""
            },
            "type": "mesh3d"
           }
          ],
          "parcoords": [
           {
            "line": {
             "colorbar": {
              "outlinewidth": 0,
              "ticks": ""
             }
            },
            "type": "parcoords"
           }
          ],
          "pie": [
           {
            "automargin": true,
            "type": "pie"
           }
          ],
          "scatter": [
           {
            "fillpattern": {
             "fillmode": "overlay",
             "size": 10,
             "solidity": 0.2
            },
            "type": "scatter"
           }
          ],
          "scatter3d": [
           {
            "line": {
             "colorbar": {
              "outlinewidth": 0,
              "ticks": ""
             }
            },
            "marker": {
             "colorbar": {
              "outlinewidth": 0,
              "ticks": ""
             }
            },
            "type": "scatter3d"
           }
          ],
          "scattercarpet": [
           {
            "marker": {
             "colorbar": {
              "outlinewidth": 0,
              "ticks": ""
             }
            },
            "type": "scattercarpet"
           }
          ],
          "scattergeo": [
           {
            "marker": {
             "colorbar": {
              "outlinewidth": 0,
              "ticks": ""
             }
            },
            "type": "scattergeo"
           }
          ],
          "scattergl": [
           {
            "marker": {
             "colorbar": {
              "outlinewidth": 0,
              "ticks": ""
             }
            },
            "type": "scattergl"
           }
          ],
          "scattermapbox": [
           {
            "marker": {
             "colorbar": {
              "outlinewidth": 0,
              "ticks": ""
             }
            },
            "type": "scattermapbox"
           }
          ],
          "scatterpolar": [
           {
            "marker": {
             "colorbar": {
              "outlinewidth": 0,
              "ticks": ""
             }
            },
            "type": "scatterpolar"
           }
          ],
          "scatterpolargl": [
           {
            "marker": {
             "colorbar": {
              "outlinewidth": 0,
              "ticks": ""
             }
            },
            "type": "scatterpolargl"
           }
          ],
          "scatterternary": [
           {
            "marker": {
             "colorbar": {
              "outlinewidth": 0,
              "ticks": ""
             }
            },
            "type": "scatterternary"
           }
          ],
          "surface": [
           {
            "colorbar": {
             "outlinewidth": 0,
             "ticks": ""
            },
            "colorscale": [
             [
              0,
              "#0d0887"
             ],
             [
              0.1111111111111111,
              "#46039f"
             ],
             [
              0.2222222222222222,
              "#7201a8"
             ],
             [
              0.3333333333333333,
              "#9c179e"
             ],
             [
              0.4444444444444444,
              "#bd3786"
             ],
             [
              0.5555555555555556,
              "#d8576b"
             ],
             [
              0.6666666666666666,
              "#ed7953"
             ],
             [
              0.7777777777777778,
              "#fb9f3a"
             ],
             [
              0.8888888888888888,
              "#fdca26"
             ],
             [
              1,
              "#f0f921"
             ]
            ],
            "type": "surface"
           }
          ],
          "table": [
           {
            "cells": {
             "fill": {
              "color": "#EBF0F8"
             },
             "line": {
              "color": "white"
             }
            },
            "header": {
             "fill": {
              "color": "#C8D4E3"
             },
             "line": {
              "color": "white"
             }
            },
            "type": "table"
           }
          ]
         },
         "layout": {
          "annotationdefaults": {
           "arrowcolor": "#2a3f5f",
           "arrowhead": 0,
           "arrowwidth": 1
          },
          "autotypenumbers": "strict",
          "coloraxis": {
           "colorbar": {
            "outlinewidth": 0,
            "ticks": ""
           }
          },
          "colorscale": {
           "diverging": [
            [
             0,
             "#8e0152"
            ],
            [
             0.1,
             "#c51b7d"
            ],
            [
             0.2,
             "#de77ae"
            ],
            [
             0.3,
             "#f1b6da"
            ],
            [
             0.4,
             "#fde0ef"
            ],
            [
             0.5,
             "#f7f7f7"
            ],
            [
             0.6,
             "#e6f5d0"
            ],
            [
             0.7,
             "#b8e186"
            ],
            [
             0.8,
             "#7fbc41"
            ],
            [
             0.9,
             "#4d9221"
            ],
            [
             1,
             "#276419"
            ]
           ],
           "sequential": [
            [
             0,
             "#0d0887"
            ],
            [
             0.1111111111111111,
             "#46039f"
            ],
            [
             0.2222222222222222,
             "#7201a8"
            ],
            [
             0.3333333333333333,
             "#9c179e"
            ],
            [
             0.4444444444444444,
             "#bd3786"
            ],
            [
             0.5555555555555556,
             "#d8576b"
            ],
            [
             0.6666666666666666,
             "#ed7953"
            ],
            [
             0.7777777777777778,
             "#fb9f3a"
            ],
            [
             0.8888888888888888,
             "#fdca26"
            ],
            [
             1,
             "#f0f921"
            ]
           ],
           "sequentialminus": [
            [
             0,
             "#0d0887"
            ],
            [
             0.1111111111111111,
             "#46039f"
            ],
            [
             0.2222222222222222,
             "#7201a8"
            ],
            [
             0.3333333333333333,
             "#9c179e"
            ],
            [
             0.4444444444444444,
             "#bd3786"
            ],
            [
             0.5555555555555556,
             "#d8576b"
            ],
            [
             0.6666666666666666,
             "#ed7953"
            ],
            [
             0.7777777777777778,
             "#fb9f3a"
            ],
            [
             0.8888888888888888,
             "#fdca26"
            ],
            [
             1,
             "#f0f921"
            ]
           ]
          },
          "colorway": [
           "#636efa",
           "#EF553B",
           "#00cc96",
           "#ab63fa",
           "#FFA15A",
           "#19d3f3",
           "#FF6692",
           "#B6E880",
           "#FF97FF",
           "#FECB52"
          ],
          "font": {
           "color": "#2a3f5f"
          },
          "geo": {
           "bgcolor": "white",
           "lakecolor": "white",
           "landcolor": "#E5ECF6",
           "showlakes": true,
           "showland": true,
           "subunitcolor": "white"
          },
          "hoverlabel": {
           "align": "left"
          },
          "hovermode": "closest",
          "mapbox": {
           "style": "light"
          },
          "paper_bgcolor": "white",
          "plot_bgcolor": "#E5ECF6",
          "polar": {
           "angularaxis": {
            "gridcolor": "white",
            "linecolor": "white",
            "ticks": ""
           },
           "bgcolor": "#E5ECF6",
           "radialaxis": {
            "gridcolor": "white",
            "linecolor": "white",
            "ticks": ""
           }
          },
          "scene": {
           "xaxis": {
            "backgroundcolor": "#E5ECF6",
            "gridcolor": "white",
            "gridwidth": 2,
            "linecolor": "white",
            "showbackground": true,
            "ticks": "",
            "zerolinecolor": "white"
           },
           "yaxis": {
            "backgroundcolor": "#E5ECF6",
            "gridcolor": "white",
            "gridwidth": 2,
            "linecolor": "white",
            "showbackground": true,
            "ticks": "",
            "zerolinecolor": "white"
           },
           "zaxis": {
            "backgroundcolor": "#E5ECF6",
            "gridcolor": "white",
            "gridwidth": 2,
            "linecolor": "white",
            "showbackground": true,
            "ticks": "",
            "zerolinecolor": "white"
           }
          },
          "shapedefaults": {
           "line": {
            "color": "#2a3f5f"
           }
          },
          "ternary": {
           "aaxis": {
            "gridcolor": "white",
            "linecolor": "white",
            "ticks": ""
           },
           "baxis": {
            "gridcolor": "white",
            "linecolor": "white",
            "ticks": ""
           },
           "bgcolor": "#E5ECF6",
           "caxis": {
            "gridcolor": "white",
            "linecolor": "white",
            "ticks": ""
           }
          },
          "title": {
           "x": 0.05
          },
          "xaxis": {
           "automargin": true,
           "gridcolor": "white",
           "linecolor": "white",
           "ticks": "",
           "title": {
            "standoff": 15
           },
           "zerolinecolor": "white",
           "zerolinewidth": 2
          },
          "yaxis": {
           "automargin": true,
           "gridcolor": "white",
           "linecolor": "white",
           "ticks": "",
           "title": {
            "standoff": 15
           },
           "zerolinecolor": "white",
           "zerolinewidth": 2
          }
         }
        }
       }
      }
     },
     "metadata": {},
     "output_type": "display_data"
    }
   ],
   "source": [
    "comps = pca_clust(clust_4, player_4)"
   ]
  },
  {
   "cell_type": "code",
   "execution_count": 320,
   "metadata": {},
   "outputs": [
    {
     "data": {
      "text/html": [
       "<div>\n",
       "<style scoped>\n",
       "    .dataframe tbody tr th:only-of-type {\n",
       "        vertical-align: middle;\n",
       "    }\n",
       "\n",
       "    .dataframe tbody tr th {\n",
       "        vertical-align: top;\n",
       "    }\n",
       "\n",
       "    .dataframe thead th {\n",
       "        text-align: right;\n",
       "    }\n",
       "</style>\n",
       "<table border=\"1\" class=\"dataframe\">\n",
       "  <thead>\n",
       "    <tr style=\"text-align: right;\">\n",
       "      <th></th>\n",
       "      <th>Component 1</th>\n",
       "      <th>Component 2</th>\n",
       "    </tr>\n",
       "  </thead>\n",
       "  <tbody>\n",
       "    <tr>\n",
       "      <th>AVG_REB_DIST</th>\n",
       "      <td>0.980411</td>\n",
       "      <td>-0.121028</td>\n",
       "    </tr>\n",
       "    <tr>\n",
       "      <th>DEF OffScreen PPP</th>\n",
       "      <td>0.096085</td>\n",
       "      <td>-0.060506</td>\n",
       "    </tr>\n",
       "    <tr>\n",
       "      <th>DEF Handoff PPP</th>\n",
       "      <td>-0.032713</td>\n",
       "      <td>-0.055563</td>\n",
       "    </tr>\n",
       "    <tr>\n",
       "      <th>AVG_SPEED_DEF</th>\n",
       "      <td>0.011503</td>\n",
       "      <td>-0.019693</td>\n",
       "    </tr>\n",
       "    <tr>\n",
       "      <th>DEF Isolation FREQ</th>\n",
       "      <td>0.003006</td>\n",
       "      <td>-0.010233</td>\n",
       "    </tr>\n",
       "    <tr>\n",
       "      <th>PLUSMINUS Less Than 6Ft</th>\n",
       "      <td>0.007732</td>\n",
       "      <td>-0.004811</td>\n",
       "    </tr>\n",
       "    <tr>\n",
       "      <th>PLUSMINUS Less Than 10Ft</th>\n",
       "      <td>0.006617</td>\n",
       "      <td>-0.002486</td>\n",
       "    </tr>\n",
       "    <tr>\n",
       "      <th>DEF Handoff FREQ</th>\n",
       "      <td>0.009758</td>\n",
       "      <td>-0.002395</td>\n",
       "    </tr>\n",
       "    <tr>\n",
       "      <th>DEF OffScreen FREQ</th>\n",
       "      <td>0.012666</td>\n",
       "      <td>-0.001444</td>\n",
       "    </tr>\n",
       "    <tr>\n",
       "      <th>DEF Postup FREQ</th>\n",
       "      <td>0.001546</td>\n",
       "      <td>-0.000542</td>\n",
       "    </tr>\n",
       "    <tr>\n",
       "      <th>DEF PRRollman FREQ</th>\n",
       "      <td>-0.005031</td>\n",
       "      <td>-0.000098</td>\n",
       "    </tr>\n",
       "    <tr>\n",
       "      <th>FREQ 3 Pointers</th>\n",
       "      <td>0.008561</td>\n",
       "      <td>0.000341</td>\n",
       "    </tr>\n",
       "    <tr>\n",
       "      <th>DIST_MILES_DEF</th>\n",
       "      <td>-0.018360</td>\n",
       "      <td>0.002716</td>\n",
       "    </tr>\n",
       "    <tr>\n",
       "      <th>PLUSMINUS 3 Pointers</th>\n",
       "      <td>0.003343</td>\n",
       "      <td>0.005515</td>\n",
       "    </tr>\n",
       "    <tr>\n",
       "      <th>FREQ Less Than 10Ft</th>\n",
       "      <td>0.004445</td>\n",
       "      <td>0.006559</td>\n",
       "    </tr>\n",
       "    <tr>\n",
       "      <th>DEF PRBallHandler FREQ</th>\n",
       "      <td>0.047525</td>\n",
       "      <td>0.007181</td>\n",
       "    </tr>\n",
       "    <tr>\n",
       "      <th>FREQ Less Than 6Ft</th>\n",
       "      <td>0.001402</td>\n",
       "      <td>0.010120</td>\n",
       "    </tr>\n",
       "    <tr>\n",
       "      <th>REB_CONTEST_PCT</th>\n",
       "      <td>-0.036363</td>\n",
       "      <td>0.010155</td>\n",
       "    </tr>\n",
       "    <tr>\n",
       "      <th>DEF Spotup FREQ</th>\n",
       "      <td>0.031408</td>\n",
       "      <td>0.011552</td>\n",
       "    </tr>\n",
       "    <tr>\n",
       "      <th>DEF Spotup PPP</th>\n",
       "      <td>0.004329</td>\n",
       "      <td>0.013307</td>\n",
       "    </tr>\n",
       "    <tr>\n",
       "      <th>DEF Postup PPP</th>\n",
       "      <td>0.045092</td>\n",
       "      <td>0.022382</td>\n",
       "    </tr>\n",
       "    <tr>\n",
       "      <th>PCT_LOOSE_BALLS_RECOVERED_DEF</th>\n",
       "      <td>0.029916</td>\n",
       "      <td>0.023356</td>\n",
       "    </tr>\n",
       "    <tr>\n",
       "      <th>DEF Isolation PPP</th>\n",
       "      <td>-0.040607</td>\n",
       "      <td>0.053679</td>\n",
       "    </tr>\n",
       "    <tr>\n",
       "      <th>DEF PRRollman PPP</th>\n",
       "      <td>-0.042458</td>\n",
       "      <td>0.071938</td>\n",
       "    </tr>\n",
       "    <tr>\n",
       "      <th>DEF PRBallHandler PPP</th>\n",
       "      <td>-0.001207</td>\n",
       "      <td>0.076467</td>\n",
       "    </tr>\n",
       "    <tr>\n",
       "      <th>DEFLECTIONS Per36</th>\n",
       "      <td>0.128655</td>\n",
       "      <td>0.981058</td>\n",
       "    </tr>\n",
       "  </tbody>\n",
       "</table>\n",
       "</div>"
      ],
      "text/plain": [
       "                               Component 1  Component 2\n",
       "AVG_REB_DIST                      0.980411    -0.121028\n",
       "DEF OffScreen PPP                 0.096085    -0.060506\n",
       "DEF Handoff PPP                  -0.032713    -0.055563\n",
       "AVG_SPEED_DEF                     0.011503    -0.019693\n",
       "DEF Isolation FREQ                0.003006    -0.010233\n",
       "PLUSMINUS Less Than 6Ft           0.007732    -0.004811\n",
       "PLUSMINUS Less Than 10Ft          0.006617    -0.002486\n",
       "DEF Handoff FREQ                  0.009758    -0.002395\n",
       "DEF OffScreen FREQ                0.012666    -0.001444\n",
       "DEF Postup FREQ                   0.001546    -0.000542\n",
       "DEF PRRollman FREQ               -0.005031    -0.000098\n",
       "FREQ 3 Pointers                   0.008561     0.000341\n",
       "DIST_MILES_DEF                   -0.018360     0.002716\n",
       "PLUSMINUS 3 Pointers              0.003343     0.005515\n",
       "FREQ Less Than 10Ft               0.004445     0.006559\n",
       "DEF PRBallHandler FREQ            0.047525     0.007181\n",
       "FREQ Less Than 6Ft                0.001402     0.010120\n",
       "REB_CONTEST_PCT                  -0.036363     0.010155\n",
       "DEF Spotup FREQ                   0.031408     0.011552\n",
       "DEF Spotup PPP                    0.004329     0.013307\n",
       "DEF Postup PPP                    0.045092     0.022382\n",
       "PCT_LOOSE_BALLS_RECOVERED_DEF     0.029916     0.023356\n",
       "DEF Isolation PPP                -0.040607     0.053679\n",
       "DEF PRRollman PPP                -0.042458     0.071938\n",
       "DEF PRBallHandler PPP            -0.001207     0.076467\n",
       "DEFLECTIONS Per36                 0.128655     0.981058"
      ]
     },
     "execution_count": 320,
     "metadata": {},
     "output_type": "execute_result"
    }
   ],
   "source": [
    "comps.sort_values('Component 2')"
   ]
  },
  {
   "cell_type": "code",
   "execution_count": null,
   "metadata": {},
   "outputs": [],
   "source": []
  },
  {
   "cell_type": "markdown",
   "metadata": {},
   "source": [
    "## Offence Clustering"
   ]
  },
  {
   "cell_type": "code",
   "execution_count": 5,
   "metadata": {},
   "outputs": [],
   "source": [
    "all_offence_clust = pd.read_csv('all_offence.csv')\n",
    "\n",
    "all_offence_clust = all_offence_clust[(all_offence_clust['GP']>20)& (all_offence_clust['MIN']>15)]"
   ]
  },
  {
   "cell_type": "code",
   "execution_count": 15,
   "metadata": {},
   "outputs": [
    {
     "data": {
      "text/html": [
       "<div>\n",
       "<style scoped>\n",
       "    .dataframe tbody tr th:only-of-type {\n",
       "        vertical-align: middle;\n",
       "    }\n",
       "\n",
       "    .dataframe tbody tr th {\n",
       "        vertical-align: top;\n",
       "    }\n",
       "\n",
       "    .dataframe thead th {\n",
       "        text-align: right;\n",
       "    }\n",
       "</style>\n",
       "<table border=\"1\" class=\"dataframe\">\n",
       "  <thead>\n",
       "    <tr style=\"text-align: right;\">\n",
       "      <th></th>\n",
       "      <th>PLAYER_NAME</th>\n",
       "      <th>Season</th>\n",
       "      <th>Cut PPP</th>\n",
       "      <th>Cut FREQ</th>\n",
       "      <th>GP</th>\n",
       "      <th>Handoff PPP</th>\n",
       "      <th>Handoff FREQ</th>\n",
       "      <th>Isolation PPP</th>\n",
       "      <th>Isolation FREQ</th>\n",
       "      <th>Misc PPP</th>\n",
       "      <th>...</th>\n",
       "      <th>FG3A</th>\n",
       "      <th>USG_PCT</th>\n",
       "      <th>POTENTIAL_AST FREQ</th>\n",
       "      <th>Restricted Area FREQ</th>\n",
       "      <th>In The Paint (Non-RA) FREQ</th>\n",
       "      <th>Mid-Range FREQ</th>\n",
       "      <th>3P FREQ</th>\n",
       "      <th>Drives FREQ</th>\n",
       "      <th>PULL_UP FREQ</th>\n",
       "      <th>CATCH_SHOOT FREQ</th>\n",
       "    </tr>\n",
       "  </thead>\n",
       "  <tbody>\n",
       "    <tr>\n",
       "      <th>69</th>\n",
       "      <td>Pascal Siakam</td>\n",
       "      <td>2021-22</td>\n",
       "      <td>1.389</td>\n",
       "      <td>0.046</td>\n",
       "      <td>68</td>\n",
       "      <td>1.184</td>\n",
       "      <td>0.031</td>\n",
       "      <td>0.902</td>\n",
       "      <td>0.236</td>\n",
       "      <td>0.756</td>\n",
       "      <td>...</td>\n",
       "      <td>3.2</td>\n",
       "      <td>0.257</td>\n",
       "      <td>0.467249</td>\n",
       "      <td>0.335616</td>\n",
       "      <td>0.445205</td>\n",
       "      <td>0.219178</td>\n",
       "      <td>0.179775</td>\n",
       "      <td>0.624454</td>\n",
       "      <td>0.280899</td>\n",
       "      <td>0.179775</td>\n",
       "    </tr>\n",
       "  </tbody>\n",
       "</table>\n",
       "<p>1 rows × 41 columns</p>\n",
       "</div>"
      ],
      "text/plain": [
       "      PLAYER_NAME   Season  Cut PPP  Cut FREQ  GP  Handoff PPP  Handoff FREQ  \\\n",
       "69  Pascal Siakam  2021-22    1.389     0.046  68        1.184         0.031   \n",
       "\n",
       "    Isolation PPP  Isolation FREQ  Misc PPP  ...  FG3A  USG_PCT  \\\n",
       "69          0.902           0.236     0.756  ...   3.2    0.257   \n",
       "\n",
       "    POTENTIAL_AST FREQ  Restricted Area FREQ  In The Paint (Non-RA) FREQ  \\\n",
       "69            0.467249              0.335616                    0.445205   \n",
       "\n",
       "    Mid-Range FREQ   3P FREQ  Drives FREQ  PULL_UP FREQ  CATCH_SHOOT FREQ  \n",
       "69        0.219178  0.179775     0.624454      0.280899          0.179775  \n",
       "\n",
       "[1 rows x 41 columns]"
      ]
     },
     "execution_count": 15,
     "metadata": {},
     "output_type": "execute_result"
    }
   ],
   "source": [
    "all_offence_clust[all_offence_clust['PLAYER_NAME']=='Pascal Siakam']"
   ]
  },
  {
   "cell_type": "code",
   "execution_count": 788,
   "metadata": {},
   "outputs": [],
   "source": [
    "off_train = all_offence_clust.drop(['PLAYER_NAME', 'Season', 'GP', 'MIN', 'Misc PPP', 'Misc FREQ', \"Total Poss\", 'POTENTIAL_AST','PULL_UP_FG3_PCT', 'CATCH_SHOOT_FG_PCT' ], axis='columns')"
   ]
  },
  {
   "cell_type": "code",
   "execution_count": 789,
   "metadata": {},
   "outputs": [
    {
     "data": {
      "text/plain": [
       "0"
      ]
     },
     "execution_count": 789,
     "metadata": {},
     "output_type": "execute_result"
    }
   ],
   "source": [
    "(off_train['Mid-Range FREQ'].values>1).sum()"
   ]
  },
  {
   "cell_type": "code",
   "execution_count": 790,
   "metadata": {},
   "outputs": [],
   "source": [
    "norm_off_train = pd.DataFrame(StandardScaler().fit_transform(off_train),columns = off_train.columns)"
   ]
  },
  {
   "cell_type": "code",
   "execution_count": 791,
   "metadata": {},
   "outputs": [
    {
     "name": "stderr",
     "output_type": "stream",
     "text": [
      "c:\\Users\\rpand\\anaconda3\\envs\\nba_app_env\\lib\\site-packages\\sklearn\\cluster\\_kmeans.py:1332: UserWarning:\n",
      "\n",
      "KMeans is known to have a memory leak on Windows with MKL, when there are less chunks than available threads. You can avoid it by setting the environment variable OMP_NUM_THREADS=2.\n",
      "\n",
      "c:\\Users\\rpand\\anaconda3\\envs\\nba_app_env\\lib\\site-packages\\sklearn\\cluster\\_kmeans.py:1332: UserWarning:\n",
      "\n",
      "KMeans is known to have a memory leak on Windows with MKL, when there are less chunks than available threads. You can avoid it by setting the environment variable OMP_NUM_THREADS=2.\n",
      "\n",
      "c:\\Users\\rpand\\anaconda3\\envs\\nba_app_env\\lib\\site-packages\\sklearn\\cluster\\_kmeans.py:1332: UserWarning:\n",
      "\n",
      "KMeans is known to have a memory leak on Windows with MKL, when there are less chunks than available threads. You can avoid it by setting the environment variable OMP_NUM_THREADS=2.\n",
      "\n",
      "c:\\Users\\rpand\\anaconda3\\envs\\nba_app_env\\lib\\site-packages\\sklearn\\cluster\\_kmeans.py:1332: UserWarning:\n",
      "\n",
      "KMeans is known to have a memory leak on Windows with MKL, when there are less chunks than available threads. You can avoid it by setting the environment variable OMP_NUM_THREADS=2.\n",
      "\n",
      "c:\\Users\\rpand\\anaconda3\\envs\\nba_app_env\\lib\\site-packages\\sklearn\\cluster\\_kmeans.py:1332: UserWarning:\n",
      "\n",
      "KMeans is known to have a memory leak on Windows with MKL, when there are less chunks than available threads. You can avoid it by setting the environment variable OMP_NUM_THREADS=2.\n",
      "\n",
      "c:\\Users\\rpand\\anaconda3\\envs\\nba_app_env\\lib\\site-packages\\sklearn\\cluster\\_kmeans.py:1332: UserWarning:\n",
      "\n",
      "KMeans is known to have a memory leak on Windows with MKL, when there are less chunks than available threads. You can avoid it by setting the environment variable OMP_NUM_THREADS=2.\n",
      "\n",
      "c:\\Users\\rpand\\anaconda3\\envs\\nba_app_env\\lib\\site-packages\\sklearn\\cluster\\_kmeans.py:1332: UserWarning:\n",
      "\n",
      "KMeans is known to have a memory leak on Windows with MKL, when there are less chunks than available threads. You can avoid it by setting the environment variable OMP_NUM_THREADS=2.\n",
      "\n",
      "c:\\Users\\rpand\\anaconda3\\envs\\nba_app_env\\lib\\site-packages\\sklearn\\cluster\\_kmeans.py:1332: UserWarning:\n",
      "\n",
      "KMeans is known to have a memory leak on Windows with MKL, when there are less chunks than available threads. You can avoid it by setting the environment variable OMP_NUM_THREADS=2.\n",
      "\n",
      "c:\\Users\\rpand\\anaconda3\\envs\\nba_app_env\\lib\\site-packages\\sklearn\\cluster\\_kmeans.py:1332: UserWarning:\n",
      "\n",
      "KMeans is known to have a memory leak on Windows with MKL, when there are less chunks than available threads. You can avoid it by setting the environment variable OMP_NUM_THREADS=2.\n",
      "\n",
      "c:\\Users\\rpand\\anaconda3\\envs\\nba_app_env\\lib\\site-packages\\sklearn\\cluster\\_kmeans.py:1332: UserWarning:\n",
      "\n",
      "KMeans is known to have a memory leak on Windows with MKL, when there are less chunks than available threads. You can avoid it by setting the environment variable OMP_NUM_THREADS=2.\n",
      "\n",
      "c:\\Users\\rpand\\anaconda3\\envs\\nba_app_env\\lib\\site-packages\\sklearn\\cluster\\_kmeans.py:1332: UserWarning:\n",
      "\n",
      "KMeans is known to have a memory leak on Windows with MKL, when there are less chunks than available threads. You can avoid it by setting the environment variable OMP_NUM_THREADS=2.\n",
      "\n",
      "c:\\Users\\rpand\\anaconda3\\envs\\nba_app_env\\lib\\site-packages\\sklearn\\cluster\\_kmeans.py:1332: UserWarning:\n",
      "\n",
      "KMeans is known to have a memory leak on Windows with MKL, when there are less chunks than available threads. You can avoid it by setting the environment variable OMP_NUM_THREADS=2.\n",
      "\n",
      "c:\\Users\\rpand\\anaconda3\\envs\\nba_app_env\\lib\\site-packages\\sklearn\\cluster\\_kmeans.py:1332: UserWarning:\n",
      "\n",
      "KMeans is known to have a memory leak on Windows with MKL, when there are less chunks than available threads. You can avoid it by setting the environment variable OMP_NUM_THREADS=2.\n",
      "\n",
      "c:\\Users\\rpand\\anaconda3\\envs\\nba_app_env\\lib\\site-packages\\sklearn\\cluster\\_kmeans.py:1332: UserWarning:\n",
      "\n",
      "KMeans is known to have a memory leak on Windows with MKL, when there are less chunks than available threads. You can avoid it by setting the environment variable OMP_NUM_THREADS=2.\n",
      "\n",
      "c:\\Users\\rpand\\anaconda3\\envs\\nba_app_env\\lib\\site-packages\\sklearn\\cluster\\_kmeans.py:1332: UserWarning:\n",
      "\n",
      "KMeans is known to have a memory leak on Windows with MKL, when there are less chunks than available threads. You can avoid it by setting the environment variable OMP_NUM_THREADS=2.\n",
      "\n",
      "c:\\Users\\rpand\\anaconda3\\envs\\nba_app_env\\lib\\site-packages\\sklearn\\cluster\\_kmeans.py:1332: UserWarning:\n",
      "\n",
      "KMeans is known to have a memory leak on Windows with MKL, when there are less chunks than available threads. You can avoid it by setting the environment variable OMP_NUM_THREADS=2.\n",
      "\n",
      "c:\\Users\\rpand\\anaconda3\\envs\\nba_app_env\\lib\\site-packages\\sklearn\\cluster\\_kmeans.py:1332: UserWarning:\n",
      "\n",
      "KMeans is known to have a memory leak on Windows with MKL, when there are less chunks than available threads. You can avoid it by setting the environment variable OMP_NUM_THREADS=2.\n",
      "\n",
      "c:\\Users\\rpand\\anaconda3\\envs\\nba_app_env\\lib\\site-packages\\sklearn\\cluster\\_kmeans.py:1332: UserWarning:\n",
      "\n",
      "KMeans is known to have a memory leak on Windows with MKL, when there are less chunks than available threads. You can avoid it by setting the environment variable OMP_NUM_THREADS=2.\n",
      "\n"
     ]
    },
    {
     "data": {
      "image/png": "[encoded data removed]",
      "text/plain": [
       "<Figure size 432x288 with 1 Axes>"
      ]
     },
     "metadata": {
      "needs_background": "light"
     },
     "output_type": "display_data"
    }
   ],
   "source": [
    "gauss_tune(norm_off_train, 3,20)"
   ]
  },
  {
   "cell_type": "code",
   "execution_count": 806,
   "metadata": {},
   "outputs": [
    {
     "name": "stderr",
     "output_type": "stream",
     "text": [
      "c:\\Users\\rpand\\anaconda3\\envs\\nba_app_env\\lib\\site-packages\\sklearn\\cluster\\_kmeans.py:1332: UserWarning:\n",
      "\n",
      "KMeans is known to have a memory leak on Windows with MKL, when there are less chunks than available threads. You can avoid it by setting the environment variable OMP_NUM_THREADS=2.\n",
      "\n"
     ]
    }
   ],
   "source": [
    "off_cluster_results = off_train.copy()\n",
    "gmm = GaussianMixture(17, random_state=29)\n",
    "off_clusters = gmm.fit_predict(norm_off_train)\n",
    "off_cluster_results['Clusters'] = off_clusters"
   ]
  },
  {
   "cell_type": "code",
   "execution_count": 807,
   "metadata": {},
   "outputs": [
    {
     "data": {
      "text/plain": [
       "3     32\n",
       "9     30\n",
       "11    27\n",
       "0     26\n",
       "14    24\n",
       "10    22\n",
       "6     21\n",
       "1     19\n",
       "2     18\n",
       "15    18\n",
       "8     18\n",
       "7     16\n",
       "12    15\n",
       "4     15\n",
       "13    14\n",
       "16    13\n",
       "5      7\n",
       "Name: Cluster, dtype: int64"
      ]
     },
     "execution_count": 807,
     "metadata": {},
     "output_type": "execute_result"
    }
   ],
   "source": [
    "\n",
    "off_cluster_groups = off_cluster_results.groupby(off_clusters).mean()\n",
    "off_cluster_groups.to_html('Offence Cluster Data.html')\n",
    "off_player_groups  = all_offence_clust[['PLAYER_NAME', 'Season']].copy()\n",
    "off_player_groups['Cluster'] = off_clusters\n",
    "off_player_groups.Cluster.value_counts()"
   ]
  },
  {
   "cell_type": "code",
   "execution_count": 839,
   "metadata": {},
   "outputs": [
    {
     "data": {
      "text/html": [
       "<div>\n",
       "<style scoped>\n",
       "    .dataframe tbody tr th:only-of-type {\n",
       "        vertical-align: middle;\n",
       "    }\n",
       "\n",
       "    .dataframe tbody tr th {\n",
       "        vertical-align: top;\n",
       "    }\n",
       "\n",
       "    .dataframe thead th {\n",
       "        text-align: right;\n",
       "    }\n",
       "</style>\n",
       "<table border=\"1\" class=\"dataframe\">\n",
       "  <thead>\n",
       "    <tr style=\"text-align: right;\">\n",
       "      <th></th>\n",
       "      <th>Cut PPP</th>\n",
       "      <th>Cut FREQ</th>\n",
       "      <th>Handoff PPP</th>\n",
       "      <th>Handoff FREQ</th>\n",
       "      <th>Isolation PPP</th>\n",
       "      <th>Isolation FREQ</th>\n",
       "      <th>OffScreen PPP</th>\n",
       "      <th>OffScreen FREQ</th>\n",
       "      <th>Postup PPP</th>\n",
       "      <th>Postup FREQ</th>\n",
       "      <th>...</th>\n",
       "      <th>USG_PCT</th>\n",
       "      <th>POTENTIAL_AST FREQ</th>\n",
       "      <th>Restricted Area FREQ</th>\n",
       "      <th>In The Paint (Non-RA) FREQ</th>\n",
       "      <th>Mid-Range FREQ</th>\n",
       "      <th>3P FREQ</th>\n",
       "      <th>Drives FREQ</th>\n",
       "      <th>PULL_UP FREQ</th>\n",
       "      <th>CATCH_SHOOT FREQ</th>\n",
       "      <th>Clusters</th>\n",
       "    </tr>\n",
       "  </thead>\n",
       "  <tbody>\n",
       "    <tr>\n",
       "      <th>0</th>\n",
       "      <td>1.183577</td>\n",
       "      <td>0.031462</td>\n",
       "      <td>0.910769</td>\n",
       "      <td>0.099423</td>\n",
       "      <td>0.861192</td>\n",
       "      <td>0.056154</td>\n",
       "      <td>0.969115</td>\n",
       "      <td>0.083154</td>\n",
       "      <td>0.026923</td>\n",
       "      <td>0.000423</td>\n",
       "      <td>...</td>\n",
       "      <td>0.210731</td>\n",
       "      <td>0.374927</td>\n",
       "      <td>0.407665</td>\n",
       "      <td>0.272326</td>\n",
       "      <td>0.320009</td>\n",
       "      <td>0.519376</td>\n",
       "      <td>0.403745</td>\n",
       "      <td>0.363344</td>\n",
       "      <td>0.348195</td>\n",
       "      <td>0.0</td>\n",
       "    </tr>\n",
       "    <tr>\n",
       "      <th>1</th>\n",
       "      <td>1.314316</td>\n",
       "      <td>0.131368</td>\n",
       "      <td>0.072421</td>\n",
       "      <td>0.002421</td>\n",
       "      <td>0.647316</td>\n",
       "      <td>0.033684</td>\n",
       "      <td>0.283632</td>\n",
       "      <td>0.007105</td>\n",
       "      <td>0.911947</td>\n",
       "      <td>0.146316</td>\n",
       "      <td>...</td>\n",
       "      <td>0.196895</td>\n",
       "      <td>0.326910</td>\n",
       "      <td>0.490377</td>\n",
       "      <td>0.331539</td>\n",
       "      <td>0.178083</td>\n",
       "      <td>0.240540</td>\n",
       "      <td>0.201730</td>\n",
       "      <td>0.106662</td>\n",
       "      <td>0.310938</td>\n",
       "      <td>1.0</td>\n",
       "    </tr>\n",
       "    <tr>\n",
       "      <th>2</th>\n",
       "      <td>1.208222</td>\n",
       "      <td>0.153667</td>\n",
       "      <td>0.206333</td>\n",
       "      <td>0.008389</td>\n",
       "      <td>0.233722</td>\n",
       "      <td>0.010944</td>\n",
       "      <td>0.000000</td>\n",
       "      <td>0.000000</td>\n",
       "      <td>0.174778</td>\n",
       "      <td>0.008722</td>\n",
       "      <td>...</td>\n",
       "      <td>0.145889</td>\n",
       "      <td>0.314781</td>\n",
       "      <td>0.761026</td>\n",
       "      <td>0.177500</td>\n",
       "      <td>0.061474</td>\n",
       "      <td>0.359437</td>\n",
       "      <td>0.251103</td>\n",
       "      <td>0.055778</td>\n",
       "      <td>0.350507</td>\n",
       "      <td>2.0</td>\n",
       "    </tr>\n",
       "    <tr>\n",
       "      <th>3</th>\n",
       "      <td>1.327937</td>\n",
       "      <td>0.058031</td>\n",
       "      <td>0.849906</td>\n",
       "      <td>0.055531</td>\n",
       "      <td>0.876781</td>\n",
       "      <td>0.049875</td>\n",
       "      <td>0.881219</td>\n",
       "      <td>0.030469</td>\n",
       "      <td>0.272062</td>\n",
       "      <td>0.010281</td>\n",
       "      <td>...</td>\n",
       "      <td>0.183812</td>\n",
       "      <td>0.406264</td>\n",
       "      <td>0.542517</td>\n",
       "      <td>0.317844</td>\n",
       "      <td>0.139640</td>\n",
       "      <td>0.420479</td>\n",
       "      <td>0.480686</td>\n",
       "      <td>0.195139</td>\n",
       "      <td>0.335122</td>\n",
       "      <td>3.0</td>\n",
       "    </tr>\n",
       "    <tr>\n",
       "      <th>4</th>\n",
       "      <td>1.315067</td>\n",
       "      <td>0.277933</td>\n",
       "      <td>0.000000</td>\n",
       "      <td>0.000000</td>\n",
       "      <td>0.000000</td>\n",
       "      <td>0.000000</td>\n",
       "      <td>0.000000</td>\n",
       "      <td>0.000000</td>\n",
       "      <td>0.570733</td>\n",
       "      <td>0.054800</td>\n",
       "      <td>...</td>\n",
       "      <td>0.141333</td>\n",
       "      <td>0.306102</td>\n",
       "      <td>0.741245</td>\n",
       "      <td>0.224675</td>\n",
       "      <td>0.034080</td>\n",
       "      <td>0.015390</td>\n",
       "      <td>0.055569</td>\n",
       "      <td>0.021714</td>\n",
       "      <td>0.048119</td>\n",
       "      <td>4.0</td>\n",
       "    </tr>\n",
       "    <tr>\n",
       "      <th>5</th>\n",
       "      <td>0.906714</td>\n",
       "      <td>0.044000</td>\n",
       "      <td>0.383000</td>\n",
       "      <td>0.024571</td>\n",
       "      <td>0.514286</td>\n",
       "      <td>0.066429</td>\n",
       "      <td>0.000000</td>\n",
       "      <td>0.000000</td>\n",
       "      <td>0.000000</td>\n",
       "      <td>0.000000</td>\n",
       "      <td>...</td>\n",
       "      <td>0.158714</td>\n",
       "      <td>1.251645</td>\n",
       "      <td>0.485207</td>\n",
       "      <td>0.302344</td>\n",
       "      <td>0.212449</td>\n",
       "      <td>0.280267</td>\n",
       "      <td>1.127054</td>\n",
       "      <td>0.312704</td>\n",
       "      <td>0.183101</td>\n",
       "      <td>5.0</td>\n",
       "    </tr>\n",
       "    <tr>\n",
       "      <th>6</th>\n",
       "      <td>1.252000</td>\n",
       "      <td>0.063905</td>\n",
       "      <td>0.837857</td>\n",
       "      <td>0.063524</td>\n",
       "      <td>0.034381</td>\n",
       "      <td>0.001286</td>\n",
       "      <td>0.998571</td>\n",
       "      <td>0.059667</td>\n",
       "      <td>0.034905</td>\n",
       "      <td>0.001095</td>\n",
       "      <td>...</td>\n",
       "      <td>0.151095</td>\n",
       "      <td>0.327365</td>\n",
       "      <td>0.487996</td>\n",
       "      <td>0.261587</td>\n",
       "      <td>0.250417</td>\n",
       "      <td>0.602519</td>\n",
       "      <td>0.278453</td>\n",
       "      <td>0.177041</td>\n",
       "      <td>0.547792</td>\n",
       "      <td>6.0</td>\n",
       "    </tr>\n",
       "    <tr>\n",
       "      <th>7</th>\n",
       "      <td>1.362000</td>\n",
       "      <td>0.048125</td>\n",
       "      <td>0.925063</td>\n",
       "      <td>0.045000</td>\n",
       "      <td>0.787438</td>\n",
       "      <td>0.082000</td>\n",
       "      <td>0.801500</td>\n",
       "      <td>0.050500</td>\n",
       "      <td>0.983125</td>\n",
       "      <td>0.094625</td>\n",
       "      <td>...</td>\n",
       "      <td>0.209563</td>\n",
       "      <td>0.274463</td>\n",
       "      <td>0.368518</td>\n",
       "      <td>0.306275</td>\n",
       "      <td>0.325207</td>\n",
       "      <td>0.431991</td>\n",
       "      <td>0.334799</td>\n",
       "      <td>0.282498</td>\n",
       "      <td>0.383558</td>\n",
       "      <td>7.0</td>\n",
       "    </tr>\n",
       "    <tr>\n",
       "      <th>8</th>\n",
       "      <td>0.717889</td>\n",
       "      <td>0.026667</td>\n",
       "      <td>0.977111</td>\n",
       "      <td>0.132333</td>\n",
       "      <td>0.179056</td>\n",
       "      <td>0.008500</td>\n",
       "      <td>0.965222</td>\n",
       "      <td>0.147722</td>\n",
       "      <td>0.049389</td>\n",
       "      <td>0.002333</td>\n",
       "      <td>...</td>\n",
       "      <td>0.178833</td>\n",
       "      <td>0.305490</td>\n",
       "      <td>0.457135</td>\n",
       "      <td>0.263057</td>\n",
       "      <td>0.279808</td>\n",
       "      <td>0.717009</td>\n",
       "      <td>0.247812</td>\n",
       "      <td>0.255062</td>\n",
       "      <td>0.563775</td>\n",
       "      <td>8.0</td>\n",
       "    </tr>\n",
       "    <tr>\n",
       "      <th>9</th>\n",
       "      <td>1.088167</td>\n",
       "      <td>0.019033</td>\n",
       "      <td>0.916267</td>\n",
       "      <td>0.059567</td>\n",
       "      <td>0.918133</td>\n",
       "      <td>0.141600</td>\n",
       "      <td>0.936067</td>\n",
       "      <td>0.035900</td>\n",
       "      <td>0.346667</td>\n",
       "      <td>0.013500</td>\n",
       "      <td>...</td>\n",
       "      <td>0.276067</td>\n",
       "      <td>0.537241</td>\n",
       "      <td>0.379052</td>\n",
       "      <td>0.349169</td>\n",
       "      <td>0.271779</td>\n",
       "      <td>0.393658</td>\n",
       "      <td>0.643719</td>\n",
       "      <td>0.451757</td>\n",
       "      <td>0.172106</td>\n",
       "      <td>9.0</td>\n",
       "    </tr>\n",
       "    <tr>\n",
       "      <th>10</th>\n",
       "      <td>1.298364</td>\n",
       "      <td>0.228273</td>\n",
       "      <td>0.055955</td>\n",
       "      <td>0.001091</td>\n",
       "      <td>0.325364</td>\n",
       "      <td>0.011000</td>\n",
       "      <td>0.000000</td>\n",
       "      <td>0.000000</td>\n",
       "      <td>0.878364</td>\n",
       "      <td>0.095682</td>\n",
       "      <td>...</td>\n",
       "      <td>0.168955</td>\n",
       "      <td>0.322366</td>\n",
       "      <td>0.658579</td>\n",
       "      <td>0.278919</td>\n",
       "      <td>0.062502</td>\n",
       "      <td>0.072576</td>\n",
       "      <td>0.086196</td>\n",
       "      <td>0.038218</td>\n",
       "      <td>0.137900</td>\n",
       "      <td>10.0</td>\n",
       "    </tr>\n",
       "    <tr>\n",
       "      <th>11</th>\n",
       "      <td>0.056963</td>\n",
       "      <td>0.001111</td>\n",
       "      <td>0.860370</td>\n",
       "      <td>0.058074</td>\n",
       "      <td>0.866222</td>\n",
       "      <td>0.077259</td>\n",
       "      <td>0.656000</td>\n",
       "      <td>0.026370</td>\n",
       "      <td>0.040741</td>\n",
       "      <td>0.000926</td>\n",
       "      <td>...</td>\n",
       "      <td>0.199889</td>\n",
       "      <td>0.634052</td>\n",
       "      <td>0.352916</td>\n",
       "      <td>0.358905</td>\n",
       "      <td>0.288178</td>\n",
       "      <td>0.441997</td>\n",
       "      <td>0.694890</td>\n",
       "      <td>0.419848</td>\n",
       "      <td>0.252418</td>\n",
       "      <td>11.0</td>\n",
       "    </tr>\n",
       "    <tr>\n",
       "      <th>12</th>\n",
       "      <td>1.271733</td>\n",
       "      <td>0.154400</td>\n",
       "      <td>0.000000</td>\n",
       "      <td>0.000000</td>\n",
       "      <td>0.000000</td>\n",
       "      <td>0.000000</td>\n",
       "      <td>0.000000</td>\n",
       "      <td>0.000000</td>\n",
       "      <td>0.693467</td>\n",
       "      <td>0.054800</td>\n",
       "      <td>...</td>\n",
       "      <td>0.160867</td>\n",
       "      <td>0.319543</td>\n",
       "      <td>0.606979</td>\n",
       "      <td>0.261938</td>\n",
       "      <td>0.131084</td>\n",
       "      <td>0.365628</td>\n",
       "      <td>0.108249</td>\n",
       "      <td>0.049937</td>\n",
       "      <td>0.413243</td>\n",
       "      <td>12.0</td>\n",
       "    </tr>\n",
       "    <tr>\n",
       "      <th>13</th>\n",
       "      <td>1.386071</td>\n",
       "      <td>0.041071</td>\n",
       "      <td>0.875929</td>\n",
       "      <td>0.035214</td>\n",
       "      <td>0.962786</td>\n",
       "      <td>0.160357</td>\n",
       "      <td>0.922571</td>\n",
       "      <td>0.051357</td>\n",
       "      <td>0.947286</td>\n",
       "      <td>0.092643</td>\n",
       "      <td>...</td>\n",
       "      <td>0.300000</td>\n",
       "      <td>0.404407</td>\n",
       "      <td>0.367780</td>\n",
       "      <td>0.270754</td>\n",
       "      <td>0.361466</td>\n",
       "      <td>0.280926</td>\n",
       "      <td>0.446227</td>\n",
       "      <td>0.422684</td>\n",
       "      <td>0.180080</td>\n",
       "      <td>13.0</td>\n",
       "    </tr>\n",
       "    <tr>\n",
       "      <th>14</th>\n",
       "      <td>1.069500</td>\n",
       "      <td>0.087583</td>\n",
       "      <td>0.275875</td>\n",
       "      <td>0.020958</td>\n",
       "      <td>0.020833</td>\n",
       "      <td>0.000875</td>\n",
       "      <td>0.061125</td>\n",
       "      <td>0.003542</td>\n",
       "      <td>0.128167</td>\n",
       "      <td>0.006167</td>\n",
       "      <td>...</td>\n",
       "      <td>0.126542</td>\n",
       "      <td>0.567304</td>\n",
       "      <td>0.604980</td>\n",
       "      <td>0.261932</td>\n",
       "      <td>0.133088</td>\n",
       "      <td>0.552760</td>\n",
       "      <td>0.358101</td>\n",
       "      <td>0.121583</td>\n",
       "      <td>0.500834</td>\n",
       "      <td>14.0</td>\n",
       "    </tr>\n",
       "    <tr>\n",
       "      <th>15</th>\n",
       "      <td>1.240889</td>\n",
       "      <td>0.037111</td>\n",
       "      <td>0.874222</td>\n",
       "      <td>0.053889</td>\n",
       "      <td>0.839667</td>\n",
       "      <td>0.054611</td>\n",
       "      <td>0.116500</td>\n",
       "      <td>0.006167</td>\n",
       "      <td>0.040722</td>\n",
       "      <td>0.000889</td>\n",
       "      <td>...</td>\n",
       "      <td>0.166611</td>\n",
       "      <td>0.767617</td>\n",
       "      <td>0.447430</td>\n",
       "      <td>0.392609</td>\n",
       "      <td>0.159961</td>\n",
       "      <td>0.410920</td>\n",
       "      <td>0.695077</td>\n",
       "      <td>0.267285</td>\n",
       "      <td>0.309810</td>\n",
       "      <td>15.0</td>\n",
       "    </tr>\n",
       "    <tr>\n",
       "      <th>16</th>\n",
       "      <td>1.298846</td>\n",
       "      <td>0.097615</td>\n",
       "      <td>0.871308</td>\n",
       "      <td>0.027000</td>\n",
       "      <td>0.843154</td>\n",
       "      <td>0.055308</td>\n",
       "      <td>0.804308</td>\n",
       "      <td>0.031385</td>\n",
       "      <td>0.987231</td>\n",
       "      <td>0.124077</td>\n",
       "      <td>...</td>\n",
       "      <td>0.225077</td>\n",
       "      <td>0.312535</td>\n",
       "      <td>0.542780</td>\n",
       "      <td>0.304497</td>\n",
       "      <td>0.152723</td>\n",
       "      <td>0.348654</td>\n",
       "      <td>0.247626</td>\n",
       "      <td>0.121828</td>\n",
       "      <td>0.334533</td>\n",
       "      <td>16.0</td>\n",
       "    </tr>\n",
       "  </tbody>\n",
       "</table>\n",
       "<p>17 rows × 32 columns</p>\n",
       "</div>"
      ],
      "text/plain": [
       "     Cut PPP  Cut FREQ  Handoff PPP  Handoff FREQ  Isolation PPP  \\\n",
       "0   1.183577  0.031462     0.910769      0.099423       0.861192   \n",
       "1   1.314316  0.131368     0.072421      0.002421       0.647316   \n",
       "2   1.208222  0.153667     0.206333      0.008389       0.233722   \n",
       "3   1.327937  0.058031     0.849906      0.055531       0.876781   \n",
       "4   1.315067  0.277933     0.000000      0.000000       0.000000   \n",
       "5   0.906714  0.044000     0.383000      0.024571       0.514286   \n",
       "6   1.252000  0.063905     0.837857      0.063524       0.034381   \n",
       "7   1.362000  0.048125     0.925063      0.045000       0.787438   \n",
       "8   0.717889  0.026667     0.977111      0.132333       0.179056   \n",
       "9   1.088167  0.019033     0.916267      0.059567       0.918133   \n",
       "10  1.298364  0.228273     0.055955      0.001091       0.325364   \n",
       "11  0.056963  0.001111     0.860370      0.058074       0.866222   \n",
       "12  1.271733  0.154400     0.000000      0.000000       0.000000   \n",
       "13  1.386071  0.041071     0.875929      0.035214       0.962786   \n",
       "14  1.069500  0.087583     0.275875      0.020958       0.020833   \n",
       "15  1.240889  0.037111     0.874222      0.053889       0.839667   \n",
       "16  1.298846  0.097615     0.871308      0.027000       0.843154   \n",
       "\n",
       "    Isolation FREQ  OffScreen PPP  OffScreen FREQ  Postup PPP  Postup FREQ  \\\n",
       "0         0.056154       0.969115        0.083154    0.026923     0.000423   \n",
       "1         0.033684       0.283632        0.007105    0.911947     0.146316   \n",
       "2         0.010944       0.000000        0.000000    0.174778     0.008722   \n",
       "3         0.049875       0.881219        0.030469    0.272062     0.010281   \n",
       "4         0.000000       0.000000        0.000000    0.570733     0.054800   \n",
       "5         0.066429       0.000000        0.000000    0.000000     0.000000   \n",
       "6         0.001286       0.998571        0.059667    0.034905     0.001095   \n",
       "7         0.082000       0.801500        0.050500    0.983125     0.094625   \n",
       "8         0.008500       0.965222        0.147722    0.049389     0.002333   \n",
       "9         0.141600       0.936067        0.035900    0.346667     0.013500   \n",
       "10        0.011000       0.000000        0.000000    0.878364     0.095682   \n",
       "11        0.077259       0.656000        0.026370    0.040741     0.000926   \n",
       "12        0.000000       0.000000        0.000000    0.693467     0.054800   \n",
       "13        0.160357       0.922571        0.051357    0.947286     0.092643   \n",
       "14        0.000875       0.061125        0.003542    0.128167     0.006167   \n",
       "15        0.054611       0.116500        0.006167    0.040722     0.000889   \n",
       "16        0.055308       0.804308        0.031385    0.987231     0.124077   \n",
       "\n",
       "    ...   USG_PCT  POTENTIAL_AST FREQ  Restricted Area FREQ  \\\n",
       "0   ...  0.210731            0.374927              0.407665   \n",
       "1   ...  0.196895            0.326910              0.490377   \n",
       "2   ...  0.145889            0.314781              0.761026   \n",
       "3   ...  0.183812            0.406264              0.542517   \n",
       "4   ...  0.141333            0.306102              0.741245   \n",
       "5   ...  0.158714            1.251645              0.485207   \n",
       "6   ...  0.151095            0.327365              0.487996   \n",
       "7   ...  0.209563            0.274463              0.368518   \n",
       "8   ...  0.178833            0.305490              0.457135   \n",
       "9   ...  0.276067            0.537241              0.379052   \n",
       "10  ...  0.168955            0.322366              0.658579   \n",
       "11  ...  0.199889            0.634052              0.352916   \n",
       "12  ...  0.160867            0.319543              0.606979   \n",
       "13  ...  0.300000            0.404407              0.367780   \n",
       "14  ...  0.126542            0.567304              0.604980   \n",
       "15  ...  0.166611            0.767617              0.447430   \n",
       "16  ...  0.225077            0.312535              0.542780   \n",
       "\n",
       "    In The Paint (Non-RA) FREQ  Mid-Range FREQ   3P FREQ  Drives FREQ  \\\n",
       "0                     0.272326        0.320009  0.519376     0.403745   \n",
       "1                     0.331539        0.178083  0.240540     0.201730   \n",
       "2                     0.177500        0.061474  0.359437     0.251103   \n",
       "3                     0.317844        0.139640  0.420479     0.480686   \n",
       "4                     0.224675        0.034080  0.015390     0.055569   \n",
       "5                     0.302344        0.212449  0.280267     1.127054   \n",
       "6                     0.261587        0.250417  0.602519     0.278453   \n",
       "7                     0.306275        0.325207  0.431991     0.334799   \n",
       "8                     0.263057        0.279808  0.717009     0.247812   \n",
       "9                     0.349169        0.271779  0.393658     0.643719   \n",
       "10                    0.278919        0.062502  0.072576     0.086196   \n",
       "11                    0.358905        0.288178  0.441997     0.694890   \n",
       "12                    0.261938        0.131084  0.365628     0.108249   \n",
       "13                    0.270754        0.361466  0.280926     0.446227   \n",
       "14                    0.261932        0.133088  0.552760     0.358101   \n",
       "15                    0.392609        0.159961  0.410920     0.695077   \n",
       "16                    0.304497        0.152723  0.348654     0.247626   \n",
       "\n",
       "    PULL_UP FREQ  CATCH_SHOOT FREQ  Clusters  \n",
       "0       0.363344          0.348195       0.0  \n",
       "1       0.106662          0.310938       1.0  \n",
       "2       0.055778          0.350507       2.0  \n",
       "3       0.195139          0.335122       3.0  \n",
       "4       0.021714          0.048119       4.0  \n",
       "5       0.312704          0.183101       5.0  \n",
       "6       0.177041          0.547792       6.0  \n",
       "7       0.282498          0.383558       7.0  \n",
       "8       0.255062          0.563775       8.0  \n",
       "9       0.451757          0.172106       9.0  \n",
       "10      0.038218          0.137900      10.0  \n",
       "11      0.419848          0.252418      11.0  \n",
       "12      0.049937          0.413243      12.0  \n",
       "13      0.422684          0.180080      13.0  \n",
       "14      0.121583          0.500834      14.0  \n",
       "15      0.267285          0.309810      15.0  \n",
       "16      0.121828          0.334533      16.0  \n",
       "\n",
       "[17 rows x 32 columns]"
      ]
     },
     "execution_count": 839,
     "metadata": {},
     "output_type": "execute_result"
    }
   ],
   "source": [
    "off_cluster_groups"
   ]
  },
  {
   "cell_type": "code",
   "execution_count": 840,
   "metadata": {},
   "outputs": [
    {
     "data": {
      "text/html": [
       "<div>\n",
       "<style scoped>\n",
       "    .dataframe tbody tr th:only-of-type {\n",
       "        vertical-align: middle;\n",
       "    }\n",
       "\n",
       "    .dataframe tbody tr th {\n",
       "        vertical-align: top;\n",
       "    }\n",
       "\n",
       "    .dataframe thead th {\n",
       "        text-align: right;\n",
       "    }\n",
       "</style>\n",
       "<table border=\"1\" class=\"dataframe\">\n",
       "  <thead>\n",
       "    <tr style=\"text-align: right;\">\n",
       "      <th></th>\n",
       "      <th>PLAYER_NAME</th>\n",
       "      <th>Season</th>\n",
       "      <th>Cluster</th>\n",
       "    </tr>\n",
       "  </thead>\n",
       "  <tbody>\n",
       "    <tr>\n",
       "      <th>140</th>\n",
       "      <td>OG Anunoby</td>\n",
       "      <td>2021-22</td>\n",
       "      <td>7</td>\n",
       "    </tr>\n",
       "  </tbody>\n",
       "</table>\n",
       "</div>"
      ],
      "text/plain": [
       "    PLAYER_NAME   Season  Cluster\n",
       "140  OG Anunoby  2021-22        7"
      ]
     },
     "execution_count": 840,
     "metadata": {},
     "output_type": "execute_result"
    }
   ],
   "source": [
    "off_player_groups[off_player_groups['PLAYER_NAME']=='OG Anunoby']"
   ]
  },
  {
   "cell_type": "code",
   "execution_count": 842,
   "metadata": {},
   "outputs": [
    {
     "data": {
      "text/html": [
       "<div>\n",
       "<style scoped>\n",
       "    .dataframe tbody tr th:only-of-type {\n",
       "        vertical-align: middle;\n",
       "    }\n",
       "\n",
       "    .dataframe tbody tr th {\n",
       "        vertical-align: top;\n",
       "    }\n",
       "\n",
       "    .dataframe thead th {\n",
       "        text-align: right;\n",
       "    }\n",
       "</style>\n",
       "<table border=\"1\" class=\"dataframe\">\n",
       "  <thead>\n",
       "    <tr style=\"text-align: right;\">\n",
       "      <th></th>\n",
       "      <th>PLAYER_NAME</th>\n",
       "      <th>Season</th>\n",
       "      <th>Cluster</th>\n",
       "    </tr>\n",
       "  </thead>\n",
       "  <tbody>\n",
       "    <tr>\n",
       "      <th>76</th>\n",
       "      <td>Russell Westbrook</td>\n",
       "      <td>2021-22</td>\n",
       "      <td>9</td>\n",
       "    </tr>\n",
       "    <tr>\n",
       "      <th>101</th>\n",
       "      <td>Bradley Beal</td>\n",
       "      <td>2021-22</td>\n",
       "      <td>9</td>\n",
       "    </tr>\n",
       "    <tr>\n",
       "      <th>109</th>\n",
       "      <td>Jrue Holiday</td>\n",
       "      <td>2021-22</td>\n",
       "      <td>9</td>\n",
       "    </tr>\n",
       "    <tr>\n",
       "      <th>122</th>\n",
       "      <td>Tyler Herro</td>\n",
       "      <td>2021-22</td>\n",
       "      <td>9</td>\n",
       "    </tr>\n",
       "    <tr>\n",
       "      <th>149</th>\n",
       "      <td>Anthony Edwards</td>\n",
       "      <td>2021-22</td>\n",
       "      <td>9</td>\n",
       "    </tr>\n",
       "    <tr>\n",
       "      <th>151</th>\n",
       "      <td>Ja Morant</td>\n",
       "      <td>2021-22</td>\n",
       "      <td>9</td>\n",
       "    </tr>\n",
       "    <tr>\n",
       "      <th>177</th>\n",
       "      <td>Dejounte Murray</td>\n",
       "      <td>2021-22</td>\n",
       "      <td>9</td>\n",
       "    </tr>\n",
       "    <tr>\n",
       "      <th>187</th>\n",
       "      <td>D'Angelo Russell</td>\n",
       "      <td>2021-22</td>\n",
       "      <td>9</td>\n",
       "    </tr>\n",
       "    <tr>\n",
       "      <th>208</th>\n",
       "      <td>Reggie Jackson</td>\n",
       "      <td>2021-22</td>\n",
       "      <td>9</td>\n",
       "    </tr>\n",
       "    <tr>\n",
       "      <th>228</th>\n",
       "      <td>Caris LeVert</td>\n",
       "      <td>2021-22</td>\n",
       "      <td>9</td>\n",
       "    </tr>\n",
       "    <tr>\n",
       "      <th>236</th>\n",
       "      <td>De'Aaron Fox</td>\n",
       "      <td>2021-22</td>\n",
       "      <td>9</td>\n",
       "    </tr>\n",
       "    <tr>\n",
       "      <th>246</th>\n",
       "      <td>Darius Garland</td>\n",
       "      <td>2021-22</td>\n",
       "      <td>9</td>\n",
       "    </tr>\n",
       "    <tr>\n",
       "      <th>247</th>\n",
       "      <td>Luka Doncic</td>\n",
       "      <td>2021-22</td>\n",
       "      <td>9</td>\n",
       "    </tr>\n",
       "    <tr>\n",
       "      <th>248</th>\n",
       "      <td>LaMelo Ball</td>\n",
       "      <td>2021-22</td>\n",
       "      <td>9</td>\n",
       "    </tr>\n",
       "    <tr>\n",
       "      <th>256</th>\n",
       "      <td>Cole Anthony</td>\n",
       "      <td>2021-22</td>\n",
       "      <td>9</td>\n",
       "    </tr>\n",
       "    <tr>\n",
       "      <th>258</th>\n",
       "      <td>Cade Cunningham</td>\n",
       "      <td>2021-22</td>\n",
       "      <td>9</td>\n",
       "    </tr>\n",
       "    <tr>\n",
       "      <th>273</th>\n",
       "      <td>Kevin Porter Jr.</td>\n",
       "      <td>2021-22</td>\n",
       "      <td>9</td>\n",
       "    </tr>\n",
       "    <tr>\n",
       "      <th>280</th>\n",
       "      <td>Damian Lillard</td>\n",
       "      <td>2021-22</td>\n",
       "      <td>9</td>\n",
       "    </tr>\n",
       "    <tr>\n",
       "      <th>284</th>\n",
       "      <td>Trae Young</td>\n",
       "      <td>2021-22</td>\n",
       "      <td>9</td>\n",
       "    </tr>\n",
       "    <tr>\n",
       "      <th>287</th>\n",
       "      <td>Dillon Brooks</td>\n",
       "      <td>2021-22</td>\n",
       "      <td>9</td>\n",
       "    </tr>\n",
       "    <tr>\n",
       "      <th>295</th>\n",
       "      <td>Anfernee Simons</td>\n",
       "      <td>2021-22</td>\n",
       "      <td>9</td>\n",
       "    </tr>\n",
       "    <tr>\n",
       "      <th>305</th>\n",
       "      <td>Kyrie Irving</td>\n",
       "      <td>2021-22</td>\n",
       "      <td>9</td>\n",
       "    </tr>\n",
       "    <tr>\n",
       "      <th>317</th>\n",
       "      <td>CJ McCollum</td>\n",
       "      <td>2021-22</td>\n",
       "      <td>9</td>\n",
       "    </tr>\n",
       "    <tr>\n",
       "      <th>320</th>\n",
       "      <td>Dennis Schroder</td>\n",
       "      <td>2021-22</td>\n",
       "      <td>9</td>\n",
       "    </tr>\n",
       "    <tr>\n",
       "      <th>335</th>\n",
       "      <td>Fred VanVleet</td>\n",
       "      <td>2021-22</td>\n",
       "      <td>9</td>\n",
       "    </tr>\n",
       "    <tr>\n",
       "      <th>342</th>\n",
       "      <td>Paul George</td>\n",
       "      <td>2021-22</td>\n",
       "      <td>9</td>\n",
       "    </tr>\n",
       "    <tr>\n",
       "      <th>349</th>\n",
       "      <td>Donovan Mitchell</td>\n",
       "      <td>2021-22</td>\n",
       "      <td>9</td>\n",
       "    </tr>\n",
       "    <tr>\n",
       "      <th>354</th>\n",
       "      <td>Jordan Clarkson</td>\n",
       "      <td>2021-22</td>\n",
       "      <td>9</td>\n",
       "    </tr>\n",
       "    <tr>\n",
       "      <th>361</th>\n",
       "      <td>James Harden</td>\n",
       "      <td>2021-22</td>\n",
       "      <td>9</td>\n",
       "    </tr>\n",
       "    <tr>\n",
       "      <th>373</th>\n",
       "      <td>Shai Gilgeous-Alexander</td>\n",
       "      <td>2021-22</td>\n",
       "      <td>9</td>\n",
       "    </tr>\n",
       "  </tbody>\n",
       "</table>\n",
       "</div>"
      ],
      "text/plain": [
       "                 PLAYER_NAME   Season  Cluster\n",
       "76         Russell Westbrook  2021-22        9\n",
       "101             Bradley Beal  2021-22        9\n",
       "109             Jrue Holiday  2021-22        9\n",
       "122              Tyler Herro  2021-22        9\n",
       "149          Anthony Edwards  2021-22        9\n",
       "151                Ja Morant  2021-22        9\n",
       "177          Dejounte Murray  2021-22        9\n",
       "187         D'Angelo Russell  2021-22        9\n",
       "208           Reggie Jackson  2021-22        9\n",
       "228             Caris LeVert  2021-22        9\n",
       "236             De'Aaron Fox  2021-22        9\n",
       "246           Darius Garland  2021-22        9\n",
       "247              Luka Doncic  2021-22        9\n",
       "248              LaMelo Ball  2021-22        9\n",
       "256             Cole Anthony  2021-22        9\n",
       "258          Cade Cunningham  2021-22        9\n",
       "273         Kevin Porter Jr.  2021-22        9\n",
       "280           Damian Lillard  2021-22        9\n",
       "284               Trae Young  2021-22        9\n",
       "287            Dillon Brooks  2021-22        9\n",
       "295          Anfernee Simons  2021-22        9\n",
       "305             Kyrie Irving  2021-22        9\n",
       "317              CJ McCollum  2021-22        9\n",
       "320          Dennis Schroder  2021-22        9\n",
       "335            Fred VanVleet  2021-22        9\n",
       "342              Paul George  2021-22        9\n",
       "349         Donovan Mitchell  2021-22        9\n",
       "354          Jordan Clarkson  2021-22        9\n",
       "361             James Harden  2021-22        9\n",
       "373  Shai Gilgeous-Alexander  2021-22        9"
      ]
     },
     "execution_count": 842,
     "metadata": {},
     "output_type": "execute_result"
    }
   ],
   "source": [
    "off_player_groups[off_player_groups['Cluster']==9]"
   ]
  },
  {
   "cell_type": "code",
   "execution_count": null,
   "metadata": {},
   "outputs": [],
   "source": [
    "def_ranks = pd.DataFrame()\n",
    "for i in cluster_groups.columns:\n",
    "    def_ranks[i + ' rank'] = cluster_groups[i].rank()\n",
    "\n",
    "def_ranks.to_html('def_ranks')"
   ]
  },
  {
   "cell_type": "code",
   "execution_count": 845,
   "metadata": {},
   "outputs": [
    {
     "name": "stdout",
     "output_type": "stream",
     "text": [
      "Variance Explained by these two components is: 0.9357066588169768\n"
     ]
    },
    {
     "data": {
      "application/vnd.plotly.v1+json": {
       "config": {
        "plotlyServerURL": "https://plot.ly"
       },
       "data": [
        {
         "customdata": [
          "Giannis Antetokounmpo",
          "LeBron James",
          "Jaylen Brown",
          "Jayson Tatum",
          "Jimmy Butler",
          "Pascal Siakam",
          "Joel Embiid",
          "Julius Randle",
          "Zach LaVine",
          "Devin Booker",
          "Kevin Durant",
          "DeMar DeRozan",
          "Brandon Ingram",
          "Khris Middleton"
         ],
         "hoverinfo": "skip",
         "hovertemplate": "Player: %{customdata}<br><extra></extra>",
         "marker": {
          "color": "black"
         },
         "mode": "markers",
         "name": "Cluster 0",
         "type": "scatter",
         "x": [
          1.6446889607574837,
          -2.7469715687727985,
          -1.7444935672635271,
          -3.3386795425708273,
          3.2737362896350772,
          2.0693842343915625,
          1.555727248492327,
          -0.130286432474343,
          -1.8705183467231208,
          -1.7432458439472698,
          -0.21537746907578675,
          3.406976292643879,
          1.1676583098854174,
          -1.3285985649780858
         ],
         "y": [
          -0.34689372491528225,
          -0.2613896904487442,
          0.10879847877344602,
          0.062385710355813334,
          -0.2852837292839924,
          -0.5736953437500273,
          -0.5652829040370395,
          -0.20452501402406173,
          0.026012823449853593,
          0.08828605071256601,
          0.5150816764883254,
          1.0224345467467753,
          0.24225396647709133,
          0.17181715345527482
         ]
        }
       ],
       "layout": {
        "template": {
         "data": {
          "bar": [
           {
            "error_x": {
             "color": "#2a3f5f"
            },
            "error_y": {
             "color": "#2a3f5f"
            },
            "marker": {
             "line": {
              "color": "#E5ECF6",
              "width": 0.5
             },
             "pattern": {
              "fillmode": "overlay",
              "size": 10,
              "solidity": 0.2
             }
            },
            "type": "bar"
           }
          ],
          "barpolar": [
           {
            "marker": {
             "line": {
              "color": "#E5ECF6",
              "width": 0.5
             },
             "pattern": {
              "fillmode": "overlay",
              "size": 10,
              "solidity": 0.2
             }
            },
            "type": "barpolar"
           }
          ],
          "carpet": [
           {
            "aaxis": {
             "endlinecolor": "#2a3f5f",
             "gridcolor": "white",
             "linecolor": "white",
             "minorgridcolor": "white",
             "startlinecolor": "#2a3f5f"
            },
            "baxis": {
             "endlinecolor": "#2a3f5f",
             "gridcolor": "white",
             "linecolor": "white",
             "minorgridcolor": "white",
             "startlinecolor": "#2a3f5f"
            },
            "type": "carpet"
           }
          ],
          "choropleth": [
           {
            "colorbar": {
             "outlinewidth": 0,
             "ticks": ""
            },
            "type": "choropleth"
           }
          ],
          "contour": [
           {
            "colorbar": {
             "outlinewidth": 0,
             "ticks": ""
            },
            "colorscale": [
             [
              0,
              "#0d0887"
             ],
             [
              0.1111111111111111,
              "#46039f"
             ],
             [
              0.2222222222222222,
              "#7201a8"
             ],
             [
              0.3333333333333333,
              "#9c179e"
             ],
             [
              0.4444444444444444,
              "#bd3786"
             ],
             [
              0.5555555555555556,
              "#d8576b"
             ],
             [
              0.6666666666666666,
              "#ed7953"
             ],
             [
              0.7777777777777778,
              "#fb9f3a"
             ],
             [
              0.8888888888888888,
              "#fdca26"
             ],
             [
              1,
              "#f0f921"
             ]
            ],
            "type": "contour"
           }
          ],
          "contourcarpet": [
           {
            "colorbar": {
             "outlinewidth": 0,
             "ticks": ""
            },
            "type": "contourcarpet"
           }
          ],
          "heatmap": [
           {
            "colorbar": {
             "outlinewidth": 0,
             "ticks": ""
            },
            "colorscale": [
             [
              0,
              "#0d0887"
             ],
             [
              0.1111111111111111,
              "#46039f"
             ],
             [
              0.2222222222222222,
              "#7201a8"
             ],
             [
              0.3333333333333333,
              "#9c179e"
             ],
             [
              0.4444444444444444,
              "#bd3786"
             ],
             [
              0.5555555555555556,
              "#d8576b"
             ],
             [
              0.6666666666666666,
              "#ed7953"
             ],
             [
              0.7777777777777778,
              "#fb9f3a"
             ],
             [
              0.8888888888888888,
              "#fdca26"
             ],
             [
              1,
              "#f0f921"
             ]
            ],
            "type": "heatmap"
           }
          ],
          "heatmapgl": [
           {
            "colorbar": {
             "outlinewidth": 0,
             "ticks": ""
            },
            "colorscale": [
             [
              0,
              "#0d0887"
             ],
             [
              0.1111111111111111,
              "#46039f"
             ],
             [
              0.2222222222222222,
              "#7201a8"
             ],
             [
              0.3333333333333333,
              "#9c179e"
             ],
             [
              0.4444444444444444,
              "#bd3786"
             ],
             [
              0.5555555555555556,
              "#d8576b"
             ],
             [
              0.6666666666666666,
              "#ed7953"
             ],
             [
              0.7777777777777778,
              "#fb9f3a"
             ],
             [
              0.8888888888888888,
              "#fdca26"
             ],
             [
              1,
              "#f0f921"
             ]
            ],
            "type": "heatmapgl"
           }
          ],
          "histogram": [
           {
            "marker": {
             "pattern": {
              "fillmode": "overlay",
              "size": 10,
              "solidity": 0.2
             }
            },
            "type": "histogram"
           }
          ],
          "histogram2d": [
           {
            "colorbar": {
             "outlinewidth": 0,
             "ticks": ""
            },
            "colorscale": [
             [
              0,
              "#0d0887"
             ],
             [
              0.1111111111111111,
              "#46039f"
             ],
             [
              0.2222222222222222,
              "#7201a8"
             ],
             [
              0.3333333333333333,
              "#9c179e"
             ],
             [
              0.4444444444444444,
              "#bd3786"
             ],
             [
              0.5555555555555556,
              "#d8576b"
             ],
             [
              0.6666666666666666,
              "#ed7953"
             ],
             [
              0.7777777777777778,
              "#fb9f3a"
             ],
             [
              0.8888888888888888,
              "#fdca26"
             ],
             [
              1,
              "#f0f921"
             ]
            ],
            "type": "histogram2d"
           }
          ],
          "histogram2dcontour": [
           {
            "colorbar": {
             "outlinewidth": 0,
             "ticks": ""
            },
            "colorscale": [
             [
              0,
              "#0d0887"
             ],
             [
              0.1111111111111111,
              "#46039f"
             ],
             [
              0.2222222222222222,
              "#7201a8"
             ],
             [
              0.3333333333333333,
              "#9c179e"
             ],
             [
              0.4444444444444444,
              "#bd3786"
             ],
             [
              0.5555555555555556,
              "#d8576b"
             ],
             [
              0.6666666666666666,
              "#ed7953"
             ],
             [
              0.7777777777777778,
              "#fb9f3a"
             ],
             [
              0.8888888888888888,
              "#fdca26"
             ],
             [
              1,
              "#f0f921"
             ]
            ],
            "type": "histogram2dcontour"
           }
          ],
          "mesh3d": [
           {
            "colorbar": {
             "outlinewidth": 0,
             "ticks": ""
            },
            "type": "mesh3d"
           }
          ],
          "parcoords": [
           {
            "line": {
             "colorbar": {
              "outlinewidth": 0,
              "ticks": ""
             }
            },
            "type": "parcoords"
           }
          ],
          "pie": [
           {
            "automargin": true,
            "type": "pie"
           }
          ],
          "scatter": [
           {
            "fillpattern": {
             "fillmode": "overlay",
             "size": 10,
             "solidity": 0.2
            },
            "type": "scatter"
           }
          ],
          "scatter3d": [
           {
            "line": {
             "colorbar": {
              "outlinewidth": 0,
              "ticks": ""
             }
            },
            "marker": {
             "colorbar": {
              "outlinewidth": 0,
              "ticks": ""
             }
            },
            "type": "scatter3d"
           }
          ],
          "scattercarpet": [
           {
            "marker": {
             "colorbar": {
              "outlinewidth": 0,
              "ticks": ""
             }
            },
            "type": "scattercarpet"
           }
          ],
          "scattergeo": [
           {
            "marker": {
             "colorbar": {
              "outlinewidth": 0,
              "ticks": ""
             }
            },
            "type": "scattergeo"
           }
          ],
          "scattergl": [
           {
            "marker": {
             "colorbar": {
              "outlinewidth": 0,
              "ticks": ""
             }
            },
            "type": "scattergl"
           }
          ],
          "scattermapbox": [
           {
            "marker": {
             "colorbar": {
              "outlinewidth": 0,
              "ticks": ""
             }
            },
            "type": "scattermapbox"
           }
          ],
          "scatterpolar": [
           {
            "marker": {
             "colorbar": {
              "outlinewidth": 0,
              "ticks": ""
             }
            },
            "type": "scatterpolar"
           }
          ],
          "scatterpolargl": [
           {
            "marker": {
             "colorbar": {
              "outlinewidth": 0,
              "ticks": ""
             }
            },
            "type": "scatterpolargl"
           }
          ],
          "scatterternary": [
           {
            "marker": {
             "colorbar": {
              "outlinewidth": 0,
              "ticks": ""
             }
            },
            "type": "scatterternary"
           }
          ],
          "surface": [
           {
            "colorbar": {
             "outlinewidth": 0,
             "ticks": ""
            },
            "colorscale": [
             [
              0,
              "#0d0887"
             ],
             [
              0.1111111111111111,
              "#46039f"
             ],
             [
              0.2222222222222222,
              "#7201a8"
             ],
             [
              0.3333333333333333,
              "#9c179e"
             ],
             [
              0.4444444444444444,
              "#bd3786"
             ],
             [
              0.5555555555555556,
              "#d8576b"
             ],
             [
              0.6666666666666666,
              "#ed7953"
             ],
             [
              0.7777777777777778,
              "#fb9f3a"
             ],
             [
              0.8888888888888888,
              "#fdca26"
             ],
             [
              1,
              "#f0f921"
             ]
            ],
            "type": "surface"
           }
          ],
          "table": [
           {
            "cells": {
             "fill": {
              "color": "#EBF0F8"
             },
             "line": {
              "color": "white"
             }
            },
            "header": {
             "fill": {
              "color": "#C8D4E3"
             },
             "line": {
              "color": "white"
             }
            },
            "type": "table"
           }
          ]
         },
         "layout": {
          "annotationdefaults": {
           "arrowcolor": "#2a3f5f",
           "arrowhead": 0,
           "arrowwidth": 1
          },
          "autotypenumbers": "strict",
          "coloraxis": {
           "colorbar": {
            "outlinewidth": 0,
            "ticks": ""
           }
          },
          "colorscale": {
           "diverging": [
            [
             0,
             "#8e0152"
            ],
            [
             0.1,
             "#c51b7d"
            ],
            [
             0.2,
             "#de77ae"
            ],
            [
             0.3,
             "#f1b6da"
            ],
            [
             0.4,
             "#fde0ef"
            ],
            [
             0.5,
             "#f7f7f7"
            ],
            [
             0.6,
             "#e6f5d0"
            ],
            [
             0.7,
             "#b8e186"
            ],
            [
             0.8,
             "#7fbc41"
            ],
            [
             0.9,
             "#4d9221"
            ],
            [
             1,
             "#276419"
            ]
           ],
           "sequential": [
            [
             0,
             "#0d0887"
            ],
            [
             0.1111111111111111,
             "#46039f"
            ],
            [
             0.2222222222222222,
             "#7201a8"
            ],
            [
             0.3333333333333333,
             "#9c179e"
            ],
            [
             0.4444444444444444,
             "#bd3786"
            ],
            [
             0.5555555555555556,
             "#d8576b"
            ],
            [
             0.6666666666666666,
             "#ed7953"
            ],
            [
             0.7777777777777778,
             "#fb9f3a"
            ],
            [
             0.8888888888888888,
             "#fdca26"
            ],
            [
             1,
             "#f0f921"
            ]
           ],
           "sequentialminus": [
            [
             0,
             "#0d0887"
            ],
            [
             0.1111111111111111,
             "#46039f"
            ],
            [
             0.2222222222222222,
             "#7201a8"
            ],
            [
             0.3333333333333333,
             "#9c179e"
            ],
            [
             0.4444444444444444,
             "#bd3786"
            ],
            [
             0.5555555555555556,
             "#d8576b"
            ],
            [
             0.6666666666666666,
             "#ed7953"
            ],
            [
             0.7777777777777778,
             "#fb9f3a"
            ],
            [
             0.8888888888888888,
             "#fdca26"
            ],
            [
             1,
             "#f0f921"
            ]
           ]
          },
          "colorway": [
           "#636efa",
           "#EF553B",
           "#00cc96",
           "#ab63fa",
           "#FFA15A",
           "#19d3f3",
           "#FF6692",
           "#B6E880",
           "#FF97FF",
           "#FECB52"
          ],
          "font": {
           "color": "#2a3f5f"
          },
          "geo": {
           "bgcolor": "white",
           "lakecolor": "white",
           "landcolor": "#E5ECF6",
           "showlakes": true,
           "showland": true,
           "subunitcolor": "white"
          },
          "hoverlabel": {
           "align": "left"
          },
          "hovermode": "closest",
          "mapbox": {
           "style": "light"
          },
          "paper_bgcolor": "white",
          "plot_bgcolor": "#E5ECF6",
          "polar": {
           "angularaxis": {
            "gridcolor": "white",
            "linecolor": "white",
            "ticks": ""
           },
           "bgcolor": "#E5ECF6",
           "radialaxis": {
            "gridcolor": "white",
            "linecolor": "white",
            "ticks": ""
           }
          },
          "scene": {
           "xaxis": {
            "backgroundcolor": "#E5ECF6",
            "gridcolor": "white",
            "gridwidth": 2,
            "linecolor": "white",
            "showbackground": true,
            "ticks": "",
            "zerolinecolor": "white"
           },
           "yaxis": {
            "backgroundcolor": "#E5ECF6",
            "gridcolor": "white",
            "gridwidth": 2,
            "linecolor": "white",
            "showbackground": true,
            "ticks": "",
            "zerolinecolor": "white"
           },
           "zaxis": {
            "backgroundcolor": "#E5ECF6",
            "gridcolor": "white",
            "gridwidth": 2,
            "linecolor": "white",
            "showbackground": true,
            "ticks": "",
            "zerolinecolor": "white"
           }
          },
          "shapedefaults": {
           "line": {
            "color": "#2a3f5f"
           }
          },
          "ternary": {
           "aaxis": {
            "gridcolor": "white",
            "linecolor": "white",
            "ticks": ""
           },
           "baxis": {
            "gridcolor": "white",
            "linecolor": "white",
            "ticks": ""
           },
           "bgcolor": "#E5ECF6",
           "caxis": {
            "gridcolor": "white",
            "linecolor": "white",
            "ticks": ""
           }
          },
          "title": {
           "x": 0.05
          },
          "xaxis": {
           "automargin": true,
           "gridcolor": "white",
           "linecolor": "white",
           "ticks": "",
           "title": {
            "standoff": 15
           },
           "zerolinecolor": "white",
           "zerolinewidth": 2
          },
          "yaxis": {
           "automargin": true,
           "gridcolor": "white",
           "linecolor": "white",
           "ticks": "",
           "title": {
            "standoff": 15
           },
           "zerolinecolor": "white",
           "zerolinewidth": 2
          }
         }
        }
       }
      }
     },
     "metadata": {},
     "output_type": "display_data"
    }
   ],
   "source": [
    "comps = pca_clust(off_cluster_results[off_cluster_results['Clusters']==13].drop('Clusters', axis=1), off_player_groups[off_player_groups['Cluster']==13])"
   ]
  },
  {
   "cell_type": "code",
   "execution_count": 1,
   "metadata": {},
   "outputs": [
    {
     "ename": "NameError",
     "evalue": "name 'comps' is not defined",
     "output_type": "error",
     "traceback": [
      "\u001b[1;31m---------------------------------------------------------------------------\u001b[0m",
      "\u001b[1;31mNameError\u001b[0m                                 Traceback (most recent call last)",
      "\u001b[1;32mc:\\Users\\rpand\\NBA_App\\NBA_APP\\nba_app_backend.ipynb Cell 155\u001b[0m in \u001b[0;36m<cell line: 1>\u001b[1;34m()\u001b[0m\n\u001b[1;32m----> <a href='vscode-notebook-cell:/c%3A/Users/rpand/NBA_App/NBA_APP/nba_app_backend.ipynb#Y310sZmlsZQ%3D%3D?line=0'>1</a>\u001b[0m comps\u001b[39m.\u001b[39msort_values(\u001b[39m'\u001b[39m\u001b[39mComponent 2\u001b[39m\u001b[39m'\u001b[39m)\n",
      "\u001b[1;31mNameError\u001b[0m: name 'comps' is not defined"
     ]
    }
   ],
   "source": [
    "comps.sort_values('Component 2')"
   ]
  },
  {
   "cell_type": "markdown",
   "metadata": {},
   "source": [
    "## Overall Player List"
   ]
  },
  {
   "cell_type": "code",
   "execution_count": 16,
   "metadata": {},
   "outputs": [],
   "source": [
    "players = pd.merge(all_defence_clust, all_offence_clust, on =['PLAYER_NAME'], how = 'inner')"
   ]
  },
  {
   "cell_type": "code",
   "execution_count": 24,
   "metadata": {},
   "outputs": [],
   "source": [
    "players[['PLAYER_NAME']].sort_values('PLAYER_NAME', ascending = True).to_csv('Player Data.csv',index=False)"
   ]
  },
  {
   "cell_type": "code",
   "execution_count": 19,
   "metadata": {},
   "outputs": [
    {
     "data": {
      "text/html": [
       "<div>\n",
       "<style scoped>\n",
       "    .dataframe tbody tr th:only-of-type {\n",
       "        vertical-align: middle;\n",
       "    }\n",
       "\n",
       "    .dataframe tbody tr th {\n",
       "        vertical-align: top;\n",
       "    }\n",
       "\n",
       "    .dataframe thead th {\n",
       "        text-align: right;\n",
       "    }\n",
       "</style>\n",
       "<table border=\"1\" class=\"dataframe\">\n",
       "  <thead>\n",
       "    <tr style=\"text-align: right;\">\n",
       "      <th></th>\n",
       "      <th>PLAYER_NAME</th>\n",
       "      <th>Season_x</th>\n",
       "      <th>DEF Handoff PPP</th>\n",
       "      <th>DEF Handoff FREQ</th>\n",
       "      <th>GP_x</th>\n",
       "      <th>DEF Isolation PPP</th>\n",
       "      <th>DEF Isolation FREQ</th>\n",
       "      <th>DEF OffScreen PPP</th>\n",
       "      <th>DEF OffScreen FREQ</th>\n",
       "      <th>DEF Postup PPP</th>\n",
       "      <th>...</th>\n",
       "      <th>FG3A</th>\n",
       "      <th>USG_PCT</th>\n",
       "      <th>POTENTIAL_AST FREQ</th>\n",
       "      <th>Restricted Area FREQ</th>\n",
       "      <th>In The Paint (Non-RA) FREQ</th>\n",
       "      <th>Mid-Range FREQ</th>\n",
       "      <th>3P FREQ</th>\n",
       "      <th>Drives FREQ</th>\n",
       "      <th>PULL_UP FREQ</th>\n",
       "      <th>CATCH_SHOOT FREQ</th>\n",
       "    </tr>\n",
       "  </thead>\n",
       "  <tbody>\n",
       "    <tr>\n",
       "      <th>190</th>\n",
       "      <td>Pascal Siakam</td>\n",
       "      <td>2021-22</td>\n",
       "      <td>1.083</td>\n",
       "      <td>0.04</td>\n",
       "      <td>69</td>\n",
       "      <td>0.645</td>\n",
       "      <td>0.085</td>\n",
       "      <td>1.435</td>\n",
       "      <td>0.052</td>\n",
       "      <td>0.871</td>\n",
       "      <td>...</td>\n",
       "      <td>3.2</td>\n",
       "      <td>0.257</td>\n",
       "      <td>0.467249</td>\n",
       "      <td>0.335616</td>\n",
       "      <td>0.445205</td>\n",
       "      <td>0.219178</td>\n",
       "      <td>0.179775</td>\n",
       "      <td>0.624454</td>\n",
       "      <td>0.280899</td>\n",
       "      <td>0.179775</td>\n",
       "    </tr>\n",
       "  </tbody>\n",
       "</table>\n",
       "<p>1 rows × 71 columns</p>\n",
       "</div>"
      ],
      "text/plain": [
       "       PLAYER_NAME Season_x  DEF Handoff PPP  DEF Handoff FREQ  GP_x  \\\n",
       "190  Pascal Siakam  2021-22            1.083              0.04    69   \n",
       "\n",
       "     DEF Isolation PPP  DEF Isolation FREQ  DEF OffScreen PPP  \\\n",
       "190              0.645               0.085              1.435   \n",
       "\n",
       "     DEF OffScreen FREQ  DEF Postup PPP  ...  FG3A  USG_PCT  \\\n",
       "190               0.052           0.871  ...   3.2    0.257   \n",
       "\n",
       "     POTENTIAL_AST FREQ  Restricted Area FREQ  In The Paint (Non-RA) FREQ  \\\n",
       "190            0.467249              0.335616                    0.445205   \n",
       "\n",
       "     Mid-Range FREQ   3P FREQ  Drives FREQ  PULL_UP FREQ  CATCH_SHOOT FREQ  \n",
       "190        0.219178  0.179775     0.624454      0.280899          0.179775  \n",
       "\n",
       "[1 rows x 71 columns]"
      ]
     },
     "execution_count": 19,
     "metadata": {},
     "output_type": "execute_result"
    }
   ],
   "source": [
    "players[players['PLAYER_NAME']=='Pascal Siakam']"
   ]
  },
  {
   "cell_type": "code",
   "execution_count": null,
   "metadata": {},
   "outputs": [],
   "source": []
  }
 ],
 "metadata": {
  "kernelspec": {
   "display_name": "Python 3.9.12 ('nba_app_env')",
   "language": "python",
   "name": "python3"
  },
  "language_info": {
   "codemirror_mode": {
    "name": "ipython",
    "version": 3
   },
   "file_extension": ".py",
   "mimetype": "text/x-python",
   "name": "python",
   "nbconvert_exporter": "python",
   "pygments_lexer": "ipython3",
   "version": "3.9.12"
  },
  "orig_nbformat": 4,
  "vscode": {
   "interpreter": {
    "hash": "d61a41af72a47b7a251fc1df71191a43b373aa708978a13d44ab0d9d4b9d4eb7"
   }
  }
 },
 "nbformat": 4,
 "nbformat_minor": 2
}
